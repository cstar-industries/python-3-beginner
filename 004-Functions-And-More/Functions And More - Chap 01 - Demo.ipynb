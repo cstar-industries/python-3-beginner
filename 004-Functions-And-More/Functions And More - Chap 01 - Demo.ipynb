{
  "nbformat": 4,
  "nbformat_minor": 0,
  "metadata": {
    "colab": {
      "name": "Functions and more - Chap 01 - Demo",
      "provenance": [],
      "private_outputs": true,
      "collapsed_sections": [
        "aSdEiF-qktuN"
      ],
      "authorship_tag": "ABX9TyMQzQ4J7/Iv4vj/QEtpSLy9",
      "include_colab_link": true
    },
    "kernelspec": {
      "name": "python3",
      "display_name": "Python 3"
    }
  },
  "cells": [
    {
      "cell_type": "markdown",
      "metadata": {
        "id": "view-in-github",
        "colab_type": "text"
      },
      "source": [
        "<a href=\"https://colab.research.google.com/github/cstar-industries/python-3-beginner/blob/master/004-Functions-And-More/Functions%20And%20More%20-%20Chap%2001%20-%20Demo.ipynb\" target=\"_parent\"><img src=\"https://colab.research.google.com/assets/colab-badge.svg\" alt=\"Open In Colab\"/></a>"
      ]
    },
    {
      "cell_type": "markdown",
      "metadata": {
        "id": "aSdEiF-qktuN",
        "colab_type": "text"
      },
      "source": [
        "## `reversed` and `sorted`"
      ]
    },
    {
      "cell_type": "code",
      "metadata": {
        "id": "sq5UiI29gtU1",
        "colab_type": "code",
        "colab": {}
      },
      "source": [
        "from random import shuffle"
      ],
      "execution_count": 0,
      "outputs": []
    },
    {
      "cell_type": "code",
      "metadata": {
        "id": "yoUxpCKgg8Wc",
        "colab_type": "code",
        "colab": {}
      },
      "source": [
        "l = [*range(10)]\n",
        "print(l)"
      ],
      "execution_count": 0,
      "outputs": []
    },
    {
      "cell_type": "code",
      "metadata": {
        "id": "Z9vy3xS6h89r",
        "colab_type": "code",
        "colab": {}
      },
      "source": [
        "for i in reversed(l):\n",
        "  print(i)"
      ],
      "execution_count": 0,
      "outputs": []
    },
    {
      "cell_type": "code",
      "metadata": {
        "id": "bkoCFHq_iY03",
        "colab_type": "code",
        "colab": {}
      },
      "source": [
        "shuffle(l)\n",
        "print(l)"
      ],
      "execution_count": 0,
      "outputs": []
    },
    {
      "cell_type": "code",
      "metadata": {
        "id": "UskZ_D30icJe",
        "colab_type": "code",
        "colab": {}
      },
      "source": [
        "sorted(l)"
      ],
      "execution_count": 0,
      "outputs": []
    },
    {
      "cell_type": "code",
      "metadata": {
        "id": "v0OWP5LpifUT",
        "colab_type": "code",
        "colab": {}
      },
      "source": [
        "print(l)"
      ],
      "execution_count": 0,
      "outputs": []
    },
    {
      "cell_type": "code",
      "metadata": {
        "id": "MbHVVvqBiglk",
        "colab_type": "code",
        "colab": {}
      },
      "source": [
        "l.sort()\n",
        "print(l)"
      ],
      "execution_count": 0,
      "outputs": []
    },
    {
      "cell_type": "code",
      "metadata": {
        "id": "YrKigTcLixRo",
        "colab_type": "code",
        "colab": {}
      },
      "source": [
        "sorted(l, reverse=True)"
      ],
      "execution_count": 0,
      "outputs": []
    },
    {
      "cell_type": "code",
      "metadata": {
        "id": "XmTNcE1RP9bX",
        "colab_type": "code",
        "colab": {}
      },
      "source": [
        "presidents = [{'firstname': 'George W.', 'lastname': 'Bush'},\n",
        "              {'firstname': 'Thomas', 'lastname': 'Jefferson'},\n",
        "              {'firstname': 'George H. W.', 'lastname': 'Bush'},\n",
        "              {'firstname': 'George', 'lastname': 'Washington'},\n",
        "              {'firstname': 'Theodore', 'lastname': 'Roosevelt'},\n",
        "              {'firstname': 'Barack', 'lastname': 'Obama'},\n",
        "              {'firstname': 'Abraham', 'lastname': 'Lincoln'},\n",
        "              {'firstname': 'John', 'lastname': 'Kennedy'},\n",
        "              {'firstname': 'Franklin', 'lastname': 'Roosevelt'}]\n",
        "\n",
        "presidents_2 = sorted(presidents, key=lambda p: p['lastname'])\n",
        "print(presidents_2)"
      ],
      "execution_count": 0,
      "outputs": []
    },
    {
      "cell_type": "code",
      "metadata": {
        "id": "UlnbEJUhZJ_t",
        "colab_type": "code",
        "colab": {}
      },
      "source": [
        "presidents_2 = sorted(presidents, key=lambda p: p['firstname'])\n",
        "print(presidents_2)\n",
        "\n",
        "presidents_3 = sorted(presidents_2, key=lambda p: p['lastname'])\n",
        "print(presidents_3)"
      ],
      "execution_count": 0,
      "outputs": []
    },
    {
      "cell_type": "markdown",
      "metadata": {
        "id": "nyxIlX8JlEFH",
        "colab_type": "text"
      },
      "source": [
        "## Defining a function"
      ]
    },
    {
      "cell_type": "code",
      "metadata": {
        "id": "fT3i8RjpfJH5",
        "colab_type": "code",
        "colab": {}
      },
      "source": [
        "def say_hello():\n",
        "  print('I say: Hello')"
      ],
      "execution_count": 0,
      "outputs": []
    },
    {
      "cell_type": "code",
      "metadata": {
        "id": "psI1Y5QihgTW",
        "colab_type": "code",
        "colab": {}
      },
      "source": [
        "say_hello()"
      ],
      "execution_count": 0,
      "outputs": []
    },
    {
      "cell_type": "code",
      "metadata": {
        "id": "Foyu5T3JhjFZ",
        "colab_type": "code",
        "colab": {}
      },
      "source": [
        "def say(text):\n",
        "  print('I say:', text)"
      ],
      "execution_count": 0,
      "outputs": []
    },
    {
      "cell_type": "code",
      "metadata": {
        "id": "LfwemzY9hozD",
        "colab_type": "code",
        "colab": {}
      },
      "source": [
        "say('Hello')"
      ],
      "execution_count": 0,
      "outputs": []
    },
    {
      "cell_type": "code",
      "metadata": {
        "id": "4-ID1ZaPhquZ",
        "colab_type": "code",
        "colab": {}
      },
      "source": [
        "def pretty_print(text, delimiters):\n",
        "  print(delimiters[0] + text + delimiters[1])"
      ],
      "execution_count": 0,
      "outputs": []
    },
    {
      "cell_type": "code",
      "metadata": {
        "id": "2rcdYr5TqQvx",
        "colab_type": "code",
        "colab": {}
      },
      "source": [
        "pretty_print('Hello World', '{}')"
      ],
      "execution_count": 0,
      "outputs": []
    },
    {
      "cell_type": "code",
      "metadata": {
        "id": "gz9Zx7zcqXyU",
        "colab_type": "code",
        "colab": {}
      },
      "source": [
        "pretty_print('Hello World', ['{ ', ' }'])"
      ],
      "execution_count": 0,
      "outputs": []
    },
    {
      "cell_type": "markdown",
      "metadata": {
        "id": "hpxYsKD49iyZ",
        "colab_type": "text"
      },
      "source": [
        "## Returning a value"
      ]
    },
    {
      "cell_type": "code",
      "metadata": {
        "id": "YSmu3N2P9luc",
        "colab_type": "code",
        "colab": {}
      },
      "source": [
        "def pretty_format(text, delimiters):\n",
        "  return f'{delimiters[0]}{text}{delimiters[1]}'"
      ],
      "execution_count": 0,
      "outputs": []
    },
    {
      "cell_type": "code",
      "metadata": {
        "id": "dSka7lTUEnbn",
        "colab_type": "code",
        "colab": {}
      },
      "source": [
        "s = pretty_format('Hello', '{}')\n",
        "print(s)"
      ],
      "execution_count": 0,
      "outputs": []
    },
    {
      "cell_type": "code",
      "metadata": {
        "id": "BfnQjkuqEs5w",
        "colab_type": "code",
        "colab": {}
      },
      "source": [
        "def pretty_format(text, delimiters):\n",
        "  s = f'{delimiters[0]}{text}{delimiters[1]}'\n",
        "  return s, len(s)"
      ],
      "execution_count": 0,
      "outputs": []
    },
    {
      "cell_type": "code",
      "metadata": {
        "id": "HFvqGljxE8c6",
        "colab_type": "code",
        "colab": {}
      },
      "source": [
        "s, l = pretty_format('Hello World', delimiters=['<== ', ' ==>'])\n",
        "print(s)\n",
        "print(f'Length of s: {l}')"
      ],
      "execution_count": 0,
      "outputs": []
    },
    {
      "cell_type": "markdown",
      "metadata": {
        "id": "Yg3V1zroFMf3",
        "colab_type": "text"
      },
      "source": [
        "## Functions calling functions"
      ]
    },
    {
      "cell_type": "markdown",
      "metadata": {
        "id": "3voLD3ECHuHJ",
        "colab_type": "text"
      },
      "source": [
        "Recall [converting hex to string](https://colab.research.google.com/drive/1uTgLbpEz1knWn8f6AbAKCFDtv56nH5sh?authuser=3#scrollTo=XvQXipSFVK0v).\n",
        "\n",
        "```python\n",
        "''.join([chr(int(hex_string[i:i+2], 16)) for i in range(0, len(hex_string), 2)])\n",
        "```"
      ]
    },
    {
      "cell_type": "code",
      "metadata": {
        "id": "2Flp_BeAGoy2",
        "colab_type": "code",
        "colab": {}
      },
      "source": [
        "def hex_to_chr(hx):\n",
        "  return chr(int(hx, 16))\n",
        "\n",
        "def hex_to_str(s):\n",
        "  chars = [hex_to_chr(s[i:i+2]) for i in range(0, len(s), 2)]\n",
        "  return ''.join(chars)\n",
        "\n",
        "hex_string = '49276d206c6f76696e672066756e6374696f6e7321'\n",
        "print(hex_to_str(hex_string))"
      ],
      "execution_count": 0,
      "outputs": []
    },
    {
      "cell_type": "markdown",
      "metadata": {
        "id": "QxFbfyZ3FWC-",
        "colab_type": "text"
      },
      "source": [
        "## A glimpse into recursion (optional)"
      ]
    },
    {
      "cell_type": "code",
      "metadata": {
        "id": "ub4moNB-ScRL",
        "colab_type": "code",
        "colab": {}
      },
      "source": [
        "def flatten(nested):\n",
        "  flat = []\n",
        "  for item in nested:\n",
        "    if type(item) == list:\n",
        "      flat += flatten(item)\n",
        "    else:\n",
        "      flat.append(item)\n",
        "  return flat"
      ],
      "execution_count": 0,
      "outputs": []
    },
    {
      "cell_type": "code",
      "metadata": {
        "id": "h64YWmG-Tzyx",
        "colab_type": "code",
        "colab": {}
      },
      "source": [
        "l = [[[5, 8], [[5, 3, 9, 8], 1, 3, [4]], 3], [[3, [6, 6, 9, 0]], 5], [6], [6, 3]]\n",
        "flatten(l)"
      ],
      "execution_count": 0,
      "outputs": []
    },
    {
      "cell_type": "markdown",
      "metadata": {
        "id": "YHG4iFTtNSPu",
        "colab_type": "text"
      },
      "source": [
        "Reminder: definition of Fibonacci number $n$\n",
        "\n",
        "$F_n = F_{n-1} + F_{n-2} \\qquad F_0 = 0, F_1 = 1$"
      ]
    },
    {
      "cell_type": "code",
      "metadata": {
        "id": "S96kiKGiFUH5",
        "colab_type": "code",
        "colab": {}
      },
      "source": [
        "def fib(n):\n",
        "  if n == 0:\n",
        "    return 0\n",
        "  elif n == 1:\n",
        "    return 1\n",
        "  else:\n",
        "    return fib(n-1) + fib(n-2)"
      ],
      "execution_count": 0,
      "outputs": []
    },
    {
      "cell_type": "code",
      "metadata": {
        "id": "egWK8lV3GjfY",
        "colab_type": "code",
        "colab": {}
      },
      "source": [
        "[fib(i) for i in range(10)]"
      ],
      "execution_count": 0,
      "outputs": []
    },
    {
      "cell_type": "markdown",
      "metadata": {
        "id": "dLw6QR90O8EY",
        "colab_type": "text"
      },
      "source": [
        "Recursively listing directory contents is also a naturally recursive operation. As a general rule any hierarchical structure of unknown depth (e.g. directories, deeply nested JSON files, etc.)\n",
        "\n",
        "> **Note:** this example uses functions from the `os` module. Look at [the documentation](https://docs.python.org/3/library/os.html) to learn more."
      ]
    },
    {
      "cell_type": "code",
      "metadata": {
        "id": "XE5JUDwsKfMz",
        "colab_type": "code",
        "colab": {}
      },
      "source": [
        "import os\n",
        "import os.path\n",
        "import stat\n",
        "\n",
        "def listdir_r(path):\n",
        "  print(f'{path}:')\n",
        "  paths = os.listdir(path)\n",
        "  for p in paths:\n",
        "    print(f'    {p}')\n",
        "  print()\n",
        "  for p in paths:\n",
        "    fullpath = os.path.join(path, p)\n",
        "    if stat.S_ISDIR(os.stat(fullpath).st_mode):\n",
        "      listdir_r(fullpath)\n"
      ],
      "execution_count": 0,
      "outputs": []
    },
    {
      "cell_type": "code",
      "metadata": {
        "id": "N5f9-lXNQ4P1",
        "colab_type": "code",
        "colab": {}
      },
      "source": [
        "listdir_r(os.getcwd())"
      ],
      "execution_count": 0,
      "outputs": []
    }
  ]
}