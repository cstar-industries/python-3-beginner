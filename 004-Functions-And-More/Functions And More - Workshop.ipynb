{
  "nbformat": 4,
  "nbformat_minor": 0,
  "metadata": {
    "colab": {
      "name": "Functions and more - Chap 01 - Exercises",
      "provenance": [],
      "private_outputs": true,
      "collapsed_sections": [
        "aSdEiF-qktuN"
      ],
      "include_colab_link": true
    },
    "kernelspec": {
      "name": "python3",
      "display_name": "Python 3"
    }
  },
  "cells": [
    {
      "cell_type": "markdown",
      "metadata": {
        "id": "view-in-github",
        "colab_type": "text"
      },
      "source": [
        "<a href=\"https://colab.research.google.com/github/cstar-industries/python-3-beginner/blob/master/004-Functions-And-More/Functions%20And%20More%20-%20Workshop.ipynb\" target=\"_parent\"><img src=\"https://colab.research.google.com/assets/colab-badge.svg\" alt=\"Open In Colab\"/></a>"
      ]
    },
    {
      "cell_type": "markdown",
      "metadata": {
        "id": "jPoCK1AfObtr",
        "colab_type": "text"
      },
      "source": [
        "## 1. Variable scope\n",
        "\n",
        "For each question, read the block of code and check the correct answer.\n",
        "\n",
        "> To check a checkbox, double-click on the text cell to edit it, and add an `x` inside the brackets, like `[x]`."
      ]
    },
    {
      "cell_type": "markdown",
      "metadata": {
        "id": "aKLlJGYIbk8V",
        "colab_type": "text"
      },
      "source": [
        "#### 1. What would be the output of this program?\n",
        "\n",
        "```python\n",
        "def buy_eggs(num_eggs)\n",
        "    egg_count = 0\n",
        "    egg_count += num_eggs\n",
        "    return egg_count\n",
        "\n",
        "buy_eggs(12)\n",
        "print(egg_count)\n",
        "```\n",
        "\n",
        " * [ ] `0`\n",
        " * [ ] `12`\n",
        " * [ ] something else\n",
        " * [ ] an error"
      ]
    },
    {
      "cell_type": "markdown",
      "metadata": {
        "id": "m1sILQDwclVJ",
        "colab_type": "text"
      },
      "source": [
        "#### 2. What would be the output of this program?\n",
        "\n",
        "```python\n",
        "egg_count = 0\n",
        "\n",
        "def buy_eggs(num_eggs)\n",
        "    egg_count += num_eggs\n",
        "    return egg_count\n",
        "\n",
        "buy_eggs(12)\n",
        "print(egg_count)\n",
        "```\n",
        "\n",
        " * [ ] `0`\n",
        " * [ ] `12`\n",
        " * [ ] something else\n",
        " * [ ] an error"
      ]
    },
    {
      "cell_type": "markdown",
      "metadata": {
        "id": "CzASqA5_cxOZ",
        "colab_type": "text"
      },
      "source": [
        "#### 3. What would be the output of this program?\n",
        "\n",
        "```python\n",
        "egg_count = 0\n",
        "\n",
        "def buy_eggs(num_eggs)\n",
        "    egg_count = num_eggs\n",
        "    return egg_count\n",
        "\n",
        "buy_eggs(12)\n",
        "print(egg_count)\n",
        "```\n",
        "\n",
        " * [ ] `0`\n",
        " * [ ] `12`\n",
        " * [ ] something else\n",
        " * [ ] an error"
      ]
    },
    {
      "cell_type": "markdown",
      "metadata": {
        "id": "ddeDKQWgc3DL",
        "colab_type": "text"
      },
      "source": [
        "#### 4. What would be the output of this program?\n",
        "\n",
        "```python\n",
        "def buy_eggs(num_eggs)\n",
        "    egg_count = 0\n",
        "    egg_count += num_eggs\n",
        "    return egg_count\n",
        "\n",
        "egg_count = buy_eggs(12)\n",
        "print(egg_count)\n",
        "```\n",
        "\n",
        " * [ ] `0`\n",
        " * [ ] `12`\n",
        " * [ ] something else\n",
        " * [ ] an error"
      ]
    },
    {
      "cell_type": "markdown",
      "metadata": {
        "id": "bTb_nizOc9CY",
        "colab_type": "text"
      },
      "source": [
        "#### 5. What would be the output of this program?\n",
        "\n",
        "```python\n",
        "egg_count = 0\n",
        "\n",
        "def buy_eggs(num_eggs)\n",
        "    global egg_count\n",
        "    egg_count += num_eggs\n",
        "    return egg_count\n",
        "\n",
        "buy_eggs(12)\n",
        "print(egg_count)\n",
        "```\n",
        "\n",
        " * [ ] `0`\n",
        " * [ ] `12`\n",
        " * [ ] something else\n",
        " * [ ] an error"
      ]
    },
    {
      "cell_type": "markdown",
      "metadata": {
        "id": "-7nkrPc3dXYy",
        "colab_type": "text"
      },
      "source": [
        "####6. What would be the output of this program?\n",
        "\n",
        "```python\n",
        "def buy_eggs(num_eggs)\n",
        "    egg_count = 0\n",
        "    egg_count += num_eggs\n",
        "    return egg_count\n",
        "\n",
        "egg_count = buy_eggs(12)\n",
        "buy_eggs(12)\n",
        "buy_eggs(12)\n",
        "buy_eggs(12)\n",
        "print(egg_count)\n",
        "```\n",
        "\n",
        " * [ ] `0`\n",
        " * [ ] `12`\n",
        " * [ ] something else\n",
        " * [ ] an error"
      ]
    },
    {
      "cell_type": "markdown",
      "metadata": {
        "id": "oMr0Q4IfHHXi",
        "colab_type": "text"
      },
      "source": [
        "## 2. Humanize time\n",
        "\n",
        "Write a function `humanize_duration` that takes a number of seconds and outputs a human-readable time duration.\n",
        "\n",
        "Example:\n",
        "\n",
        "```python\n",
        "humanize_duration(60)\n",
        "'1 minute'\n",
        "\n",
        "humanize_duration(62 * 60 + 21)\n",
        "'1 hour, 2 minutes and 21 seconds'\n",
        "\n",
        "humanize_duration(0.21)\n",
        "'0.21 seconds'\n",
        "```\n",
        "\n",
        "Your function should check for edge cases and raise a `ValueError` for values it can't handle.\n",
        "\n",
        "> **Note:** The largest subdivison of time should be \"days\" (as the next subdivision, \"month\", is not a fixed amount of time). The smallest should be \"seconds\"."
      ]
    },
    {
      "cell_type": "code",
      "metadata": {
        "id": "kDKweua8HG1G",
        "colab_type": "code",
        "colab": {}
      },
      "source": [
        ""
      ],
      "execution_count": 0,
      "outputs": []
    },
    {
      "cell_type": "code",
      "metadata": {
        "id": "GhVRSUwCIFZB",
        "colab_type": "code",
        "colab": {}
      },
      "source": [
        "print(humanize_duration(60))\n",
        "print(humanize_duration(62 * 60 + 21))\n",
        "print(humanze_duration(24 * 60 * 60))\n",
        "print(humanize_duration('3600'))"
      ],
      "execution_count": 0,
      "outputs": []
    },
    {
      "cell_type": "markdown",
      "metadata": {
        "id": "sYyT4WbFI8ZB",
        "colab_type": "text"
      },
      "source": [
        "## 3. `any`/`all`\n",
        "\n",
        "Rewrite the `any`/`all` functions. Reminder of their specification:\n",
        "\n",
        "> `any(iterable)`\n",
        ">\n",
        "> Return `True` if any element of the `iterable` is true.\n",
        "\n",
        "> `all(iterable)`\n",
        ">\n",
        "> Return `True` if all elements of the `iterable` are true (or if the `iterable` is empty)."
      ]
    },
    {
      "cell_type": "code",
      "metadata": {
        "id": "4OqhvRPHJhED",
        "colab_type": "code",
        "colab": {}
      },
      "source": [
        ""
      ],
      "execution_count": 0,
      "outputs": []
    },
    {
      "cell_type": "markdown",
      "metadata": {
        "id": "_K8vk1pKMEft",
        "colab_type": "text"
      },
      "source": [
        "## 4.1 Functional Programming - Reduce\n",
        "\n",
        "Write a function `reduce` that takes:\n",
        "\n",
        "* a function that takes 2 arguments\n",
        "* an iterable\n",
        "* an initial value\n",
        "\n",
        "and returns a single value, obtained by applying the function cumulatively to the items of the iterable, from left to right.\n",
        "\n",
        "Example:\n",
        "\n",
        "```python\n",
        "reduce(lambda x, y: x+y, [1, 2, 3, 4], 0)\n",
        "10\n",
        "```\n",
        "\n",
        "because $((((0+1)+2)+3)+4) = 10$\n",
        "\n",
        "> **Note:** `reduce`-ing is a very common problem in data science. For lists of data, we want to extract a single value (average, standard deviation, mean-squared error, etc.). Functional programming helps to give a simple way to express this calculation. As seen above, `sum` is actually a special case of reducing, using addition as the cumulative function."
      ]
    },
    {
      "cell_type": "code",
      "metadata": {
        "id": "jfaeZOazO-k4",
        "colab_type": "code",
        "colab": {}
      },
      "source": [
        ""
      ],
      "execution_count": 0,
      "outputs": []
    },
    {
      "cell_type": "markdown",
      "metadata": {
        "id": "LF09v1SwRc_k",
        "colab_type": "text"
      },
      "source": [
        "## 4.2 Functional Programming - Group by (optional)\n",
        "\n",
        "Write a function `group_by` that takes:\n",
        "\n",
        "* a function that takes a single argument\n",
        "* an iterable\n",
        "\n",
        "and returns a dictionary that maps lists of items of the iterable to the value they return through the function. I.e. all values that return `True` when passed to the function would appear in a `list` mapped to the key `True` in the `dict`.\n",
        "\n",
        "Example:\n",
        "\n",
        "```python\n",
        "group_by(lambda x: 'even' if (x % 2) == 0 else 'odd', range(10))\n",
        "{'even': [0, 2, 4, 6, 8], 'odd': [1, 3, 5, 7, 9]}\n",
        "\n",
        "group_by(lambda x: x['winner'], world_cup)\n",
        "{'Italy': [{'year': 1934, 'country': 'Italy', 'winner': 'Italy'},\n",
        "           {'year': 1938, 'country': 'France', 'winner': 'Italy'},\n",
        "           {'year': 1982, 'country': 'Spain', 'winner': 'Italy'},\n",
        "           {'year': 2006, 'country': 'Germany', 'winner': 'Italy'}],\n",
        " 'Brazil': [{'year': 1958, 'country': 'Sweden', 'winner': 'Brazil'},\n",
        "            {'year': 1962, 'country': 'Chile', 'winner': 'Brazil'},\n",
        "            {'year': 1970, 'country': 'Mexico', 'winner': 'Brazil'},\n",
        "            {'year': 1994, 'country': 'USA', 'winner': 'Brazil'},\n",
        "            {'year': 2002, 'country': 'Korea/Japan', 'winner': 'Brazil'}],\n",
        " 'England': [{'year': 1966, 'country': 'England', 'winner': 'England'}],\n",
        " ...\n",
        "```"
      ]
    },
    {
      "cell_type": "code",
      "metadata": {
        "id": "LjJHCq3FYlV3",
        "colab_type": "code",
        "colab": {}
      },
      "source": [
        "world_cup = [{'year': 1930, 'country': 'Uruguay', 'winner': 'Uruguay'},\n",
        " {'year': 1934, 'country': 'Italy', 'winner': 'Italy'},\n",
        " {'year': 1938, 'country': 'France', 'winner': 'Italy'},\n",
        " {'year': 1950, 'country': 'Brazil', 'winner': 'Uruguay'},\n",
        " {'year': 1954, 'country': 'Switzerland', 'winner': 'Germany'},\n",
        " {'year': 1958, 'country': 'Sweden', 'winner': 'Brazil'},\n",
        " {'year': 1962, 'country': 'Chile', 'winner': 'Brazil'},\n",
        " {'year': 1966, 'country': 'England', 'winner': 'England'},\n",
        " {'year': 1970, 'country': 'Mexico', 'winner': 'Brazil'},\n",
        " {'year': 1974, 'country': 'Germany', 'winner': 'Germany'},\n",
        " {'year': 1978, 'country': 'Argentina', 'winner': 'Argentina'},\n",
        " {'year': 1982, 'country': 'Spain', 'winner': 'Italy'},\n",
        " {'year': 1986, 'country': 'Mexico', 'winner': 'Argentina'},\n",
        " {'year': 1990, 'country': 'Italy', 'winner': 'Germany'},\n",
        " {'year': 1994, 'country': 'USA', 'winner': 'Brazil'},\n",
        " {'year': 1998, 'country': 'France', 'winner': 'France'},\n",
        " {'year': 2002, 'country': 'Korea/Japan', 'winner': 'Brazil'},\n",
        " {'year': 2006, 'country': 'Germany', 'winner': 'Italy'},\n",
        " {'year': 2010, 'country': 'South Africa', 'winner': 'Spain'},\n",
        " {'year': 2014, 'country': 'Brazil', 'winner': 'Germany'}]"
      ],
      "execution_count": 0,
      "outputs": []
    },
    {
      "cell_type": "markdown",
      "metadata": {
        "id": "FR49GFMAZovz",
        "colab_type": "text"
      },
      "source": [
        "> **HINT:** If this one seems too hard at first, start by solving the problem with the name of the key for `world_cup_winners` and work your way from there.\n",
        ">\n",
        "> ```python\n",
        "group_by_key('winner', world_cup)\n",
        "{'Italy': [{'year': 1934, 'country': 'Italy', 'winner': 'Italy'},\n",
        "           {'year': 1938, 'country': 'France', 'winner': 'Italy'},\n",
        "           {'year': 1982, 'country': 'Spain', 'winner': 'Italy'},\n",
        "           {'year': 2006, 'country': 'Germany', 'winner': 'Italy'}],\n",
        " 'Brazil': [{'year': 1958, 'country': 'Sweden', 'winner': 'Brazil'},\n",
        "            {'year': 1962, 'country': 'Chile', 'winner': 'Brazil'},\n",
        "            {'year': 1970, 'country': 'Mexico', 'winner': 'Brazil'},\n",
        "            {'year': 1994, 'country': 'USA', 'winner': 'Brazil'},\n",
        "            {'year': 2002, 'country': 'Korea/Japan', 'winner': 'Brazil'}],\n",
        " 'England': [{'year': 1966, 'country': 'England', 'winner': 'England'}],\n",
        " ...\n",
        " ```"
      ]
    }
  ]
}