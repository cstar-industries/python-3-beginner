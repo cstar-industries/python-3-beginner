{
  "nbformat": 4,
  "nbformat_minor": 0,
  "metadata": {
    "colab": {
      "name": "Functions and more - Chap 01 - Exercises",
      "provenance": [],
      "private_outputs": true,
      "collapsed_sections": [
        "aSdEiF-qktuN"
      ],
      "include_colab_link": true
    },
    "kernelspec": {
      "name": "python3",
      "display_name": "Python 3"
    }
  },
  "cells": [
    {
      "cell_type": "markdown",
      "metadata": {
        "id": "view-in-github",
        "colab_type": "text"
      },
      "source": [
        "<a href=\"https://colab.research.google.com/github/cstar-industries/python-3-beginner/blob/master/004-Functions-And-More/Functions%20And%20More%20-%20Chap%2002%20-%20Exercises.ipynb\" target=\"_parent\"><img src=\"https://colab.research.google.com/assets/colab-badge.svg\" alt=\"Open In Colab\"/></a>"
      ]
    },
    {
      "cell_type": "markdown",
      "metadata": {
        "id": "VlIGRywl_1-W",
        "colab_type": "text"
      },
      "source": [
        "## 1.\n",
        "\n",
        "You've seen `sorted` and `reversed` which return a sorted or reversed list (or iterable) of an iterable sequence.\n",
        "\n",
        "Write a `shuffled` function, which takes an iterable and returns a shuffled list of the items of the iterable. **Important:** the original iterable item must not be modified.\n",
        "\n",
        "Example:\n",
        "\n",
        "```python\n",
        "l = [*range(10)]\n",
        "l\n",
        "[0, 1, 2, 3, 4, 5, 6, 7, 8, 9]\n",
        "\n",
        "shuffled(l)\n",
        "[7, 1, 5, 0, 8, 2, 4, 3, 6, 9]\n",
        "\n",
        "l\n",
        "[0, 1, 2, 3, 4, 5, 6, 7, 8, 9]\n",
        "\n",
        "shuffled(range(10))\n",
        "[2, 1, 9, 6, 5, 3, 7, 0, 8, 4]\n",
        "```\n",
        "\n",
        "> **HINT:** remember the [`shuffle` function from the `random` module](https://docs.python.org/3/library/random.html#random.shuffle) which shuffles a list in place.\n",
        "> Bring it into your code by running:\n",
        "> ```python\n",
        "from random import shuffle\n",
        "```"
      ]
    },
    {
      "cell_type": "code",
      "metadata": {
        "id": "5-JcAj4U_1Oc",
        "colab_type": "code",
        "colab": {}
      },
      "source": [
        ""
      ],
      "execution_count": 0,
      "outputs": []
    },
    {
      "cell_type": "markdown",
      "metadata": {
        "id": "XvZlD3geBrgp",
        "colab_type": "text"
      },
      "source": [
        "## 2.\n",
        "\n",
        "Write a function `greet_all` that greets all things passed as arguments.\n",
        "\n",
        "Example:\n",
        "\n",
        "```\n",
        "greet_all('World')\n",
        "Hello World!\n",
        "\n",
        "greet_all('World', 'Python', 'Hedgehogs')\n",
        "Hello World, Python and Hedgehogs!\n",
        "\n",
        "greet_all()\n",
        "Hello!\n",
        "```"
      ]
    },
    {
      "cell_type": "code",
      "metadata": {
        "id": "jeOC2nf9BqxZ",
        "colab_type": "code",
        "colab": {}
      },
      "source": [
        ""
      ],
      "execution_count": 0,
      "outputs": []
    }
  ]
}