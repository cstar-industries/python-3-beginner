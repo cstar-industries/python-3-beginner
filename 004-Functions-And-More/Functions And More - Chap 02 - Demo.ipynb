{
  "nbformat": 4,
  "nbformat_minor": 0,
  "metadata": {
    "colab": {
      "name": "Functions and more - Chap 02 - Demo",
      "provenance": [],
      "private_outputs": true,
      "authorship_tag": "ABX9TyP+Teenpz2BzzgP7uBf8Zl2",
      "include_colab_link": true
    },
    "kernelspec": {
      "name": "python3",
      "display_name": "Python 3"
    }
  },
  "cells": [
    {
      "cell_type": "markdown",
      "metadata": {
        "id": "view-in-github",
        "colab_type": "text"
      },
      "source": [
        "<a href=\"https://colab.research.google.com/github/cstar-industries/python-3-beginner/blob/master/004-Functions-And-More/Functions%20And%20More%20-%20Chap%2002%20-%20Demo.ipynb\" target=\"_parent\"><img src=\"https://colab.research.google.com/assets/colab-badge.svg\" alt=\"Open In Colab\"/></a>"
      ]
    },
    {
      "cell_type": "markdown",
      "metadata": {
        "id": "-xCQWFWE-dQu",
        "colab_type": "text"
      },
      "source": [
        "## Variable scope"
      ]
    },
    {
      "cell_type": "code",
      "metadata": {
        "id": "RU7za-FK-RCA",
        "colab_type": "code",
        "colab": {}
      },
      "source": [
        "def f():\n",
        "  a = []\n",
        "  print(a)\n",
        "  a += [0, 1, 2]\n",
        "  print(a)\n",
        "\n",
        "f()"
      ],
      "execution_count": 0,
      "outputs": []
    }
  ]
}