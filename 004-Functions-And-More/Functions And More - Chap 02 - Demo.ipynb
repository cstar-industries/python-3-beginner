{
  "nbformat": 4,
  "nbformat_minor": 0,
  "metadata": {
    "colab": {
      "name": "Functions and more - Chap 02 - Demo",
      "provenance": [],
      "private_outputs": true,
      "authorship_tag": "ABX9TyPuBxIl0cjiCjo0EtlvCP2o",
      "include_colab_link": true
    },
    "kernelspec": {
      "name": "python3",
      "display_name": "Python 3"
    }
  },
  "cells": [
    {
      "cell_type": "markdown",
      "metadata": {
        "id": "view-in-github",
        "colab_type": "text"
      },
      "source": [
        "<a href=\"https://colab.research.google.com/github/cstar-industries/python-3-beginner/blob/master/004-Functions-And-More/Functions%20And%20More%20-%20Chap%2002%20-%20Demo.ipynb\" target=\"_parent\"><img src=\"https://colab.research.google.com/assets/colab-badge.svg\" alt=\"Open In Colab\"/></a>"
      ]
    },
    {
      "cell_type": "markdown",
      "metadata": {
        "id": "i7-PoBxSFo4P",
        "colab_type": "text"
      },
      "source": [
        "## Argument magic"
      ]
    },
    {
      "cell_type": "code",
      "metadata": {
        "id": "_lfNiKQoFqvl",
        "colab_type": "code",
        "colab": {}
      },
      "source": [
        "def make_title(text):\n",
        "  print(10 * '*' + f' {text} ' + 10 * '*')"
      ],
      "execution_count": 0,
      "outputs": []
    },
    {
      "cell_type": "code",
      "metadata": {
        "id": "vUffMCj7GbjX",
        "colab_type": "code",
        "colab": {}
      },
      "source": [
        "make_title('Hello')"
      ],
      "execution_count": 0,
      "outputs": []
    },
    {
      "cell_type": "code",
      "metadata": {
        "id": "8yZ7tD5tGl-E",
        "colab_type": "code",
        "colab": {}
      },
      "source": [
        "def make_title(text, decoration='*'):\n",
        "  print(10 * decoration + f' {text} ' + 10 * decoration)"
      ],
      "execution_count": 0,
      "outputs": []
    },
    {
      "cell_type": "code",
      "metadata": {
        "id": "ratKXDbpGyzn",
        "colab_type": "code",
        "colab": {}
      },
      "source": [
        "make_title('Python', '|')"
      ],
      "execution_count": 0,
      "outputs": []
    },
    {
      "cell_type": "code",
      "metadata": {
        "id": "9eU3AwKzG7VV",
        "colab_type": "code",
        "colab": {}
      },
      "source": [
        "def make_title_2(text, *decorations):\n",
        "  decoration = ''.join(decorations)\n",
        "  make_title(text, decoration)"
      ],
      "execution_count": 0,
      "outputs": []
    },
    {
      "cell_type": "code",
      "metadata": {
        "id": "dMwEKN80HaHt",
        "colab_type": "code",
        "colab": {}
      },
      "source": [
        "make_title_2('Hello', '|', '*', '|')"
      ],
      "execution_count": 0,
      "outputs": []
    },
    {
      "cell_type": "code",
      "metadata": {
        "id": "pePuvFdsHvA-",
        "colab_type": "code",
        "colab": {}
      },
      "source": [
        "args = ['Hello', '*']\n",
        "make_title(*args)"
      ],
      "execution_count": 0,
      "outputs": []
    },
    {
      "cell_type": "code",
      "metadata": {
        "id": "_tghokEWIN3u",
        "colab_type": "code",
        "colab": {}
      },
      "source": [
        "kwargs = {'decoration': '-', 'text': 'Hello'}\n",
        "make_title(**kwargs)"
      ],
      "execution_count": 0,
      "outputs": []
    },
    {
      "cell_type": "markdown",
      "metadata": {
        "id": "-xCQWFWE-dQu",
        "colab_type": "text"
      },
      "source": [
        "## Variable scope"
      ]
    },
    {
      "cell_type": "code",
      "metadata": {
        "id": "RU7za-FK-RCA",
        "colab_type": "code",
        "colab": {}
      },
      "source": [
        "def f():\n",
        "  a = []\n",
        "  print(a)\n",
        "  a += [0, 1, 2]\n",
        "  print(a)\n",
        "\n",
        "f()"
      ],
      "execution_count": 0,
      "outputs": []
    },
    {
      "cell_type": "code",
      "metadata": {
        "id": "Gub1nbGFEltO",
        "colab_type": "code",
        "colab": {}
      },
      "source": [
        "print(a)"
      ],
      "execution_count": 0,
      "outputs": []
    },
    {
      "cell_type": "code",
      "metadata": {
        "id": "ketV7BhmEnBe",
        "colab_type": "code",
        "colab": {}
      },
      "source": [
        "def new_list_with_size(size, item=None):\n",
        "  a = size*[item]\n",
        "  return a\n",
        "\n",
        "new_list_with_size(10)"
      ],
      "execution_count": 0,
      "outputs": []
    },
    {
      "cell_type": "code",
      "metadata": {
        "id": "ghzzSgQUE7fQ",
        "colab_type": "code",
        "colab": {}
      },
      "source": [
        "print(a)"
      ],
      "execution_count": 0,
      "outputs": []
    },
    {
      "cell_type": "code",
      "metadata": {
        "id": "SfLJDH4uE90m",
        "colab_type": "code",
        "colab": {}
      },
      "source": [
        "a2 = new_list_with_size(2)\n",
        "\n",
        "print(a2)\n",
        "print(a)"
      ],
      "execution_count": 0,
      "outputs": []
    },
    {
      "cell_type": "code",
      "metadata": {
        "id": "iAwqU7TNFDgs",
        "colab_type": "code",
        "colab": {}
      },
      "source": [
        "a = []\n",
        "\n",
        "def f():\n",
        "  print(a)\n",
        "\n",
        "f()"
      ],
      "execution_count": 0,
      "outputs": []
    },
    {
      "cell_type": "code",
      "metadata": {
        "id": "JCPB9E0rItsC",
        "colab_type": "code",
        "colab": {}
      },
      "source": [
        "from random import random\n",
        "\n",
        "def f2():\n",
        "  a += [random()]\n",
        "  print(a)\n",
        "\n",
        "f2()"
      ],
      "execution_count": 0,
      "outputs": []
    },
    {
      "cell_type": "code",
      "metadata": {
        "id": "g2iSrcJDI1HD",
        "colab_type": "code",
        "colab": {}
      },
      "source": [
        "def f3():\n",
        "  global a\n",
        "  a += [random()]\n",
        "  print(a)\n",
        "\n",
        "f3()"
      ],
      "execution_count": 0,
      "outputs": []
    },
    {
      "cell_type": "code",
      "metadata": {
        "id": "oqUar-t4I5X6",
        "colab_type": "code",
        "colab": {}
      },
      "source": [
        "print(a)"
      ],
      "execution_count": 0,
      "outputs": []
    },
    {
      "cell_type": "code",
      "metadata": {
        "id": "rEaNdGbWI7sd",
        "colab_type": "code",
        "colab": {}
      },
      "source": [
        "def f4():\n",
        "  a.append(random())\n",
        "  print(a)\n",
        "\n",
        "f4()"
      ],
      "execution_count": 0,
      "outputs": []
    },
    {
      "cell_type": "code",
      "metadata": {
        "id": "kuRx83PlJAQh",
        "colab_type": "code",
        "colab": {}
      },
      "source": [
        "f4()"
      ],
      "execution_count": 0,
      "outputs": []
    },
    {
      "cell_type": "markdown",
      "metadata": {
        "id": "oBobh8TfM8qU",
        "colab_type": "text"
      },
      "source": [
        "## Functional programming"
      ]
    },
    {
      "cell_type": "code",
      "metadata": {
        "id": "gCu2M-EaNAga",
        "colab_type": "code",
        "colab": {}
      },
      "source": [
        "def add_round(a, b):\n",
        "  return round(a + b)\n",
        "\n",
        "add_round(3.5, 6.24)"
      ],
      "execution_count": 0,
      "outputs": []
    },
    {
      "cell_type": "code",
      "metadata": {
        "id": "2UtRmg9WNPde",
        "colab_type": "code",
        "colab": {}
      },
      "source": [
        "a = add_round(1.65, 4.7)\n",
        "a_r = add_round\n",
        "\n",
        "print(a)\n",
        "print(a_r)\n",
        "print(a_r(1.65, 4.7))"
      ],
      "execution_count": 0,
      "outputs": []
    },
    {
      "cell_type": "code",
      "metadata": {
        "id": "fCPxdowkNb1-",
        "colab_type": "code",
        "colab": {}
      },
      "source": [
        "def apply_to_pairs(fn, seq):\n",
        "  return [fn(x, y) for x, y in zip(seq[:-1], seq[1:])]\n",
        "\n",
        "l = [0.1, 2.5, 3.3, 2.01]\n",
        "apply_to_pairs(add_round, l)"
      ],
      "execution_count": 0,
      "outputs": []
    },
    {
      "cell_type": "code",
      "metadata": {
        "id": "QVR384PiODNW",
        "colab_type": "code",
        "colab": {}
      },
      "source": [
        "apply_to_pairs(lambda x, y: x*y, l)"
      ],
      "execution_count": 0,
      "outputs": []
    },
    {
      "cell_type": "markdown",
      "metadata": {
        "id": "CtBoLBMQOk5P",
        "colab_type": "text"
      },
      "source": [
        "## Currying (optional)"
      ]
    },
    {
      "cell_type": "markdown",
      "metadata": {
        "id": "Z8RC2H14PSDs",
        "colab_type": "text"
      },
      "source": [
        "Currying is an advanced functional programming technique where a function returns a function, built specifically after the argument passed to the builder function.\n",
        "\n",
        "the name comes from the idea that the argument passed to the builder function are \"curried\" into the returned function.\n",
        "\n",
        "In our example, we define the builder function `make_add_round` to return a partial `add_round` function where the first argument is fixed to the value given as argument to `make_add_round`."
      ]
    },
    {
      "cell_type": "code",
      "metadata": {
        "id": "nuuikUInOdWo",
        "colab_type": "code",
        "colab": {}
      },
      "source": [
        "def make_add_round(a):\n",
        "  return lambda b: add_round(a, b)"
      ],
      "execution_count": 0,
      "outputs": []
    },
    {
      "cell_type": "code",
      "metadata": {
        "id": "ATAGwxuEO9Dj",
        "colab_type": "code",
        "colab": {}
      },
      "source": [
        "add_2 = make_add_round(2)\n",
        "add_9 = make_add_round(9)\n",
        "sub_1 = make_add_round(-1)"
      ],
      "execution_count": 0,
      "outputs": []
    },
    {
      "cell_type": "code",
      "metadata": {
        "id": "bYDZFxJ2PGG7",
        "colab_type": "code",
        "colab": {}
      },
      "source": [
        "print(add_2(13.4))\n",
        "print(add_9(0.9))\n",
        "print(sub_1(0.9))"
      ],
      "execution_count": 0,
      "outputs": []
    }
  ]
}