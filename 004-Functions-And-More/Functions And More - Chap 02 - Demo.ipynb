{
  "nbformat": 4,
  "nbformat_minor": 0,
  "metadata": {
    "colab": {
      "name": "Functions and more - Chap 02 - Demo",
      "provenance": [],
      "private_outputs": true,
      "authorship_tag": "ABX9TyPq7vCThFxynO9kFCdbPsbm",
      "include_colab_link": true
    },
    "kernelspec": {
      "name": "python3",
      "display_name": "Python 3"
    }
  },
  "cells": [
    {
      "cell_type": "markdown",
      "metadata": {
        "id": "view-in-github",
        "colab_type": "text"
      },
      "source": [
        "<a href=\"https://colab.research.google.com/github/cstar-industries/python-3-beginner/blob/master/004-Functions-And-More/Functions%20And%20More%20-%20Chap%2002%20-%20Demo.ipynb\" target=\"_parent\"><img src=\"https://colab.research.google.com/assets/colab-badge.svg\" alt=\"Open In Colab\"/></a>"
      ]
    },
    {
      "cell_type": "markdown",
      "metadata": {
        "id": "i7-PoBxSFo4P",
        "colab_type": "text"
      },
      "source": [
        "## Argument magic"
      ]
    },
    {
      "cell_type": "code",
      "metadata": {
        "id": "_lfNiKQoFqvl",
        "colab_type": "code",
        "colab": {}
      },
      "source": [
        "def make_title(text):\n",
        "  print(10 * '*' + f' {text} ' + 10 * '*')"
      ],
      "execution_count": 0,
      "outputs": []
    },
    {
      "cell_type": "code",
      "metadata": {
        "id": "vUffMCj7GbjX",
        "colab_type": "code",
        "colab": {}
      },
      "source": [
        "make_title('Hello')"
      ],
      "execution_count": 0,
      "outputs": []
    },
    {
      "cell_type": "code",
      "metadata": {
        "id": "8yZ7tD5tGl-E",
        "colab_type": "code",
        "colab": {}
      },
      "source": [
        "def make_title(text, decoration='*'):\n",
        "  print(10 * decoration + f' {text} ' + 10 * decoration)"
      ],
      "execution_count": 0,
      "outputs": []
    },
    {
      "cell_type": "code",
      "metadata": {
        "id": "ratKXDbpGyzn",
        "colab_type": "code",
        "colab": {}
      },
      "source": [
        "make_title('Python', '|')"
      ],
      "execution_count": 0,
      "outputs": []
    },
    {
      "cell_type": "code",
      "metadata": {
        "id": "9eU3AwKzG7VV",
        "colab_type": "code",
        "colab": {}
      },
      "source": [
        "def make_title_2(text, *decorations):\n",
        "  decoration = ''.join(decorations)\n",
        "  make_title(text, decoration)"
      ],
      "execution_count": 0,
      "outputs": []
    },
    {
      "cell_type": "code",
      "metadata": {
        "id": "dMwEKN80HaHt",
        "colab_type": "code",
        "colab": {}
      },
      "source": [
        "make_title_2('Hello', '|', '*', '|')"
      ],
      "execution_count": 0,
      "outputs": []
    },
    {
      "cell_type": "code",
      "metadata": {
        "id": "pePuvFdsHvA-",
        "colab_type": "code",
        "colab": {}
      },
      "source": [
        "args = ['Hello', '*']\n",
        "make_title(*args)"
      ],
      "execution_count": 0,
      "outputs": []
    },
    {
      "cell_type": "code",
      "metadata": {
        "id": "_tghokEWIN3u",
        "colab_type": "code",
        "colab": {}
      },
      "source": [
        "kwargs = {'decoration': '-', 'text': 'Hello'}\n",
        "make_title(**kwargs)"
      ],
      "execution_count": 0,
      "outputs": []
    },
    {
      "cell_type": "markdown",
      "metadata": {
        "id": "-xCQWFWE-dQu",
        "colab_type": "text"
      },
      "source": [
        "## Variable scope"
      ]
    },
    {
      "cell_type": "code",
      "metadata": {
        "id": "RU7za-FK-RCA",
        "colab_type": "code",
        "colab": {}
      },
      "source": [
        "def f():\n",
        "  a = []\n",
        "  print(a)\n",
        "  a += [0, 1, 2]\n",
        "  print(a)\n",
        "\n",
        "f()"
      ],
      "execution_count": 0,
      "outputs": []
    },
    {
      "cell_type": "code",
      "metadata": {
        "id": "Gub1nbGFEltO",
        "colab_type": "code",
        "colab": {}
      },
      "source": [
        "print(a)"
      ],
      "execution_count": 0,
      "outputs": []
    },
    {
      "cell_type": "code",
      "metadata": {
        "id": "ketV7BhmEnBe",
        "colab_type": "code",
        "colab": {}
      },
      "source": [
        "def new_list_with_size(size, item=None):\n",
        "  a = size*[item]\n",
        "  return a\n",
        "\n",
        "new_list_with_size(10)"
      ],
      "execution_count": 0,
      "outputs": []
    },
    {
      "cell_type": "code",
      "metadata": {
        "id": "ghzzSgQUE7fQ",
        "colab_type": "code",
        "colab": {}
      },
      "source": [
        "print(a)"
      ],
      "execution_count": 0,
      "outputs": []
    },
    {
      "cell_type": "code",
      "metadata": {
        "id": "SfLJDH4uE90m",
        "colab_type": "code",
        "colab": {}
      },
      "source": [
        "a2 = new_list_with_size(2)\n",
        "\n",
        "print(a2)\n",
        "print(a)"
      ],
      "execution_count": 0,
      "outputs": []
    },
    {
      "cell_type": "code",
      "metadata": {
        "id": "iAwqU7TNFDgs",
        "colab_type": "code",
        "colab": {}
      },
      "source": [
        "a = []\n",
        "\n",
        "def f():\n",
        "  print(a)\n",
        "\n",
        "f()"
      ],
      "execution_count": 0,
      "outputs": []
    },
    {
      "cell_type": "code",
      "metadata": {
        "id": "JCPB9E0rItsC",
        "colab_type": "code",
        "colab": {}
      },
      "source": [
        "from random import random\n",
        "\n",
        "def f2():\n",
        "  a += [random()]\n",
        "  print(a)\n",
        "\n",
        "f2()"
      ],
      "execution_count": 0,
      "outputs": []
    },
    {
      "cell_type": "code",
      "metadata": {
        "id": "g2iSrcJDI1HD",
        "colab_type": "code",
        "colab": {}
      },
      "source": [
        "def f3():\n",
        "  global a\n",
        "  a += [random()]\n",
        "  print(a)\n",
        "\n",
        "f3()"
      ],
      "execution_count": 0,
      "outputs": []
    },
    {
      "cell_type": "code",
      "metadata": {
        "id": "oqUar-t4I5X6",
        "colab_type": "code",
        "colab": {}
      },
      "source": [
        "print(a)"
      ],
      "execution_count": 0,
      "outputs": []
    },
    {
      "cell_type": "code",
      "metadata": {
        "id": "rEaNdGbWI7sd",
        "colab_type": "code",
        "colab": {}
      },
      "source": [
        "def f4():\n",
        "  a.append(random())\n",
        "  print(a)\n",
        "\n",
        "f4()"
      ],
      "execution_count": 0,
      "outputs": []
    },
    {
      "cell_type": "code",
      "metadata": {
        "id": "kuRx83PlJAQh",
        "colab_type": "code",
        "colab": {}
      },
      "source": [
        "f4()"
      ],
      "execution_count": 0,
      "outputs": []
    }
  ]
}