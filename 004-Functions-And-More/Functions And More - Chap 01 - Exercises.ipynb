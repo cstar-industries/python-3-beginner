{
  "nbformat": 4,
  "nbformat_minor": 0,
  "metadata": {
    "colab": {
      "name": "Functions and more - Chap 01 - Exercises",
      "provenance": [],
      "private_outputs": true,
      "collapsed_sections": [
        "aSdEiF-qktuN"
      ],
      "include_colab_link": true
    },
    "kernelspec": {
      "name": "python3",
      "display_name": "Python 3"
    }
  },
  "cells": [
    {
      "cell_type": "markdown",
      "metadata": {
        "id": "view-in-github",
        "colab_type": "text"
      },
      "source": [
        "<a href=\"https://colab.research.google.com/github/cstar-industries/python-3-beginner/blob/master/004-Functions-And-More/Functions%20And%20More%20-%20Chap%2001%20-%20Exercises.ipynb\" target=\"_parent\"><img src=\"https://colab.research.google.com/assets/colab-badge.svg\" alt=\"Open In Colab\"/></a>"
      ]
    },
    {
      "cell_type": "markdown",
      "metadata": {
        "id": "m_ZlQlx8Dcmr",
        "colab_type": "text"
      },
      "source": [
        "## 1.\n",
        "\n",
        "Write a function that greets–by saying `Hello!`—whatever we pass as argument.\n",
        "\n",
        "\n",
        "\n",
        "```python\n",
        "greet('World')\n",
        "Hello World!\n",
        "\n",
        "greet('Python')\n",
        "Hello Python!\n",
        "\n",
        "greet('')\n",
        "Hello!\n",
        "```"
      ]
    },
    {
      "cell_type": "code",
      "metadata": {
        "id": "DcrWFw21EJVq",
        "colab_type": "code",
        "colab": {}
      },
      "source": [
        "def greet(greetee):\n",
        "  # Your code goes here"
      ],
      "execution_count": 0,
      "outputs": []
    },
    {
      "cell_type": "code",
      "metadata": {
        "id": "y9RRUG-oEQHv",
        "colab_type": "code",
        "colab": {}
      },
      "source": [
        "print(greet('World'))\n",
        "print(greet('Python'))\n",
        "print(greet(''))"
      ],
      "execution_count": 0,
      "outputs": []
    },
    {
      "cell_type": "markdown",
      "metadata": {
        "id": "T2SvlOcM0gDa",
        "colab_type": "text"
      },
      "source": [
        "## 2.\n",
        "\n",
        "The `rot_encrypt` in the first block of this exercise is similar to the `rot` function we saw in the slides, except that it only handles plaintext-to-ciphertext encryption.\n",
        "\n",
        "Change the code so that, when encrypting, if `key` is `None`, the key is generated randomly inside the function and returned as a $(\\mbox{ciphertext}, \\mbox{key})$ `tuple`.\n",
        "\n",
        "This should be the default behavior when the `key` argument is not given to the function call.\n",
        "\n",
        "Example:\n",
        "\n",
        "```python\n",
        "rot_encrypt('Hello', 13)\n",
        "'uryyb'\n",
        "\n",
        "rot_encrypt('Hello', None)\n",
        "('wtaad', 15)\n",
        "\n",
        "rot_encrypt('Hello')\n",
        "('ebiil', 23)\n",
        "```\n",
        "\n",
        "> **HINT:** Use the [`random.randrange`](https://docs.python.org/3/library/random.html#random.randrange) function from the standard library to generate random integers. Bring it into your code by running:\n",
        "> ```python\n",
        "from random import randrange\n",
        "```"
      ]
    },
    {
      "cell_type": "code",
      "metadata": {
        "id": "-ocY1zcG0iPg",
        "colab_type": "code",
        "colab": {}
      },
      "source": [
        "def rot_encrypt(input_text, key=13):\n",
        "    output_text = ''\n",
        "    input_text = input_text.lower()\n",
        "    for c in input_text:\n",
        "        if 'a' <= c <= 'z':\n",
        "            output_text += chr(((ord(c) - ord('a') + key) % 26) + ord('a'))\n",
        "        else:\n",
        "            output_text += c\n",
        "    return output_text"
      ],
      "execution_count": 0,
      "outputs": []
    },
    {
      "cell_type": "code",
      "metadata": {
        "id": "9qKZvL-T6afe",
        "colab_type": "code",
        "colab": {}
      },
      "source": [
        "print(rot_encrypt('Hello', 13))\n",
        "print(rot_encrypt('Hello', None))\n",
        "print(rot_encrypt('Hello'))"
      ],
      "execution_count": 0,
      "outputs": []
    }
  ]
}