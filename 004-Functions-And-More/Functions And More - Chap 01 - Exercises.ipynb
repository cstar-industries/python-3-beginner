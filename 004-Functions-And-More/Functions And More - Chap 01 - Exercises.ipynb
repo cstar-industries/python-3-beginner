{
  "nbformat": 4,
  "nbformat_minor": 0,
  "metadata": {
    "colab": {
      "name": "Functions and more - Chap 01 - Exercises",
      "provenance": [],
      "private_outputs": true,
      "collapsed_sections": [
        "aSdEiF-qktuN"
      ],
      "include_colab_link": true
    },
    "kernelspec": {
      "name": "python3",
      "display_name": "Python 3"
    }
  },
  "cells": [
    {
      "cell_type": "markdown",
      "metadata": {
        "id": "view-in-github",
        "colab_type": "text"
      },
      "source": [
        "<a href=\"https://colab.research.google.com/github/cstar-industries/python-3-beginner/blob/master/004-Functions-And-More/Functions%20And%20More%20-%20Chap%2001%20-%20Exercises.ipynb\" target=\"_parent\"><img src=\"https://colab.research.google.com/assets/colab-badge.svg\" alt=\"Open In Colab\"/></a>"
      ]
    },
    {
      "cell_type": "markdown",
      "metadata": {
        "id": "zDZdtpoR6-82",
        "colab_type": "text"
      },
      "source": [
        "## 1.\n",
        "\n",
        "Recall the Fibonacci sequence from [this workshop](https://colab.research.google.com/github/cstar-industries/python-3-beginner/blob/master/002-Control-Flow/Control%20Flow%20-%20Workshop.ipynb#scrollTo=gSLJQBHULPUj)\n",
        "\n",
        "Write a function `fib_range` that takes two arguments `start`, `stop` and generates the list of Fibonacci numbers from the `start`-th number to one before the `stop`-th.\n",
        "\n",
        "Example:\n",
        "\n",
        "```python\n",
        "fib_range(0, 10)\n",
        "[0, 1, 1, 2, 3, 5, 8, 13, 21, 34]\n",
        "\n",
        "fib_range(10, 20)\n",
        "[55, 89, 144, 233, 377, 610, 987, 1597, 2584, 4181]\n",
        "\n",
        "fib_range(0, 0)\n",
        "[]\n",
        "```"
      ]
    },
    {
      "cell_type": "code",
      "metadata": {
        "id": "hWoNAX2a9pXQ",
        "colab_type": "code",
        "colab": {}
      },
      "source": [
        "# Define your function in this block. Remember to run the block every time you\n",
        "# change your code to re-define your function.\n",
        "\n",
        "def fib_range(start, stop):\n",
        "  # Your code starts here..."
      ],
      "execution_count": 0,
      "outputs": []
    },
    {
      "cell_type": "code",
      "metadata": {
        "id": "jYm4idR59uO7",
        "colab_type": "code",
        "colab": {}
      },
      "source": [
        "print(fib_range(0, 10))\n",
        "print(fib_range(10, 20))\n",
        "print(fib_range(0, 0))"
      ],
      "execution_count": 0,
      "outputs": []
    },
    {
      "cell_type": "markdown",
      "metadata": {
        "id": "T2SvlOcM0gDa",
        "colab_type": "text"
      },
      "source": [
        "## 2.\n",
        "\n",
        "The `rot_encrypt` in the first block of this exercise is similar to the `rot` function we saw in the slides, except that it only handles plaintext-to-ciphertext encryption.\n",
        "\n",
        "Change the code so that, when encrypting, if `key` is `None`, the key is generated randomly inside the function and returned as a $(\\mbox{ciphertext}, \\mbox{key})$ `tuple`.\n",
        "\n",
        "This should be the default behavior when the `key` argument is not given to the function call.\n",
        "\n",
        "Example:\n",
        "\n",
        "```python\n",
        "rot_encrypt('Hello', 13)\n",
        "'uryyb'\n",
        "\n",
        "rot_encrypt('Hello', None)\n",
        "('wtaad', 15)\n",
        "\n",
        "rot_encrypt('Hello')\n",
        "('ebiil', 23)\n",
        "```\n",
        "\n",
        "> **HINT:** Use the [`random.randrange`](https://docs.python.org/3/library/random.html#random.randrange) function from the standard library to generate random integers. Bring it into your code by running:\n",
        "> ```python\n",
        "from random import randrange\n",
        "```"
      ]
    },
    {
      "cell_type": "code",
      "metadata": {
        "id": "-ocY1zcG0iPg",
        "colab_type": "code",
        "colab": {}
      },
      "source": [
        "def rot_encrypt(input_text, key=13):\n",
        "    output_text = ''\n",
        "    input_text = input_text.lower()\n",
        "    for c in input_text:\n",
        "        if 'a' <= c <= 'z':\n",
        "            output_text += chr(((ord(c) - ord('a') + key) % 26) + ord('a'))\n",
        "        else:\n",
        "            output_text += c\n",
        "    return output_text"
      ],
      "execution_count": 0,
      "outputs": []
    },
    {
      "cell_type": "code",
      "metadata": {
        "id": "9qKZvL-T6afe",
        "colab_type": "code",
        "colab": {}
      },
      "source": [
        "print(rot_encrypt('Hello', 13))\n",
        "print(rot_encrypt('Hello', None))\n",
        "print(rot_encrypt('Hello'))"
      ],
      "execution_count": 0,
      "outputs": []
    }
  ]
}