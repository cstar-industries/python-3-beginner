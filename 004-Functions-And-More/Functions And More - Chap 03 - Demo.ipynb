{
  "nbformat": 4,
  "nbformat_minor": 0,
  "metadata": {
    "colab": {
      "name": "Functions and more - Chap 03 - Demo",
      "provenance": [],
      "private_outputs": true,
      "authorship_tag": "ABX9TyMpdKCUJCfVSt36UZ+F1Ur+",
      "include_colab_link": true
    },
    "kernelspec": {
      "name": "python3",
      "display_name": "Python 3"
    }
  },
  "cells": [
    {
      "cell_type": "markdown",
      "metadata": {
        "id": "view-in-github",
        "colab_type": "text"
      },
      "source": [
        "<a href=\"https://colab.research.google.com/github/cstar-industries/python-3-beginner/blob/master/004-Functions-And-More/Functions%20And%20More%20-%20Chap%2003%20-%20Demo.ipynb\" target=\"_parent\"><img src=\"https://colab.research.google.com/assets/colab-badge.svg\" alt=\"Open In Colab\"/></a>"
      ]
    },
    {
      "cell_type": "markdown",
      "metadata": {
        "id": "Vc27p9WVtwvc",
        "colab_type": "text"
      },
      "source": [
        "## Iterators and generators"
      ]
    },
    {
      "cell_type": "code",
      "metadata": {
        "id": "mnLoZd70tzXB",
        "colab_type": "code",
        "colab": {}
      },
      "source": [
        "# This is in fact the cartesian product of iterables a and b\n",
        "\n",
        "def all_pairs(a, b):\n",
        "  for x in a:\n",
        "    for y in b:\n",
        "      yield x, y"
      ],
      "execution_count": 0,
      "outputs": []
    },
    {
      "cell_type": "code",
      "metadata": {
        "id": "mgsOMnwQurek",
        "colab_type": "code",
        "colab": {}
      },
      "source": [
        "for p in all_pairs(['a', 'b', 'c'], ['x', 'y', 'z']):\n",
        "  print(p)"
      ],
      "execution_count": 0,
      "outputs": []
    },
    {
      "cell_type": "code",
      "metadata": {
        "id": "_T9Hmxpru9LQ",
        "colab_type": "code",
        "colab": {}
      },
      "source": [
        "p_gen = all_pairs(['a', 'b', 'c'], ['x', 'y', 'z'])\n",
        "type(p_gen)"
      ],
      "execution_count": 0,
      "outputs": []
    },
    {
      "cell_type": "code",
      "metadata": {
        "id": "XGDkBJuGvLzg",
        "colab_type": "code",
        "colab": {}
      },
      "source": [
        "next(p_gen)"
      ],
      "execution_count": 0,
      "outputs": []
    },
    {
      "cell_type": "code",
      "metadata": {
        "id": "bGygbvwWvPX6",
        "colab_type": "code",
        "colab": {}
      },
      "source": [
        "print(next(p_gen))\n",
        "print(next(p_gen))\n",
        "print(next(p_gen))"
      ],
      "execution_count": 0,
      "outputs": []
    },
    {
      "cell_type": "code",
      "metadata": {
        "id": "hXqWaboOvalk",
        "colab_type": "code",
        "colab": {}
      },
      "source": [
        "p_gen_2 = all_pairs(range(10), range(3))\n",
        "\n",
        "print(next(p_gen_2))\n",
        "print(next(p_gen))"
      ],
      "execution_count": 0,
      "outputs": []
    },
    {
      "cell_type": "code",
      "metadata": {
        "id": "1CZmlSbqvsCU",
        "colab_type": "code",
        "colab": {}
      },
      "source": [
        "for p in p_gen:\n",
        "  print(p)\n",
        "\n",
        "next(p_gen)"
      ],
      "execution_count": 0,
      "outputs": []
    },
    {
      "cell_type": "code",
      "metadata": {
        "id": "gq6laiF4v09_",
        "colab_type": "code",
        "colab": {}
      },
      "source": [
        "z = zip(['a', 'b', 'c'], ['x', 'y', 'z'])\n",
        "\n",
        "print(next(z))\n",
        "print(next(z))\n",
        "print(next(z))"
      ],
      "execution_count": 0,
      "outputs": []
    }
  ]
}