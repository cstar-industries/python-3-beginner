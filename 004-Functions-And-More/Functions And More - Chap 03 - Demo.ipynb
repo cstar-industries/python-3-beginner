{
  "nbformat": 4,
  "nbformat_minor": 0,
  "metadata": {
    "colab": {
      "name": "Functions and more - Chap 03 - Demo",
      "provenance": [],
      "private_outputs": true,
      "authorship_tag": "ABX9TyMSGlaqdSKvVClGQlYjz8Ut",
      "include_colab_link": true
    },
    "kernelspec": {
      "name": "python3",
      "display_name": "Python 3"
    }
  },
  "cells": [
    {
      "cell_type": "markdown",
      "metadata": {
        "id": "view-in-github",
        "colab_type": "text"
      },
      "source": [
        "<a href=\"https://colab.research.google.com/github/cstar-industries/python-3-beginner/blob/master/004-Functions-And-More/Functions%20And%20More%20-%20Chap%2003%20-%20Demo.ipynb\" target=\"_parent\"><img src=\"https://colab.research.google.com/assets/colab-badge.svg\" alt=\"Open In Colab\"/></a>"
      ]
    },
    {
      "cell_type": "markdown",
      "metadata": {
        "id": "Vc27p9WVtwvc",
        "colab_type": "text"
      },
      "source": [
        "## Iterators and generators"
      ]
    },
    {
      "cell_type": "code",
      "metadata": {
        "id": "mnLoZd70tzXB",
        "colab_type": "code",
        "colab": {}
      },
      "source": [
        "# This is in fact the \"cartesian product\" (https://en.wikipedia.org/wiki/Cartesian_product)\n",
        "# of iterables a and b\n",
        "\n",
        "def all_pairs(a, b):\n",
        "  for x in a:\n",
        "    for y in b:\n",
        "      yield x, y"
      ],
      "execution_count": 0,
      "outputs": []
    },
    {
      "cell_type": "code",
      "metadata": {
        "id": "mgsOMnwQurek",
        "colab_type": "code",
        "colab": {}
      },
      "source": [
        "for p in all_pairs(['a', 'b', 'c'], ['x', 'y', 'z']):\n",
        "  print(p)"
      ],
      "execution_count": 0,
      "outputs": []
    },
    {
      "cell_type": "code",
      "metadata": {
        "id": "_T9Hmxpru9LQ",
        "colab_type": "code",
        "colab": {}
      },
      "source": [
        "p_gen = all_pairs(['a', 'b', 'c'], ['x', 'y', 'z'])\n",
        "type(p_gen)"
      ],
      "execution_count": 0,
      "outputs": []
    },
    {
      "cell_type": "code",
      "metadata": {
        "id": "XGDkBJuGvLzg",
        "colab_type": "code",
        "colab": {}
      },
      "source": [
        "next(p_gen)"
      ],
      "execution_count": 0,
      "outputs": []
    },
    {
      "cell_type": "code",
      "metadata": {
        "id": "bGygbvwWvPX6",
        "colab_type": "code",
        "colab": {}
      },
      "source": [
        "print(next(p_gen))\n",
        "print(next(p_gen))\n",
        "print(next(p_gen))"
      ],
      "execution_count": 0,
      "outputs": []
    },
    {
      "cell_type": "code",
      "metadata": {
        "id": "hXqWaboOvalk",
        "colab_type": "code",
        "colab": {}
      },
      "source": [
        "p_gen_2 = all_pairs(range(10), range(3))\n",
        "\n",
        "print(next(p_gen_2))\n",
        "print(next(p_gen))"
      ],
      "execution_count": 0,
      "outputs": []
    },
    {
      "cell_type": "code",
      "metadata": {
        "id": "1CZmlSbqvsCU",
        "colab_type": "code",
        "colab": {}
      },
      "source": [
        "for p in p_gen:\n",
        "  print(p)\n",
        "\n",
        "next(p_gen)"
      ],
      "execution_count": 0,
      "outputs": []
    },
    {
      "cell_type": "code",
      "metadata": {
        "id": "gq6laiF4v09_",
        "colab_type": "code",
        "colab": {}
      },
      "source": [
        "z = zip(['a', 'b', 'c'], ['x', 'y', 'z'])\n",
        "\n",
        "print(next(z))\n",
        "print(next(z))\n",
        "print(next(z))"
      ],
      "execution_count": 0,
      "outputs": []
    },
    {
      "cell_type": "markdown",
      "metadata": {
        "id": "SazaB_Co0AeV",
        "colab_type": "text"
      },
      "source": [
        "## Errors"
      ]
    },
    {
      "cell_type": "code",
      "metadata": {
        "id": "nmdFmmhV0Bmz",
        "colab_type": "code",
        "colab": {}
      },
      "source": [
        "print(l)"
      ],
      "execution_count": 0,
      "outputs": []
    },
    {
      "cell_type": "code",
      "metadata": {
        "id": "kc7bisQp0C80",
        "colab_type": "code",
        "colab": {}
      },
      "source": [
        "l = (0, 1, 2)\n",
        "l[0] = 'zero'"
      ],
      "execution_count": 0,
      "outputs": []
    },
    {
      "cell_type": "code",
      "metadata": {
        "id": "7jJuRM9D0Hc9",
        "colab_type": "code",
        "colab": {}
      },
      "source": [
        "l.pop()"
      ],
      "execution_count": 0,
      "outputs": []
    },
    {
      "cell_type": "code",
      "metadata": {
        "id": "jY69vsC90JEL",
        "colab_type": "code",
        "colab": {}
      },
      "source": [
        "120 / 0"
      ],
      "execution_count": 0,
      "outputs": []
    },
    {
      "cell_type": "code",
      "metadata": {
        "id": "lTqt4zVY0MIg",
        "colab_type": "code",
        "colab": {}
      },
      "source": [
        "l[36]"
      ],
      "execution_count": 0,
      "outputs": []
    },
    {
      "cell_type": "code",
      "metadata": {
        "id": "4Wb7htbV0P2N",
        "colab_type": "code",
        "colab": {}
      },
      "source": [
        "d = {'hello': 'world'}\n",
        "d['goodbye']"
      ],
      "execution_count": 0,
      "outputs": []
    },
    {
      "cell_type": "code",
      "metadata": {
        "id": "3QnUfWBm0XEW",
        "colab_type": "code",
        "colab": {}
      },
      "source": [
        "import math\n",
        "\n",
        "math.sqrt(-1)"
      ],
      "execution_count": 0,
      "outputs": []
    },
    {
      "cell_type": "code",
      "metadata": {
        "id": "AYO6sRhQ2t2v",
        "colab_type": "code",
        "colab": {}
      },
      "source": [
        "from random import random\n",
        "\n",
        "def print_sqrt(n):\n",
        "    print(f'The square root of {n} is {math.sqrt(n)}')\n",
        "\n",
        "def print_rnd_sqrt():\n",
        "    print_sqrt(random() - .5)\n",
        "\n",
        "print_rnd_sqrt()\n"
      ],
      "execution_count": 0,
      "outputs": []
    },
    {
      "cell_type": "code",
      "metadata": {
        "id": "2_csqhXA9jYd",
        "colab_type": "code",
        "colab": {}
      },
      "source": [
        "def list_sqrt(in_list):\n",
        "    out_list = []\n",
        "    for n in in_list:\n",
        "        try:\n",
        "            out_list.append(math.sqrt(n))\n",
        "        except:\n",
        "            pass\n",
        "    return out_list\n",
        "\n",
        "list_sqrt([2, -1, 16, 'zero', None, 256])\n"
      ],
      "execution_count": 0,
      "outputs": []
    },
    {
      "cell_type": "code",
      "metadata": {
        "id": "TZkit6-L-7Eb",
        "colab_type": "code",
        "colab": {}
      },
      "source": [
        "for i in range(10):\n",
        "  pass"
      ],
      "execution_count": 0,
      "outputs": []
    },
    {
      "cell_type": "code",
      "metadata": {
        "id": "HTxtA_nuFIEi",
        "colab_type": "code",
        "colab": {}
      },
      "source": [
        "x = int(input('Enter an integer number: '))"
      ],
      "execution_count": 0,
      "outputs": []
    },
    {
      "cell_type": "code",
      "metadata": {
        "id": "pF-vMmt0F74-",
        "colab_type": "code",
        "colab": {}
      },
      "source": [
        "x = None\n",
        "while x is None:\n",
        "  try:\n",
        "    x = int(input('Enter an integer number: '))\n",
        "  except:\n",
        "    print(f'Could not parse integer.')"
      ],
      "execution_count": 0,
      "outputs": []
    },
    {
      "cell_type": "code",
      "metadata": {
        "id": "6sN21Lvea3Rb",
        "colab_type": "code",
        "colab": {}
      },
      "source": [
        "x = None\n",
        "while x is None:\n",
        "  try:\n",
        "    x = int(input('Enter an integer number: '))\n",
        "  except ValueError:\n",
        "    print('Could not parse integer.')"
      ],
      "execution_count": 0,
      "outputs": []
    },
    {
      "cell_type": "code",
      "metadata": {
        "id": "Qxb3V9qaBkcM",
        "colab_type": "code",
        "colab": {}
      },
      "source": [
        "x = None\n",
        "while x is None:\n",
        "  try:\n",
        "    x = int(input('Enter an integer number: '))\n",
        "  except ValueError as err:\n",
        "    print(f'Could not parse integer. {err}')"
      ],
      "execution_count": 0,
      "outputs": []
    }
  ]
}