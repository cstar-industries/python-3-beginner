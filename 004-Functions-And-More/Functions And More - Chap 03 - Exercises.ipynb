{
  "nbformat": 4,
  "nbformat_minor": 0,
  "metadata": {
    "colab": {
      "name": "Functions and more - Chap 03 - Exercises",
      "provenance": [],
      "private_outputs": true,
      "collapsed_sections": [
        "aSdEiF-qktuN"
      ],
      "include_colab_link": true
    },
    "kernelspec": {
      "name": "python3",
      "display_name": "Python 3"
    }
  },
  "cells": [
    {
      "cell_type": "markdown",
      "metadata": {
        "id": "view-in-github",
        "colab_type": "text"
      },
      "source": [
        "<a href=\"https://colab.research.google.com/github/cstar-industries/python-3-beginner/blob/master/004-Functions-And-More/Functions%20And%20More%20-%20Chap%2003%20-%20Exercises.ipynb\" target=\"_parent\"><img src=\"https://colab.research.google.com/assets/colab-badge.svg\" alt=\"Open In Colab\"/></a>"
      ]
    },
    {
      "cell_type": "markdown",
      "metadata": {
        "id": "-84O4pgjH0v8",
        "colab_type": "text"
      },
      "source": [
        "## 1.\n",
        "\n",
        "The code below is the one from [the demo](https://colab.research.google.com/github/cstar-industries/python-3-beginner/blob/master/004-Functions-And-More/Functions%20And%20More%20-%20Chap%2003%20-%20Demo.ipynb#scrollTo=btJMxQ14brrP&line=6&uniqifier=1) to read the stock price CSV file.\n",
        "\n",
        "Note that we never read actually read the file during the demo, because not all rows were in the expected format.\n",
        "\n",
        "Fix the `read_csv` function so that, if a row can't be read, it just skips over it and reads the next row"
      ]
    },
    {
      "cell_type": "code",
      "metadata": {
        "id": "gBIniNXnH1OG",
        "colab_type": "code",
        "colab": {}
      },
      "source": [
        "# This code downloads a CSV file of stock prices from the web\n",
        "\n",
        "import requests\n",
        "\n",
        "res = requests.get('https://chrales.dev/python-3-beginner/tesla-stock-price.csv')\n",
        "with open('tesla-stock-price.csv', mode='wb') as f:\n",
        "  f.write(res.content)\n",
        "\n",
        "# Display the 256 first bytes\n",
        "with open('tesla-stock-price.csv', mode='rb') as f:\n",
        "  f.seek(0, 0)\n",
        "  print(f'{f.read(256).decode()}...')"
      ],
      "execution_count": 0,
      "outputs": []
    },
    {
      "cell_type": "code",
      "metadata": {
        "id": "QJBXSMtud9t8",
        "colab_type": "code",
        "colab": {}
      },
      "source": [
        "from datetime import datetime\n",
        "\n",
        "def read_csv(path):\n",
        "    rows = []\n",
        "    f = None\n",
        "    try:\n",
        "        f = open(path)\n",
        "        s = f.read().splitlines()\n",
        "        for row in s:\n",
        "            row = row.split(',')\n",
        "            date = datetime.strptime(row[0], '%Y/%m/%d')\n",
        "            price = float(row[1])\n",
        "            rows.append((date, price))\n",
        "    except OSError as err:\n",
        "        print(f'Failed to open file. {err}')\n",
        "    except ValueError as err:\n",
        "        print(f'Invalid data. {err}')\n",
        "    except:\n",
        "        raise\n",
        "    else:\n",
        "        return rows\n",
        "    finally:\n",
        "        if f is not None:\n",
        "          f.close()\n",
        "    return []"
      ],
      "execution_count": 0,
      "outputs": []
    },
    {
      "cell_type": "code",
      "metadata": {
        "id": "LTYUmWoFIaZE",
        "colab_type": "code",
        "colab": {}
      },
      "source": [
        "read_csv('tesla-stock-price.csv')"
      ],
      "execution_count": 0,
      "outputs": []
    }
  ]
}