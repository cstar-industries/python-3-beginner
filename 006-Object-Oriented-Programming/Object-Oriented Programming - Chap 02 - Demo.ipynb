{
  "nbformat": 4,
  "nbformat_minor": 0,
  "metadata": {
    "colab": {
      "name": "Object-Oriented Programming - Chap 02 - Demo",
      "provenance": [],
      "private_outputs": true,
      "include_colab_link": true
    },
    "kernelspec": {
      "name": "python3",
      "display_name": "Python 3"
    }
  },
  "cells": [
    {
      "cell_type": "markdown",
      "metadata": {
        "id": "view-in-github",
        "colab_type": "text"
      },
      "source": [
        "<a href=\"https://colab.research.google.com/github/cstar-industries/python-3-beginner/blob/master/006-Object-Oriented-Programming/Object-Oriented%20Programming%20-%20Chap%2002%20-%20Demo.ipynb\" target=\"_parent\"><img src=\"https://colab.research.google.com/assets/colab-badge.svg\" alt=\"Open In Colab\"/></a>"
      ]
    },
    {
      "cell_type": "markdown",
      "metadata": {
        "id": "GNfdoDG5_4HN",
        "colab_type": "text"
      },
      "source": [
        "## More on methods"
      ]
    },
    {
      "cell_type": "code",
      "metadata": {
        "id": "oOAUaltZ6H5Z",
        "colab_type": "code",
        "colab": {}
      },
      "source": [
        "class A:\n",
        "  def add_two(self, num):\n",
        "    return num + 2\n",
        "\n",
        "a = A()\n",
        "print(a.add_two(8))"
      ],
      "execution_count": 0,
      "outputs": []
    },
    {
      "cell_type": "code",
      "metadata": {
        "id": "n0Bk-99dA7Id",
        "colab_type": "code",
        "colab": {}
      },
      "source": [
        "class B:\n",
        "  def print_self_and_args_sorted(self, *args):\n",
        "    print(self)\n",
        "    args = sorted(args)\n",
        "    print(*args)\n",
        "\n",
        "b = B()\n",
        "b.print_self_and_args_sorted('Hello', 'World', '!')"
      ],
      "execution_count": 0,
      "outputs": []
    },
    {
      "cell_type": "markdown",
      "metadata": {
        "id": "G3L7Lntkiwjt",
        "colab_type": "text"
      },
      "source": [
        "## Initializers and instance variables"
      ]
    },
    {
      "cell_type": "code",
      "metadata": {
        "id": "jEzM_wbLBUJl",
        "colab_type": "code",
        "colab": {}
      },
      "source": [
        "from datetime import datetime\n",
        "\n",
        "class A:\n",
        "    def __init__(self, id):\n",
        "        self.created_at = datetime.now()\n",
        "        self.id = id\n",
        "\n",
        "a = A(303)\n",
        "print(a.created_at)\n",
        "print(a.id)\n"
      ],
      "execution_count": 0,
      "outputs": []
    },
    {
      "cell_type": "code",
      "metadata": {
        "id": "Ki9lwpDrFv8B",
        "colab_type": "code",
        "colab": {}
      },
      "source": [
        "A.created_at"
      ],
      "execution_count": 0,
      "outputs": []
    },
    {
      "cell_type": "code",
      "metadata": {
        "id": "lp9GOk0DF1UG",
        "colab_type": "code",
        "colab": {}
      },
      "source": [
        "A.id"
      ],
      "execution_count": 0,
      "outputs": []
    },
    {
      "cell_type": "code",
      "metadata": {
        "id": "-ZqCKvLhF3Bf",
        "colab_type": "code",
        "colab": {}
      },
      "source": [
        "# Show only the attributes which are in a and not in A\n",
        "{*dir(a)} - {*dir(A)}"
      ],
      "execution_count": 0,
      "outputs": []
    },
    {
      "cell_type": "code",
      "metadata": {
        "id": "QBVztjrUSenC",
        "colab_type": "code",
        "colab": {}
      },
      "source": [
        "b = A(123)\n",
        "\n",
        "print(f'a({a.id}) – {a.created_at}')\n",
        "print(f'b({b.id}) – {b.created_at}')"
      ],
      "execution_count": 0,
      "outputs": []
    },
    {
      "cell_type": "code",
      "metadata": {
        "id": "w36QTrmWS2jW",
        "colab_type": "code",
        "colab": {}
      },
      "source": [
        "import time\n",
        "\n",
        "class B:\n",
        "  def __init__(self, id):\n",
        "    self.id = id\n",
        "    self.created_at = datetime.now()\n",
        "    self.updated_at = None\n",
        "  \n",
        "  def update(self):\n",
        "    self.updated_at = datetime.now()\n",
        "\n",
        "b = B(303)\n",
        "print(f'b({b.id}) – {b.created_at} – {b.updated_at}')\n",
        "\n",
        "time.sleep(15)\n",
        "\n",
        "b.update()\n",
        "print(f'b({b.id}) – {b.created_at} – {b.updated_at}')"
      ],
      "execution_count": 0,
      "outputs": []
    },
    {
      "cell_type": "markdown",
      "metadata": {
        "id": "NBoUXUKnj7sA",
        "colab_type": "text"
      },
      "source": [
        "## Class attributes vs. Instance attributes\n"
      ]
    },
    {
      "cell_type": "code",
      "metadata": {
        "id": "bB_5r2I5qFPb",
        "colab_type": "code",
        "colab": {}
      },
      "source": [
        "class Team:\n",
        "  people = []\n",
        "\n",
        "  def __init__(self, team_name):\n",
        "    self.name = team_name\n",
        "  \n",
        "  def add_person(self, person):\n",
        "    self.people.append(person)"
      ],
      "execution_count": 0,
      "outputs": []
    },
    {
      "cell_type": "code",
      "metadata": {
        "id": "BCOMxoYwqDmm",
        "colab_type": "code",
        "colab": {}
      },
      "source": [
        "red_team = Team('Red Team')\n",
        "\n",
        "red_team.add_person('Jack')\n",
        "red_team.add_person('John')\n",
        "red_team.add_person('Bart')\n",
        "\n",
        "print(f'{red_team.name}: {red_team.people}')"
      ],
      "execution_count": 0,
      "outputs": []
    },
    {
      "cell_type": "code",
      "metadata": {
        "id": "60l5Y5JTq4ky",
        "colab_type": "code",
        "colab": {}
      },
      "source": [
        "blue_team = Team('Blue Team')\n",
        "print(f'{blue_team.name}: {blue_team.people}')"
      ],
      "execution_count": 0,
      "outputs": []
    },
    {
      "cell_type": "code",
      "metadata": {
        "id": "GVJ5ZzsHrAzQ",
        "colab_type": "code",
        "colab": {}
      },
      "source": [
        "blue_team.add_person('Phil')\n",
        "print(blue_team.people)\n",
        "print(red_team.people)"
      ],
      "execution_count": 0,
      "outputs": []
    },
    {
      "cell_type": "code",
      "metadata": {
        "id": "87x4g88iroNc",
        "colab_type": "code",
        "colab": {}
      },
      "source": [
        "red_team.people is blue_team.people\n",
        "Team.people is red_team.people\n",
        "Team.people is blue_team.people"
      ],
      "execution_count": 0,
      "outputs": []
    },
    {
      "cell_type": "markdown",
      "metadata": {
        "id": "0UGiaxFl7FkP",
        "colab_type": "text"
      },
      "source": [
        "## A real(-ish) class example"
      ]
    },
    {
      "cell_type": "code",
      "metadata": {
        "id": "TqsLXjPJ68t5",
        "colab_type": "code",
        "colab": {}
      },
      "source": [
        "# This is the first real-ish class we build together! Take your time to\n",
        "# understand everything going on.\n",
        "\n",
        "from datetime import datetime, timedelta\n",
        "\n",
        "class Meeting:\n",
        "  def __init__(self, meeting_name, start, duration):\n",
        "    self.name = meeting_name\n",
        "    self.start_time = start\n",
        "    self.duration = duration\n",
        "    self.people = []\n",
        "  \n",
        "  def invite(self, name):\n",
        "    self.people.append(name)\n",
        "  \n",
        "  def desc(self):\n",
        "    start_time_str = self.start_time.strftime('%d/%m/%Y %H:%M')\n",
        "    end_time_str = (self.start_time + self.duration).strftime('%H:%M')\n",
        "    desc = ''\n",
        "    desc += f'Meeting \"{self.name}\": {start_time_str} - {end_time_str}'\n",
        "    if len(self.people) > 0:\n",
        "      desc += '\\n'\n",
        "      desc += 'Participants:\\n'\n",
        "      for p in self.people:\n",
        "        desc += f'    {p}\\n'\n",
        "    return desc\n",
        "  \n",
        "  @classmethod\n",
        "  def now(cls):\n",
        "    \"\"\"Create a new meeting starting now with default values\"\"\"\n",
        "    return cls('New Meeting', datetime.now(), timedelta(hours=1))"
      ],
      "execution_count": 0,
      "outputs": []
    },
    {
      "cell_type": "code",
      "metadata": {
        "id": "MkiQErZw8sV7",
        "colab_type": "code",
        "colab": {}
      },
      "source": [
        "m = Meeting('Sprint Planning', datetime(2020, 5, 4, 14, 0), timedelta(hours=4))\n",
        "m.invite('Jack')\n",
        "m.invite('John')\n",
        "print(m.desc())"
      ],
      "execution_count": 0,
      "outputs": []
    },
    {
      "cell_type": "code",
      "metadata": {
        "id": "aHtHCyUG9C_J",
        "colab_type": "code",
        "colab": {}
      },
      "source": [
        "m2 = Meeting.now()\n",
        "print(m2.desc())"
      ],
      "execution_count": 0,
      "outputs": []
    }
  ]
}