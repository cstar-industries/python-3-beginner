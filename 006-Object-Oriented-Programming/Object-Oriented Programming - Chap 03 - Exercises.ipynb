{
  "nbformat": 4,
  "nbformat_minor": 0,
  "metadata": {
    "colab": {
      "name": "Object-Oriented Programming - Chap 03 - Exercises",
      "provenance": [],
      "private_outputs": true,
      "include_colab_link": true
    },
    "kernelspec": {
      "name": "python3",
      "display_name": "Python 3"
    }
  },
  "cells": [
    {
      "cell_type": "markdown",
      "metadata": {
        "id": "view-in-github",
        "colab_type": "text"
      },
      "source": [
        "<a href=\"https://colab.research.google.com/github/cstar-industries/python-3-beginner/blob/master/006-Object-Oriented-Programming/Object-Oriented%20Programming%20-%20Chap%2003%20-%20Exercises.ipynb\" target=\"_parent\"><img src=\"https://colab.research.google.com/assets/colab-badge.svg\" alt=\"Open In Colab\"/></a>"
      ]
    },
    {
      "cell_type": "markdown",
      "metadata": {
        "id": "DYGpcYyt47ew",
        "colab_type": "text"
      },
      "source": [
        "## 1.\n",
        "\n",
        "Let's return to our `Greeter` class and work the other way around. A full-fledged complex `Greeter` has already been defined for us."
      ]
    },
    {
      "cell_type": "code",
      "metadata": {
        "id": "LbxMuTmR79cU",
        "colab_type": "code",
        "colab": {}
      },
      "source": [
        "# The base Greeter class.\n",
        "# DO NOT EDIT!\n",
        "class Greeter:\n",
        "  def __init__(self, greeting):\n",
        "    self.greeting = greeting\n",
        "  def greet(self, target):\n",
        "    print(f'{self.greeting} {self.target}!')"
      ],
      "execution_count": 0,
      "outputs": []
    },
    {
      "cell_type": "markdown",
      "metadata": {
        "id": "rpVnhrKE5w4p",
        "colab_type": "text"
      },
      "source": [
        "Suppose our use case is most of the times outputting `Hello World!` and we want to keep that case simple.\n",
        "\n",
        "Create a `Greeter` _subclass_ that works as follows:\n",
        "\n",
        "```python\n",
        "g = SimpleGreeter()\n",
        "g.greet()\n",
        "```\n",
        "Output:\n",
        "```\n",
        "Hello World!\n",
        "```\n",
        "\n",
        "Your class should inherit from `Greeter`, redefine the methods, and make use of `super()` to re-use the behaviour of the complex implementation. This means you should not be using `print` in the definition of `SimpleGreeter.greet()`!"
      ]
    },
    {
      "cell_type": "code",
      "metadata": {
        "id": "UGW0cOgF5uXG",
        "colab_type": "code",
        "colab": {}
      },
      "source": [
        "class SimpleGreeter(Greeter):\n",
        "  def __init__(self):\n",
        "    # Your code goes here\n",
        "  def greet(self):\n",
        "    # Your code goes here"
      ],
      "execution_count": 0,
      "outputs": []
    },
    {
      "cell_type": "markdown",
      "metadata": {
        "id": "BqW6zaekHpyX",
        "colab_type": "text"
      },
      "source": [
        "## 2.\n",
        "\n",
        "Add docstrings and type annotations to the `Greeter` class so that hints appear when you start typing in the editor."
      ]
    },
    {
      "cell_type": "code",
      "metadata": {
        "id": "BgwtAsbVH0JR",
        "colab_type": "code",
        "colab": {}
      },
      "source": [
        "# The base Greeter class.\n",
        "# This time you can edit.\n",
        "class Greeter:\n",
        "  def __init__(self, greeting):\n",
        "    self.greeting = greeting\n",
        "  def greet(self, target):\n",
        "    print(f'{self.greeting} {self.target}!')"
      ],
      "execution_count": 0,
      "outputs": []
    }
  ]
}