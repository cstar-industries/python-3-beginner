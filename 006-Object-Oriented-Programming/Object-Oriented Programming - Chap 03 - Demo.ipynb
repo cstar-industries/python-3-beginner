{
  "nbformat": 4,
  "nbformat_minor": 0,
  "metadata": {
    "colab": {
      "name": "Object-Oriented Programming - Chap 03 - Demo",
      "provenance": [],
      "private_outputs": true,
      "include_colab_link": true
    },
    "kernelspec": {
      "name": "python3",
      "display_name": "Python 3"
    }
  },
  "cells": [
    {
      "cell_type": "markdown",
      "metadata": {
        "id": "view-in-github",
        "colab_type": "text"
      },
      "source": [
        "<a href=\"https://colab.research.google.com/github/cstar-industries/python-3-beginner/blob/master/006-Object-Oriented-Programming/Object-Oriented%20Programming%20-%20Chap%2003%20-%20Demo.ipynb\" target=\"_parent\"><img src=\"https://colab.research.google.com/assets/colab-badge.svg\" alt=\"Open In Colab\"/></a>"
      ]
    },
    {
      "cell_type": "markdown",
      "metadata": {
        "id": "r0EhER3OMRFI",
        "colab_type": "text"
      },
      "source": [
        "## Inheritance and subclasses"
      ]
    },
    {
      "cell_type": "markdown",
      "metadata": {
        "id": "5dK9OcCUNkdv",
        "colab_type": "text"
      },
      "source": [
        "Let's bring the `Meeting` class back."
      ]
    },
    {
      "cell_type": "code",
      "metadata": {
        "id": "LbxMuTmR79cU",
        "colab_type": "code",
        "colab": {}
      },
      "source": [
        "class Meeting:\n",
        "  def __init__(self, meeting_name, start, duration):\n",
        "    self.name = meeting_name\n",
        "    self.start_time = start\n",
        "    self.duration = duration\n",
        "    self.people = []\n",
        "  \n",
        "  def invite(self, name):\n",
        "    self.people.append(name)\n",
        "  \n",
        "  def desc(self):\n",
        "    start_time_str = self.start_time.strftime('%d/%m/%Y %H:%M')\n",
        "    end_time_str = (self.start_time + self.duration).strftime('%H:%M')\n",
        "    desc = ''\n",
        "    desc += f'Meeting \"{self.name}\": {start_time_str} - {end_time_str}'\n",
        "    if len(self.people) > 0:\n",
        "      desc += '\\n'\n",
        "      desc += 'Participants:\\n'\n",
        "      for p in self.people:\n",
        "        desc += f'    {p}\\n'\n",
        "    return desc\n",
        "  \n",
        "  @classmethod\n",
        "  def now(cls):\n",
        "    \"\"\"Create a new meeting starting now with default values\"\"\"\n",
        "    return cls('New Meeting', datetime.now(), timedelta(hours=1))"
      ],
      "execution_count": 0,
      "outputs": []
    },
    {
      "cell_type": "markdown",
      "metadata": {
        "id": "3sqS9KtCNrs0",
        "colab_type": "text"
      },
      "source": [
        "Some meetings are take place in a room."
      ]
    },
    {
      "cell_type": "code",
      "metadata": {
        "id": "shw1Sv84NrB2",
        "colab_type": "code",
        "colab": {}
      },
      "source": [
        "class RoomMeeting(Meeting):\n",
        "  def __init__(self, meeting_name, start, duration, room):\n",
        "    super().__init__(meeting_name, start, duration)\n",
        "    self.room = room\n",
        "\n",
        "m1 = RoomMeeting('Sprint Planning', datetime(2020, 5, 4, 14), timedelta(hours=4), 'Planning Room')\n",
        "m1.invite('Alice')\n",
        "m1.invite('Bob')\n",
        "m1.invite('Charlie')\n",
        "print(m1.desc())\n",
        "print(m1.room)"
      ],
      "execution_count": 0,
      "outputs": []
    },
    {
      "cell_type": "markdown",
      "metadata": {
        "id": "ye3NUv4cPfZ5",
        "colab_type": "text"
      },
      "source": [
        "Some meetings take place on Zoom."
      ]
    },
    {
      "cell_type": "code",
      "metadata": {
        "id": "O7d84wPQPimg",
        "colab_type": "code",
        "colab": {}
      },
      "source": [
        "class ZoomMeeting(Meeting):\n",
        "  def __init__(self, meeting_name, start, duration, zoom_id):\n",
        "    super().__init__(meeting_name, start, duration)\n",
        "    self.zoom_id = zoom_id\n",
        "\n",
        "m2 = ZoomMeeting('Client Briefing', datetime(2020, 5, 4, 9), timedelta(hours=1), '123-456-789')\n",
        "m2.invite('Dana')\n",
        "m2.invite('Eve')\n",
        "print(m2.desc())"
      ],
      "execution_count": 0,
      "outputs": []
    },
    {
      "cell_type": "markdown",
      "metadata": {
        "id": "nmeMzg-aUf6C",
        "colab_type": "text"
      },
      "source": [
        "## Deeper inheritance"
      ]
    },
    {
      "cell_type": "code",
      "metadata": {
        "id": "-ZWR4tH6RiK8",
        "colab_type": "code",
        "colab": {}
      },
      "source": [
        "class A:\n",
        "  class_name = 'A'\n",
        "  top_level = 'A'\n",
        "  \n",
        "  def __init__(self, instance_name):\n",
        "    print(f'Initializing A: {instance_name}')\n",
        "    self.instance_name = instance_name\n",
        "  \n",
        "  @classmethod\n",
        "  def get_class_name(cls):\n",
        "    return cls.class_name\n",
        "\n",
        "class B(A):\n",
        "  class_name = 'B'\n",
        "\n",
        "  def __init__(self, instance_name):\n",
        "    print(f'Initializing B: {instance_name}')\n",
        "    super().__init__(instance_name)\n",
        "  \n",
        "class C(B):\n",
        "  class_name = 'C'\n",
        "\n",
        "  def __init__(self, instance_name, **kwargs):\n",
        "    print(f'Initializing C: {instance_name}')\n",
        "    super().__init__(instance_name)\n",
        "    self.data = kwargs"
      ],
      "execution_count": 0,
      "outputs": []
    },
    {
      "cell_type": "code",
      "metadata": {
        "id": "KNBrVgzBUBll",
        "colab_type": "code",
        "colab": {}
      },
      "source": [
        "a = A('Instance of A')"
      ],
      "execution_count": 0,
      "outputs": []
    },
    {
      "cell_type": "code",
      "metadata": {
        "id": "JJ5imCv1UDZm",
        "colab_type": "code",
        "colab": {}
      },
      "source": [
        "b = B('Instance of B')"
      ],
      "execution_count": 0,
      "outputs": []
    },
    {
      "cell_type": "code",
      "metadata": {
        "id": "6mNydBDTUGBf",
        "colab_type": "code",
        "colab": {}
      },
      "source": [
        "c = C('Instance of C', hello='world', count=1)\n",
        "print(c.data)"
      ],
      "execution_count": 0,
      "outputs": []
    },
    {
      "cell_type": "code",
      "metadata": {
        "id": "Na3MN6JPUQ17",
        "colab_type": "code",
        "colab": {}
      },
      "source": [
        "print(a.top_level)\n",
        "print(b.top_level)\n",
        "print(c.top_level)"
      ],
      "execution_count": 0,
      "outputs": []
    },
    {
      "cell_type": "code",
      "metadata": {
        "id": "jn7H72hAUWLu",
        "colab_type": "code",
        "colab": {}
      },
      "source": [
        "print(a.get_class_name())\n",
        "print(b.get_class_name())\n",
        "print(c.get_class_name())"
      ],
      "execution_count": 0,
      "outputs": []
    },
    {
      "cell_type": "code",
      "metadata": {
        "id": "mP47SaebUsaa",
        "colab_type": "code",
        "colab": {}
      },
      "source": [
        "isinstance(a, A)"
      ],
      "execution_count": 0,
      "outputs": []
    },
    {
      "cell_type": "code",
      "metadata": {
        "id": "CwL5781AUvof",
        "colab_type": "code",
        "colab": {}
      },
      "source": [
        "isinstance(c, A)"
      ],
      "execution_count": 0,
      "outputs": []
    },
    {
      "cell_type": "code",
      "metadata": {
        "id": "zqAEZaZ2UxgI",
        "colab_type": "code",
        "colab": {}
      },
      "source": [
        "isinstance(b, C)"
      ],
      "execution_count": 0,
      "outputs": []
    },
    {
      "cell_type": "markdown",
      "metadata": {
        "id": "AxSrsONgc6fr",
        "colab_type": "text"
      },
      "source": [
        "## Special methods"
      ]
    },
    {
      "cell_type": "code",
      "metadata": {
        "id": "_1_dUC8Mc8Ua",
        "colab_type": "code",
        "colab": {}
      },
      "source": [
        "class Accumulator:\n",
        "    \"\"\"Accumulates count by adding values. Initialized at 0\"\"\"\n",
        "    def __init__(self):\n",
        "        self.acc = 0\n",
        "\n",
        "    def add(self, increment: int):\n",
        "        \"\"\"Increase the count by increment\"\"\"\n",
        "        self.acc += increment\n",
        "\n",
        "    def __eq__(self, other):\n",
        "        return self.acc == other.acc\n",
        "    def __repr__(self):\n",
        "        return f'Accumulator({self.acc})'\n",
        "    def __str__(self):\n",
        "        return str(self.acc)\n"
      ],
      "execution_count": 0,
      "outputs": []
    },
    {
      "cell_type": "code",
      "metadata": {
        "id": "2p_vDT-2f_dH",
        "colab_type": "code",
        "colab": {}
      },
      "source": [
        "a = Accumulator()\n",
        "a.add(1138)"
      ],
      "execution_count": 0,
      "outputs": []
    },
    {
      "cell_type": "code",
      "metadata": {
        "id": "UCHBvOmxgDjj",
        "colab_type": "code",
        "colab": {}
      },
      "source": [
        "print(a)"
      ],
      "execution_count": 0,
      "outputs": []
    },
    {
      "cell_type": "code",
      "metadata": {
        "id": "FRsb2WCBgEuV",
        "colab_type": "code",
        "colab": {}
      },
      "source": [
        "a"
      ],
      "execution_count": 0,
      "outputs": []
    },
    {
      "cell_type": "code",
      "metadata": {
        "id": "TCxN0ToegFfu",
        "colab_type": "code",
        "colab": {}
      },
      "source": [
        "print(f\"Accumulator 'a': {a}\")"
      ],
      "execution_count": 0,
      "outputs": []
    },
    {
      "cell_type": "code",
      "metadata": {
        "id": "3NoeyMvGgNk0",
        "colab_type": "code",
        "colab": {}
      },
      "source": [
        "b = Accumulator()\n",
        "b == a"
      ],
      "execution_count": 0,
      "outputs": []
    },
    {
      "cell_type": "code",
      "metadata": {
        "id": "pUI46SDDgUr5",
        "colab_type": "code",
        "colab": {}
      },
      "source": [
        "b.add(1138)\n",
        "b == a"
      ],
      "execution_count": 0,
      "outputs": []
    }
  ]
}