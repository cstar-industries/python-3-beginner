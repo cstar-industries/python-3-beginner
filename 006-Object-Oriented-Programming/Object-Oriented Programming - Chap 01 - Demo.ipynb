{
  "nbformat": 4,
  "nbformat_minor": 0,
  "metadata": {
    "colab": {
      "name": "Object-Oriented Programming - Chap 01 - Demo",
      "provenance": [],
      "private_outputs": true,
      "authorship_tag": "ABX9TyN7VNU1k+8BSi36DcuIJ4j/",
      "include_colab_link": true
    },
    "kernelspec": {
      "name": "python3",
      "display_name": "Python 3"
    }
  },
  "cells": [
    {
      "cell_type": "markdown",
      "metadata": {
        "id": "view-in-github",
        "colab_type": "text"
      },
      "source": [
        "<a href=\"https://colab.research.google.com/github/cstar-industries/python-3-beginner/blob/master/006-Object-Oriented-Programming/Object-Oriented%20Programming%20-%20Chap%2001%20-%20Demo.ipynb\" target=\"_parent\"><img src=\"https://colab.research.google.com/assets/colab-badge.svg\" alt=\"Open In Colab\"/></a>"
      ]
    },
    {
      "cell_type": "markdown",
      "metadata": {
        "id": "BtLidsJ02gin",
        "colab_type": "text"
      },
      "source": [
        "## Types are classes"
      ]
    },
    {
      "cell_type": "code",
      "metadata": {
        "id": "PpcS9Urp6OLw",
        "colab_type": "code",
        "colab": {}
      },
      "source": [
        "a = 1138\n",
        "type(a)"
      ],
      "execution_count": 0,
      "outputs": []
    },
    {
      "cell_type": "code",
      "metadata": {
        "id": "GOczBNmeMdWv",
        "colab_type": "code",
        "colab": {}
      },
      "source": [
        "print(type(a))"
      ],
      "execution_count": 0,
      "outputs": []
    },
    {
      "cell_type": "code",
      "metadata": {
        "id": "Iq3VXfKvMhHx",
        "colab_type": "code",
        "colab": {}
      },
      "source": [
        "print(a.__class__)"
      ],
      "execution_count": 0,
      "outputs": []
    },
    {
      "cell_type": "code",
      "metadata": {
        "id": "mgELN1EUMlSp",
        "colab_type": "code",
        "colab": {}
      },
      "source": [
        "print(a.__class__.__name__)"
      ],
      "execution_count": 0,
      "outputs": []
    },
    {
      "cell_type": "code",
      "metadata": {
        "id": "FPn12RWVVWnv",
        "colab_type": "code",
        "colab": {}
      },
      "source": [
        "from datetime import datetime\n",
        "print(datetime.resolution)"
      ],
      "execution_count": 0,
      "outputs": []
    },
    {
      "cell_type": "code",
      "metadata": {
        "id": "MpF_4McGVjmT",
        "colab_type": "code",
        "colab": {}
      },
      "source": [
        "datetime.now"
      ],
      "execution_count": 0,
      "outputs": []
    },
    {
      "cell_type": "code",
      "metadata": {
        "id": "TRUjeQ9wVmcO",
        "colab_type": "code",
        "colab": {}
      },
      "source": [
        "print(datetime.now())"
      ],
      "execution_count": 0,
      "outputs": []
    },
    {
      "cell_type": "code",
      "metadata": {
        "id": "M815BCsNXApd",
        "colab_type": "code",
        "colab": {}
      },
      "source": [
        "d = datetime.now()\n",
        "print(datetime.timestamp(d))"
      ],
      "execution_count": 0,
      "outputs": []
    },
    {
      "cell_type": "code",
      "metadata": {
        "id": "SN-jvh8lXC7J",
        "colab_type": "code",
        "colab": {}
      },
      "source": [
        "d.timestamp()"
      ],
      "execution_count": 0,
      "outputs": []
    },
    {
      "cell_type": "code",
      "metadata": {
        "id": "ObbqZyIb4-HB",
        "colab_type": "code",
        "colab": {}
      },
      "source": [
        "s = 'hello'\n",
        "print(str.upper(s))\n",
        "print(s.upper())"
      ],
      "execution_count": 0,
      "outputs": []
    },
    {
      "cell_type": "markdown",
      "metadata": {
        "id": "9O5XqfcGDEr0",
        "colab_type": "text"
      },
      "source": [
        "## Classes are namespaces"
      ]
    },
    {
      "cell_type": "code",
      "metadata": {
        "id": "hGF-GhY5DHNb",
        "colab_type": "code",
        "colab": {}
      },
      "source": [
        "class A:\n",
        "  greeting = 'hello'\n",
        "  counter = 0"
      ],
      "execution_count": 0,
      "outputs": []
    },
    {
      "cell_type": "code",
      "metadata": {
        "id": "ewhpNB3pDkLC",
        "colab_type": "code",
        "colab": {}
      },
      "source": [
        "A"
      ],
      "execution_count": 0,
      "outputs": []
    },
    {
      "cell_type": "code",
      "metadata": {
        "id": "Xo0_vEhSDn7A",
        "colab_type": "code",
        "colab": {}
      },
      "source": [
        "type(A)"
      ],
      "execution_count": 0,
      "outputs": []
    },
    {
      "cell_type": "code",
      "metadata": {
        "id": "QVlS9IU2Duzp",
        "colab_type": "code",
        "colab": {}
      },
      "source": [
        "type(int)"
      ],
      "execution_count": 0,
      "outputs": []
    },
    {
      "cell_type": "code",
      "metadata": {
        "id": "bVX4xo3hDpa0",
        "colab_type": "code",
        "colab": {}
      },
      "source": [
        "greeting"
      ],
      "execution_count": 0,
      "outputs": []
    },
    {
      "cell_type": "code",
      "metadata": {
        "id": "y_BPD30UDyf_",
        "colab_type": "code",
        "colab": {}
      },
      "source": [
        "A.greeting"
      ],
      "execution_count": 0,
      "outputs": []
    },
    {
      "cell_type": "code",
      "metadata": {
        "id": "lH_7ZMq3Fb9c",
        "colab_type": "code",
        "colab": {}
      },
      "source": [
        "A.counter"
      ],
      "execution_count": 0,
      "outputs": []
    },
    {
      "cell_type": "code",
      "metadata": {
        "id": "hdXpkgSUFdbz",
        "colab_type": "code",
        "colab": {}
      },
      "source": [
        "A.counter += 1\n",
        "print(A.counter)"
      ],
      "execution_count": 0,
      "outputs": []
    },
    {
      "cell_type": "code",
      "metadata": {
        "id": "beHjwdTxH-Kb",
        "colab_type": "code",
        "colab": {}
      },
      "source": [
        "class A:\n",
        "  def say_hello():\n",
        "    print('Hello World!')"
      ],
      "execution_count": 0,
      "outputs": []
    },
    {
      "cell_type": "code",
      "metadata": {
        "id": "dDpNN1_fIEgA",
        "colab_type": "code",
        "colab": {}
      },
      "source": [
        "A.say_hello()"
      ],
      "execution_count": 0,
      "outputs": []
    },
    {
      "cell_type": "code",
      "metadata": {
        "id": "PxAstoR7L6la",
        "colab_type": "code",
        "colab": {}
      },
      "source": [
        "A.counter"
      ],
      "execution_count": 0,
      "outputs": []
    },
    {
      "cell_type": "markdown",
      "metadata": {
        "id": "cK3rZyHUL8jd",
        "colab_type": "text"
      },
      "source": [
        "## Classes are types"
      ]
    },
    {
      "cell_type": "code",
      "metadata": {
        "id": "cZbmVJALMB-K",
        "colab_type": "code",
        "colab": {}
      },
      "source": [
        "a = A()"
      ],
      "execution_count": 0,
      "outputs": []
    },
    {
      "cell_type": "code",
      "metadata": {
        "id": "M5HWvLPnP_N0",
        "colab_type": "code",
        "colab": {}
      },
      "source": [
        "type(a)"
      ],
      "execution_count": 0,
      "outputs": []
    },
    {
      "cell_type": "code",
      "metadata": {
        "id": "E_i8we_NQEUl",
        "colab_type": "code",
        "colab": {}
      },
      "source": [
        "type(a) == A"
      ],
      "execution_count": 0,
      "outputs": []
    },
    {
      "cell_type": "code",
      "metadata": {
        "id": "aGp9P7HKSZGc",
        "colab_type": "code",
        "colab": {}
      },
      "source": [
        "a.say_hello()"
      ],
      "execution_count": 0,
      "outputs": []
    },
    {
      "cell_type": "code",
      "metadata": {
        "id": "mB-wLt0MuHds",
        "colab_type": "code",
        "colab": {}
      },
      "source": [
        "class B:\n",
        "    def say_hello(self):\n",
        "        print('Hello World!')\n",
        "\n",
        "b = B()\n",
        "b.say_hello()"
      ],
      "execution_count": 0,
      "outputs": []
    },
    {
      "cell_type": "code",
      "metadata": {
        "id": "ayCMx7EwxWJg",
        "colab_type": "code",
        "colab": {}
      },
      "source": [
        "B.say_hello(b)"
      ],
      "execution_count": 0,
      "outputs": []
    },
    {
      "cell_type": "code",
      "metadata": {
        "id": "P2nUjDU3yQU_",
        "colab_type": "code",
        "colab": {}
      },
      "source": [
        "class B:\n",
        "  def print_self(self):\n",
        "    print(self)\n",
        "\n",
        "b = B()\n",
        "print(b)\n",
        "b.print_self()"
      ],
      "execution_count": 0,
      "outputs": []
    },
    {
      "cell_type": "code",
      "metadata": {
        "id": "zcZ5ik-VyajN",
        "colab_type": "code",
        "colab": {}
      },
      "source": [
        "class B:\n",
        "  def print_self(obj):\n",
        "    print(obj)\n",
        "\n",
        "b = B()\n",
        "print(b)\n",
        "b.print_self()"
      ],
      "execution_count": 0,
      "outputs": []
    },
    {
      "cell_type": "code",
      "metadata": {
        "id": "10AuUCrv2qeG",
        "colab_type": "code",
        "colab": {}
      },
      "source": [
        "class C:\n",
        "  greeting = 'Hello!'\n",
        "  def print_greeting(self):\n",
        "    print(self.greeting)\n",
        "\n",
        "print(C.greeting)\n",
        "\n",
        "c = C()\n",
        "print(c.greeting)\n",
        "c.print_greeting()"
      ],
      "execution_count": 0,
      "outputs": []
    }
  ]
}
