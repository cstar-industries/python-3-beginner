{
  "nbformat": 4,
  "nbformat_minor": 0,
  "metadata": {
    "colab": {
      "name": "Object-Oriented Programming - Workshop",
      "provenance": [],
      "private_outputs": true,
      "authorship_tag": "ABX9TyPvHodEFiWoCRgm7IhaZNdq",
      "include_colab_link": true
    },
    "kernelspec": {
      "name": "python3",
      "display_name": "Python 3"
    }
  },
  "cells": [
    {
      "cell_type": "markdown",
      "metadata": {
        "id": "view-in-github",
        "colab_type": "text"
      },
      "source": [
        "<a href=\"https://colab.research.google.com/github/cstar-industries/python-3-beginner/blob/master/006-Object-Oriented-Programming/Object-Oriented%20Programming%20-%20Workshop.ipynb\" target=\"_parent\"><img src=\"https://colab.research.google.com/assets/colab-badge.svg\" alt=\"Open In Colab\"/></a>"
      ]
    },
    {
      "cell_type": "markdown",
      "metadata": {
        "id": "5q9hMdnS9ZNz",
        "colab_type": "text"
      },
      "source": [
        "## 1."
      ]
    },
    {
      "cell_type": "markdown",
      "metadata": {
        "id": "A6fgvy1InJqV",
        "colab_type": "text"
      },
      "source": [
        "## 2.\n",
        "\n",
        "Create a class `PocketCalculator` that emulates a very simple pocket calculator.\n",
        "\n",
        "![](https://upload.wikimedia.org/wikipedia/commons/thumb/e/eb/Vintage_Casio_Memory-8A_Electronic_Pocket_Calculator_%28aka_Model_CD-813%29%2C_Green_Fluorescent_Display%2C_Made_In_Japan%2C_Circa_1974_%2814189459971%29.jpg/190px-Vintage_Casio_Memory-8A_Electronic_Pocket_Calculator_%28aka_Model_CD-813%29%2C_Green_Fluorescent_Display%2C_Made_In_Japan%2C_Circa_1974_%2814189459971%29.jpg)\n",
        "\n",
        "The calculator ahouls have only one data attribute, the value currently shown on screen:\n",
        "\n",
        "* `value`: an `int`\n",
        "\n",
        "The calculator should have the following methods:\n",
        "\n",
        "* `set(value: int)`: sets the current value to an arbitrary number, as if the user typed in the value using the number keys\n",
        "* `add(value: int)`: adds a given value to the current value and updates it\n",
        "* `sub(value: int)`: subtracts a given value from the current value and updates it\n",
        "* `mul(value: int)`: multiplies a given value with the current value and updates it\n",
        "* `div(value: int)`: divides the current value by a given value and updates it\n",
        "* `reset()`: sets the current value to zero\n",
        "\n",
        "Here is an example of what is expected from the calculator:\n",
        "\n",
        "```python\n",
        "calc = PocketCalculator()\n",
        "print(calc.value)               # Output: 0\n",
        "calc.add(1)\n",
        "print(calc.value)               # Output: 1\n",
        "calc.add(1)\n",
        "print(calc.value)               # Output: 2\n",
        "calc.sub(2)\n",
        "print(calc.value)               # Output: 0\n",
        "\n",
        "calc.set(2)\n",
        "calc.mul(2)\n",
        "print(calc.value)               # Output: 4\n",
        "```\n",
        "\n"
      ]
    },
    {
      "cell_type": "code",
      "metadata": {
        "id": "UXyCoR_p6Sa0",
        "colab_type": "code",
        "colab": {}
      },
      "source": [
        "class PocketCalculator:\n",
        "  # Your code starts here..."
      ],
      "execution_count": 0,
      "outputs": []
    },
    {
      "cell_type": "code",
      "metadata": {
        "id": "mhqZ016zp0fp",
        "colab_type": "code",
        "colab": {}
      },
      "source": [
        "# This is a test suite. Run it, and if your calculator answers the specification\n",
        "# no errors should be raised.\n",
        "\n",
        "def test(expect, value, op):\n",
        "  if expect != value:\n",
        "    raise Exception(f\"{op}: Expected {expect}, got {value}\")\n",
        "  print(value)\n",
        "\n",
        "calc = PocketCalculator()\n",
        "test(0, calc.value, 'PocketCalculator()')\n",
        "\n",
        "calc.set(12345)\n",
        "test(12345, calc.value, 'set(12345)')\n",
        "\n",
        "calc.set(42)\n",
        "test(42, calc.value, 'set(42)')\n",
        "\n",
        "calc.add(42)\n",
        "test(84, calc.value, 'add(42)')\n",
        "\n",
        "calc.add(42)\n",
        "test(126, calc.value, 'add(42)')\n",
        "\n",
        "calc.sub(62)\n",
        "test(64, calc.value, 'sub(62)')\n",
        "\n",
        "calc.mul(2)\n",
        "test(128, calc.value, 'mul(2)')\n",
        "\n",
        "calc.div(16)\n",
        "test(8, calc.value, 'div(16)')\n",
        "\n",
        "calc.reset()\n",
        "test(0, calc.value, 'reset()')"
      ],
      "execution_count": 0,
      "outputs": []
    },
    {
      "cell_type": "markdown",
      "metadata": {
        "id": "n3AMrnpy9cNJ",
        "colab_type": "text"
      },
      "source": [
        "## 3. Banking system\n",
        "\n",
        "Let's build a toy banking system to explore classes and how they interact a little more."
      ]
    },
    {
      "cell_type": "markdown",
      "metadata": {
        "id": "FH_9HI3bBHXh",
        "colab_type": "text"
      },
      "source": [
        "### 3.1 The `BankAccount` class\n",
        "\n",
        "First, let's build a class to represent a bank account.\n",
        "\n",
        "A bank account holds the following data:\n",
        "\n",
        "* An account ID number\n",
        "* The client's name\n",
        "* The account's current balance\n",
        "\n",
        "These should all be attributes of the instances.\n",
        "\n",
        "A bank account also has the following methods:\n",
        "\n",
        "* `BankAccount(name)`: A bank account should be instantiated with an automatically generated ID, the balance set to zero, and the name given in the constructor call.\n",
        "* `credit(amount)`: Adds `amount` to the bank account's current balance\n",
        "* `debit(amount)`: Subtracts `amount` from the bank account's current balance. If `amount` is greater than the current balance, `debit` should `raise` an error, and the balance should not be changed\n",
        "\n",
        "> Hints:\n",
        "> \n",
        "> * To \"auto-generate\" account IDs, use class variables and/or static methods. One simple scheme would be to keep a class variable as counter, and monotonically increase the value each time an account is created. I.e. the first account created is ID `0`, second is ID `1`, etc.\n",
        "> * You might want to redefine the `__str__` and/or `__repr__` methods on your class, so you can easily check the instances' state using `print`."
      ]
    },
    {
      "cell_type": "code",
      "metadata": {
        "id": "tqoUrz5dExzb",
        "colab_type": "code",
        "colab": {}
      },
      "source": [
        "# Your code goes here"
      ],
      "execution_count": 0,
      "outputs": []
    },
    {
      "cell_type": "markdown",
      "metadata": {
        "id": "ASDnTJLoEypd",
        "colab_type": "text"
      },
      "source": [
        "### 3.2 The `Bank` class\n",
        "\n",
        "A Bank is just a glorified collection of accounts, with a few helper methods. Here's what the `Bank` class should look like.\n",
        "\n",
        "`Bank` methods:\n",
        "\n",
        "* `Bank()`: The `Bank` constructor takes no parameters. It just initializes the internal state of the bank.\n",
        "* `openAccount(name)`: Opens an account to the client's `name` and returns the newly created account. The account should be stored somewhere inside the `Bank` instance.\n",
        "* `getAccount(account_id)`: Returns the account for the given `account_id`, if it exists. If no account exists for this `account_id` an error should be raised\n",
        "* `listAccounts()`: Returns a list of the accounts created in this bank.\n",
        "* `transfer(src_id, dst_id, amount)`: Transfers `amount` of money from account with ID `src_id` to account with ID `dst_id`. (A `transfer` is just a `debit` from one account, and a `credit` to the other). The following cases should raise an error, and leave all accounts untouched:\n",
        "  * No account for `src_id`\n",
        "  * No account for `dst_id`\n",
        "  * Insufficient funds on account `src_id`\n",
        "\n",
        "> Again, implementing the `__str__`/`__repr__` methods on `Bank` can make debugging easier."
      ]
    },
    {
      "cell_type": "code",
      "metadata": {
        "id": "sXJYv3Y_JbMV",
        "colab_type": "code",
        "colab": {}
      },
      "source": [
        "# Your code goes here"
      ],
      "execution_count": 0,
      "outputs": []
    },
    {
      "cell_type": "markdown",
      "metadata": {
        "id": "gFP8j9dLJctq",
        "colab_type": "text"
      },
      "source": [
        "### 3.3 The `SavingsAccount` class\n",
        "\n",
        "Some bank accounts are \"savings account\" which accrue yearly interest as a fraction of the balance. I.e. By the end of the year, if a bank account has an interest rate of 3% and a balance of \\$100.00, \\$3.00 should be added to the balance.\n",
        "\n",
        "Create a `BankAccount` subclass `SavingsAccount`. The subclass should extend or add the following methods:\n",
        "\n",
        "* `SavingsAccount(name, interest_rate)`: The `SavingsAccount` constructor should take a client's name, and the account's interest rate. Use the `name` in the superclass's constructor, and store the `interest_rate` as an instance attribute\n",
        "* `addInterest()`: credits the account's balance by a fraction of the current balance, following the formula: `balance = balance + balance * interest_rate`"
      ]
    },
    {
      "cell_type": "code",
      "metadata": {
        "id": "_aLD37FcLZ6N",
        "colab_type": "code",
        "colab": {}
      },
      "source": [
        "# Your code goes here"
      ],
      "execution_count": 0,
      "outputs": []
    },
    {
      "cell_type": "markdown",
      "metadata": {
        "id": "W9egtYScLcJF",
        "colab_type": "text"
      },
      "source": [
        "## 3.4 Updating the `Bank` class\n",
        "\n",
        "The `Bank` class now needs to know how to handle savings accounts. Add the following methods to the `Bank` class:\n",
        "\n",
        "* `openSavingsAccount(name, interest_rate)`: similar to the `openAccount` method, creates a savings account to the client's name, with the given interest rate, and returns it\n",
        "* `addAccountsInterest()`: Adds annual interest to all `SavingAccount` instances in the bank. _Hint:_ you can use `isinstance` to identify instances of `SavingsAccount` from standard `Account`s."
      ]
    },
    {
      "cell_type": "code",
      "metadata": {
        "id": "NV9Kd6xPMygO",
        "colab_type": "code",
        "colab": {}
      },
      "source": [
        "# Your code goes here"
      ],
      "execution_count": 0,
      "outputs": []
    },
    {
      "cell_type": "markdown",
      "metadata": {
        "id": "tGGGAr_4M2il",
        "colab_type": "text"
      },
      "source": [
        "### 3.5 Demo\n",
        "\n",
        "Write a little demo block that shows off how your code works. Anything goes, have fun with it!"
      ]
    },
    {
      "cell_type": "code",
      "metadata": {
        "id": "uARy8DA7M17N",
        "colab_type": "code",
        "colab": {}
      },
      "source": [
        ""
      ],
      "execution_count": 0,
      "outputs": []
    }
  ]
}