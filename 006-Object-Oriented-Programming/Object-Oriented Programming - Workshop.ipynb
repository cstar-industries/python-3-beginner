{
  "nbformat": 4,
  "nbformat_minor": 0,
  "metadata": {
    "colab": {
      "name": "Object-Oriented Programming - Workshop",
      "provenance": [],
      "private_outputs": true,
      "authorship_tag": "ABX9TyPp0DH/3gCSL3v/gM4ClHvs",
      "include_colab_link": true
    },
    "kernelspec": {
      "name": "python3",
      "display_name": "Python 3"
    }
  },
  "cells": [
    {
      "cell_type": "markdown",
      "metadata": {
        "id": "view-in-github",
        "colab_type": "text"
      },
      "source": [
        "<a href=\"https://colab.research.google.com/github/cstar-industries/python-3-beginner/blob/master/006-Object-Oriented-Programming/Object-Oriented%20Programming%20-%20Workshop.ipynb\" target=\"_parent\"><img src=\"https://colab.research.google.com/assets/colab-badge.svg\" alt=\"Open In Colab\"/></a>"
      ]
    },
    {
      "cell_type": "markdown",
      "metadata": {
        "id": "A6fgvy1InJqV",
        "colab_type": "text"
      },
      "source": [
        "## 1.\n",
        "\n",
        "Create a class `PocketCalculator` that emulates a very simple pocket calculator.\n",
        "\n",
        "![](https://upload.wikimedia.org/wikipedia/commons/thumb/e/eb/Vintage_Casio_Memory-8A_Electronic_Pocket_Calculator_%28aka_Model_CD-813%29%2C_Green_Fluorescent_Display%2C_Made_In_Japan%2C_Circa_1974_%2814189459971%29.jpg/190px-Vintage_Casio_Memory-8A_Electronic_Pocket_Calculator_%28aka_Model_CD-813%29%2C_Green_Fluorescent_Display%2C_Made_In_Japan%2C_Circa_1974_%2814189459971%29.jpg)\n",
        "\n",
        "The calculator ahouls have only one data attribute, the value currently shown on screen:\n",
        "\n",
        "* `value`: an `int`\n",
        "\n",
        "The calculator should have the following methods:\n",
        "\n",
        "* `set(value: int)`: sets the current value to an arbitrary number, as if the user typed in the value using the number keys\n",
        "* `add(value: int)`: adds a given value to the current value and updates it\n",
        "* `sub(value: int)`: subtracts a given value from the current value and updates it\n",
        "* `mul(value: int)`: multiplies a given value with the current value and updates it\n",
        "* `div(value: int)`: divides the current value by a given value and updates it\n",
        "* `reset()`: sets the current value to zero\n",
        "\n",
        "Here is an example of what is expected from the calculator:\n",
        "\n",
        "```python\n",
        "calc = PocketCalculator()\n",
        "print(calc.value)               # Output: 0\n",
        "calc.add(1)\n",
        "print(calc.value)               # Output: 1\n",
        "calc.add(1)\n",
        "print(calc.value)               # Output: 2\n",
        "calc.sub(2)\n",
        "print(calc.value)               # Output: 0\n",
        "\n",
        "calc.set(2)\n",
        "calc.mul(2)\n",
        "print(calc.value)               # Output: 4\n",
        "```\n",
        "\n"
      ]
    },
    {
      "cell_type": "code",
      "metadata": {
        "id": "UXyCoR_p6Sa0",
        "colab_type": "code",
        "colab": {}
      },
      "source": [
        "class PocketCalculator:\n",
        "  # Your code starts here..."
      ],
      "execution_count": 0,
      "outputs": []
    },
    {
      "cell_type": "code",
      "metadata": {
        "id": "mhqZ016zp0fp",
        "colab_type": "code",
        "colab": {}
      },
      "source": [
        "# This is a test suite. Run it, and if your calculator answers the specification\n",
        "# no errors should be raised.\n",
        "\n",
        "def test(expect, value, op):\n",
        "  if expect != value:\n",
        "    raise Exception(f\"{op}: Expected {expect}, got {value}\")\n",
        "  print(value)\n",
        "\n",
        "calc = PocketCalculator()\n",
        "test(0, calc.value, 'PocketCalculator()')\n",
        "\n",
        "calc.set(12345)\n",
        "test(12345, calc.value, 'set(12345)')\n",
        "\n",
        "calc.set(42)\n",
        "test(42, calc.value, 'set(42)')\n",
        "\n",
        "calc.add(42)\n",
        "test(84, calc.value, 'add(42)')\n",
        "\n",
        "calc.add(42)\n",
        "test(126, calc.value, 'add(42)')\n",
        "\n",
        "calc.sub(62)\n",
        "test(64, calc.value, 'sub(62)')\n",
        "\n",
        "calc.mul(2)\n",
        "test(128, calc.value, 'mul(2)')\n",
        "\n",
        "calc.div(16)\n",
        "test(8, calc.value, 'div(16)')\n",
        "\n",
        "calc.reset()\n",
        "test(0, calc.value, 'reset()')"
      ],
      "execution_count": 0,
      "outputs": []
    }
  ]
}