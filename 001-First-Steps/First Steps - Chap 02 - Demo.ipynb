{
  "nbformat": 4,
  "nbformat_minor": 0,
  "metadata": {
    "colab": {
      "name": "First Steps - Chap 02 - Demo",
      "provenance": [],
      "private_outputs": true,
      "collapsed_sections": [
        "AYX0yhyeDMZi"
      ],
      "authorship_tag": "ABX9TyMicNs270/IVMPqUu2UBPcY",
      "include_colab_link": true
    },
    "kernelspec": {
      "name": "python3",
      "display_name": "Python 3"
    }
  },
  "cells": [
    {
      "cell_type": "markdown",
      "metadata": {
        "id": "view-in-github",
        "colab_type": "text"
      },
      "source": [
        "<a href=\"https://colab.research.google.com/github/cstar-industries/python-3-beginner/blob/master/001-First-Steps/First%20Steps%20-%20Chap%2002%20-%20Demo.ipynb\" target=\"_parent\"><img src=\"https://colab.research.google.com/assets/colab-badge.svg\" alt=\"Open In Colab\"/></a>"
      ]
    },
    {
      "cell_type": "markdown",
      "metadata": {
        "id": "AYX0yhyeDMZi",
        "colab_type": "text"
      },
      "source": [
        "## Meet the numbers"
      ]
    },
    {
      "cell_type": "code",
      "metadata": {
        "id": "l1WEGaS8o0Sd",
        "colab_type": "code",
        "colab": {}
      },
      "source": [
        "42"
      ],
      "execution_count": 0,
      "outputs": []
    },
    {
      "cell_type": "code",
      "metadata": {
        "id": "-PEao02iDT_Y",
        "colab_type": "code",
        "colab": {}
      },
      "source": [
        "0.5"
      ],
      "execution_count": 0,
      "outputs": []
    },
    {
      "cell_type": "code",
      "metadata": {
        "id": "kxsjLbGkDVm6",
        "colab_type": "code",
        "colab": {}
      },
      "source": [
        "print(5.43e9)\n",
        "print(1e-3)"
      ],
      "execution_count": 0,
      "outputs": []
    },
    {
      "cell_type": "code",
      "metadata": {
        "id": "j8iav9cADqk0",
        "colab_type": "code",
        "colab": {}
      },
      "source": [
        "print(1/2)"
      ],
      "execution_count": 0,
      "outputs": []
    },
    {
      "cell_type": "code",
      "metadata": {
        "id": "g-Cu-jpTDsz8",
        "colab_type": "code",
        "colab": {}
      },
      "source": [
        "a = 3\n",
        "b = 4\n",
        "\n",
        "print(a / b)"
      ],
      "execution_count": 0,
      "outputs": []
    },
    {
      "cell_type": "code",
      "metadata": {
        "id": "frwasojFD04Q",
        "colab_type": "code",
        "colab": {}
      },
      "source": [
        "print(type(a))\n",
        "print(type(b))\n",
        "print(type(a / b))"
      ],
      "execution_count": 0,
      "outputs": []
    },
    {
      "cell_type": "markdown",
      "metadata": {
        "id": "AoRttUxyEvtm",
        "colab_type": "text"
      },
      "source": [
        "## Meet the operators"
      ]
    },
    {
      "cell_type": "code",
      "metadata": {
        "id": "7gZbXZCAEyfu",
        "colab_type": "code",
        "colab": {}
      },
      "source": [
        "1 + 1"
      ],
      "execution_count": 0,
      "outputs": []
    },
    {
      "cell_type": "code",
      "metadata": {
        "id": "I5WZaMgKE08T",
        "colab_type": "code",
        "colab": {}
      },
      "source": [
        "1 + 1 + 1"
      ],
      "execution_count": 0,
      "outputs": []
    },
    {
      "cell_type": "code",
      "metadata": {
        "id": "NrkKxmp9FLE6",
        "colab_type": "code",
        "colab": {}
      },
      "source": [
        "6 * 7"
      ],
      "execution_count": 0,
      "outputs": []
    },
    {
      "cell_type": "code",
      "metadata": {
        "id": "vSSdf1-OFOZb",
        "colab_type": "code",
        "colab": {}
      },
      "source": [
        "9 / 3"
      ],
      "execution_count": 0,
      "outputs": []
    },
    {
      "cell_type": "code",
      "metadata": {
        "id": "riLg_Uk6E2rZ",
        "colab_type": "code",
        "colab": {}
      },
      "source": [
        "1 + 2 + 3 * 3"
      ],
      "execution_count": 0,
      "outputs": []
    },
    {
      "cell_type": "code",
      "metadata": {
        "id": "6fQ6YwStFEtI",
        "colab_type": "code",
        "colab": {}
      },
      "source": [
        "(1 + 2 + 3) * 3"
      ],
      "execution_count": 0,
      "outputs": []
    },
    {
      "cell_type": "code",
      "metadata": {
        "id": "RkMauQETGA7t",
        "colab_type": "code",
        "colab": {}
      },
      "source": [
        "2 ** 10"
      ],
      "execution_count": 0,
      "outputs": []
    },
    {
      "cell_type": "code",
      "metadata": {
        "id": "Cxtl8Sw5KrWu",
        "colab_type": "code",
        "colab": {}
      },
      "source": [
        "10 // 3"
      ],
      "execution_count": 0,
      "outputs": []
    },
    {
      "cell_type": "code",
      "metadata": {
        "id": "9b1twm5aKthx",
        "colab_type": "code",
        "colab": {}
      },
      "source": [
        "10 % 3"
      ],
      "execution_count": 0,
      "outputs": []
    },
    {
      "cell_type": "markdown",
      "metadata": {
        "id": "FLFY1CygK6ey",
        "colab_type": "text"
      },
      "source": [
        "## Deeper math"
      ]
    },
    {
      "cell_type": "code",
      "metadata": {
        "id": "VZiF-tZ6K-06",
        "colab_type": "code",
        "colab": {}
      },
      "source": [
        "3+2j"
      ],
      "execution_count": 0,
      "outputs": []
    },
    {
      "cell_type": "code",
      "metadata": {
        "id": "NFDVgUxkLDgC",
        "colab_type": "code",
        "colab": {}
      },
      "source": [
        "3+2j + 3-2j"
      ],
      "execution_count": 0,
      "outputs": []
    },
    {
      "cell_type": "code",
      "metadata": {
        "id": "qTEtxZYALKFM",
        "colab_type": "code",
        "colab": {}
      },
      "source": [
        "type(3+2j)"
      ],
      "execution_count": 0,
      "outputs": []
    },
    {
      "cell_type": "code",
      "metadata": {
        "id": "qYgc3DhNLMZ0",
        "colab_type": "code",
        "colab": {}
      },
      "source": [
        "print(abs(128.3))\n",
        "print(abs(-4))"
      ],
      "execution_count": 0,
      "outputs": []
    },
    {
      "cell_type": "code",
      "metadata": {
        "id": "ETIFgbfhMHD1",
        "colab_type": "code",
        "colab": {}
      },
      "source": [
        "print(abs(3+4j))"
      ],
      "execution_count": 0,
      "outputs": []
    },
    {
      "cell_type": "code",
      "metadata": {
        "id": "Rmt23XXBMjT-",
        "colab_type": "code",
        "colab": {}
      },
      "source": [
        "import math\n",
        "\n",
        "print(math.sqrt(2) / 2)\n",
        "print(math.cos(math.pi / 4))"
      ],
      "execution_count": 0,
      "outputs": []
    },
    {
      "cell_type": "code",
      "metadata": {
        "id": "WxNNN0yeM5lb",
        "colab_type": "code",
        "colab": {}
      },
      "source": [
        "print(math.floor(1.2))\n",
        "print(math.ceil(1.2))"
      ],
      "execution_count": 0,
      "outputs": []
    },
    {
      "cell_type": "markdown",
      "metadata": {
        "id": "YQMEhbFwNOHa",
        "colab_type": "text"
      },
      "source": [
        "## Assignment operators"
      ]
    },
    {
      "cell_type": "code",
      "metadata": {
        "id": "y0n-j29xNQLJ",
        "colab_type": "code",
        "colab": {}
      },
      "source": [
        "a = 1\n",
        "a += 2\n",
        "\n",
        "print(a)"
      ],
      "execution_count": 0,
      "outputs": []
    },
    {
      "cell_type": "code",
      "metadata": {
        "id": "LzbCwPG6NUJ0",
        "colab_type": "code",
        "colab": {}
      },
      "source": [
        "a *= 3\n",
        "\n",
        "print(a)"
      ],
      "execution_count": 0,
      "outputs": []
    },
    {
      "cell_type": "code",
      "metadata": {
        "id": "QP_JhCxpNWv1",
        "colab_type": "code",
        "colab": {}
      },
      "source": [
        "a /= 9\n",
        "a += (4 + 1)\n",
        "\n",
        "print(a)"
      ],
      "execution_count": 0,
      "outputs": []
    }
  ]
}