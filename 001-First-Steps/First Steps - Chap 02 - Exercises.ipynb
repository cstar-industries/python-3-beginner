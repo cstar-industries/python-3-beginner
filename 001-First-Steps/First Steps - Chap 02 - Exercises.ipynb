{
  "nbformat": 4,
  "nbformat_minor": 0,
  "metadata": {
    "colab": {
      "name": "First Steps - Chap 02 - Exercises",
      "provenance": [],
      "private_outputs": true,
      "collapsed_sections": [],
      "include_colab_link": true
    },
    "kernelspec": {
      "name": "python3",
      "display_name": "Python 3"
    }
  },
  "cells": [
    {
      "cell_type": "markdown",
      "metadata": {
        "id": "view-in-github",
        "colab_type": "text"
      },
      "source": [
        "<a href=\"https://colab.research.google.com/github/cstar-industries/python-3-beginner/blob/master/001-First-Steps/First%20Steps%20-%20Chap%2002%20-%20Exercises.ipynb\" target=\"_parent\"><img src=\"https://colab.research.google.com/assets/colab-badge.svg\" alt=\"Open In Colab\"/></a>"
      ]
    },
    {
      "cell_type": "markdown",
      "metadata": {
        "id": "3CCRPgNusn5h",
        "colab_type": "text"
      },
      "source": [
        "## 1. Use different numeric data types and mix them together\n",
        "\n",
        "Create 3 variables containing 3 different numeric types:\n",
        "\n",
        "* `i`: an `int`\n",
        "* `f`: a `float`\n",
        "* `c`: a `complex`\n",
        "\n",
        "Then create the following, using the previously declared variables, and the Python math operators:\n",
        "\n",
        "* `i2`: `i` squared\n",
        "* `i_f`: the sum of `i` and `f`\n",
        "* `i_c`: the product of `i` and `c`\n",
        "* `i_f_c`: `i` plus `f` minus `c`\n",
        "\n",
        "Use the `type` function see what the type of the derived variables are."
      ]
    },
    {
      "cell_type": "code",
      "metadata": {
        "id": "cTb_ZL4qsi_z",
        "colab_type": "code",
        "colab": {}
      },
      "source": [
        "i =\n",
        "f =\n",
        "c =\n",
        "\n",
        "i2 =\n",
        "i_f =\n",
        "i_c = \n",
        "i_f_c =\n",
        "\n",
        "print(\"i_f equals \", i_f, \" and is of type \", type(i_f))"
      ],
      "execution_count": 0,
      "outputs": []
    },
    {
      "cell_type": "markdown",
      "metadata": {
        "id": "CnaL3_OytYzV",
        "colab_type": "text"
      },
      "source": [
        "## 2. Add two integers from user input\n",
        "\n",
        "Ask the user to enter 2 integers and add them together, then print the result.\n",
        "\n",
        "```\n",
        "Enter an integer number: 3\n",
        "Enter another integer number: 14\n",
        "\n",
        "3 + 14 = 17\n",
        "```"
      ]
    },
    {
      "cell_type": "code",
      "metadata": {
        "id": "G29XuRXBtqDO",
        "colab_type": "code",
        "colab": {}
      },
      "source": [
        "# Don't be worried about this `int(input())` thing, we'll explain it later. For\n",
        "# now just consider it a magic trick to get in `int` into `a`.\n",
        "a = int(input('Enter an integer number: '))\n",
        "b = # Your code starts here..."
      ],
      "execution_count": 0,
      "outputs": []
    },
    {
      "cell_type": "markdown",
      "metadata": {
        "id": "_KV3QTtzhoTB",
        "colab_type": "text"
      },
      "source": [
        "## 3. Cross-multiplication\n",
        "\n",
        "A simple exercise from primary school, done with Python.\n",
        "\n",
        "Given a speed $S$ in kilometers per hour, and a distance $D$ find out how long\n",
        "it will take to cross this distance at the given speed.\n",
        "\n",
        "Your program should output something like this\n",
        "```\n",
        "At a speed of 100 km/h, it will take 4.5 hours to cross 450 km.\n",
        "```\n",
        "\n",
        "> **BONUS:** Try to write the time in integer hours and minutes!"
      ]
    },
    {
      "cell_type": "code",
      "metadata": {
        "id": "iK9W_VOpjU1U",
        "colab_type": "code",
        "colab": {}
      },
      "source": [
        "S = 100\n",
        "D = 450"
      ],
      "execution_count": 0,
      "outputs": []
    },
    {
      "cell_type": "markdown",
      "metadata": {
        "id": "0GxJYHSgjlax",
        "colab_type": "text"
      },
      "source": [
        "## 4. Square root\n",
        "\n",
        "Find two ways to compute the square root of a number. One using the `math` module, and one using simple operators.\n",
        "\n"
      ]
    },
    {
      "cell_type": "code",
      "metadata": {
        "id": "QTkUyFUJkbUf",
        "colab_type": "code",
        "colab": {}
      },
      "source": [
        "import math\n",
        "\n",
        "\n"
      ],
      "execution_count": 0,
      "outputs": []
    }
  ]
}