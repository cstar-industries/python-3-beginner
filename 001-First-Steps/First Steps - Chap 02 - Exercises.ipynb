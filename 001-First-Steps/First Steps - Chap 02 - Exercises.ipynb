{
  "nbformat": 4,
  "nbformat_minor": 0,
  "metadata": {
    "colab": {
      "name": "First Steps - Chap 02 - Exercises",
      "provenance": [],
      "private_outputs": true,
      "collapsed_sections": [],
      "include_colab_link": true
    },
    "kernelspec": {
      "name": "python3",
      "display_name": "Python 3"
    }
  },
  "cells": [
    {
      "cell_type": "markdown",
      "metadata": {
        "id": "view-in-github",
        "colab_type": "text"
      },
      "source": [
        "<a href=\"https://colab.research.google.com/github/cstar-industries/python-3-beginner/blob/master/001-First-Steps/First%20Steps%20-%20Chap%2002%20-%20Exercises.ipynb\" target=\"_parent\"><img src=\"https://colab.research.google.com/assets/colab-badge.svg\" alt=\"Open In Colab\"/></a>"
      ]
    },
    {
      "cell_type": "markdown",
      "metadata": {
        "id": "3CCRPgNusn5h",
        "colab_type": "text"
      },
      "source": [
        "## 1. Execute a line of code\n",
        "\n",
        "Execute the following one-line code block by clicking the \"play\" icon to the left, or by selecting the block and typing Ctrl+Enter on your keyboard (cmd+Enter on a Mac)."
      ]
    },
    {
      "cell_type": "code",
      "metadata": {
        "id": "cTb_ZL4qsi_z",
        "colab_type": "code",
        "colab": {}
      },
      "source": [
        "print(\"Hello World!\")"
      ],
      "execution_count": 0,
      "outputs": []
    },
    {
      "cell_type": "markdown",
      "metadata": {
        "id": "CnaL3_OytYzV",
        "colab_type": "text"
      },
      "source": [
        "## 2. Print your name out\n",
        "\n",
        "Complete the following code block so that when executed, it outputs your name. E.g.\n",
        "\n",
        "```\n",
        "Charles\n",
        "```"
      ]
    },
    {
      "cell_type": "code",
      "metadata": {
        "id": "G29XuRXBtqDO",
        "colab_type": "code",
        "colab": {}
      },
      "source": [
        "print()"
      ],
      "execution_count": 0,
      "outputs": []
    },
    {
      "cell_type": "markdown",
      "metadata": {
        "id": "FszhZJBstr8V",
        "colab_type": "text"
      },
      "source": [
        "## 3. Powers of 2\n",
        "\n",
        "Complete the following code block so that it outputs the list of powers of 2, from 1 to 1024. The values should be computed byt he Python interpreter, not written out manually.\n",
        "\n",
        "Expected output:\n",
        "\n",
        "```\n",
        "1\n",
        "2\n",
        "4\n",
        "8\n",
        "16\n",
        "32\n",
        "64\n",
        "218\n",
        "256\n",
        "512\n",
        "1024\n",
        "```\n",
        "\n",
        "> **Hint:** Remember you can write more than one line in a code block."
      ]
    },
    {
      "cell_type": "code",
      "metadata": {
        "id": "LjDreBVCuXVW",
        "colab_type": "code",
        "colab": {}
      },
      "source": [
        "print(2**0)"
      ],
      "execution_count": 0,
      "outputs": []
    },
    {
      "cell_type": "markdown",
      "metadata": {
        "id": "_7ffaPZPuyyF",
        "colab_type": "text"
      },
      "source": [
        "## 4. Echo\n",
        "\n",
        "Write an \"Echo\" program that asks (politely) for an input, and always repeats what has been said, followed by three dots: `...`\n",
        "\n",
        "Example:\n",
        "\n",
        "```\n",
        "<Output> \n",
        "Say something to the Echo Master: \n",
        "<User input>: Hello\n",
        "<Output>\n",
        "Hello...\n",
        "```\n",
        "\n",
        "Try using everything you've learned until now. `print`, `input`, assigning a variable with `=`, and using that variable in another statement."
      ]
    },
    {
      "cell_type": "code",
      "metadata": {
        "id": "rg1lRjJ1v6Yj",
        "colab_type": "code",
        "colab": {}
      },
      "source": [
        ""
      ],
      "execution_count": 0,
      "outputs": []
    }
  ]
}
