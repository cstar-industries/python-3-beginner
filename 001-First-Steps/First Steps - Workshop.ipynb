{
  "nbformat": 4,
  "nbformat_minor": 0,
  "metadata": {
    "colab": {
      "name": "First Steps - Workshop",
      "provenance": [],
      "private_outputs": true,
      "collapsed_sections": [
        "-dgkvGfnbVHk"
      ],
      "toc_visible": true,
      "include_colab_link": true
    },
    "kernelspec": {
      "name": "python3",
      "display_name": "Python 3"
    }
  },
  "cells": [
    {
      "cell_type": "markdown",
      "metadata": {
        "id": "view-in-github",
        "colab_type": "text"
      },
      "source": [
        "<a href=\"https://colab.research.google.com/github/cstar-industries/python-3-beginner/blob/master/001-First-Steps/First%20Steps%20-%20Workshop.ipynb\" target=\"_parent\"><img src=\"https://colab.research.google.com/assets/colab-badge.svg\" alt=\"Open In Colab\"/></a>"
      ]
    },
    {
      "cell_type": "markdown",
      "metadata": {
        "id": "m_UUv7uoHux4",
        "colab_type": "text"
      },
      "source": [
        "# Session 1: Workshop"
      ]
    },
    {
      "cell_type": "markdown",
      "metadata": {
        "id": "l-O6l5P7bzhN",
        "colab_type": "text"
      },
      "source": [
        "## 1. Basic input/output in Python"
      ]
    },
    {
      "cell_type": "markdown",
      "metadata": {
        "id": "FDXNB_CqITAO",
        "colab_type": "text"
      },
      "source": [
        "Write some code in the block below that will display a greeting, your name and title, and profess your love for Python.\n",
        "\n",
        "Your code should output similar to the following:\n",
        "\n",
        "```\n",
        "Hello World!\n",
        "I'm Charles, and I'm a Python teacher.\n",
        "I love Python so much I'm going to marry it.\n",
        "```"
      ]
    },
    {
      "cell_type": "code",
      "metadata": {
        "id": "SyC29-jWISCf",
        "colab_type": "code",
        "colab": {}
      },
      "source": [
        ""
      ],
      "execution_count": 0,
      "outputs": []
    },
    {
      "cell_type": "markdown",
      "metadata": {
        "id": "5KUJvtCVb1fQ",
        "colab_type": "text"
      },
      "source": [
        "## 2. Manipulating different types of variables"
      ]
    },
    {
      "cell_type": "markdown",
      "metadata": {
        "id": "LlHl39Bbb3RO",
        "colab_type": "text"
      },
      "source": [
        "Consider the following block of code and edit the text boxes below to answer.\n",
        "\n",
        "```python\n",
        "greeting = 'Hello'\n",
        "age = 65\n",
        "first_letter_of_the_alphabet = 'A'\n",
        "opening_line = \"It was a bright cold day in April, and the clocks were striking thirteen.\"\n",
        "```\n"
      ]
    },
    {
      "cell_type": "markdown",
      "metadata": {
        "id": "DiHnVE53b9rm",
        "colab_type": "text"
      },
      "source": [
        "**What does each line declare?**\n",
        "\n",
        "- [ ] a type\n",
        "- [ ] a variable\n",
        "- [ ] an entity\n",
        "- [ ] an object"
      ]
    },
    {
      "cell_type": "markdown",
      "metadata": {
        "id": "93efljyAdFLP",
        "colab_type": "text"
      },
      "source": [
        "**What is the type of `greeting`?**\n",
        "\n",
        "- [ ] `text`\n",
        "- [ ] `string`\n",
        "- [ ] `str`\n",
        "- [ ] `char *`"
      ]
    },
    {
      "cell_type": "markdown",
      "metadata": {
        "id": "JPWAm7bSdaQh",
        "colab_type": "text"
      },
      "source": [
        "**What is the type of `age`?**\n",
        "- [ ] `int`\n",
        "- [ ] `number`\n",
        "- [ ] `float`\n",
        "- [ ] `unsigned int`"
      ]
    },
    {
      "cell_type": "markdown",
      "metadata": {
        "id": "2W_M9l90gfXd",
        "colab_type": "text"
      },
      "source": [
        "**What is the type of `first_letter_of_the_alphabet`?**\n",
        "- [ ] `letter`\n",
        "- [ ] `char`\n",
        "- [ ] `str`\n",
        "- [ ] `string`"
      ]
    },
    {
      "cell_type": "markdown",
      "metadata": {
        "id": "PlpRsYtxgx6M",
        "colab_type": "text"
      },
      "source": [
        "**What is the type of `opening_line`?**\n",
        "- [ ] `text`\n",
        "- [ ] `char *`\n",
        "- [ ] `str`\n",
        "- [ ] `string`"
      ]
    },
    {
      "cell_type": "markdown",
      "metadata": {
        "id": "pzHd5GOxg8yL",
        "colab_type": "text"
      },
      "source": [
        "**What would be the output of the following command?**\n",
        "\n",
        "```python\n",
        "print(greeting + ' World!')\n",
        "```\n",
        "\n",
        "- [ ] `greeting World!`\n",
        "- [ ] `greeting + ' World!'`\n",
        "- [ ] `Hello World!`\n",
        "- [ ] This is an error"
      ]
    },
    {
      "cell_type": "markdown",
      "metadata": {
        "id": "AmghPvQ4h5AM",
        "colab_type": "text"
      },
      "source": [
        "**What would be the output of the following command?**\n",
        "\n",
        "```python\n",
        "print(greeting + ' World!')\n",
        "```\n",
        "\n",
        "- [ ] `greeting World!`\n",
        "- [ ] `greeting + ' World!'`\n",
        "- [ ] `Hello World!`\n",
        "- [ ] This is an error"
      ]
    },
    {
      "cell_type": "markdown",
      "metadata": {
        "id": "mYL4y_Aejt4l",
        "colab_type": "text"
      },
      "source": [
        "**What would be the output of the following command?**\n",
        "\n",
        "```python\n",
        "print(2020 - age)\n",
        "```\n",
        "\n",
        "- [ ] `1955`\n",
        "- [ ] `2020 - 65`\n",
        "- [ ] `-65`\n",
        "- [ ] This is an error"
      ]
    },
    {
      "cell_type": "markdown",
      "metadata": {
        "id": "Qh-yRXpGkM5G",
        "colab_type": "text"
      },
      "source": [
        "**What would be the output of the following command?**\n",
        "\n",
        "```python\n",
        "print(greeting + age)\n",
        "```\n",
        "\n",
        "- [ ] `Hello 65`\n",
        "- [ ] `Hello A`\n",
        "- [ ] `greeting + age`\n",
        "- [ ] This is an error"
      ]
    },
    {
      "cell_type": "markdown",
      "metadata": {
        "id": "CnaL3_OytYzV",
        "colab_type": "text"
      },
      "source": [
        "## 3. Fibonacci numbers\n",
        "\n",
        "The Fibonacci numbers are a sequence such that each number is the sum of the two preceding ones, starting from 0 and 1.\n",
        "\n",
        "That is:\n",
        "\n",
        "$F_{n} = F_{n-1} + F_{n-2}$\n",
        "\n",
        "with\n",
        "\n",
        "$F_0 = 0, F_1 = 1$\n",
        "\n",
        "The sequence begins with:\n",
        "\n",
        "0, 1, 1, 2, 3, 5, 8...\n",
        "\n",
        "----\n",
        "\n",
        "Write a block of code that prints out the next Fibonacci number each time it is run. The first block is only there to initialize the variables."
      ]
    },
    {
      "cell_type": "code",
      "metadata": {
        "id": "VkZOTb0RWm0S",
        "colab_type": "code",
        "colab": {}
      },
      "source": [
        "# Hi! This is a comment!\n",
        "# Anything on a line that follows a pound sign (#) will be ignored by the\n",
        "# interpreter when the code is executed. This is very useful to explain your\n",
        "# code, or to leave notes like this one.\n",
        "#\n",
        "# This block should only be executed once to initialize the variables for the\n",
        "# Fibonacci exercise. You can also use it if you want to reset the state of\n",
        "# the Fibonacci exercise.\n",
        "\n",
        "a = 0\n",
        "b = 1"
      ],
      "execution_count": 0,
      "outputs": []
    },
    {
      "cell_type": "code",
      "metadata": {
        "id": "1H3DTYkDXSp5",
        "colab_type": "code",
        "colab": {}
      },
      "source": [
        "# Run this block to output the next Fibonacci number, starting with F3 = 1.\n",
        "\n",
        "# HINT: After running the block, a and b should not be equal to their original\n",
        "# value \n"
      ],
      "execution_count": 0,
      "outputs": []
    },
    {
      "cell_type": "markdown",
      "metadata": {
        "id": "-dgkvGfnbVHk",
        "colab_type": "text"
      },
      "source": [
        "## 4. Columns and rows\n",
        "\n",
        "Consider a grid of width $M$ and height $N$. Number each cell of the grid by counting from the upper left corner, and progressing right until the end of the line, then keep counting from the first cell of the next line.\n",
        "\n",
        "```\n",
        "M = 4, N = 3\n",
        "\n",
        "+----+----+----+----+\n",
        "|  0 |  1 |  2 |  3 |\n",
        "+----+----+----+----+\n",
        "|  4 |  5 |  6 |  7 |\n",
        "+----+----+----+----+\n",
        "|  8 |  9 | 10 | 11 |\n",
        "+----+----+----+----+\n",
        "``` \n",
        "\n",
        "We are interested in finding the relation between a cell's coordinates and its index.\n",
        "\n",
        "| Cell index | Cell coordinates |\n",
        "|------------|------------------|\n",
        "| 0          | (0, 0)           |\n",
        "| 1          | (0, 1)           |\n",
        "| 3          | (0, 3)           |\n",
        "| 6          | (1, 2)           |\n",
        "| 11         | (2, 3)           |"
      ]
    },
    {
      "cell_type": "code",
      "metadata": {
        "id": "-j5FwaSfdw9-",
        "colab_type": "code",
        "colab": {}
      },
      "source": [
        "# Initialize width and height of the grid\n",
        "\n",
        "M = 4\n",
        "N = 3"
      ],
      "execution_count": 0,
      "outputs": []
    },
    {
      "cell_type": "markdown",
      "metadata": {
        "id": "IsiUt0sjdr2x",
        "colab_type": "text"
      },
      "source": [
        "### 4.1 Coordinates to index\n",
        "\n",
        "Write a program that takes two integers from the command line as row and column coordinates, and outputs the index of the corresponding cell.\n",
        "\n",
        "Example:\n",
        "```\n",
        "Enter the row: 1\n",
        "Enter the column: 2\n",
        "\n",
        "The cell at (1, 2) is index 6\n",
        "```"
      ]
    },
    {
      "cell_type": "code",
      "metadata": {
        "id": "IOJ7zVWRecm0",
        "colab_type": "code",
        "colab": {}
      },
      "source": [
        "# Use M and N from the previous block for width and height of the grid"
      ],
      "execution_count": 0,
      "outputs": []
    },
    {
      "cell_type": "markdown",
      "metadata": {
        "colab_type": "text",
        "id": "v4dFK4Y_eZG8"
      },
      "source": [
        "### 4.2 Index to coordinates\n",
        "\n",
        "Write a program that takes an integer from the command line as the cell index, and outputs the (row, column) coordinates of the corresponding cell.\n",
        "\n",
        "Example:\n",
        "```\n",
        "Enter the cell index: 6\n",
        "\n",
        "The cell with index 6 is located at (1, 2).\n",
        "```"
      ]
    },
    {
      "cell_type": "code",
      "metadata": {
        "colab_type": "code",
        "id": "9HO15RZ9emLD",
        "colab": {}
      },
      "source": [
        "# Use M and N from the previous block for width and height of the grid"
      ],
      "execution_count": 0,
      "outputs": []
    },
    {
      "cell_type": "markdown",
      "metadata": {
        "id": "XkJEFmXNtKad",
        "colab_type": "text"
      },
      "source": [
        "## 5. Hex to string\n",
        "\n",
        "The following string is an encoded message. Each character in the message has been replaced by its 2-digit hexadecimal character number.\n",
        "\n",
        "$'A' \\equiv 65_{decimal} \\equiv 41_{hex}$\n",
        "\n",
        "You will need a new tool to solve this problem. The `chr` function takes a number and returns the character corresponding to the number.\n",
        "\n",
        "```\n",
        "chr(65)\n",
        "'A'\n",
        "```\n",
        "\n",
        "A few hints you might need to solve this problem:\n",
        "\n",
        "* Use `len` to find the length of the string. Don't count on your fingers when you have Python!\n",
        "* Use `str` indexing to extract characters 2-by-2 from the string.\n",
        "* Use the `int()` conversion function to convert hexadecimal strings into integers"
      ]
    },
    {
      "cell_type": "code",
      "metadata": {
        "id": "Iilolfid25Db",
        "colab_type": "code",
        "colab": {}
      },
      "source": [
        "hex_string = '47726561742053636f747421'"
      ],
      "execution_count": 0,
      "outputs": []
    },
    {
      "cell_type": "markdown",
      "metadata": {
        "id": "E_v0-W4M3P7Z",
        "colab_type": "text"
      },
      "source": [
        "_Note:_\n",
        "\n",
        "With the tools at your disposal today, you probably wrote a lot of code to solve this simple problem. Don't worry, next lesson, we'll learn some powerful tools to reduce the amount of repetitive code. Python can be very expressive, and it is often possible to process large amounts of data with very little code. While making this exercise, I solved it with a single short line of Python!\n",
        "\n",
        "> **BONUS:** The inverse function of `chr` is `ord`.\n",
        "> ```\n",
        "ord('A')\n",
        "65\n",
        "```"
      ]
    },
    {
      "cell_type": "markdown",
      "metadata": {
        "id": "jnPxPiJyZV_V",
        "colab_type": "text"
      },
      "source": [
        "## 6. Cross-multiplication revisited\n",
        "\n",
        "Given the price of a dozen eggs, find the price of an arbitrary number of eggs, given by the user.\n",
        "\n",
        "Use format strings to display prices with 2 digits after the decimal point.\n",
        "\n",
        "```\n",
        "Price of a dozen eggs: $11.00\n",
        "How many eggs do you want? 14\n",
        "\n",
        "14 eggs will cost $12.83\n",
        "```\n",
        "\n",
        "You can find the format string specification in [the Python documentation](https://docs.python.org/3/library/string.html#format-specification-mini-language)."
      ]
    },
    {
      "cell_type": "code",
      "metadata": {
        "id": "tFYhiPsFZjvo",
        "colab_type": "code",
        "colab": {}
      },
      "source": [
        "dozen_price = 11.0"
      ],
      "execution_count": 0,
      "outputs": []
    }
  ]
}