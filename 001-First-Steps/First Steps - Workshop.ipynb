{
  "nbformat": 4,
  "nbformat_minor": 0,
  "metadata": {
    "colab": {
      "name": "Untitled",
      "provenance": [],
      "private_outputs": true,
      "toc_visible": true,
      "include_colab_link": true
    },
    "kernelspec": {
      "name": "python3",
      "display_name": "Python 3"
    }
  },
  "cells": [
    {
      "cell_type": "markdown",
      "metadata": {
        "id": "view-in-github",
        "colab_type": "text"
      },
      "source": [
        "<a href=\"https://colab.research.google.com/github/cstar-industries/python-3-beginner/blob/master/001-First-Steps/First%20Steps%20-%20Exercises.ipynb\" target=\"_parent\"><img src=\"https://colab.research.google.com/assets/colab-badge.svg\" alt=\"Open In Colab\"/></a>"
      ]
    },
    {
      "cell_type": "markdown",
      "metadata": {
        "id": "m_UUv7uoHux4",
        "colab_type": "text"
      },
      "source": [
        "# Module 1: Exercises"
      ]
    },
    {
      "cell_type": "markdown",
      "metadata": {
        "id": "l-O6l5P7bzhN",
        "colab_type": "text"
      },
      "source": [
        "## 1."
      ]
    },
    {
      "cell_type": "markdown",
      "metadata": {
        "id": "FDXNB_CqITAO",
        "colab_type": "text"
      },
      "source": [
        "Write some code in the block below that will display a greeting, your name and title, and profess your love for Python.\n",
        "\n",
        "Your code should output similar to the following:\n",
        "\n",
        "```\n",
        "Hello World!\n",
        "I'm Charles, and I'm a Python teacher.\n",
        "I love Python so much I'm going to marry it.\n",
        "```"
      ]
    },
    {
      "cell_type": "code",
      "metadata": {
        "id": "SyC29-jWISCf",
        "colab_type": "code",
        "colab": {}
      },
      "source": [
        ""
      ],
      "execution_count": 0,
      "outputs": []
    },
    {
      "cell_type": "markdown",
      "metadata": {
        "id": "5KUJvtCVb1fQ",
        "colab_type": "text"
      },
      "source": [
        "## 2."
      ]
    },
    {
      "cell_type": "markdown",
      "metadata": {
        "id": "LlHl39Bbb3RO",
        "colab_type": "text"
      },
      "source": [
        "Consider the following block of code and edit the text boxes below to answer.\n",
        "\n",
        "```python\n",
        "greeting = 'Hello'\n",
        "age = 65\n",
        "first_letter_of_the_alphabet = 'A'\n",
        "opening_line = \"It was a bright cold day in April, and the clocks were striking thirteen.\"\n",
        "```\n"
      ]
    },
    {
      "cell_type": "markdown",
      "metadata": {
        "id": "DiHnVE53b9rm",
        "colab_type": "text"
      },
      "source": [
        "**What does each line declare?**\n",
        "\n",
        "- [ ] a type\n",
        "- [ ] a variable\n",
        "- [ ] an entity\n",
        "- [ ] an object"
      ]
    },
    {
      "cell_type": "markdown",
      "metadata": {
        "id": "93efljyAdFLP",
        "colab_type": "text"
      },
      "source": [
        "**What is the type of `greeting`?**\n",
        "\n",
        "- [ ] `text`\n",
        "- [ ] `string`\n",
        "- [ ] `str`\n",
        "- [ ] `char *`"
      ]
    },
    {
      "cell_type": "markdown",
      "metadata": {
        "id": "JPWAm7bSdaQh",
        "colab_type": "text"
      },
      "source": [
        "**What is the type of `age`?**\n",
        "- [ ] `int`\n",
        "- [ ] `number`\n",
        "- [ ] `float`\n",
        "- [ ] `unsigned int`"
      ]
    },
    {
      "cell_type": "markdown",
      "metadata": {
        "id": "2W_M9l90gfXd",
        "colab_type": "text"
      },
      "source": [
        "**What is the type of `first_letter_of_the_alphabet`?**\n",
        "- [ ] `letter`\n",
        "- [ ] `char`\n",
        "- [ ] `str`\n",
        "- [ ] `string`"
      ]
    },
    {
      "cell_type": "markdown",
      "metadata": {
        "id": "PlpRsYtxgx6M",
        "colab_type": "text"
      },
      "source": [
        "**What is the type of `opening_line`?**\n",
        "- [ ] `text`\n",
        "- [ ] `char *`\n",
        "- [ ] `str`\n",
        "- [ ] `string`"
      ]
    },
    {
      "cell_type": "markdown",
      "metadata": {
        "id": "pzHd5GOxg8yL",
        "colab_type": "text"
      },
      "source": [
        "**What would be the output of the following command?**\n",
        "\n",
        "```python\n",
        "print(greeting + ' World!')\n",
        "```\n",
        "\n",
        "- [ ] `greeting World!`\n",
        "- [ ] `greeting + ' World!'`\n",
        "- [ ] `Hello World!`\n",
        "- [ ] This is an error"
      ]
    },
    {
      "cell_type": "markdown",
      "metadata": {
        "id": "AmghPvQ4h5AM",
        "colab_type": "text"
      },
      "source": [
        "**What would be the output of the following command?**\n",
        "\n",
        "```python\n",
        "print(greeting + ' World!')\n",
        "```\n",
        "\n",
        "- [ ] `greeting World!`\n",
        "- [ ] `greeting + ' World!'`\n",
        "- [ ] `Hello World!`\n",
        "- [ ] This is an error"
      ]
    },
    {
      "cell_type": "markdown",
      "metadata": {
        "id": "mYL4y_Aejt4l",
        "colab_type": "text"
      },
      "source": [
        "**What would be the output of the following command?**\n",
        "\n",
        "```python\n",
        "print(2020 - age)\n",
        "```\n",
        "\n",
        "- [ ] `1955`\n",
        "- [ ] `2020 - 65`\n",
        "- [ ] `-65`\n",
        "- [ ] This is an error"
      ]
    },
    {
      "cell_type": "markdown",
      "metadata": {
        "id": "Qh-yRXpGkM5G",
        "colab_type": "text"
      },
      "source": [
        "**What would be the output of the following command?**\n",
        "\n",
        "```python\n",
        "print(greeting + age)\n",
        "```\n",
        "\n",
        "- [ ] `Hello 65`\n",
        "- [ ] `Hello A`\n",
        "- [ ] `greeting + age`\n",
        "- [ ] This is an error"
      ]
    }
  ]
}