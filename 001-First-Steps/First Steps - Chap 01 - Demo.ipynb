{
  "nbformat": 4,
  "nbformat_minor": 0,
  "metadata": {
    "colab": {
      "name": "First Steps - Chap 01 - Demo",
      "provenance": [],
      "private_outputs": true,
      "collapsed_sections": [
        "8PorNC9DpNmC",
        "k8TX3jKjpe2b",
        "cjerTn0RqmSj"
      ],
      "authorship_tag": "ABX9TyMJhibi9dEWw7Bt9I6ORzw2",
      "include_colab_link": true
    },
    "kernelspec": {
      "name": "python3",
      "display_name": "Python 3"
    }
  },
  "cells": [
    {
      "cell_type": "markdown",
      "metadata": {
        "id": "view-in-github",
        "colab_type": "text"
      },
      "source": [
        "<a href=\"https://colab.research.google.com/github/cstar-industries/python-3-beginner/blob/master/001-First-Steps/First%20Steps%20-%20Chap%2001%20-%20Demo.ipynb\" target=\"_parent\"><img src=\"https://colab.research.google.com/assets/colab-badge.svg\" alt=\"Open In Colab\"/></a>"
      ]
    },
    {
      "cell_type": "markdown",
      "metadata": {
        "id": "8PorNC9DpNmC",
        "colab_type": "text"
      },
      "source": [
        "## Print some text"
      ]
    },
    {
      "cell_type": "code",
      "metadata": {
        "id": "f_ZaZKfko6n-",
        "colab_type": "code",
        "colab": {}
      },
      "source": [
        "print(\"Hello World\")"
      ],
      "execution_count": 0,
      "outputs": []
    },
    {
      "cell_type": "code",
      "metadata": {
        "id": "jmquDVbvpTx4",
        "colab_type": "code",
        "colab": {}
      },
      "source": [
        "print(3)"
      ],
      "execution_count": 0,
      "outputs": []
    },
    {
      "cell_type": "code",
      "metadata": {
        "id": "DNaodKCmpVzE",
        "colab_type": "code",
        "colab": {}
      },
      "source": [
        "print(a)"
      ],
      "execution_count": 0,
      "outputs": []
    },
    {
      "cell_type": "markdown",
      "metadata": {
        "id": "k8TX3jKjpe2b",
        "colab_type": "text"
      },
      "source": [
        "## Do some math"
      ]
    },
    {
      "cell_type": "code",
      "metadata": {
        "id": "lvm2aOSqpgvO",
        "colab_type": "code",
        "colab": {}
      },
      "source": [
        "3 + 2"
      ],
      "execution_count": 0,
      "outputs": []
    },
    {
      "cell_type": "code",
      "metadata": {
        "id": "acxnUv3Cpidu",
        "colab_type": "code",
        "colab": {}
      },
      "source": [
        "6 * 7"
      ],
      "execution_count": 0,
      "outputs": []
    },
    {
      "cell_type": "code",
      "metadata": {
        "id": "oVVsfv0jptfN",
        "colab_type": "code",
        "colab": {}
      },
      "source": [
        "1e6"
      ],
      "execution_count": 0,
      "outputs": []
    },
    {
      "cell_type": "code",
      "metadata": {
        "id": "W7zMoKtHpnla",
        "colab_type": "code",
        "colab": {}
      },
      "source": [
        "2 ** 10"
      ],
      "execution_count": 0,
      "outputs": []
    },
    {
      "cell_type": "code",
      "metadata": {
        "id": "lVLWyU1cpzqy",
        "colab_type": "code",
        "colab": {}
      },
      "source": [
        "2 ** 1000"
      ],
      "execution_count": 0,
      "outputs": []
    },
    {
      "cell_type": "markdown",
      "metadata": {
        "id": "cjerTn0RqmSj",
        "colab_type": "text"
      },
      "source": [
        "## Variables"
      ]
    },
    {
      "cell_type": "code",
      "metadata": {
        "id": "HsonC2sTqq4b",
        "colab_type": "code",
        "colab": {}
      },
      "source": [
        "a = 1138\n",
        "print(a)"
      ],
      "execution_count": 0,
      "outputs": []
    },
    {
      "cell_type": "code",
      "metadata": {
        "id": "B2Zi7Qrrq8ul",
        "colab_type": "code",
        "colab": {}
      },
      "source": [
        "print(a - 138)\n",
        "print(a)"
      ],
      "execution_count": 0,
      "outputs": []
    },
    {
      "cell_type": "code",
      "metadata": {
        "id": "VM3DHkturEpS",
        "colab_type": "code",
        "colab": {}
      },
      "source": [
        "type(a)"
      ],
      "execution_count": 0,
      "outputs": []
    },
    {
      "cell_type": "code",
      "metadata": {
        "id": "vHE598KbrGaj",
        "colab_type": "code",
        "colab": {}
      },
      "source": [
        "del a\n",
        "print(a)"
      ],
      "execution_count": 0,
      "outputs": []
    },
    {
      "cell_type": "markdown",
      "metadata": {
        "id": "3fk0EeV5re3u",
        "colab_type": "text"
      },
      "source": [
        "## Capture keyboard input"
      ]
    },
    {
      "cell_type": "code",
      "metadata": {
        "id": "L1CeyNlbrlQ0",
        "colab_type": "code",
        "colab": {}
      },
      "source": [
        "input()"
      ],
      "execution_count": 0,
      "outputs": []
    },
    {
      "cell_type": "code",
      "metadata": {
        "id": "hXvG7rLKrtxn",
        "colab_type": "code",
        "colab": {}
      },
      "source": [
        "name = input(\"What's your name? \")\n",
        "print(\"Your name is\", name)"
      ],
      "execution_count": 0,
      "outputs": []
    }
  ]
}