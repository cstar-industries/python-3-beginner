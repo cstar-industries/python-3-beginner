{
  "nbformat": 4,
  "nbformat_minor": 0,
  "metadata": {
    "colab": {
      "name": "Untitled1.ipynb",
      "provenance": [],
      "private_outputs": true,
      "authorship_tag": "ABX9TyPbIzQcLLHjMZ8KKBYtflyj",
      "include_colab_link": true
    },
    "kernelspec": {
      "name": "python3",
      "display_name": "Python 3"
    }
  },
  "cells": [
    {
      "cell_type": "markdown",
      "metadata": {
        "id": "view-in-github",
        "colab_type": "text"
      },
      "source": [
        "<a href=\"https://colab.research.google.com/github/cstar-industries/python-3-beginner/blob/master/001-First-Steps/First%20Steps%20-%20Chap%2001%20-%20Demo.ipynb\" target=\"_parent\"><img src=\"https://colab.research.google.com/assets/colab-badge.svg\" alt=\"Open In Colab\"/></a>"
      ]
    },
    {
      "cell_type": "markdown",
      "metadata": {
        "id": "Zxrw9hRXo80E",
        "colab_type": "text"
      },
      "source": [
        "# Session 1"
      ]
    },
    {
      "cell_type": "markdown",
      "metadata": {
        "id": "8PorNC9DpNmC",
        "colab_type": "text"
      },
      "source": [
        "## Print some text"
      ]
    },
    {
      "cell_type": "code",
      "metadata": {
        "id": "f_ZaZKfko6n-",
        "colab_type": "code",
        "colab": {}
      },
      "source": [
        "print(\"Hello World\")"
      ],
      "execution_count": 0,
      "outputs": []
    },
    {
      "cell_type": "code",
      "metadata": {
        "id": "jmquDVbvpTx4",
        "colab_type": "code",
        "colab": {}
      },
      "source": [
        "print(3)"
      ],
      "execution_count": 0,
      "outputs": []
    },
    {
      "cell_type": "code",
      "metadata": {
        "id": "DNaodKCmpVzE",
        "colab_type": "code",
        "colab": {}
      },
      "source": [
        "print(a)"
      ],
      "execution_count": 0,
      "outputs": []
    },
    {
      "cell_type": "markdown",
      "metadata": {
        "id": "k8TX3jKjpe2b",
        "colab_type": "text"
      },
      "source": [
        "## Do some math"
      ]
    },
    {
      "cell_type": "code",
      "metadata": {
        "id": "lvm2aOSqpgvO",
        "colab_type": "code",
        "colab": {}
      },
      "source": [
        "3 + 2"
      ],
      "execution_count": 0,
      "outputs": []
    },
    {
      "cell_type": "code",
      "metadata": {
        "id": "acxnUv3Cpidu",
        "colab_type": "code",
        "colab": {}
      },
      "source": [
        "6 * 7"
      ],
      "execution_count": 0,
      "outputs": []
    },
    {
      "cell_type": "code",
      "metadata": {
        "id": "oVVsfv0jptfN",
        "colab_type": "code",
        "colab": {}
      },
      "source": [
        "1e6"
      ],
      "execution_count": 0,
      "outputs": []
    },
    {
      "cell_type": "code",
      "metadata": {
        "id": "W7zMoKtHpnla",
        "colab_type": "code",
        "colab": {}
      },
      "source": [
        "2 ** 10"
      ],
      "execution_count": 0,
      "outputs": []
    },
    {
      "cell_type": "code",
      "metadata": {
        "id": "lVLWyU1cpzqy",
        "colab_type": "code",
        "colab": {}
      },
      "source": [
        "2 ** 1000"
      ],
      "execution_count": 0,
      "outputs": []
    }
  ]
}