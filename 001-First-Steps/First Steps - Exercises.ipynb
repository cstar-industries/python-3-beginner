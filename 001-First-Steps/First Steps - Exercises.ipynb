{
  "nbformat": 4,
  "nbformat_minor": 0,
  "metadata": {
    "colab": {
      "name": "Untitled",
      "provenance": [],
      "private_outputs": true,
      "toc_visible": true,
      "authorship_tag": "ABX9TyMwPZmFws1VihMWq3Nbm6iX",
      "include_colab_link": true
    },
    "kernelspec": {
      "name": "python3",
      "display_name": "Python 3"
    }
  },
  "cells": [
    {
      "cell_type": "markdown",
      "metadata": {
        "id": "view-in-github",
        "colab_type": "text"
      },
      "source": [
        "<a href=\"https://colab.research.google.com/github/cstar-industries/python-3-beginner/blob/master/001-First-Steps/First%20Steps%20-%20Exercises.ipynb\" target=\"_parent\"><img src=\"https://colab.research.google.com/assets/colab-badge.svg\" alt=\"Open In Colab\"/></a>"
      ]
    },
    {
      "cell_type": "markdown",
      "metadata": {
        "id": "m_UUv7uoHux4",
        "colab_type": "text"
      },
      "source": [
        "# Module 1: First steps"
      ]
    },
    {
      "cell_type": "markdown",
      "metadata": {
        "id": "FDXNB_CqITAO",
        "colab_type": "text"
      },
      "source": [
        "Let's start discovering Python right now."
      ]
    },
    {
      "cell_type": "code",
      "metadata": {
        "id": "SyC29-jWISCf",
        "colab_type": "code",
        "colab": {}
      },
      "source": [
        "print('Hello world!')"
      ],
      "execution_count": 0,
      "outputs": []
    }
  ]
}