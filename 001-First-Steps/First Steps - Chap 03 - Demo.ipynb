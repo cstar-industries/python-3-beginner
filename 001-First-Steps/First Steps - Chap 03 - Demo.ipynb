{
  "nbformat": 4,
  "nbformat_minor": 0,
  "metadata": {
    "colab": {
      "name": "First Steps - Chap 03 - Demo",
      "provenance": [],
      "private_outputs": true,
      "collapsed_sections": [
        "n2Y1tAFyVuq8",
        "NuIaiuaQ9CRr"
      ],
      "authorship_tag": "ABX9TyOBG9pwMhIkUw2A4mvlqXOl",
      "include_colab_link": true
    },
    "kernelspec": {
      "name": "python3",
      "display_name": "Python 3"
    }
  },
  "cells": [
    {
      "cell_type": "markdown",
      "metadata": {
        "id": "view-in-github",
        "colab_type": "text"
      },
      "source": [
        "<a href=\"https://colab.research.google.com/github/cstar-industries/python-3-beginner/blob/master/001-First-Steps/First%20Steps%20-%20Chap%2003%20-%20Demo.ipynb\" target=\"_parent\"><img src=\"https://colab.research.google.com/assets/colab-badge.svg\" alt=\"Open In Colab\"/></a>"
      ]
    },
    {
      "cell_type": "markdown",
      "metadata": {
        "id": "n2Y1tAFyVuq8",
        "colab_type": "text"
      },
      "source": [
        "## Strings"
      ]
    },
    {
      "cell_type": "code",
      "metadata": {
        "id": "3L7k3mELVq3-",
        "colab_type": "code",
        "colab": {}
      },
      "source": [
        "print(\"Hello World\")"
      ],
      "execution_count": 0,
      "outputs": []
    },
    {
      "cell_type": "code",
      "metadata": {
        "id": "bjNco2FhV6DE",
        "colab_type": "code",
        "colab": {}
      },
      "source": [
        "print('Hello World!')"
      ],
      "execution_count": 0,
      "outputs": []
    },
    {
      "cell_type": "code",
      "metadata": {
        "id": "5fuobXowV832",
        "colab_type": "code",
        "colab": {}
      },
      "source": [
        "print('I've been working on my Python!')"
      ],
      "execution_count": 0,
      "outputs": []
    },
    {
      "cell_type": "code",
      "metadata": {
        "id": "AY6XTUbQWEjf",
        "colab_type": "code",
        "colab": {}
      },
      "source": [
        "print('I\\'ve been working on my Python!')\n",
        "print(\"I've been working on my Python!\")"
      ],
      "execution_count": 0,
      "outputs": []
    },
    {
      "cell_type": "code",
      "metadata": {
        "id": "-Dc2Td69WQ43",
        "colab_type": "code",
        "colab": {}
      },
      "source": [
        "print('This is a line.\\nThis is a new line.')"
      ],
      "execution_count": 0,
      "outputs": []
    },
    {
      "cell_type": "code",
      "metadata": {
        "id": "KHt05fqZBQGY",
        "colab_type": "code",
        "colab": {}
      },
      "source": [
        "print(\"\"\"This is a line.\n",
        "This is a new line\"\"\")"
      ],
      "execution_count": 0,
      "outputs": []
    },
    {
      "cell_type": "code",
      "metadata": {
        "id": "EWBZy3arWanr",
        "colab_type": "code",
        "colab": {}
      },
      "source": [
        "opening_line = 'It was a bright cold day in April, and the clocks were striking thirteen.'\n",
        "\n",
        "print(opening_line)"
      ],
      "execution_count": 0,
      "outputs": []
    },
    {
      "cell_type": "markdown",
      "metadata": {
        "id": "NuIaiuaQ9CRr",
        "colab_type": "text"
      },
      "source": [
        "## String operators"
      ]
    },
    {
      "cell_type": "code",
      "metadata": {
        "id": "EEY9hiZd9FUb",
        "colab_type": "code",
        "colab": {}
      },
      "source": [
        "spam = \"spam\"\n",
        "comma_space = \", \"\n",
        "eggs = \"eggs\"\n",
        "\n",
        "print(spam + \" and \" + eggs)"
      ],
      "execution_count": 0,
      "outputs": []
    },
    {
      "cell_type": "code",
      "metadata": {
        "id": "7EcuSbKd9Sae",
        "colab_type": "code",
        "colab": {}
      },
      "source": [
        "print(8*spam)"
      ],
      "execution_count": 0,
      "outputs": []
    },
    {
      "cell_type": "code",
      "metadata": {
        "id": "rfGS3NVT9VSX",
        "colab_type": "code",
        "colab": {}
      },
      "source": [
        "lunch = 5 * (spam + comma_space) + eggs + \" and \" + spam\n",
        "print(lunch)"
      ],
      "execution_count": 0,
      "outputs": []
    },
    {
      "cell_type": "code",
      "metadata": {
        "id": "HSV4ypHm9iW2",
        "colab_type": "code",
        "colab": {}
      },
      "source": [
        "print(len(\"Hello World!\"))\n",
        "print(len(spam))\n",
        "print(len(lunch))"
      ],
      "execution_count": 0,
      "outputs": []
    },
    {
      "cell_type": "code",
      "metadata": {
        "id": "qjTJ_UnN9u7-",
        "colab_type": "code",
        "colab": {}
      },
      "source": [
        "spam[0]"
      ],
      "execution_count": 0,
      "outputs": []
    },
    {
      "cell_type": "code",
      "metadata": {
        "id": "gN5l6Dqq9yBC",
        "colab_type": "code",
        "colab": {}
      },
      "source": [
        "spam[1]"
      ],
      "execution_count": 0,
      "outputs": []
    },
    {
      "cell_type": "code",
      "metadata": {
        "id": "2Z7Z_Ibz91PC",
        "colab_type": "code",
        "colab": {}
      },
      "source": [
        "spam[3]"
      ],
      "execution_count": 0,
      "outputs": []
    },
    {
      "cell_type": "code",
      "metadata": {
        "id": "ffaEtKxA94WY",
        "colab_type": "code",
        "colab": {}
      },
      "source": [
        "spam[-1]"
      ],
      "execution_count": 0,
      "outputs": []
    },
    {
      "cell_type": "code",
      "metadata": {
        "id": "UsX2_cCF96CK",
        "colab_type": "code",
        "colab": {}
      },
      "source": [
        "(spam + eggs)[4]"
      ],
      "execution_count": 0,
      "outputs": []
    },
    {
      "cell_type": "code",
      "metadata": {
        "id": "2JkYvNV19-FJ",
        "colab_type": "code",
        "colab": {}
      },
      "source": [
        "spam[1:]"
      ],
      "execution_count": 0,
      "outputs": []
    },
    {
      "cell_type": "code",
      "metadata": {
        "id": "e1CeEtMg-BwO",
        "colab_type": "code",
        "colab": {}
      },
      "source": [
        "spam[1:-1]"
      ],
      "execution_count": 0,
      "outputs": []
    },
    {
      "cell_type": "code",
      "metadata": {
        "id": "fCQl4PQ4-DiT",
        "colab_type": "code",
        "colab": {}
      },
      "source": [
        "spam[-2:]"
      ],
      "execution_count": 0,
      "outputs": []
    },
    {
      "cell_type": "code",
      "metadata": {
        "id": "3aCy0_7h-Hdy",
        "colab_type": "code",
        "colab": {}
      },
      "source": [
        "spam[8]"
      ],
      "execution_count": 0,
      "outputs": []
    },
    {
      "cell_type": "code",
      "metadata": {
        "id": "Bm-G7mby-d5x",
        "colab_type": "code",
        "colab": {}
      },
      "source": [
        "spam[3] = 'r'"
      ],
      "execution_count": 0,
      "outputs": []
    },
    {
      "cell_type": "markdown",
      "metadata": {
        "id": "yVZkNI-w_Tbq",
        "colab_type": "text"
      },
      "source": [
        "## String methods"
      ]
    },
    {
      "cell_type": "code",
      "metadata": {
        "id": "F0bUBlZZ_VYu",
        "colab_type": "code",
        "colab": {}
      },
      "source": [
        "s = '\\thEllO   \\n'\n",
        "\n",
        "print(s)"
      ],
      "execution_count": 0,
      "outputs": []
    },
    {
      "cell_type": "code",
      "metadata": {
        "id": "6l74JQsK_ewc",
        "colab_type": "code",
        "colab": {}
      },
      "source": [
        "s1 = s.strip()\n",
        "\n",
        "print(s1)"
      ],
      "execution_count": 0,
      "outputs": []
    },
    {
      "cell_type": "code",
      "metadata": {
        "id": "6in5u1sP_sGa",
        "colab_type": "code",
        "colab": {}
      },
      "source": [
        "print(s)"
      ],
      "execution_count": 0,
      "outputs": []
    },
    {
      "cell_type": "code",
      "metadata": {
        "id": "q5yW17Bu_m33",
        "colab_type": "code",
        "colab": {}
      },
      "source": [
        "s2 = s.upper()\n",
        "\n",
        "print(s2)"
      ],
      "execution_count": 0,
      "outputs": []
    },
    {
      "cell_type": "code",
      "metadata": {
        "id": "7Kd5Bqav_vIx",
        "colab_type": "code",
        "colab": {}
      },
      "source": [
        "print(s.lower())\n",
        "print(s.title())"
      ],
      "execution_count": 0,
      "outputs": []
    },
    {
      "cell_type": "code",
      "metadata": {
        "id": "4c1xSN3H_yYY",
        "colab_type": "code",
        "colab": {}
      },
      "source": [
        "s3 = s.strip().title()\n",
        "\n",
        "print(s3 + ' World!')"
      ],
      "execution_count": 0,
      "outputs": []
    },
    {
      "cell_type": "markdown",
      "metadata": {
        "id": "PaG2YejZAIhn",
        "colab_type": "text"
      },
      "source": [
        "## Type conversion"
      ]
    },
    {
      "cell_type": "code",
      "metadata": {
        "id": "T_hDVEGsAKJz",
        "colab_type": "code",
        "colab": {}
      },
      "source": [
        "a = 1\n",
        "\n",
        "print('one is ' + 1)"
      ],
      "execution_count": 0,
      "outputs": []
    },
    {
      "cell_type": "code",
      "metadata": {
        "id": "v4Ff5alTA5By",
        "colab_type": "code",
        "colab": {}
      },
      "source": [
        "print('one is ' + str(1))"
      ],
      "execution_count": 0,
      "outputs": []
    },
    {
      "cell_type": "code",
      "metadata": {
        "id": "f1CcGGf-FONW",
        "colab_type": "code",
        "colab": {}
      },
      "source": [
        "type(12345)"
      ],
      "execution_count": 0,
      "outputs": []
    },
    {
      "cell_type": "code",
      "metadata": {
        "id": "7zSjWRTRBEVx",
        "colab_type": "code",
        "colab": {}
      },
      "source": [
        "type(str(12345))"
      ],
      "execution_count": 0,
      "outputs": []
    },
    {
      "cell_type": "code",
      "metadata": {
        "id": "e_pSzfZPFXOn",
        "colab_type": "code",
        "colab": {}
      },
      "source": [
        "float(12345)"
      ],
      "execution_count": 0,
      "outputs": []
    },
    {
      "cell_type": "code",
      "metadata": {
        "id": "D7P-tP2hFhm8",
        "colab_type": "code",
        "colab": {}
      },
      "source": [
        "int(12.345)"
      ],
      "execution_count": 0,
      "outputs": []
    },
    {
      "cell_type": "code",
      "metadata": {
        "id": "bGO0jUSBFjqi",
        "colab_type": "code",
        "colab": {}
      },
      "source": [
        "int(\"12345\")"
      ],
      "execution_count": 0,
      "outputs": []
    },
    {
      "cell_type": "code",
      "metadata": {
        "id": "0Uio6ytEFnwu",
        "colab_type": "code",
        "colab": {}
      },
      "source": [
        "int(\"12.345\")"
      ],
      "execution_count": 0,
      "outputs": []
    },
    {
      "cell_type": "code",
      "metadata": {
        "id": "nGlZczsXFr8y",
        "colab_type": "code",
        "colab": {}
      },
      "source": [
        "float(\"12345\")"
      ],
      "execution_count": 0,
      "outputs": []
    },
    {
      "cell_type": "code",
      "metadata": {
        "id": "ZXxdPMqtFuhx",
        "colab_type": "code",
        "colab": {}
      },
      "source": [
        "float(\"12.345\")"
      ],
      "execution_count": 0,
      "outputs": []
    },
    {
      "cell_type": "code",
      "metadata": {
        "id": "QP3Z9ikAFwr3",
        "colab_type": "code",
        "colab": {}
      },
      "source": [
        "int(\"1000\", 2)"
      ],
      "execution_count": 0,
      "outputs": []
    },
    {
      "cell_type": "code",
      "metadata": {
        "id": "dIFH90qTF6nK",
        "colab_type": "code",
        "colab": {}
      },
      "source": [
        "int(\"ff\", 16)"
      ],
      "execution_count": 0,
      "outputs": []
    },
    {
      "cell_type": "code",
      "metadata": {
        "id": "QYt8x6zOF8qj",
        "colab_type": "code",
        "colab": {}
      },
      "source": [
        "int(\"deadbeef\", 16)"
      ],
      "execution_count": 0,
      "outputs": []
    },
    {
      "cell_type": "markdown",
      "metadata": {
        "id": "uG-42NFEGxnN",
        "colab_type": "text"
      },
      "source": [
        "## Format strings"
      ]
    },
    {
      "cell_type": "code",
      "metadata": {
        "id": "2lt3G8CvG4t-",
        "colab_type": "code",
        "colab": {}
      },
      "source": [
        "a = 2\n",
        "\n",
        "print(f'a = {a}')"
      ],
      "execution_count": 0,
      "outputs": []
    },
    {
      "cell_type": "code",
      "metadata": {
        "id": "FnQN6543G_uw",
        "colab_type": "code",
        "colab": {}
      },
      "source": [
        "print(f'{a} squared is {a*a}')"
      ],
      "execution_count": 0,
      "outputs": []
    },
    {
      "cell_type": "code",
      "metadata": {
        "id": "gUDqyfycHPd8",
        "colab_type": "code",
        "colab": {}
      },
      "source": [
        "import math\n",
        "\n",
        "print(f'The square root of {a} is approximately {math.sqrt(a):.2f}')"
      ],
      "execution_count": 0,
      "outputs": []
    },
    {
      "cell_type": "code",
      "metadata": {
        "id": "L_nZ6HSwI3Rl",
        "colab_type": "code",
        "colab": {}
      },
      "source": [
        "word = 'Hello'\n",
        "\n",
        "print(f'{word:_<15}')\n",
        "print(f'{word:*^15}')\n",
        "print(f'{word:_>15}')"
      ],
      "execution_count": 0,
      "outputs": []
    }
  ]
}