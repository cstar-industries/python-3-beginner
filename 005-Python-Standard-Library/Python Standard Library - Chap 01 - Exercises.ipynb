{
  "nbformat": 4,
  "nbformat_minor": 0,
  "metadata": {
    "colab": {
      "name": "Python Standard Library - Chap 01 - Exercises",
      "provenance": [],
      "private_outputs": true,
      "authorship_tag": "ABX9TyNkYGjMskIMo7KH/z8/jmuW",
      "include_colab_link": true
    },
    "kernelspec": {
      "name": "python3",
      "display_name": "Python 3"
    }
  },
  "cells": [
    {
      "cell_type": "markdown",
      "metadata": {
        "id": "view-in-github",
        "colab_type": "text"
      },
      "source": [
        "<a href=\"https://colab.research.google.com/github/cstar-industries/python-3-beginner/blob/master/005-Python-Standard-Library/Python%20Standard%20Library%20-%20Chap%2001%20-%20Exercises.ipynb\" target=\"_parent\"><img src=\"https://colab.research.google.com/assets/colab-badge.svg\" alt=\"Open In Colab\"/></a>"
      ]
    },
    {
      "cell_type": "markdown",
      "metadata": {
        "id": "0M8CfnVHdizL",
        "colab_type": "text"
      },
      "source": [
        "# 1.\n",
        "\n",
        "Create a file named `python-3-beginner.txt` and write the following into it: [a greeting, your name and title, and your love for Python](https://colab.research.google.com/github/cstar-industries/python-3-beginner/blob/master/001-First-Steps/First%20Steps%20-%20Workshop.ipynb#scrollTo=FDXNB_CqITAO).\n",
        "\n",
        "Example:\n",
        "\n",
        "```\n",
        "Hello World!\n",
        "I'm Charles, and I'm a Python teacher.\n",
        "I love Python so much I'm going to marry it.\n",
        "```\n",
        "\n",
        "Use the file navigator on the left  of the Colab interface to see the new file, download it and open it on your own computer to see what is inside it.\n",
        "\n",
        "Next, in a second block, write a program that opens your file, reads the content to a string, and outputs it.\n",
        "\n",
        "Finally, in a third block, delete the file you created."
      ]
    },
    {
      "cell_type": "code",
      "metadata": {
        "id": "fT70EspzdFO7",
        "colab_type": "code",
        "colab": {}
      },
      "source": [
        "# File writing in this block"
      ],
      "execution_count": 0,
      "outputs": []
    },
    {
      "cell_type": "code",
      "metadata": {
        "id": "_YmzXQzxegLe",
        "colab_type": "code",
        "colab": {}
      },
      "source": [
        "# File reading in this block"
      ],
      "execution_count": 0,
      "outputs": []
    },
    {
      "cell_type": "code",
      "metadata": {
        "id": "b3ydhvwutPVK",
        "colab_type": "code",
        "colab": {}
      },
      "source": [
        "# File removal in this block"
      ],
      "execution_count": 0,
      "outputs": []
    },
    {
      "cell_type": "markdown",
      "metadata": {
        "id": "Z6HqAIkXE9us",
        "colab_type": "text"
      },
      "source": [
        "## 2.\n",
        "\n",
        "Write a function `pathinfo` that returns a dictionary with the following entries:\n",
        "\n",
        "* The path name given in the argument\n",
        "* The canonical (\"real\") path\n",
        "* The entry name (from the real path)\n",
        "* The directory (from the real path)\n",
        "* The file extension (if there is one)\n",
        "\n",
        "Example:\n",
        "\n",
        "```python\n",
        "pathinfo('.')\n",
        "{'path': '.',\n",
        " 'realpath': '/home/chrales/Work/python-3-beginner',\n",
        " 'name': 'python-3-beginner',\n",
        " 'dir': '/home/chrales/Work'}\n",
        "\n",
        " pathinfo('./hello.txt')\n",
        "{'path': './hello.txt',\n",
        " 'realpath': '/content/hello.txt',\n",
        " 'name': 'hello.txt',\n",
        " 'dir': '/content',\n",
        " 'ext': 'txt'}\n",
        " ```"
      ]
    },
    {
      "cell_type": "code",
      "metadata": {
        "id": "qtno36H1E9e0",
        "colab_type": "code",
        "colab": {}
      },
      "source": [
        "def pathinfo(path):\n",
        "  # Your code starts here..."
      ],
      "execution_count": 0,
      "outputs": []
    }
  ]
}