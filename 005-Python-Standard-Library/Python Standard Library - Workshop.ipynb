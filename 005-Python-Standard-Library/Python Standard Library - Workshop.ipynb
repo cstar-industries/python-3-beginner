{
  "nbformat": 4,
  "nbformat_minor": 0,
  "metadata": {
    "colab": {
      "name": "Python Standard Library - Workshop",
      "provenance": [],
      "private_outputs": true,
      "authorship_tag": "ABX9TyMfUUJbz3RhNatffEtVJqEV",
      "include_colab_link": true
    },
    "kernelspec": {
      "name": "python3",
      "display_name": "Python 3"
    }
  },
  "cells": [
    {
      "cell_type": "markdown",
      "metadata": {
        "id": "view-in-github",
        "colab_type": "text"
      },
      "source": [
        "<a href=\"https://colab.research.google.com/github/cstar-industries/python-3-beginner/blob/master/005-Python-Standard-Library/Python%20Standard%20Library%20-%20Workshop.ipynb\" target=\"_parent\"><img src=\"https://colab.research.google.com/assets/colab-badge.svg\" alt=\"Open In Colab\"/></a>"
      ]
    },
    {
      "cell_type": "markdown",
      "metadata": {
        "id": "FK-AHGOZIyGO",
        "colab_type": "text"
      },
      "source": [
        "## 1. Splitting paths\n",
        "\n",
        "Write a function `split_path` that will give all components of a path in a list.\n",
        "\n",
        "Example:\n",
        "\n",
        "```python\n",
        "split_path('/Users/chrales/Work/python-3-beginner')\n",
        "['/', 'Users', 'chrales', 'Work', 'python-3-beginner']\n",
        "```\n",
        "\n",
        "Do not use `str.split` as path separators can vary between platforms (`/` on Unix, `\\` on Windows).\n",
        "\n",
        "> Note: `os.path.join(*split_path(path))` should return the `path` given as argument."
      ]
    },
    {
      "cell_type": "code",
      "metadata": {
        "id": "J-w_j6OHGjHm",
        "colab_type": "code",
        "colab": {}
      },
      "source": [
        ""
      ],
      "execution_count": 0,
      "outputs": []
    },
    {
      "cell_type": "markdown",
      "metadata": {
        "id": "yVIC1_hpsQHv",
        "colab_type": "text"
      },
      "source": [
        "## 2. List directory details\n",
        "\n",
        "Write a function `listdir_with_details` that lists the entries in the directory path given as argument with the following details:\n",
        "\n",
        "* Name\n",
        "* A symbol indicating a file or a directory\n",
        "* Size (in bytes if it is a file, number of entries in the subdirectory otherwise)\n",
        "\n",
        "Example, for the [class repository](https://github.com/cstar-industries/python-3-beginner), the program should output something like:\n",
        "\n",
        "```\n",
        "D 001-First-Steps 10\n",
        "D 002-Control-Flow 12\n",
        "D 003-Data-Structures 10\n",
        "D 004-Functions-And-More 11\n",
        "F README.md 544\n",
        "```"
      ]
    },
    {
      "cell_type": "code",
      "metadata": {
        "id": "64cRM-hksPmk",
        "colab_type": "code",
        "colab": {}
      },
      "source": [
        "def listdir_with_details(path='.'):\n",
        "  # Your code starts here..."
      ],
      "execution_count": 0,
      "outputs": []
    }
  ]
}