{
  "nbformat": 4,
  "nbformat_minor": 0,
  "metadata": {
    "colab": {
      "name": "Python Standard Library - Chap 03 - Demo",
      "provenance": [],
      "private_outputs": true,
      "toc_visible": true,
      "authorship_tag": "ABX9TyNB+DDnQJ1MCvjMxBAWmaZs",
      "include_colab_link": true
    },
    "kernelspec": {
      "name": "python3",
      "display_name": "Python 3"
    }
  },
  "cells": [
    {
      "cell_type": "markdown",
      "metadata": {
        "id": "view-in-github",
        "colab_type": "text"
      },
      "source": [
        "<a href=\"https://colab.research.google.com/github/cstar-industries/python-3-beginner/blob/master/005-Python-Standard-Library/Python%20Standard%20Library%20-%20Chap%2003%20-%20Demo.ipynb\" target=\"_parent\"><img src=\"https://colab.research.google.com/assets/colab-badge.svg\" alt=\"Open In Colab\"/></a>"
      ]
    },
    {
      "cell_type": "markdown",
      "metadata": {
        "id": "PJJ6RWuW5sB9",
        "colab_type": "text"
      },
      "source": [
        "### Serializing/deserializing"
      ]
    },
    {
      "cell_type": "code",
      "metadata": {
        "id": "Tm839O1d5yZD",
        "colab_type": "code",
        "colab": {}
      },
      "source": [
        "import pickle"
      ],
      "execution_count": 0,
      "outputs": []
    },
    {
      "cell_type": "code",
      "metadata": {
        "id": "J_1Qxk6x5yP2",
        "colab_type": "code",
        "colab": {}
      },
      "source": [
        "d = {'date': datetime.now(), 'temperature': 19.7, 'python': 'snek'}\n",
        "with open('python_obj.pickle', 'wb') as f:\n",
        "    pickle.dump(d, f) "
      ],
      "execution_count": 0,
      "outputs": []
    },
    {
      "cell_type": "code",
      "metadata": {
        "id": "Jm05mflj5vt2",
        "colab_type": "code",
        "colab": {}
      },
      "source": [
        "with open('python_obj.pickle', 'rb') as f:\n",
        "    d2 = pickle.load(f) \n",
        "print(d2)"
      ],
      "execution_count": 0,
      "outputs": []
    },
    {
      "cell_type": "code",
      "metadata": {
        "id": "M0-oU2SQ55f1",
        "colab_type": "code",
        "colab": {}
      },
      "source": [
        "d == d2"
      ],
      "execution_count": 0,
      "outputs": []
    },
    {
      "cell_type": "code",
      "metadata": {
        "id": "_9uJ2yna57-R",
        "colab_type": "code",
        "colab": {}
      },
      "source": [
        "import json"
      ],
      "execution_count": 0,
      "outputs": []
    },
    {
      "cell_type": "code",
      "metadata": {
        "id": "2y7dQljn5-HZ",
        "colab_type": "code",
        "colab": {}
      },
      "source": [
        "json_data = '{\"first_name\": \"Rob\", \"last_name\": \"Pike\", \"occupation\": \"programmer\"}'\n",
        "d = json.loads(json_data)\n",
        "print(d)"
      ],
      "execution_count": 0,
      "outputs": []
    },
    {
      "cell_type": "code",
      "metadata": {
        "id": "vFI69qkl8OTf",
        "colab_type": "code",
        "colab": {}
      },
      "source": [
        "type(d)"
      ],
      "execution_count": 0,
      "outputs": []
    },
    {
      "cell_type": "code",
      "metadata": {
        "id": "qMQluF3t9A-F",
        "colab_type": "code",
        "colab": {}
      },
      "source": [
        "json.dumps({'range': [*range(10)]})"
      ],
      "execution_count": 0,
      "outputs": []
    },
    {
      "cell_type": "code",
      "metadata": {
        "id": "WoWZVG_H9G6-",
        "colab_type": "code",
        "colab": {}
      },
      "source": [
        "print(json.dumps({'range': [*range(10)]}, indent='  '))"
      ],
      "execution_count": 0,
      "outputs": []
    },
    {
      "cell_type": "code",
      "metadata": {
        "id": "_uEOKbBD9QkM",
        "colab_type": "code",
        "colab": {}
      },
      "source": [
        "import csv"
      ],
      "execution_count": 0,
      "outputs": []
    },
    {
      "cell_type": "code",
      "metadata": {
        "id": "hR7a9g-p9U3p",
        "colab_type": "code",
        "colab": {}
      },
      "source": [
        "with open('tesla-stock-price.csv') as f:\n",
        "  csv_data = csv.reader(f, delimiter=\",\", quotechar='\"')\n",
        "  for row in csv_data:\n",
        "    print(row)"
      ],
      "execution_count": 0,
      "outputs": []
    },
    {
      "cell_type": "code",
      "metadata": {
        "id": "1cemTj57-R7o",
        "colab_type": "code",
        "colab": {}
      },
      "source": [
        "contacts = [{'first_name': 'Zoila', 'last_name': 'Konopelski', 'email': 'zoila.konopelski8@yahoo.com'},\n",
        "            {'first_name': 'Herminio', 'last_name': 'Schaefer', 'email': 'herminio.schaefer@yahoo.com'},\n",
        "            {'first_name': 'Lupe', 'last_name': 'Okuneva', 'email': 'lupe_okuneva37@yahoo.com'},\n",
        "            {'first_name': 'Joanne', 'last_name': 'Wolf', 'email': 'joanne.wolf63@yahoo.com'},\n",
        "            {'first_name': 'Antone', 'last_name': 'Barton', 'email': 'antone30@gmail.com'},\n",
        "            {'first_name': 'Ludwig', 'last_name': 'Bashirian', 'email': 'ludwig_bashirian36@hotmail.com'}]"
      ],
      "execution_count": 0,
      "outputs": []
    },
    {
      "cell_type": "code",
      "metadata": {
        "id": "soOLZw5jKZ3r",
        "colab_type": "code",
        "colab": {}
      },
      "source": [
        "header = ['first_name', 'last_name', 'email']"
      ],
      "execution_count": 0,
      "outputs": []
    },
    {
      "cell_type": "code",
      "metadata": {
        "id": "KlRmDvRPJswF",
        "colab_type": "code",
        "colab": {}
      },
      "source": [
        "rows = [[c['first_name'], c['last_name'], c['email']] for c in contacts]\n",
        "print(rows)"
      ],
      "execution_count": 0,
      "outputs": []
    },
    {
      "cell_type": "code",
      "metadata": {
        "id": "QBx0fYVTJ1rV",
        "colab_type": "code",
        "colab": {}
      },
      "source": [
        "with open('contacts.csv', 'w', newline='') as f:\n",
        "  csv_file = csv.writer(f)\n",
        "  csv_file.writerow(header)\n",
        "  csv_file.writerows(rows)"
      ],
      "execution_count": 0,
      "outputs": []
    },
    {
      "cell_type": "markdown",
      "metadata": {
        "id": "KUlaA5qcv5Kz",
        "colab_type": "text"
      },
      "source": [
        "## Zip Files"
      ]
    },
    {
      "cell_type": "code",
      "metadata": {
        "id": "KWJ5lMeKyFxi",
        "colab_type": "code",
        "colab": {}
      },
      "source": [
        "import requests\n",
        "\n",
        "res = requests.get('https://github.com/cstar-industries/python-3-beginner/archive/master.zip')\n",
        "with open('python-3-beginner.zip', 'wb') as f:\n",
        "  f.write(res.content)"
      ],
      "execution_count": 0,
      "outputs": []
    },
    {
      "cell_type": "code",
      "metadata": {
        "id": "7u-vDXyvv4jk",
        "colab_type": "code",
        "colab": {}
      },
      "source": [
        "from zipfile import ZipFile"
      ],
      "execution_count": 0,
      "outputs": []
    },
    {
      "cell_type": "code",
      "metadata": {
        "id": "IxOn_He8wOaG",
        "colab_type": "code",
        "colab": {}
      },
      "source": [
        "z = ZipFile('python-3-beginner.zip')\n",
        "for filename in z.namelist():\n",
        "  print(filename)"
      ],
      "execution_count": 0,
      "outputs": []
    },
    {
      "cell_type": "code",
      "metadata": {
        "id": "s5-cXbfg0p2i",
        "colab_type": "code",
        "colab": {}
      },
      "source": [
        "z.extract('python-3-beginner-master/README.md')"
      ],
      "execution_count": 0,
      "outputs": []
    },
    {
      "cell_type": "code",
      "metadata": {
        "id": "uAtDB0dh0we_",
        "colab_type": "code",
        "colab": {}
      },
      "source": [
        "z.read('python-3-beginner-master/README.md')"
      ],
      "execution_count": 0,
      "outputs": []
    },
    {
      "cell_type": "code",
      "metadata": {
        "id": "T54Ss4p435zt",
        "colab_type": "code",
        "colab": {}
      },
      "source": [
        "z.close()"
      ],
      "execution_count": 0,
      "outputs": []
    },
    {
      "cell_type": "code",
      "metadata": {
        "id": "8kSexyb27N94",
        "colab_type": "code",
        "colab": {}
      },
      "source": [
        "l = [x*x for x in range(1 << 24)]   # large list of 16+ million integers\n",
        "with ZipFile('squares.zip', 'w') as z:\n",
        "  with z.open('squares.pickle', 'w') as f:\n",
        "    pickle.dump(l,  f)"
      ],
      "execution_count": 0,
      "outputs": []
    },
    {
      "cell_type": "markdown",
      "metadata": {
        "id": "va7jNsuoAyU3",
        "colab_type": "text"
      },
      "source": [
        "## SQLite database"
      ]
    },
    {
      "cell_type": "code",
      "metadata": {
        "id": "PqixwS-lA2qk",
        "colab_type": "code",
        "colab": {}
      },
      "source": [
        "import sqlite3"
      ],
      "execution_count": 0,
      "outputs": []
    },
    {
      "cell_type": "code",
      "metadata": {
        "id": "uXTwPfhtA80U",
        "colab_type": "code",
        "colab": {}
      },
      "source": [
        "res = requests.get('https://cdn.sqlitetutorial.net/wp-content/uploads/2018/03/chinook.zip')\n",
        "with open('chinook.zip', 'wb') as f:\n",
        "  f.write(res.content)\n",
        "\n",
        "with ZipFile('chinook.zip') as z:\n",
        "  z.extractall()"
      ],
      "execution_count": 0,
      "outputs": []
    },
    {
      "cell_type": "code",
      "metadata": {
        "id": "9ZRDAl6yBk-a",
        "colab_type": "code",
        "colab": {}
      },
      "source": [
        "conn = sqlite3.connect('chinook.db')"
      ],
      "execution_count": 0,
      "outputs": []
    },
    {
      "cell_type": "code",
      "metadata": {
        "id": "4mIDkp5GB4Kj",
        "colab_type": "code",
        "colab": {}
      },
      "source": [
        "cur = conn.cursor()"
      ],
      "execution_count": 0,
      "outputs": []
    },
    {
      "cell_type": "code",
      "metadata": {
        "id": "ysgQmRHzB7DB",
        "colab_type": "code",
        "colab": {}
      },
      "source": [
        "for row in cur.execute('SELECT * FROM artists'):\n",
        "  print(row)"
      ],
      "execution_count": 0,
      "outputs": []
    },
    {
      "cell_type": "code",
      "metadata": {
        "id": "PoKihk3PCmHZ",
        "colab_type": "code",
        "colab": {}
      },
      "source": [
        "for row in cur.execute('SELECT * FROM albums WHERE ArtistId = 144'):\n",
        "  print(row)"
      ],
      "execution_count": 0,
      "outputs": []
    },
    {
      "cell_type": "code",
      "metadata": {
        "id": "eBekdkTbC3tC",
        "colab_type": "code",
        "colab": {}
      },
      "source": [
        "conn.close()"
      ],
      "execution_count": 0,
      "outputs": []
    }
  ]
}