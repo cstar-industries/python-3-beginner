{
  "nbformat": 4,
  "nbformat_minor": 0,
  "metadata": {
    "colab": {
      "name": "Python Standard Library - Chap 03 - Demo",
      "provenance": [],
      "private_outputs": true,
      "authorship_tag": "ABX9TyPuAXbKEsx0yf2Kq6Nwv1mS",
      "include_colab_link": true
    },
    "kernelspec": {
      "name": "python3",
      "display_name": "Python 3"
    }
  },
  "cells": [
    {
      "cell_type": "markdown",
      "metadata": {
        "id": "view-in-github",
        "colab_type": "text"
      },
      "source": [
        "<a href=\"https://colab.research.google.com/github/cstar-industries/python-3-beginner/blob/master/005-Python-Standard-Library/Python%20Standard%20Library%20-%20Chap%2003%20-%20Demo.ipynb\" target=\"_parent\"><img src=\"https://colab.research.google.com/assets/colab-badge.svg\" alt=\"Open In Colab\"/></a>"
      ]
    },
    {
      "cell_type": "markdown",
      "metadata": {
        "id": "GNYkgOJ9wvNk",
        "colab_type": "text"
      },
      "source": [
        "## Time and date"
      ]
    },
    {
      "cell_type": "code",
      "metadata": {
        "id": "D6bh1RuLw2wY",
        "colab_type": "code",
        "colab": {}
      },
      "source": [
        "from datetime import datetime, timedelta, timezone"
      ],
      "execution_count": 0,
      "outputs": []
    },
    {
      "cell_type": "code",
      "metadata": {
        "id": "umI8uEJnwy2S",
        "colab_type": "code",
        "colab": {}
      },
      "source": [
        "t = datetime.now()\n",
        "print(t)"
      ],
      "execution_count": 0,
      "outputs": []
    },
    {
      "cell_type": "code",
      "metadata": {
        "id": "q0g8UKqMw6y1",
        "colab_type": "code",
        "colab": {}
      },
      "source": [
        "d = timedelta(hours=12)\n",
        "print(d)"
      ],
      "execution_count": 0,
      "outputs": []
    },
    {
      "cell_type": "code",
      "metadata": {
        "id": "dpuSiTdaxAnl",
        "colab_type": "code",
        "colab": {}
      },
      "source": [
        "t + d"
      ],
      "execution_count": 0,
      "outputs": []
    },
    {
      "cell_type": "code",
      "metadata": {
        "id": "TtBDE_hxxCVE",
        "colab_type": "code",
        "colab": {}
      },
      "source": [
        "t - d"
      ],
      "execution_count": 0,
      "outputs": []
    },
    {
      "cell_type": "code",
      "metadata": {
        "id": "uvFnpkKXxD23",
        "colab_type": "code",
        "colab": {}
      },
      "source": [
        "t < (t + d)"
      ],
      "execution_count": 0,
      "outputs": []
    },
    {
      "cell_type": "code",
      "metadata": {
        "id": "7hcdG36-xI8M",
        "colab_type": "code",
        "colab": {}
      },
      "source": [
        "tz = timezone(timedelta(hours=2))\n",
        "print(tz)"
      ],
      "execution_count": 0,
      "outputs": []
    },
    {
      "cell_type": "code",
      "metadata": {
        "id": "itWhbKpexQmZ",
        "colab_type": "code",
        "colab": {}
      },
      "source": [
        "t = datetime.now(tz)\n",
        "print(t)"
      ],
      "execution_count": 0,
      "outputs": []
    },
    {
      "cell_type": "code",
      "metadata": {
        "id": "5CGw6XURxU67",
        "colab_type": "code",
        "colab": {}
      },
      "source": [
        "t.timestamp()"
      ],
      "execution_count": 0,
      "outputs": []
    },
    {
      "cell_type": "code",
      "metadata": {
        "id": "lGgnTlOBywJg",
        "colab_type": "code",
        "colab": {}
      },
      "source": [
        "t.isoformat()"
      ],
      "execution_count": 0,
      "outputs": []
    },
    {
      "cell_type": "code",
      "metadata": {
        "id": "wAHpNdhQzvRu",
        "colab_type": "code",
        "colab": {}
      },
      "source": [
        "t.strftime('%a, %b %d %H:%m %Y')"
      ],
      "execution_count": 0,
      "outputs": []
    }
  ]
}