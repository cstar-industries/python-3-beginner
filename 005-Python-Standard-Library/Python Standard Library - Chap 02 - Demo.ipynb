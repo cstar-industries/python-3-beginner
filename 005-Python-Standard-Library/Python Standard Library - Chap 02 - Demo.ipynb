{
  "nbformat": 4,
  "nbformat_minor": 0,
  "metadata": {
    "colab": {
      "name": "Python Standard Library - Chap 02 - Demo",
      "provenance": [],
      "private_outputs": true,
      "authorship_tag": "ABX9TyMieH50dWEpqSllp+Zfm3t3",
      "include_colab_link": true
    },
    "kernelspec": {
      "name": "python3",
      "display_name": "Python 3"
    }
  },
  "cells": [
    {
      "cell_type": "markdown",
      "metadata": {
        "id": "view-in-github",
        "colab_type": "text"
      },
      "source": [
        "<a href=\"https://colab.research.google.com/github/cstar-industries/python-3-beginner/blob/master/005-Python-Standard-Library/Python%20Standard%20Library%20-%20Chap%2002%20-%20Demo.ipynb\" target=\"_parent\"><img src=\"https://colab.research.google.com/assets/colab-badge.svg\" alt=\"Open In Colab\"/></a>"
      ]
    },
    {
      "cell_type": "markdown",
      "metadata": {
        "id": "XwTF9IJrOrj_",
        "colab_type": "text"
      },
      "source": [
        "## Regular expressions"
      ]
    },
    {
      "cell_type": "code",
      "metadata": {
        "id": "9YeZwmQcOq0W",
        "colab_type": "code",
        "colab": {}
      },
      "source": [
        "import re"
      ],
      "execution_count": 0,
      "outputs": []
    },
    {
      "cell_type": "code",
      "metadata": {
        "id": "5DTiWwcTOwFN",
        "colab_type": "code",
        "colab": {}
      },
      "source": [
        "re.search(r'a+b+', 'aaaaabbbcccc')"
      ],
      "execution_count": 0,
      "outputs": []
    },
    {
      "cell_type": "code",
      "metadata": {
        "id": "3Oe0MNLgPHtY",
        "colab_type": "code",
        "colab": {}
      },
      "source": [
        "opening_crawl = \"\"\"It is a period of civil war.\n",
        "Rebel spaceships, striking\n",
        "from a hidden base, have won\n",
        "their first victory against\n",
        "the evil Galactic Empire.\n",
        "\n",
        "During the battle, Rebel\n",
        "spies managed to steal secret\n",
        "plans to the Empire's\n",
        "ultimate weapon, the DEATH\n",
        "STAR, an armored space\n",
        "station with enough power to\n",
        "destroy an entire planet.\n",
        "\n",
        "Pursued by the Empire's\n",
        "sinister agents, Princess\n",
        "Leia races home aboard her\n",
        "starship, custodian of the\n",
        "stolen plans that can save\n",
        "her people and restore\n",
        "freedom to the galaxy.....\"\"\""
      ],
      "execution_count": 0,
      "outputs": []
    },
    {
      "cell_type": "code",
      "metadata": {
        "id": "fB0DXQE9PBEy",
        "colab_type": "code",
        "colab": {}
      },
      "source": [
        "re.sub(r'\\s+', ' ', opening_crawl)"
      ],
      "execution_count": 0,
      "outputs": []
    },
    {
      "cell_type": "code",
      "metadata": {
        "id": "OxqKCnjxQSqu",
        "colab_type": "code",
        "colab": {}
      },
      "source": [
        "re.split('\\s+', opening_crawl)"
      ],
      "execution_count": 0,
      "outputs": []
    },
    {
      "cell_type": "markdown",
      "metadata": {
        "id": "rnYGp5vAQ9MO",
        "colab_type": "text"
      },
      "source": [
        "## Base-64"
      ]
    },
    {
      "cell_type": "code",
      "metadata": {
        "id": "gHmihpxHRcUJ",
        "colab_type": "code",
        "colab": {}
      },
      "source": [
        "import base64"
      ],
      "execution_count": 0,
      "outputs": []
    },
    {
      "cell_type": "code",
      "metadata": {
        "id": "fJEXXd9QToSe",
        "colab_type": "code",
        "colab": {}
      },
      "source": [
        "s = b'Hello World!'\n",
        "print(s)"
      ],
      "execution_count": 0,
      "outputs": []
    },
    {
      "cell_type": "code",
      "metadata": {
        "id": "J5b_GBfXUDKE",
        "colab_type": "code",
        "colab": {}
      },
      "source": [
        "''.join([f'{c:02x}' for c in s])"
      ],
      "execution_count": 0,
      "outputs": []
    },
    {
      "cell_type": "code",
      "metadata": {
        "id": "DevBk_ftUWJ_",
        "colab_type": "code",
        "colab": {}
      },
      "source": [
        "base64.b64encode(s)"
      ],
      "execution_count": 0,
      "outputs": []
    },
    {
      "cell_type": "markdown",
      "metadata": {
        "id": "OKMFivFRZ-5W",
        "colab_type": "text"
      },
      "source": [
        "## Math and random"
      ]
    },
    {
      "cell_type": "code",
      "metadata": {
        "id": "YeHRRgzGaBfH",
        "colab_type": "code",
        "colab": {}
      },
      "source": [
        "import math"
      ],
      "execution_count": 0,
      "outputs": []
    },
    {
      "cell_type": "code",
      "metadata": {
        "id": "QblFJ1YWaCrh",
        "colab_type": "code",
        "colab": {}
      },
      "source": [
        "print(math.pi)\n",
        "print(math.e)"
      ],
      "execution_count": 0,
      "outputs": []
    },
    {
      "cell_type": "code",
      "metadata": {
        "id": "2QnU4Qo8fE40",
        "colab_type": "code",
        "colab": {}
      },
      "source": [
        "math.radians(180)"
      ],
      "execution_count": 0,
      "outputs": []
    },
    {
      "cell_type": "code",
      "metadata": {
        "id": "oCdOQGtYfHiG",
        "colab_type": "code",
        "colab": {}
      },
      "source": [
        "math.degrees(math.pi/4)"
      ],
      "execution_count": 0,
      "outputs": []
    },
    {
      "cell_type": "code",
      "metadata": {
        "id": "DAbQb_QrfLRX",
        "colab_type": "code",
        "colab": {}
      },
      "source": [
        "math.cos(math.pi)"
      ],
      "execution_count": 0,
      "outputs": []
    },
    {
      "cell_type": "code",
      "metadata": {
        "id": "uquBSKYafT7l",
        "colab_type": "code",
        "colab": {}
      },
      "source": [
        "math.sin(math.radians(90))"
      ],
      "execution_count": 0,
      "outputs": []
    },
    {
      "cell_type": "code",
      "metadata": {
        "id": "UbvSrjXUfa-d",
        "colab_type": "code",
        "colab": {}
      },
      "source": [
        "math.degrees(math.asin(math.sqrt(2)/2))"
      ],
      "execution_count": 0,
      "outputs": []
    },
    {
      "cell_type": "code",
      "metadata": {
        "id": "B96tpwixfidb",
        "colab_type": "code",
        "colab": {}
      },
      "source": [
        "math.exp(1)"
      ],
      "execution_count": 0,
      "outputs": []
    },
    {
      "cell_type": "code",
      "metadata": {
        "id": "n7tJKre-fmmj",
        "colab_type": "code",
        "colab": {}
      },
      "source": [
        "math.log(2)"
      ],
      "execution_count": 0,
      "outputs": []
    },
    {
      "cell_type": "code",
      "metadata": {
        "id": "Dco0PQycfo1O",
        "colab_type": "code",
        "colab": {}
      },
      "source": [
        "math.log2(1024)"
      ],
      "execution_count": 0,
      "outputs": []
    },
    {
      "cell_type": "code",
      "metadata": {
        "id": "RUf4M6u_frbH",
        "colab_type": "code",
        "colab": {}
      },
      "source": [
        "math.log10(10000000)"
      ],
      "execution_count": 0,
      "outputs": []
    },
    {
      "cell_type": "code",
      "metadata": {
        "id": "VhnrhvEpftsB",
        "colab_type": "code",
        "colab": {}
      },
      "source": [
        "import random"
      ],
      "execution_count": 0,
      "outputs": []
    },
    {
      "cell_type": "code",
      "metadata": {
        "id": "D8YP-Vj7f3Gr",
        "colab_type": "code",
        "colab": {}
      },
      "source": [
        "random.random()"
      ],
      "execution_count": 0,
      "outputs": []
    },
    {
      "cell_type": "code",
      "metadata": {
        "id": "eqh4HKt0gPxT",
        "colab_type": "code",
        "colab": {}
      },
      "source": [
        "random.random() * 10"
      ],
      "execution_count": 0,
      "outputs": []
    },
    {
      "cell_type": "code",
      "metadata": {
        "id": "4wN05Qxqgjz0",
        "colab_type": "code",
        "colab": {}
      },
      "source": [
        "(random.random() * 2) - 1"
      ],
      "execution_count": 0,
      "outputs": []
    },
    {
      "cell_type": "code",
      "metadata": {
        "id": "ts-syyf3gzj4",
        "colab_type": "code",
        "colab": {}
      },
      "source": [
        "random.randrange(10, 100)"
      ],
      "execution_count": 0,
      "outputs": []
    },
    {
      "cell_type": "code",
      "metadata": {
        "id": "z4_bo8z-hKHu",
        "colab_type": "code",
        "colab": {}
      },
      "source": [
        "random.choice(['banana', 'pear', 'orange', 'peach'])"
      ],
      "execution_count": 0,
      "outputs": []
    },
    {
      "cell_type": "code",
      "metadata": {
        "id": "GhvFxJChhW70",
        "colab_type": "code",
        "colab": {}
      },
      "source": [
        "random.choices(['banana', 'pear', 'orange', 'peach'], k=5)"
      ],
      "execution_count": 0,
      "outputs": []
    },
    {
      "cell_type": "code",
      "metadata": {
        "id": "wbj9f1Xgigkg",
        "colab_type": "code",
        "colab": {}
      },
      "source": [
        "random.sample(['banana', 'pear', 'orange', 'peach'], k=2)"
      ],
      "execution_count": 0,
      "outputs": []
    },
    {
      "cell_type": "code",
      "metadata": {
        "id": "7aW9FJBzi7Xd",
        "colab_type": "code",
        "colab": {}
      },
      "source": [
        "random.uniform(10, 100)"
      ],
      "execution_count": 0,
      "outputs": []
    },
    {
      "cell_type": "code",
      "metadata": {
        "id": "6TRbUSM6jDwF",
        "colab_type": "code",
        "colab": {}
      },
      "source": [
        "random.gauss(0.0, 1.0)"
      ],
      "execution_count": 0,
      "outputs": []
    },
    {
      "cell_type": "code",
      "metadata": {
        "id": "En_xa1QgjUIY",
        "colab_type": "code",
        "colab": {}
      },
      "source": [
        "random.betavariate(2.0, 2.0)"
      ],
      "execution_count": 0,
      "outputs": []
    },
    {
      "cell_type": "markdown",
      "metadata": {
        "id": "GNYkgOJ9wvNk",
        "colab_type": "text"
      },
      "source": [
        "## Time and date"
      ]
    },
    {
      "cell_type": "code",
      "metadata": {
        "id": "D6bh1RuLw2wY",
        "colab_type": "code",
        "colab": {}
      },
      "source": [
        "from datetime import datetime, timedelta, timezone"
      ],
      "execution_count": 0,
      "outputs": []
    },
    {
      "cell_type": "code",
      "metadata": {
        "id": "umI8uEJnwy2S",
        "colab_type": "code",
        "colab": {}
      },
      "source": [
        "t = datetime.now()\n",
        "print(t)"
      ],
      "execution_count": 0,
      "outputs": []
    },
    {
      "cell_type": "code",
      "metadata": {
        "id": "q0g8UKqMw6y1",
        "colab_type": "code",
        "colab": {}
      },
      "source": [
        "d = timedelta(hours=12)\n",
        "print(d)"
      ],
      "execution_count": 0,
      "outputs": []
    },
    {
      "cell_type": "code",
      "metadata": {
        "id": "dpuSiTdaxAnl",
        "colab_type": "code",
        "colab": {}
      },
      "source": [
        "t + d"
      ],
      "execution_count": 0,
      "outputs": []
    },
    {
      "cell_type": "code",
      "metadata": {
        "id": "TtBDE_hxxCVE",
        "colab_type": "code",
        "colab": {}
      },
      "source": [
        "t - d"
      ],
      "execution_count": 0,
      "outputs": []
    },
    {
      "cell_type": "code",
      "metadata": {
        "id": "uvFnpkKXxD23",
        "colab_type": "code",
        "colab": {}
      },
      "source": [
        "t < (t + d)"
      ],
      "execution_count": 0,
      "outputs": []
    },
    {
      "cell_type": "code",
      "metadata": {
        "id": "7hcdG36-xI8M",
        "colab_type": "code",
        "colab": {}
      },
      "source": [
        "tz = timezone(timedelta(hours=2))\n",
        "print(tz)"
      ],
      "execution_count": 0,
      "outputs": []
    },
    {
      "cell_type": "code",
      "metadata": {
        "id": "itWhbKpexQmZ",
        "colab_type": "code",
        "colab": {}
      },
      "source": [
        "t = datetime.now(tz)\n",
        "print(t)"
      ],
      "execution_count": 0,
      "outputs": []
    },
    {
      "cell_type": "code",
      "metadata": {
        "id": "0osaJz6323Cw",
        "colab_type": "code",
        "colab": {}
      },
      "source": [
        "t_utc = t.astimezone(timezone.utc)\n",
        "t_utc2 = t.astimezone(tz)\n",
        "t_utc == t_utc2"
      ],
      "execution_count": 0,
      "outputs": []
    },
    {
      "cell_type": "code",
      "metadata": {
        "id": "5CGw6XURxU67",
        "colab_type": "code",
        "colab": {}
      },
      "source": [
        "t.timestamp()"
      ],
      "execution_count": 0,
      "outputs": []
    },
    {
      "cell_type": "code",
      "metadata": {
        "id": "lGgnTlOBywJg",
        "colab_type": "code",
        "colab": {}
      },
      "source": [
        "t.isoformat()"
      ],
      "execution_count": 0,
      "outputs": []
    },
    {
      "cell_type": "code",
      "metadata": {
        "id": "wAHpNdhQzvRu",
        "colab_type": "code",
        "colab": {}
      },
      "source": [
        "t.strftime('%a, %b %d %H:%m %Y')"
      ],
      "execution_count": 0,
      "outputs": []
    }
  ]
}