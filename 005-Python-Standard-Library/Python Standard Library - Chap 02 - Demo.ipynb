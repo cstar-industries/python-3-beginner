{
  "nbformat": 4,
  "nbformat_minor": 0,
  "metadata": {
    "colab": {
      "name": "Python Standard Library - Chap 02 - Demo",
      "provenance": [],
      "private_outputs": true,
      "authorship_tag": "ABX9TyOPku651k7s1V9JtfW3M7dW",
      "include_colab_link": true
    },
    "kernelspec": {
      "name": "python3",
      "display_name": "Python 3"
    }
  },
  "cells": [
    {
      "cell_type": "markdown",
      "metadata": {
        "id": "view-in-github",
        "colab_type": "text"
      },
      "source": [
        "<a href=\"https://colab.research.google.com/github/cstar-industries/python-3-beginner/blob/master/005-Python-Standard-Library/Python%20Standard%20Library%20-%20Chap%2002%20-%20Demo.ipynb\" target=\"_parent\"><img src=\"https://colab.research.google.com/assets/colab-badge.svg\" alt=\"Open In Colab\"/></a>"
      ]
    },
    {
      "cell_type": "markdown",
      "metadata": {
        "id": "XwTF9IJrOrj_",
        "colab_type": "text"
      },
      "source": [
        "## Regular expressions"
      ]
    },
    {
      "cell_type": "code",
      "metadata": {
        "id": "9YeZwmQcOq0W",
        "colab_type": "code",
        "colab": {}
      },
      "source": [
        "import re"
      ],
      "execution_count": 0,
      "outputs": []
    },
    {
      "cell_type": "code",
      "metadata": {
        "id": "5DTiWwcTOwFN",
        "colab_type": "code",
        "colab": {}
      },
      "source": [
        "re.search(r'a+b+', 'aaaaabbbcccc')"
      ],
      "execution_count": 0,
      "outputs": []
    },
    {
      "cell_type": "code",
      "metadata": {
        "id": "3Oe0MNLgPHtY",
        "colab_type": "code",
        "colab": {}
      },
      "source": [
        "opening_crawl = \"\"\"It is a period of civil war.\n",
        "Rebel spaceships, striking\n",
        "from a hidden base, have won\n",
        "their first victory against\n",
        "the evil Galactic Empire.\n",
        "\n",
        "During the battle, Rebel\n",
        "spies managed to steal secret\n",
        "plans to the Empire's\n",
        "ultimate weapon, the DEATH\n",
        "STAR, an armored space\n",
        "station with enough power to\n",
        "destroy an entire planet.\n",
        "\n",
        "Pursued by the Empire's\n",
        "sinister agents, Princess\n",
        "Leia races home aboard her\n",
        "starship, custodian of the\n",
        "stolen plans that can save\n",
        "her people and restore\n",
        "freedom to the galaxy.....\"\"\""
      ],
      "execution_count": 0,
      "outputs": []
    },
    {
      "cell_type": "code",
      "metadata": {
        "id": "fB0DXQE9PBEy",
        "colab_type": "code",
        "colab": {}
      },
      "source": [
        "re.sub(r'\\s+', ' ', opening_crawl)"
      ],
      "execution_count": 0,
      "outputs": []
    },
    {
      "cell_type": "code",
      "metadata": {
        "id": "OxqKCnjxQSqu",
        "colab_type": "code",
        "colab": {}
      },
      "source": [
        "re.split('\\s+', opening_crawl)"
      ],
      "execution_count": 0,
      "outputs": []
    }
  ]
}