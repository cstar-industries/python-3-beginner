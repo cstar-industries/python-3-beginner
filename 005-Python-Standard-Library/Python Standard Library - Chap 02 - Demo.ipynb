{
  "nbformat": 4,
  "nbformat_minor": 0,
  "metadata": {
    "colab": {
      "name": "Python Standard Library - Chap 02 - Demo",
      "provenance": [],
      "private_outputs": true,
      "authorship_tag": "ABX9TyORyPd5PcscN7ZRIeaUZC0X",
      "include_colab_link": true
    },
    "kernelspec": {
      "name": "python3",
      "display_name": "Python 3"
    }
  },
  "cells": [
    {
      "cell_type": "markdown",
      "metadata": {
        "id": "view-in-github",
        "colab_type": "text"
      },
      "source": [
        "<a href=\"https://colab.research.google.com/github/cstar-industries/python-3-beginner/blob/master/005-Python-Standard-Library/Python%20Standard%20Library%20-%20Chap%2002%20-%20Demo.ipynb\" target=\"_parent\"><img src=\"https://colab.research.google.com/assets/colab-badge.svg\" alt=\"Open In Colab\"/></a>"
      ]
    },
    {
      "cell_type": "markdown",
      "metadata": {
        "id": "KXMpIL5kVsJv",
        "colab_type": "text"
      },
      "source": [
        "## Files"
      ]
    },
    {
      "cell_type": "code",
      "metadata": {
        "id": "64xDsz80Q5sz",
        "colab_type": "code",
        "colab": {}
      },
      "source": [
        "f = open('hello.txt')\n",
        "print(f.read())\n",
        "f.close()"
      ],
      "execution_count": 0,
      "outputs": []
    },
    {
      "cell_type": "code",
      "metadata": {
        "id": "uzrZVGrwSE4Y",
        "colab_type": "code",
        "colab": {}
      },
      "source": [
        "open('hello.txtx')"
      ],
      "execution_count": 0,
      "outputs": []
    },
    {
      "cell_type": "code",
      "metadata": {
        "id": "_5MczQ_OVo1o",
        "colab_type": "code",
        "colab": {}
      },
      "source": [
        "with open('hello.txt') as f:\n",
        "  print(f.read())\n",
        "\n",
        "print(f'File is', 'closed' if f.closed else 'open')"
      ],
      "execution_count": 0,
      "outputs": []
    },
    {
      "cell_type": "code",
      "metadata": {
        "id": "a2tHo4POXOpS",
        "colab_type": "code",
        "colab": {}
      },
      "source": [
        "with open('hello.txt', 'w') as f:\n",
        "  f.write('Hello World!')\n",
        "\n",
        "with open('hello.txt') as f:\n",
        "  print(f.read())"
      ],
      "execution_count": 0,
      "outputs": []
    },
    {
      "cell_type": "code",
      "metadata": {
        "id": "Pi8DfWTXbWPY",
        "colab_type": "code",
        "colab": {}
      },
      "source": [
        "with open('hello.txt', 'rb') as f:\n",
        "  s = f.read()\n",
        "\n",
        "print(s)"
      ],
      "execution_count": 0,
      "outputs": []
    },
    {
      "cell_type": "code",
      "metadata": {
        "id": "1LdDyTQWcCH9",
        "colab_type": "code",
        "colab": {}
      },
      "source": [
        "with open('hello.txt') as f:\n",
        "  print(f.read(3))\n",
        "  print(f.read())"
      ],
      "execution_count": 0,
      "outputs": []
    },
    {
      "cell_type": "code",
      "metadata": {
        "id": "W4NNHtoAfhnA",
        "colab_type": "code",
        "colab": {}
      },
      "source": [
        "with open('binary.bin') as f:\n",
        "  print(f.read())"
      ],
      "execution_count": 0,
      "outputs": []
    },
    {
      "cell_type": "markdown",
      "metadata": {
        "id": "rPO6vL1khz18",
        "colab_type": "text"
      },
      "source": [
        "## `os`"
      ]
    },
    {
      "cell_type": "code",
      "metadata": {
        "id": "OctjWRgkiipr",
        "colab_type": "code",
        "colab": {}
      },
      "source": [
        "import os\n",
        "import os.path"
      ],
      "execution_count": 0,
      "outputs": []
    },
    {
      "cell_type": "code",
      "metadata": {
        "id": "3AHw5r5DilP1",
        "colab_type": "code",
        "colab": {}
      },
      "source": [
        "for k, v in os.environ.items():\n",
        "  print(f'{k}={v}')"
      ],
      "execution_count": 0,
      "outputs": []
    },
    {
      "cell_type": "code",
      "metadata": {
        "id": "0Bd30J8dsFqO",
        "colab_type": "code",
        "colab": {}
      },
      "source": [
        "for f in os.listdir():\n",
        "  print(f)"
      ],
      "execution_count": 0,
      "outputs": []
    },
    {
      "cell_type": "code",
      "metadata": {
        "id": "uxqnkqFV2JT7",
        "colab_type": "code",
        "colab": {}
      },
      "source": [
        "for f in os.listdir('/'):\n",
        "  print(f)"
      ],
      "execution_count": 0,
      "outputs": []
    },
    {
      "cell_type": "code",
      "metadata": {
        "id": "7dfMVqlV0P5k",
        "colab_type": "code",
        "colab": {}
      },
      "source": [
        "os.getcwd()"
      ],
      "execution_count": 0,
      "outputs": []
    },
    {
      "cell_type": "code",
      "metadata": {
        "id": "WLwOYb2o0Shw",
        "colab_type": "code",
        "colab": {}
      },
      "source": [
        "os.mkdir('toto')\n",
        "os.chdir('toto')\n",
        "print(os.getcwd())"
      ],
      "execution_count": 0,
      "outputs": []
    },
    {
      "cell_type": "code",
      "metadata": {
        "id": "2XRbpN-Z2oUb",
        "colab_type": "code",
        "colab": {}
      },
      "source": [
        "os.listdir()"
      ],
      "execution_count": 0,
      "outputs": []
    },
    {
      "cell_type": "code",
      "metadata": {
        "id": "1UZ2Dmq32ZJZ",
        "colab_type": "code",
        "colab": {}
      },
      "source": [
        "filename = 'randomdata.bin'\n",
        "with open('randomdata.bin', 'wb') as f:\n",
        "  f.write(os.getrandom(1 << 20))  # 1 MiB of random data"
      ],
      "execution_count": 0,
      "outputs": []
    },
    {
      "cell_type": "code",
      "metadata": {
        "id": "G043-qNk2l_K",
        "colab_type": "code",
        "colab": {}
      },
      "source": [
        "os.listdir()"
      ],
      "execution_count": 0,
      "outputs": []
    },
    {
      "cell_type": "code",
      "metadata": {
        "id": "35IQbdU92paU",
        "colab_type": "code",
        "colab": {}
      },
      "source": [
        "os.path.exists('nonexistent.file')"
      ],
      "execution_count": 0,
      "outputs": []
    },
    {
      "cell_type": "code",
      "metadata": {
        "id": "yz6_Iq2z28lv",
        "colab_type": "code",
        "colab": {}
      },
      "source": [
        "os.path.exists(filename)"
      ],
      "execution_count": 0,
      "outputs": []
    },
    {
      "cell_type": "code",
      "metadata": {
        "id": "vuQ_w65l2_Yk",
        "colab_type": "code",
        "colab": {}
      },
      "source": [
        "os.path.isfile(filename)"
      ],
      "execution_count": 0,
      "outputs": []
    },
    {
      "cell_type": "code",
      "metadata": {
        "id": "7_-gWk0K3CWW",
        "colab_type": "code",
        "colab": {}
      },
      "source": [
        "os.path.getsize(filename)"
      ],
      "execution_count": 0,
      "outputs": []
    },
    {
      "cell_type": "code",
      "metadata": {
        "id": "0Gblhzzk3gMP",
        "colab_type": "code",
        "colab": {}
      },
      "source": [
        "fullpath = os.path.realpath(filename)\n",
        "print(fullpath)"
      ],
      "execution_count": 0,
      "outputs": []
    },
    {
      "cell_type": "code",
      "metadata": {
        "id": "fMtsSKoR3nQZ",
        "colab_type": "code",
        "colab": {}
      },
      "source": [
        "os.path.split(fullpath)"
      ],
      "execution_count": 0,
      "outputs": []
    }
  ]
}
