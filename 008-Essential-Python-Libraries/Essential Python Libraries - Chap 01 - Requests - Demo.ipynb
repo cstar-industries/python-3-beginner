{
  "nbformat": 4,
  "nbformat_minor": 0,
  "metadata": {
    "colab": {
      "name": "Essential Python Libraries - Chap 01 - Demo.ipynb",
      "provenance": [],
      "private_outputs": true,
      "collapsed_sections": [],
      "toc_visible": true,
      "authorship_tag": "ABX9TyOzjHzYsV06sa6/MUkHARXl",
      "include_colab_link": true
    },
    "kernelspec": {
      "name": "python3",
      "display_name": "Python 3"
    }
  },
  "cells": [
    {
      "cell_type": "markdown",
      "metadata": {
        "id": "view-in-github",
        "colab_type": "text"
      },
      "source": [
        "<a href=\"https://colab.research.google.com/github/cstar-industries/python-3-beginner/blob/master/008-Essential-Python-Libraries/Essential%20Python%20Libraries%20-%20Chap%2001%20-%20Requests%20-%20Demo.ipynb\" target=\"_parent\"><img src=\"https://colab.research.google.com/assets/colab-badge.svg\" alt=\"Open In Colab\"/></a>"
      ]
    },
    {
      "cell_type": "markdown",
      "metadata": {
        "id": "oEfhraZfKK8K",
        "colab_type": "text"
      },
      "source": [
        "# Requests"
      ]
    },
    {
      "cell_type": "markdown",
      "metadata": {
        "id": "gUNj7U6rSk0a",
        "colab_type": "text"
      },
      "source": [
        "## Basics"
      ]
    },
    {
      "cell_type": "code",
      "metadata": {
        "id": "XX6lp16BKI3i",
        "colab_type": "code",
        "colab": {}
      },
      "source": [
        "import requests"
      ],
      "execution_count": 0,
      "outputs": []
    },
    {
      "cell_type": "code",
      "metadata": {
        "id": "AHabINXoKOeG",
        "colab_type": "code",
        "colab": {}
      },
      "source": [
        "res = requests.get('https://google.com')"
      ],
      "execution_count": 0,
      "outputs": []
    },
    {
      "cell_type": "code",
      "metadata": {
        "id": "fJNEWZpnQFSf",
        "colab_type": "code",
        "colab": {}
      },
      "source": [
        "print(res)"
      ],
      "execution_count": 0,
      "outputs": []
    },
    {
      "cell_type": "code",
      "metadata": {
        "id": "4s0oa4YiQGfY",
        "colab_type": "code",
        "colab": {}
      },
      "source": [
        "print(res.ok)\n",
        "print(res.status_code)\n",
        "print(res.reason)"
      ],
      "execution_count": 0,
      "outputs": []
    },
    {
      "cell_type": "code",
      "metadata": {
        "id": "q5DaaIn-QRVo",
        "colab_type": "code",
        "colab": {}
      },
      "source": [
        "print(res.text)"
      ],
      "execution_count": 0,
      "outputs": []
    },
    {
      "cell_type": "code",
      "metadata": {
        "id": "L7Ck0vDwItff",
        "colab_type": "code",
        "colab": {}
      },
      "source": [
        "print(res.elapsed)"
      ],
      "execution_count": 0,
      "outputs": []
    },
    {
      "cell_type": "code",
      "metadata": {
        "id": "RB6akkDLIqwN",
        "colab_type": "code",
        "colab": {}
      },
      "source": [
        "print(res.history)"
      ],
      "execution_count": 0,
      "outputs": []
    },
    {
      "cell_type": "code",
      "metadata": {
        "id": "mMjM6QM5RW-d",
        "colab_type": "code",
        "colab": {}
      },
      "source": [
        "res = requests.get('https://httpbin.org/status/404')\n",
        "print(res.ok)\n",
        "print(res.status_code)\n",
        "print(res.reason)"
      ],
      "execution_count": 0,
      "outputs": []
    },
    {
      "cell_type": "code",
      "metadata": {
        "id": "OgUlZXRUaHv8",
        "colab_type": "code",
        "colab": {}
      },
      "source": [
        "res.raise_for_status()"
      ],
      "execution_count": 0,
      "outputs": []
    },
    {
      "cell_type": "code",
      "metadata": {
        "id": "r_1bHWHPt71Q",
        "colab_type": "code",
        "colab": {}
      },
      "source": [
        "res = requests.get('https://googlec.om')"
      ],
      "execution_count": 0,
      "outputs": []
    },
    {
      "cell_type": "markdown",
      "metadata": {
        "id": "Ta2WGMoDZV83",
        "colab_type": "text"
      },
      "source": [
        "## Downloading and saving a file"
      ]
    },
    {
      "cell_type": "code",
      "metadata": {
        "id": "7WegMBy-bkVp",
        "colab_type": "code",
        "colab": {}
      },
      "source": [
        "res = requests.get('https://chrales.dev/datasets/emoji/apple-128x128.tar.gz')\n",
        "res.raise_for_status()\n",
        "\n",
        "with open('apple-128x128.tar.gz', 'wb') as f:\n",
        "  f.write(res.content)\n",
        "  print(f'Wrote {len(res.content) / (1024 * 1024)} MiB')"
      ],
      "execution_count": 0,
      "outputs": []
    },
    {
      "cell_type": "code",
      "metadata": {
        "id": "AEbDmGj6ZZPX",
        "colab_type": "code",
        "colab": {}
      },
      "source": [
        "res = requests.get('https://chrales.dev/datasets/emoji/apple-128x128.tar.gz', stream=True)\n",
        "res.raise_for_status()\n",
        "\n",
        "with open('apple-128x128.tar.gz', 'wb') as f:\n",
        "  for content in res.iter_content(chunk_size=10*1024*1024):\n",
        "    f.write(content)\n",
        "    print(f'Wrote {len(content) / (1024 * 1024)} MiB')"
      ],
      "execution_count": 0,
      "outputs": []
    },
    {
      "cell_type": "markdown",
      "metadata": {
        "id": "ucceCV-4SpWK",
        "colab_type": "text"
      },
      "source": [
        "## GET with query parameters"
      ]
    },
    {
      "cell_type": "code",
      "metadata": {
        "id": "Bm3VAmmtRm-_",
        "colab_type": "code",
        "colab": {}
      },
      "source": [
        "res = requests.get('https://httpbin.org/get', params={'q': 'search text', 'hello': 'world'})\n",
        "req = res.request\n",
        "print(f'{req.method} {req.url}')"
      ],
      "execution_count": 0,
      "outputs": []
    },
    {
      "cell_type": "code",
      "metadata": {
        "id": "UbwwGP-dSETy",
        "colab_type": "code",
        "colab": {}
      },
      "source": [
        "print(res.text)"
      ],
      "execution_count": 0,
      "outputs": []
    },
    {
      "cell_type": "code",
      "metadata": {
        "id": "-c6yjiWMSS2A",
        "colab_type": "code",
        "colab": {}
      },
      "source": [
        "data = res.json()\n",
        "print(data)\n",
        "print(type(data))"
      ],
      "execution_count": 0,
      "outputs": []
    },
    {
      "cell_type": "code",
      "metadata": {
        "id": "RSZC714jScSS",
        "colab_type": "code",
        "colab": {}
      },
      "source": [
        "print(req.body)"
      ],
      "execution_count": 0,
      "outputs": []
    },
    {
      "cell_type": "markdown",
      "metadata": {
        "id": "NtifbBQaSs5T",
        "colab_type": "text"
      },
      "source": [
        "## POST with request body"
      ]
    },
    {
      "cell_type": "markdown",
      "metadata": {
        "id": "_ks3sHITeqen",
        "colab_type": "text"
      },
      "source": [
        "### Plain text body"
      ]
    },
    {
      "cell_type": "code",
      "metadata": {
        "id": "ZzawZklNShl5",
        "colab_type": "code",
        "colab": {}
      },
      "source": [
        "res = requests.post('https://httpbin.org/post', data='Hello World!')\n",
        "\n",
        "res.raise_for_status()\n",
        "print(f'{res.request.method} {res.request.url}')\n",
        "print(res.request.body)\n",
        "\n",
        "print()\n",
        "\n",
        "print(res.text)"
      ],
      "execution_count": 0,
      "outputs": []
    },
    {
      "cell_type": "markdown",
      "metadata": {
        "id": "RRL2UmAveuHu",
        "colab_type": "text"
      },
      "source": [
        "### Form encoded data"
      ]
    },
    {
      "cell_type": "code",
      "metadata": {
        "id": "7G9M1ZFrewp5",
        "colab_type": "code",
        "colab": {}
      },
      "source": [
        "data = {'hello': 'world', 'one': 1, 'is_true': True}\n",
        "res = requests.post('https://httpbin.org/post', data=data)\n",
        "\n",
        "res.raise_for_status()\n",
        "print(f'{res.request.method} {res.request.url}')\n",
        "print(res.request.body)\n",
        "\n",
        "print()\n",
        "\n",
        "print(res.text)\n",
        "print(f'Form data: ', res.json()['form'])"
      ],
      "execution_count": 0,
      "outputs": []
    },
    {
      "cell_type": "markdown",
      "metadata": {
        "id": "q3qTWgDiggxl",
        "colab_type": "text"
      },
      "source": [
        "### JSON data"
      ]
    },
    {
      "cell_type": "code",
      "metadata": {
        "id": "WihOKrwhgjzY",
        "colab_type": "code",
        "colab": {}
      },
      "source": [
        "data = {'hello': 'world', 'one': 1, 'is_true': True}\n",
        "res = requests.post('https://httpbin.org/post', json=data)\n",
        "\n",
        "res.raise_for_status()\n",
        "print(f'{res.request.method} {res.request.url}')\n",
        "print(res.request.body)\n",
        "\n",
        "print()\n",
        "\n",
        "print(res.text)\n",
        "print(f'JSON data: ', res.json()['json'])"
      ],
      "execution_count": 0,
      "outputs": []
    },
    {
      "cell_type": "markdown",
      "metadata": {
        "id": "SirZ5iKNg0Pw",
        "colab_type": "text"
      },
      "source": [
        "### POSTing a file"
      ]
    },
    {
      "cell_type": "code",
      "metadata": {
        "id": "F-1vQToai1f0",
        "colab_type": "code",
        "colab": {}
      },
      "source": [
        "## Decompress image file to directory\n",
        "!mkdir apple\n",
        "!tar xzvf apple-128x128.tar.gz -C apple"
      ],
      "execution_count": 0,
      "outputs": []
    },
    {
      "cell_type": "code",
      "metadata": {
        "id": "ZcVUuMPribvi",
        "colab_type": "code",
        "colab": {}
      },
      "source": [
        "with open('apple/adult_1f9d1.png', 'rb') as f:\n",
        "  res = requests.post('https://httpbin.org/post', files={'adult_1f9d1.png': f})\n",
        "\n",
        "res.raise_for_status()\n",
        "print(f'{res.request.method} {res.request.url}')\n",
        "print(res.request.body)\n",
        "\n",
        "print()\n",
        "\n",
        "print(res.text)\n",
        "print(f'Files: ', res.json()['files'])"
      ],
      "execution_count": 0,
      "outputs": []
    }
  ]
}