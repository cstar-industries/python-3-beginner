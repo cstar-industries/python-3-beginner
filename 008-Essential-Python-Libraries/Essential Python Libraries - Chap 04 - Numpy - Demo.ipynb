{
  "nbformat": 4,
  "nbformat_minor": 0,
  "metadata": {
    "colab": {
      "name": "Essential Python Libraries - Chap 04 - Numpy - Demo",
      "provenance": [],
      "private_outputs": true,
      "authorship_tag": "ABX9TyNU3ZDwkpRTv2zxfvDVN8Vv",
      "include_colab_link": true
    },
    "kernelspec": {
      "name": "python3",
      "display_name": "Python 3"
    }
  },
  "cells": [
    {
      "cell_type": "markdown",
      "metadata": {
        "id": "view-in-github",
        "colab_type": "text"
      },
      "source": [
        "<a href=\"https://colab.research.google.com/github/cstar-industries/python-3-beginner/blob/master/008-Essential-Python-Libraries/Essential%20Python%20Libraries%20-%20Chap%2004%20-%20Numpy%20-%20Demo.ipynb\" target=\"_parent\"><img src=\"https://colab.research.google.com/assets/colab-badge.svg\" alt=\"Open In Colab\"/></a>"
      ]
    },
    {
      "cell_type": "markdown",
      "metadata": {
        "id": "id7CcGWusuIW",
        "colab_type": "text"
      },
      "source": [
        "# Numpy"
      ]
    },
    {
      "cell_type": "markdown",
      "metadata": {
        "id": "MPUlsWgAsvgg",
        "colab_type": "text"
      },
      "source": [
        "## Basics"
      ]
    },
    {
      "cell_type": "code",
      "metadata": {
        "id": "AKHVoyHYpMeF",
        "colab_type": "code",
        "colab": {}
      },
      "source": [
        "import numpy as np"
      ],
      "execution_count": 0,
      "outputs": []
    },
    {
      "cell_type": "code",
      "metadata": {
        "id": "bw64mxWYr5A0",
        "colab_type": "code",
        "colab": {}
      },
      "source": [
        "print(np.pi)\n",
        "print(np.e)\n",
        "print(np.sqrt(2))\n",
        "print(np.sin(np.pi / 2))"
      ],
      "execution_count": 0,
      "outputs": []
    },
    {
      "cell_type": "markdown",
      "metadata": {
        "id": "Ccop04tAsxXo",
        "colab_type": "text"
      },
      "source": [
        "## Arrays"
      ]
    },
    {
      "cell_type": "code",
      "metadata": {
        "id": "AvNM9k5MsE97",
        "colab_type": "code",
        "colab": {}
      },
      "source": [
        "a = np.array([1, 2, 3, 4])\n",
        "print(repr(a))\n",
        "print(type(a))"
      ],
      "execution_count": 0,
      "outputs": []
    },
    {
      "cell_type": "code",
      "metadata": {
        "id": "qZ8sZxZAsO1R",
        "colab_type": "code",
        "colab": {}
      },
      "source": [
        "np.arange(10)"
      ],
      "execution_count": 0,
      "outputs": []
    },
    {
      "cell_type": "code",
      "metadata": {
        "id": "xUTl_qcwsTey",
        "colab_type": "code",
        "colab": {}
      },
      "source": [
        "np.arange(0, np.pi, 0.5)"
      ],
      "execution_count": 0,
      "outputs": []
    },
    {
      "cell_type": "code",
      "metadata": {
        "id": "bQIiqdQVsjGT",
        "colab_type": "code",
        "colab": {}
      },
      "source": [
        "np.linspace(0., 2 * np.pi, 5)"
      ],
      "execution_count": 0,
      "outputs": []
    },
    {
      "cell_type": "code",
      "metadata": {
        "id": "paq8tAPqtJrg",
        "colab_type": "code",
        "colab": {}
      },
      "source": [
        "b = np.array([[1, 2, 3], [2, 3, 4]], dtype=np.float)\n",
        "print(repr(b))"
      ],
      "execution_count": 0,
      "outputs": []
    },
    {
      "cell_type": "code",
      "metadata": {
        "id": "AYmGdcnHtaxw",
        "colab_type": "code",
        "colab": {}
      },
      "source": [
        "print(f'a.dtype: {a.dtype}')\n",
        "print(f'a.size: {a.size}')\n",
        "print(f'a.ndim: {a.ndim}')\n",
        "print(f'a.shape: {a.shape}')\n",
        "\n",
        "print()\n",
        "\n",
        "print(f'b.dtype:{b.dtype}')\n",
        "print(f'b.size: {b.size}')\n",
        "print(f'b.ndim: {b.ndim}')\n",
        "print(f'b.shape: {b.shape}')"
      ],
      "execution_count": 0,
      "outputs": []
    },
    {
      "cell_type": "code",
      "metadata": {
        "id": "ln1iGwVJ1l-M",
        "colab_type": "code",
        "colab": {}
      },
      "source": [
        "np.zeros((3, 3))"
      ],
      "execution_count": 0,
      "outputs": []
    },
    {
      "cell_type": "code",
      "metadata": {
        "id": "GkYpeGv11t3A",
        "colab_type": "code",
        "colab": {}
      },
      "source": [
        "np.ones((3, 3))"
      ],
      "execution_count": 0,
      "outputs": []
    },
    {
      "cell_type": "code",
      "metadata": {
        "id": "s03dLvAn1w6j",
        "colab_type": "code",
        "colab": {}
      },
      "source": [
        "np.eye(3)"
      ],
      "execution_count": 0,
      "outputs": []
    },
    {
      "cell_type": "code",
      "metadata": {
        "id": "ybIc4i2s14ig",
        "colab_type": "code",
        "colab": {}
      },
      "source": [
        "c = np.reshape(a, (2, 2))\n",
        "print(repr(c))"
      ],
      "execution_count": 0,
      "outputs": []
    },
    {
      "cell_type": "code",
      "metadata": {
        "id": "qsWUc_i22a85",
        "colab_type": "code",
        "colab": {}
      },
      "source": [
        "a = np.random.randint(0, 10, size=(3, 3))\n",
        "a"
      ],
      "execution_count": 0,
      "outputs": []
    },
    {
      "cell_type": "code",
      "metadata": {
        "id": "qcYosipVgoEv",
        "colab_type": "code",
        "colab": {}
      },
      "source": [
        "print(a[0])\n",
        "print(a[0, 0])"
      ],
      "execution_count": 0,
      "outputs": []
    },
    {
      "cell_type": "code",
      "metadata": {
        "id": "XKFwlz1Lg3mA",
        "colab_type": "code",
        "colab": {}
      },
      "source": [
        "print(a[:, 0])\n",
        "\n",
        "print(a[0, :])"
      ],
      "execution_count": 0,
      "outputs": []
    },
    {
      "cell_type": "code",
      "metadata": {
        "id": "9o4zQW-ng9AE",
        "colab_type": "code",
        "colab": {}
      },
      "source": [
        "a.T"
      ],
      "execution_count": 0,
      "outputs": []
    },
    {
      "cell_type": "markdown",
      "metadata": {
        "id": "Z69qj1TN2KbR",
        "colab_type": "text"
      },
      "source": [
        "## Array math"
      ]
    },
    {
      "cell_type": "code",
      "metadata": {
        "id": "2xY13WF92WXl",
        "colab_type": "code",
        "colab": {}
      },
      "source": [
        "a = np.random.randint(10, size=10)\n",
        "b = np.arange(10)\n",
        "print(a)"
      ],
      "execution_count": 0,
      "outputs": []
    },
    {
      "cell_type": "code",
      "metadata": {
        "id": "mDsRSOeG6Uj_",
        "colab_type": "code",
        "colab": {}
      },
      "source": [
        "print(3 * a)"
      ],
      "execution_count": 0,
      "outputs": []
    },
    {
      "cell_type": "code",
      "metadata": {
        "id": "36I2CQAJ6W1U",
        "colab_type": "code",
        "colab": {}
      },
      "source": [
        "print(a - 5)"
      ],
      "execution_count": 0,
      "outputs": []
    },
    {
      "cell_type": "code",
      "metadata": {
        "id": "3SLDIP2Q6RQk",
        "colab_type": "code",
        "colab": {}
      },
      "source": [
        "c = a + b\n",
        "print(f'  {a}')\n",
        "print(f'+ {b}')\n",
        "print('  ----')\n",
        "print(f'  {c}')"
      ],
      "execution_count": 0,
      "outputs": []
    },
    {
      "cell_type": "code",
      "metadata": {
        "id": "R09ORyTZ3fYp",
        "colab_type": "code",
        "colab": {}
      },
      "source": [
        "c = a * b\n",
        "print(f'  {a}')\n",
        "print(f'+ {b}')\n",
        "print('  ----')\n",
        "print(f'  {c}')"
      ],
      "execution_count": 0,
      "outputs": []
    },
    {
      "cell_type": "code",
      "metadata": {
        "id": "ZVJhPDwS3-K4",
        "colab_type": "code",
        "colab": {}
      },
      "source": [
        "c = a.dot(b)\n",
        "print(f'  {a}')\n",
        "print(f'+ {b}')\n",
        "print('  ----')\n",
        "print(f'  {c}')"
      ],
      "execution_count": 0,
      "outputs": []
    },
    {
      "cell_type": "code",
      "metadata": {
        "id": "pa0tnp7T4IZ4",
        "colab_type": "code",
        "colab": {}
      },
      "source": [
        "a = np.array([[2, 0], [0, 3]], dtype=np.float)\n",
        "b = np.array([[1, 1], [1, 1]], dtype=np.float)\n",
        "c = np.array([6, 3], dtype=np.float)\n",
        "\n",
        "print(a)\n",
        "print(b)\n",
        "print()\n",
        "print(f'a*b=\\n{a*b}')\n",
        "print(f'a.b=\\n{a@b}')\n",
        "print()\n",
        "print(c)\n",
        "print()\n",
        "print(f'a*c=\\n{a*c}')\n",
        "print(f'b*c=\\n{b*c}')\n",
        "print(f'b.c=\\n{b@c}')"
      ],
      "execution_count": 0,
      "outputs": []
    },
    {
      "cell_type": "code",
      "metadata": {
        "id": "zX7u2Iy55fEd",
        "colab_type": "code",
        "colab": {}
      },
      "source": [
        "a = np.random.randint(10, size=(3, 3))\n",
        "print(a)\n",
        "print(np.max(a))\n",
        "print(np.min(a))\n",
        "print(np.sum(a))\n",
        "print(np.sum(a, axis=0))"
      ],
      "execution_count": 0,
      "outputs": []
    },
    {
      "cell_type": "code",
      "metadata": {
        "id": "ZTD46wNJ6K_U",
        "colab_type": "code",
        "colab": {}
      },
      "source": [
        "print(np.argmin(a, axis=1))"
      ],
      "execution_count": 0,
      "outputs": []
    },
    {
      "cell_type": "code",
      "metadata": {
        "id": "kf6ODgzo3hNg",
        "colab_type": "code",
        "colab": {}
      },
      "source": [
        "np.sqrt(a)"
      ],
      "execution_count": 0,
      "outputs": []
    },
    {
      "cell_type": "markdown",
      "metadata": {
        "id": "RPsaEWnMh_3o",
        "colab_type": "text"
      },
      "source": [
        "## Linear algebra"
      ]
    },
    {
      "cell_type": "code",
      "metadata": {
        "id": "GOSLwoXEiCn7",
        "colab_type": "code",
        "colab": {}
      },
      "source": [
        "a = np.array([[1., 1.], [3., 4.]])\n",
        "print(np.linalg.inv(a))"
      ],
      "execution_count": 0,
      "outputs": []
    },
    {
      "cell_type": "code",
      "metadata": {
        "id": "pGL5cfXAiRMV",
        "colab_type": "code",
        "colab": {}
      },
      "source": [
        "a = np.array([[2., 1.], [0., 1.]])\n",
        "w, v = np.linalg.eig(a)\n",
        "print(w[0], v[:, 0])\n",
        "print(w[1], v[:, 1])"
      ],
      "execution_count": 0,
      "outputs": []
    },
    {
      "cell_type": "code",
      "metadata": {
        "id": "yyGAYbKOiuAU",
        "colab_type": "code",
        "colab": {}
      },
      "source": [
        "a @ np.array([3., 0.])"
      ],
      "execution_count": 0,
      "outputs": []
    },
    {
      "cell_type": "markdown",
      "metadata": {
        "id": "JKmxe-jYlT5B",
        "colab_type": "text"
      },
      "source": [
        "Solve the equation set:\n",
        "\n",
        "$3x + 2y = 3\\\\\n",
        "x + y = 0$"
      ]
    },
    {
      "cell_type": "code",
      "metadata": {
        "id": "XkXb7gtVlSsh",
        "colab_type": "code",
        "colab": {}
      },
      "source": [
        "x = np.array([[3., 2.], [1., 1.]])\n",
        "y = np.array([3., 0.])\n",
        "np.linalg.solve(x, y)"
      ],
      "execution_count": 0,
      "outputs": []
    }
  ]
}