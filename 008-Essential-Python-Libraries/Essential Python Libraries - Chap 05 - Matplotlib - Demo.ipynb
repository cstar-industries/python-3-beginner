{
  "nbformat": 4,
  "nbformat_minor": 0,
  "metadata": {
    "colab": {
      "name": "Essential Python Libraries - Chap 05 - Matplotlib - Demo",
      "provenance": [],
      "private_outputs": true,
      "authorship_tag": "ABX9TyNcuq1pUaYfAcKTY7CvuuhF",
      "include_colab_link": true
    },
    "kernelspec": {
      "name": "python3",
      "display_name": "Python 3"
    }
  },
  "cells": [
    {
      "cell_type": "markdown",
      "metadata": {
        "id": "view-in-github",
        "colab_type": "text"
      },
      "source": [
        "<a href=\"https://colab.research.google.com/github/cstar-industries/python-3-beginner/blob/master/008-Essential-Python-Libraries/Essential%20Python%20Libraries%20-%20Chap%2005%20-%20Matplotlib%20-%20Demo.ipynb\" target=\"_parent\"><img src=\"https://colab.research.google.com/assets/colab-badge.svg\" alt=\"Open In Colab\"/></a>"
      ]
    },
    {
      "cell_type": "markdown",
      "metadata": {
        "id": "FFK0pwSu6vxL",
        "colab_type": "text"
      },
      "source": [
        "# Matplotlib"
      ]
    },
    {
      "cell_type": "markdown",
      "metadata": {
        "id": "jeNyuUWf6znE",
        "colab_type": "text"
      },
      "source": [
        "## Basics"
      ]
    },
    {
      "cell_type": "code",
      "metadata": {
        "id": "W_MfEXa86vMC",
        "colab_type": "code",
        "colab": {}
      },
      "source": [
        "import matplotlib.pyplot as plt\n",
        "import numpy as np"
      ],
      "execution_count": 0,
      "outputs": []
    },
    {
      "cell_type": "code",
      "metadata": {
        "id": "WsN6ppRA6nHk",
        "colab_type": "code",
        "colab": {}
      },
      "source": [
        "x = np.linspace(-2, 2, 100)\n",
        "y = x * x\n",
        "plt.plot(x, y)\n",
        "plt.show()"
      ],
      "execution_count": 0,
      "outputs": []
    },
    {
      "cell_type": "code",
      "metadata": {
        "id": "17EYhEWr7NVh",
        "colab_type": "code",
        "colab": {}
      },
      "source": [
        "plt.plot(x, x * x)\n",
        "plt.plot(x, -2 * x * x + 1)\n",
        "plt.legend(['$x^2$', '$2-x^2+1$'])\n",
        "plt.show()"
      ],
      "execution_count": 0,
      "outputs": []
    },
    {
      "cell_type": "code",
      "metadata": {
        "id": "eRVVAtie7b35",
        "colab_type": "code",
        "colab": {}
      },
      "source": [
        "x = np.linspace(0, 2*np.pi, 100)\n",
        "y = np.sin(x)\n",
        "\n",
        "plt.plot(x, y)\n",
        "plt.show()"
      ],
      "execution_count": 0,
      "outputs": []
    },
    {
      "cell_type": "code",
      "metadata": {
        "id": "FCKsDIH2AF4M",
        "colab_type": "code",
        "colab": {}
      },
      "source": [
        "plt.figure(figsize=(16, 6))\n",
        "plt.subplot(1, 2, 1)\n",
        "plt.plot(x, y)\n",
        "plt.subplot(1, 2, 2)\n",
        "plt.plot(x, y + np.random.random(size=y.size) * .25)\n",
        "plt.show()"
      ],
      "execution_count": 0,
      "outputs": []
    },
    {
      "cell_type": "code",
      "metadata": {
        "id": "MzVf8zK8BeUB",
        "colab_type": "code",
        "colab": {}
      },
      "source": [
        "x = np.linspace(-3, 3, 513)\n",
        "y = np.linspace(-3, 3, 513)\n",
        "xv, yv = np.meshgrid(x, y)\n",
        "z = np.sinc(np.hypot(xv, yv))\n",
        "z[256, 256] = 1.0\n",
        "\n",
        "plt.imshow(z, cmap='gray', extent=[-3, 3, -3, 3])\n",
        "plt.show()"
      ],
      "execution_count": 0,
      "outputs": []
    },
    {
      "cell_type": "code",
      "metadata": {
        "id": "D170B8VspW0F",
        "colab_type": "code",
        "colab": {}
      },
      "source": [
        "plt.figure(figsize=(8, 6))\n",
        "ax = plt.axes(projection=\"3d\")\n",
        "ax.plot_surface(xv, yv, z, cmap='terrain')\n",
        "plt.show()"
      ],
      "execution_count": 0,
      "outputs": []
    },
    {
      "cell_type": "code",
      "metadata": {
        "id": "oNOgkJZBE4XI",
        "colab_type": "code",
        "colab": {}
      },
      "source": [
        "rnd = np.random.normal(loc=0.0, scale=1.0, size=1024)\n",
        "plt.figure(figsize=(8, 4))\n",
        "plt.hist(rnd, bins=np.linspace(-3, 3, 50), )\n",
        "plt.show()"
      ],
      "execution_count": 0,
      "outputs": []
    }
  ]
}