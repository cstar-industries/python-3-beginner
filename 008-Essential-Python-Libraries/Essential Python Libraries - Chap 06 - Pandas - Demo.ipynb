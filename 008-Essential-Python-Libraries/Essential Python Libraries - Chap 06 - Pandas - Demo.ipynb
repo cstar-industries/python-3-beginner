{
  "nbformat": 4,
  "nbformat_minor": 0,
  "metadata": {
    "colab": {
      "name": "Essential Python Libraries - Chap 06 - Pandas - Demo",
      "provenance": [],
      "private_outputs": true,
      "authorship_tag": "ABX9TyPDRJeR0Ee/jW13N3WeOrqm",
      "include_colab_link": true
    },
    "kernelspec": {
      "name": "python3",
      "display_name": "Python 3"
    }
  },
  "cells": [
    {
      "cell_type": "markdown",
      "metadata": {
        "id": "view-in-github",
        "colab_type": "text"
      },
      "source": [
        "<a href=\"https://colab.research.google.com/github/cstar-industries/python-3-beginner/blob/master/008-Essential-Python-Libraries/Essential%20Python%20Libraries%20-%20Chap%2006%20-%20Pandas%20-%20Demo.ipynb\" target=\"_parent\"><img src=\"https://colab.research.google.com/assets/colab-badge.svg\" alt=\"Open In Colab\"/></a>"
      ]
    },
    {
      "cell_type": "markdown",
      "metadata": {
        "id": "ovtGGebIovKZ",
        "colab_type": "text"
      },
      "source": [
        "# Pandas"
      ]
    },
    {
      "cell_type": "markdown",
      "metadata": {
        "id": "kzplKhkmozqQ",
        "colab_type": "text"
      },
      "source": [
        "## Basics"
      ]
    },
    {
      "cell_type": "code",
      "metadata": {
        "id": "lxhgTNdyo2wL",
        "colab_type": "code",
        "colab": {}
      },
      "source": [
        "import pandas as pd\n",
        "import numpy as np"
      ],
      "execution_count": 0,
      "outputs": []
    },
    {
      "cell_type": "code",
      "metadata": {
        "id": "aj39QJNWorxO",
        "colab_type": "code",
        "colab": {}
      },
      "source": [
        "s = pd.Series([6., 5., 6., 3.])\n",
        "print(s)"
      ],
      "execution_count": 0,
      "outputs": []
    },
    {
      "cell_type": "code",
      "metadata": {
        "id": "4_ZptVj0pIqY",
        "colab_type": "code",
        "colab": {}
      },
      "source": [
        "pd.Series(np.linspace(0, 10, 13))"
      ],
      "execution_count": 0,
      "outputs": []
    },
    {
      "cell_type": "code",
      "metadata": {
        "id": "5VmWGU4jpSB8",
        "colab_type": "code",
        "colab": {}
      },
      "source": [
        "r = pd.date_range('2020-05-01', '2020-05-15', freq='1d')\n",
        "print(r)"
      ],
      "execution_count": 0,
      "outputs": []
    },
    {
      "cell_type": "code",
      "metadata": {
        "id": "G5JWcnRxpxG4",
        "colab_type": "code",
        "colab": {}
      },
      "source": [
        "df = pd.DataFrame(np.random.random((10, 4)), columns=['Col1', 'Col2', 'Col3', 'Col4'])\n",
        "print(df)"
      ],
      "execution_count": 0,
      "outputs": []
    },
    {
      "cell_type": "code",
      "metadata": {
        "id": "r3MuFBl-qLiL",
        "colab_type": "code",
        "colab": {}
      },
      "source": [
        "print(df['Col1'])\n",
        "type(df['Col1'])"
      ],
      "execution_count": 0,
      "outputs": []
    },
    {
      "cell_type": "code",
      "metadata": {
        "id": "OCZa5wKqqc-e",
        "colab_type": "code",
        "colab": {}
      },
      "source": [
        "s1 = np.linspace(0, 2*np.pi, 10)\n",
        "s2 = np.sin(s1)\n",
        "df2 = pd.DataFrame({'time': s1, 'signal': s2}, index=pd.date_range('18:00', '23:00', periods=10))\n",
        "print(df2)"
      ],
      "execution_count": 0,
      "outputs": []
    },
    {
      "cell_type": "code",
      "metadata": {
        "id": "4itQMrX4rwcC",
        "colab_type": "code",
        "colab": {}
      },
      "source": [
        "print(df2.head())"
      ],
      "execution_count": 0,
      "outputs": []
    },
    {
      "cell_type": "code",
      "metadata": {
        "id": "TJmauN9Ar4uq",
        "colab_type": "code",
        "colab": {}
      },
      "source": [
        "print(df2.tail())"
      ],
      "execution_count": 0,
      "outputs": []
    },
    {
      "cell_type": "code",
      "metadata": {
        "id": "6N0Vp4_Or-bX",
        "colab_type": "code",
        "colab": {}
      },
      "source": [
        "print(df2.index)"
      ],
      "execution_count": 0,
      "outputs": []
    },
    {
      "cell_type": "code",
      "metadata": {
        "id": "_V2XQLcmsD8S",
        "colab_type": "code",
        "colab": {}
      },
      "source": [
        "print(df2.columns)"
      ],
      "execution_count": 0,
      "outputs": []
    },
    {
      "cell_type": "code",
      "metadata": {
        "id": "GeDPbKsGsGAF",
        "colab_type": "code",
        "colab": {}
      },
      "source": [
        "df2.to_numpy()"
      ],
      "execution_count": 0,
      "outputs": []
    },
    {
      "cell_type": "code",
      "metadata": {
        "id": "y9R76yE5sMdQ",
        "colab_type": "code",
        "colab": {}
      },
      "source": [
        "print(df2.sort_values('signal'))"
      ],
      "execution_count": 0,
      "outputs": []
    },
    {
      "cell_type": "markdown",
      "metadata": {
        "id": "tMHFHH9HuJzK",
        "colab_type": "text"
      },
      "source": [
        "## Indexing"
      ]
    },
    {
      "cell_type": "code",
      "metadata": {
        "id": "39WZozL7saIU",
        "colab_type": "code",
        "colab": {}
      },
      "source": [
        "print(df2[2:4])"
      ],
      "execution_count": 0,
      "outputs": []
    },
    {
      "cell_type": "code",
      "metadata": {
        "id": "6vrqbxppujJ8",
        "colab_type": "code",
        "colab": {}
      },
      "source": [
        "print(df2['2020-05-11 20:00':'2020-05-11 21:00'])"
      ],
      "execution_count": 0,
      "outputs": []
    },
    {
      "cell_type": "code",
      "metadata": {
        "id": "ig3pwCims3E-",
        "colab_type": "code",
        "colab": {}
      },
      "source": [
        "print(df2.signal > 0)\n",
        "print()\n",
        "print(df2[df2.signal > 0])"
      ],
      "execution_count": 0,
      "outputs": []
    },
    {
      "cell_type": "code",
      "metadata": {
        "id": "rsaqp_LqtQ_B",
        "colab_type": "code",
        "colab": {}
      },
      "source": [
        "print(df2.loc['19:06:40'])"
      ],
      "execution_count": 0,
      "outputs": []
    },
    {
      "cell_type": "code",
      "metadata": {
        "id": "ugukTd7bufH-",
        "colab_type": "code",
        "colab": {}
      },
      "source": [
        "df2.at['19:06:40', 'time']"
      ],
      "execution_count": 0,
      "outputs": []
    },
    {
      "cell_type": "code",
      "metadata": {
        "id": "RgwIMBNXvZ9E",
        "colab_type": "code",
        "colab": {}
      },
      "source": [
        "df2.iloc[:2, 1]"
      ],
      "execution_count": 0,
      "outputs": []
    },
    {
      "cell_type": "code",
      "metadata": {
        "id": "aBVg6zQwvgYT",
        "colab_type": "code",
        "colab": {}
      },
      "source": [
        "df2.iat[0, 0]"
      ],
      "execution_count": 0,
      "outputs": []
    },
    {
      "cell_type": "markdown",
      "metadata": {
        "id": "Zl06whQbvt3W",
        "colab_type": "text"
      },
      "source": [
        "## Operations"
      ]
    },
    {
      "cell_type": "code",
      "metadata": {
        "id": "9ROOYpeqvi4s",
        "colab_type": "code",
        "colab": {}
      },
      "source": [
        "print(df)\n",
        "print()\n",
        "print(df.sum())\n",
        "print()\n",
        "print(df.sum(axis=1))"
      ],
      "execution_count": 0,
      "outputs": []
    },
    {
      "cell_type": "code",
      "metadata": {
        "id": "oRP8T0QYwRZe",
        "colab_type": "code",
        "colab": {}
      },
      "source": [
        "print(df.describe())"
      ],
      "execution_count": 0,
      "outputs": []
    },
    {
      "cell_type": "code",
      "metadata": {
        "id": "gfuHCtmJwaNV",
        "colab_type": "code",
        "colab": {}
      },
      "source": [
        "print(df.apply(lambda x: np.round(x)))"
      ],
      "execution_count": 0,
      "outputs": []
    },
    {
      "cell_type": "code",
      "metadata": {
        "id": "lCF-Q7tqw300",
        "colab_type": "code",
        "colab": {}
      },
      "source": [
        "votes = pd.DataFrame({'voter_id': [f'voter_{i}' for i in range(20)],\n",
        "                      'color': ['red' if np.random.random() < .5 else 'blue' for _ in range(20)]})\n",
        "print(votes)"
      ],
      "execution_count": 0,
      "outputs": []
    },
    {
      "cell_type": "code",
      "metadata": {
        "id": "MqQHB1pCyQgz",
        "colab_type": "code",
        "colab": {}
      },
      "source": [
        "candidates = pd.DataFrame({'color': ['red', 'blue'], 'name': ['Alice', 'Bob']})\n",
        "print(candidates)"
      ],
      "execution_count": 0,
      "outputs": []
    },
    {
      "cell_type": "code",
      "metadata": {
        "id": "AToPAXuwygov",
        "colab_type": "code",
        "colab": {}
      },
      "source": [
        "df3 = pd.merge(votes, candidates, on='color')\n",
        "print(df3)"
      ],
      "execution_count": 0,
      "outputs": []
    },
    {
      "cell_type": "code",
      "metadata": {
        "id": "FL2TGpkEywiM",
        "colab_type": "code",
        "colab": {}
      },
      "source": [
        "print(df3.groupby('name').count())"
      ],
      "execution_count": 0,
      "outputs": []
    },
    {
      "cell_type": "markdown",
      "metadata": {
        "id": "_6dJgePtzUaW",
        "colab_type": "text"
      },
      "source": [
        "## Importing data"
      ]
    },
    {
      "cell_type": "code",
      "metadata": {
        "id": "Zo9RJdOfzNhK",
        "colab_type": "code",
        "colab": {}
      },
      "source": [
        "import requests\n",
        "\n",
        "with open('COVID19_Fallzahlen_CH_total_v2.csv', 'wb') as f:\n",
        "  res = requests.get('https://raw.githubusercontent.com/openZH/covid_19/master/COVID19_Fallzahlen_CH_total_v2.csv')\n",
        "  f.write(res.content)"
      ],
      "execution_count": 0,
      "outputs": []
    },
    {
      "cell_type": "code",
      "metadata": {
        "id": "hDHOVbibzlz6",
        "colab_type": "code",
        "colab": {}
      },
      "source": [
        "df = pd.read_csv('COVID19_Fallzahlen_CH_total_v2.csv')\n",
        "print(df.columns)"
      ],
      "execution_count": 0,
      "outputs": []
    },
    {
      "cell_type": "code",
      "metadata": {
        "id": "8F2qIHHu0Cus",
        "colab_type": "code",
        "colab": {}
      },
      "source": [
        "df = df.loc[:, ['date','abbreviation_canton_and_fl','current_hosp']]\n",
        "print(df.head())"
      ],
      "execution_count": 0,
      "outputs": []
    },
    {
      "cell_type": "code",
      "metadata": {
        "id": "MbnZq2-50Zin",
        "colab_type": "code",
        "colab": {}
      },
      "source": [
        "df = df.dropna(subset=['current_hosp'])\n",
        "print(df.head())"
      ],
      "execution_count": 0,
      "outputs": []
    },
    {
      "cell_type": "code",
      "metadata": {
        "id": "otriz7Ip5YU-",
        "colab_type": "code",
        "colab": {}
      },
      "source": [
        "df = df.set_index(df['date'].apply(pd.to_datetime))\n",
        "print(df)"
      ],
      "execution_count": 0,
      "outputs": []
    },
    {
      "cell_type": "code",
      "metadata": {
        "id": "-CrQIaFY5hIH",
        "colab_type": "code",
        "colab": {}
      },
      "source": [
        "df = df[['abbreviation_canton_and_fl', 'current_hosp']]\n",
        "print(df)"
      ],
      "execution_count": 0,
      "outputs": []
    },
    {
      "cell_type": "code",
      "metadata": {
        "id": "u7q7lSK11zCc",
        "colab_type": "code",
        "colab": {}
      },
      "source": [
        "print(df.groupby('abbreviation_canton_and_fl').max().sort_values('current_hosp', ascending=False))"
      ],
      "execution_count": 0,
      "outputs": []
    },
    {
      "cell_type": "code",
      "metadata": {
        "id": "OclZhSq_2Zl9",
        "colab_type": "code",
        "colab": {}
      },
      "source": [
        "print(df.groupby('date').sum())"
      ],
      "execution_count": 0,
      "outputs": []
    },
    {
      "cell_type": "code",
      "metadata": {
        "id": "C_BDeZ-72sl_",
        "colab_type": "code",
        "colab": {}
      },
      "source": [
        "import matplotlib.pyplot as plt\n",
        "\n",
        "df.groupby('date').sum().plot()\n",
        "plt.show()"
      ],
      "execution_count": 0,
      "outputs": []
    },
    {
      "cell_type": "code",
      "metadata": {
        "id": "oC3IFrcQ28LH",
        "colab_type": "code",
        "colab": {}
      },
      "source": [
        "plt.figure(figsize=(32, 16))\n",
        "df.groupby([ 'abbreviation_canton_and_fl'])['current_hosp'].plot(legend=True)\n",
        "plt.show()"
      ],
      "execution_count": 0,
      "outputs": []
    },
    {
      "cell_type": "code",
      "metadata": {
        "id": "Wc2oNXpe4y58",
        "colab_type": "code",
        "colab": {}
      },
      "source": [
        ""
      ],
      "execution_count": 0,
      "outputs": []
    }
  ]
}