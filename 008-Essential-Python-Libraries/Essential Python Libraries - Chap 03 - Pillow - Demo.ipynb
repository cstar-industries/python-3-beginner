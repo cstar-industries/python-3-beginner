{
  "nbformat": 4,
  "nbformat_minor": 0,
  "metadata": {
    "colab": {
      "name": "Essential Python Libraries - Chap 03 - Pillow - Demo",
      "provenance": [],
      "private_outputs": true,
      "authorship_tag": "ABX9TyPNq0tcFGNz3HyBYgT9EYCt",
      "include_colab_link": true
    },
    "kernelspec": {
      "name": "python3",
      "display_name": "Python 3"
    }
  },
  "cells": [
    {
      "cell_type": "markdown",
      "metadata": {
        "id": "view-in-github",
        "colab_type": "text"
      },
      "source": [
        "<a href=\"https://colab.research.google.com/github/cstar-industries/python-3-beginner/blob/master/008-Essential-Python-Libraries/Essential%20Python%20Libraries%20-%20Chap%2003%20-%20Pillow%20-%20Demo.ipynb\" target=\"_parent\"><img src=\"https://colab.research.google.com/assets/colab-badge.svg\" alt=\"Open In Colab\"/></a>"
      ]
    },
    {
      "cell_type": "markdown",
      "metadata": {
        "id": "ulNythe_GsEg",
        "colab_type": "text"
      },
      "source": [
        "# Pillow"
      ]
    },
    {
      "cell_type": "markdown",
      "metadata": {
        "id": "-6HqCpKRGyMo",
        "colab_type": "text"
      },
      "source": [
        "## Basics"
      ]
    },
    {
      "cell_type": "code",
      "metadata": {
        "id": "qlzIkuBXEYBC",
        "colab_type": "code",
        "colab": {}
      },
      "source": [
        "from IPython.display import Image\n",
        "from PIL import Image, ImageFilter"
      ],
      "execution_count": 0,
      "outputs": []
    },
    {
      "cell_type": "code",
      "metadata": {
        "id": "V4XKpw7VEk9n",
        "colab_type": "code",
        "colab": {}
      },
      "source": [
        "# Download image collection and decompress\n",
        "!curl -O https://chrales.dev/datasets/emoji/apple-128x128.tar.gz \\\n",
        "  && mkdir apple \\\n",
        "  && tar xzvf apple-128x128.tar.gz -C apple"
      ],
      "execution_count": 0,
      "outputs": []
    },
    {
      "cell_type": "code",
      "metadata": {
        "id": "PGAE939dE_4a",
        "colab_type": "code",
        "colab": {}
      },
      "source": [
        "img = Image.open('apple/flag-for-switzerland_1f1e8-1f1ed.png')\n",
        "display(img)"
      ],
      "execution_count": 0,
      "outputs": []
    },
    {
      "cell_type": "code",
      "metadata": {
        "id": "FetEGvcgFaJw",
        "colab_type": "code",
        "colab": {}
      },
      "source": [
        "print(img)"
      ],
      "execution_count": 0,
      "outputs": []
    },
    {
      "cell_type": "code",
      "metadata": {
        "id": "jezk7ovyFceE",
        "colab_type": "code",
        "colab": {}
      },
      "source": [
        "print(img.format)\n",
        "print(img.mode)\n",
        "print(img.size)"
      ],
      "execution_count": 0,
      "outputs": []
    },
    {
      "cell_type": "code",
      "metadata": {
        "id": "V7Rj2uQVFvtF",
        "colab_type": "code",
        "colab": {}
      },
      "source": [
        "img2 = img.rotate(45)\n",
        "display(img2)"
      ],
      "execution_count": 0,
      "outputs": []
    },
    {
      "cell_type": "code",
      "metadata": {
        "id": "0-RBI7STGB6M",
        "colab_type": "code",
        "colab": {}
      },
      "source": [
        "img3 = img2.resize((512, 512))\n",
        "display(img3)"
      ],
      "execution_count": 0,
      "outputs": []
    },
    {
      "cell_type": "code",
      "metadata": {
        "id": "e8TjaxZPGQ8L",
        "colab_type": "code",
        "colab": {}
      },
      "source": [
        "img3.save(\"./rotated-swiss-flag.png\")"
      ],
      "execution_count": 0,
      "outputs": []
    },
    {
      "cell_type": "markdown",
      "metadata": {
        "id": "TNwr8lO0Gu3S",
        "colab_type": "text"
      },
      "source": [
        "## More transformations"
      ]
    },
    {
      "cell_type": "code",
      "metadata": {
        "id": "5jX-HTtUG2xT",
        "colab_type": "code",
        "colab": {}
      },
      "source": [
        "box = (32, 32, 32 + img.width // 2, 32 + img.height // 2)\n",
        "img2 = img.crop(box)\n",
        "display(img2)"
      ],
      "execution_count": 0,
      "outputs": []
    },
    {
      "cell_type": "code",
      "metadata": {
        "id": "3RY60_kgIOE5",
        "colab_type": "code",
        "colab": {}
      },
      "source": [
        "img2 = img.resize((256, 128))\n",
        "display(img2)"
      ],
      "execution_count": 0,
      "outputs": []
    },
    {
      "cell_type": "code",
      "metadata": {
        "id": "ywnk-GLtHnJj",
        "colab_type": "code",
        "colab": {}
      },
      "source": [
        "img3 = img2.transpose(Image.ROTATE_90)\n",
        "display(img3)"
      ],
      "execution_count": 0,
      "outputs": []
    },
    {
      "cell_type": "code",
      "metadata": {
        "id": "g31kz8E1IGvs",
        "colab_type": "code",
        "colab": {}
      },
      "source": [
        "img3 = img.resize((512, 512), Image.LANCZOS, reducing_gap=3.0)\n",
        "img3.paste(img, (256 - 64, 256 - 64, 256 + 64, 256 + 64))\n",
        "display(img3)"
      ],
      "execution_count": 0,
      "outputs": []
    },
    {
      "cell_type": "code",
      "metadata": {
        "id": "PrkwexAOJbq9",
        "colab_type": "code",
        "colab": {}
      },
      "source": [
        "blur = ImageFilter.BoxBlur(3)\n",
        "img2 = img.filter(blur)\n",
        "display(img2)"
      ],
      "execution_count": 0,
      "outputs": []
    },
    {
      "cell_type": "markdown",
      "metadata": {
        "id": "RiW9BZOfNEa0",
        "colab_type": "text"
      },
      "source": [
        "## Pixel access"
      ]
    },
    {
      "cell_type": "code",
      "metadata": {
        "id": "ZSo5yt8uNG4E",
        "colab_type": "code",
        "colab": {}
      },
      "source": [
        "px = img.getpixel((32, 32))\n",
        "print(px)\n",
        "print(f'R: {px[0]}, G: {px[1]}, B: {px[2]}')"
      ],
      "execution_count": 0,
      "outputs": []
    },
    {
      "cell_type": "code",
      "metadata": {
        "id": "rxNIK2szNiOI",
        "colab_type": "code",
        "colab": {}
      },
      "source": [
        "img2 = img.copy()\n",
        "img2.putpixel((64, 64), (0, 0, 0))\n",
        "display(img2)"
      ],
      "execution_count": 0,
      "outputs": []
    },
    {
      "cell_type": "code",
      "metadata": {
        "id": "2M2opEh8NzX2",
        "colab_type": "code",
        "colab": {}
      },
      "source": [
        "img2 = img.copy()\n",
        "pixels = img2.load()\n",
        "for x in range(img2.width):\n",
        "  for y in range(img2.height):\n",
        "    if pixels[x, y] == (255, 255, 255):\n",
        "      pixels[x, y] = (0, 0, 0)\n",
        "display(img2)"
      ],
      "execution_count": 0,
      "outputs": []
    },
    {
      "cell_type": "code",
      "metadata": {
        "id": "PQ-yXXbaO4J5",
        "colab_type": "code",
        "colab": {}
      },
      "source": [
        "img2 = img.copy()\n",
        "pixels = img2.load()\n",
        "for x in range(img2.width):\n",
        "  for y in range(img2.height):\n",
        "    px = pixels[x, y]\n",
        "    px = (px[0] // 2, px[1] // 2, px[2] // 2)\n",
        "    pixels[x, y] = px\n",
        "display(img2)"
      ],
      "execution_count": 0,
      "outputs": []
    },
    {
      "cell_type": "markdown",
      "metadata": {
        "id": "BaBChBgoPbl8",
        "colab_type": "text"
      },
      "source": [
        "## Image from scratch"
      ]
    },
    {
      "cell_type": "code",
      "metadata": {
        "id": "86dPJ_vkPYq4",
        "colab_type": "code",
        "colab": {}
      },
      "source": [
        "img2 = Image.new('RGB', (256, 256))\n",
        "print(img2)"
      ],
      "execution_count": 0,
      "outputs": []
    },
    {
      "cell_type": "code",
      "metadata": {
        "id": "UjCS2XpbPnpa",
        "colab_type": "code",
        "colab": {}
      },
      "source": [
        "from random import randrange\n",
        "\n",
        "pixels = img2.load()\n",
        "for x in range(img2.width):\n",
        "  for y in range(img2.height):\n",
        "    rnd = randrange(255)\n",
        "    pixels[x, y] = (rnd, rnd, rnd)\n",
        "print('Random noise image:')\n",
        "display(img2)\n",
        "\n",
        "img2 = img2.filter(ImageFilter.GaussianBlur())\n",
        "print('Filtered:')\n",
        "display(img2)"
      ],
      "execution_count": 0,
      "outputs": []
    }
  ]
}