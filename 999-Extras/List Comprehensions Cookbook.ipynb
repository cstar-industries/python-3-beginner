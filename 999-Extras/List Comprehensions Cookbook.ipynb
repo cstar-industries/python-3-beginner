{
  "nbformat": 4,
  "nbformat_minor": 0,
  "metadata": {
    "colab": {
      "name": "Python 3 Beginner - List Comprehensions Cookbook",
      "provenance": [],
      "collapsed_sections": [
        "U40BzNk-MJQh",
        "bt1LynBdMgZT",
        "OcJCSt3QJY8-",
        "qiuOb4aDcnzV",
        "k39-yq71vPd1",
        "XW6wcZSrzmxE",
        "c9Pi2yEgSMQR",
        "kgao-FiZzxJT",
        "kj-Wt18jz2Wh",
        "dKdSfkhn1P6t",
        "gt_-b4XB0nsq",
        "udjiTBUj3-Xf",
        "ZlMm9c_gYV2k",
        "dxJrtb4PYuwb",
        "uRx5BWRUlmnT",
        "Uv-hkAiPK9Ls",
        "QX9tHTrpGWRi"
      ],
      "toc_visible": true,
      "authorship_tag": "ABX9TyNLMNlljuiZ/3Rng903O31I",
      "include_colab_link": true
    },
    "kernelspec": {
      "name": "python3",
      "display_name": "Python 3"
    }
  },
  "cells": [
    {
      "cell_type": "markdown",
      "metadata": {
        "id": "view-in-github",
        "colab_type": "text"
      },
      "source": [
        "<a href=\"https://colab.research.google.com/github/cstar-industries/python-3-beginner/blob/master/999-Extras/List%20Comprehensions%20Cookbook.ipynb\" target=\"_parent\"><img src=\"https://colab.research.google.com/assets/colab-badge.svg\" alt=\"Open In Colab\"/></a>"
      ]
    },
    {
      "cell_type": "markdown",
      "metadata": {
        "id": "U40BzNk-MJQh",
        "colab_type": "text"
      },
      "source": [
        "#### List of squares\n",
        "\n",
        "Generate a list of squares of numbers from 0 to 9"
      ]
    },
    {
      "cell_type": "code",
      "metadata": {
        "id": "VMmdoTbA3RZ4",
        "colab_type": "code",
        "colab": {}
      },
      "source": [
        "[x*x for x in range(10)]"
      ],
      "execution_count": 0,
      "outputs": []
    },
    {
      "cell_type": "markdown",
      "metadata": {
        "id": "bt1LynBdMgZT",
        "colab_type": "text"
      },
      "source": [
        "#### List of random numbers\n",
        "\n",
        "Generate a list of 10 random numbers between 0 and 1. The use of `_` is conventional to ignore the iteration value."
      ]
    },
    {
      "cell_type": "code",
      "metadata": {
        "id": "Lu_FuiCFcfXd",
        "colab_type": "code",
        "outputId": "2ee30544-6e47-44c6-88ad-beec17a174da",
        "colab": {
          "base_uri": "https://localhost:8080/",
          "height": 187
        }
      },
      "source": [
        "from random import random\n",
        "\n",
        "[random() for _ in range(10)]"
      ],
      "execution_count": 0,
      "outputs": [
        {
          "output_type": "execute_result",
          "data": {
            "text/plain": [
              "[0.5916128655224796,\n",
              " 0.04701292997498585,\n",
              " 0.6266998446918381,\n",
              " 0.14894506158826237,\n",
              " 0.7860168667197909,\n",
              " 0.09591094950904466,\n",
              " 0.4873878800670879,\n",
              " 0.44739584734083004,\n",
              " 0.8682346545495039,\n",
              " 0.19635728597197677]"
            ]
          },
          "metadata": {
            "tags": []
          },
          "execution_count": 2
        }
      ]
    },
    {
      "cell_type": "markdown",
      "metadata": {
        "id": "OcJCSt3QJY8-",
        "colab_type": "text"
      },
      "source": [
        "#### Alternating list\n",
        "\n",
        "Generate a list of 10 values, alternately `'a'` and `'z'`. I.e. the list should be `['a', 'z', 'a', 'z', 'a'...`"
      ]
    },
    {
      "cell_type": "code",
      "metadata": {
        "id": "PMEoG6DzKxXt",
        "colab_type": "code",
        "outputId": "ae6f2646-a985-4441-d7e0-369238b1e770",
        "colab": {
          "base_uri": "https://localhost:8080/",
          "height": 34
        }
      },
      "source": [
        "[('a' if (i % 2) == 0 else 'z') for i in range(10)]"
      ],
      "execution_count": 0,
      "outputs": [
        {
          "output_type": "execute_result",
          "data": {
            "text/plain": [
              "['a', 'z', 'a', 'z', 'a', 'z', 'a', 'z', 'a', 'z']"
            ]
          },
          "metadata": {
            "tags": []
          },
          "execution_count": 3
        }
      ]
    },
    {
      "cell_type": "markdown",
      "metadata": {
        "id": "qiuOb4aDcnzV",
        "colab_type": "text"
      },
      "source": [
        "#### Iterating on 2 lists (cartesian)\n",
        "\n",
        "Generate all possible sundae combinations from both lists."
      ]
    },
    {
      "cell_type": "code",
      "metadata": {
        "id": "8irlti0KsaJI",
        "colab_type": "code",
        "outputId": "6153f4a4-c2b8-4323-bc81-d12e63a9b536",
        "colab": {
          "base_uri": "https://localhost:8080/",
          "height": 170
        }
      },
      "source": [
        "syrups = ['chocolate', 'strawberry', 'fudge']\n",
        "toppings = ['peanut', \"m&m's\", 'chocolate chip']\n",
        "[f'{s} syrup with {t} topping' for s in syrups for t in toppings]"
      ],
      "execution_count": 0,
      "outputs": [
        {
          "output_type": "execute_result",
          "data": {
            "text/plain": [
              "['chocolate syrup with peanut topping',\n",
              " \"chocolate syrup with m&m's topping\",\n",
              " 'chocolate syrup with chocolate chip topping',\n",
              " 'strawberry syrup with peanut topping',\n",
              " \"strawberry syrup with m&m's topping\",\n",
              " 'strawberry syrup with chocolate chip topping',\n",
              " 'fudge syrup with peanut topping',\n",
              " \"fudge syrup with m&m's topping\",\n",
              " 'fudge syrup with chocolate chip topping']"
            ]
          },
          "metadata": {
            "tags": []
          },
          "execution_count": 4
        }
      ]
    },
    {
      "cell_type": "markdown",
      "metadata": {
        "id": "k39-yq71vPd1",
        "colab_type": "text"
      },
      "source": [
        "#### Iterating on 2 lists (parallel)\n",
        "\n",
        "Generate a list of complete names (first and last) from 2 separate lists."
      ]
    },
    {
      "cell_type": "code",
      "metadata": {
        "id": "Un_RrCBXvOif",
        "colab_type": "code",
        "outputId": "c30e3dd5-d320-4945-d691-c0eaa32d6c0e",
        "colab": {
          "base_uri": "https://localhost:8080/",
          "height": 34
        }
      },
      "source": [
        "firstnames = ['Bruce', 'Bruce', 'Lil']\n",
        "lastnames = ['Willis', 'Wayne', 'Wayne']\n",
        "[f'{f} {l}' for f, l in zip(firstnames, lastnames)]"
      ],
      "execution_count": 0,
      "outputs": [
        {
          "output_type": "execute_result",
          "data": {
            "text/plain": [
              "['Bruce Willis', 'Bruce Wayne', 'Lil Wayne']"
            ]
          },
          "metadata": {
            "tags": []
          },
          "execution_count": 9
        }
      ]
    },
    {
      "cell_type": "markdown",
      "metadata": {
        "id": "XW6wcZSrzmxE",
        "colab_type": "text"
      },
      "source": [
        "#### Filter even numbers in a list\n",
        "\n",
        "Extract all the even numbers from a list of arbitrary integers."
      ]
    },
    {
      "cell_type": "code",
      "metadata": {
        "id": "ckMBu1LFFzHR",
        "colab_type": "code",
        "outputId": "021e9cf7-f626-4a90-856c-07d9fcb433b5",
        "colab": {
          "base_uri": "https://localhost:8080/",
          "height": 34
        }
      },
      "source": [
        "l = [81, 25, 25, 71, 70, 76, 24, 63, 36, 41]\n",
        "[x for x in l if (x % 2) == 0]"
      ],
      "execution_count": 0,
      "outputs": [
        {
          "output_type": "execute_result",
          "data": {
            "text/plain": [
              "[70, 76, 24, 36]"
            ]
          },
          "metadata": {
            "tags": []
          },
          "execution_count": 1
        }
      ]
    },
    {
      "cell_type": "markdown",
      "metadata": {
        "id": "c9Pi2yEgSMQR",
        "colab_type": "text"
      },
      "source": [
        "#### People whose last name start with M\n",
        "\n",
        "From a list of dictionaries representing people in a phone directory, extract all entries with last names starting with the letter M."
      ]
    },
    {
      "cell_type": "code",
      "metadata": {
        "id": "F-oO8EDJShmI",
        "colab_type": "code",
        "outputId": "b1874f7b-8233-47a3-dd69-fc5e47550d24",
        "colab": {
          "base_uri": "https://localhost:8080/",
          "height": 153
        }
      },
      "source": [
        "directory = [{'first_name': 'Anthony','last_name': 'Smith','phone_number': '634-973-3745'},\n",
        " {'first_name': 'Jessica','last_name': 'Rivera','phone_number': '858-290-9824'},\n",
        " {'first_name': 'Patty', 'last_name': 'Zhang', 'phone_number': '015-663-8948'},\n",
        " {'first_name': 'Carrie','last_name': 'Perez','phone_number': '091-742-2292'},\n",
        " {'first_name': 'John', 'last_name': 'Miller', 'phone_number': '416-144-5291'},\n",
        " {'first_name': 'Nathan', 'last_name': 'Holt', 'phone_number': '917-040-8407'},\n",
        " {'first_name': 'Joyce', 'last_name': 'Mayer', 'phone_number': '541-159-5153'},\n",
        " {'first_name': 'Steven','last_name': 'Ramirez','phone_number': '702-946-1912'},\n",
        " {'first_name': 'Carrie','last_name': 'Johnson','phone_number': '628-960-1618'},\n",
        " {'first_name': 'Christopher','last_name': 'Ortiz','phone_number': '847-856-0552'},\n",
        " {'first_name': 'Ruth','last_name': 'Christensen','phone_number': '188-335-0533'},\n",
        " {'first_name': 'Ian', 'last_name': 'Garcia', 'phone_number': '708-877-0583'},\n",
        " {'first_name': 'Sarah','last_name': 'Mitchell','phone_number': '299-956-9214'},\n",
        " {'first_name': 'Shannon','last_name': 'Gardner','phone_number': '916-276-2491'},\n",
        " {'first_name': 'Michael','last_name': 'Powell','phone_number': '718-226-3135'},\n",
        " {'first_name': 'Kelly','last_name': 'Gordon','phone_number': '745-373-2209'},\n",
        " {'first_name': 'Robert','last_name': 'Sutton','phone_number': '588-501-0011'},\n",
        " {'first_name': 'John', 'last_name': 'Kelly', 'phone_number': '496-624-3883'},\n",
        " {'first_name': 'Nicholas','last_name': 'Miller','phone_number': '545-867-8403'},\n",
        " {'first_name': 'Robert','last_name': 'Garrett','phone_number': '033-257-8821'}]\n",
        "\n",
        "[e for e in directory if e['last_name'].startswith('M')]"
      ],
      "execution_count": 0,
      "outputs": [
        {
          "output_type": "execute_result",
          "data": {
            "text/plain": [
              "[{'first_name': 'John', 'last_name': 'Miller', 'phone_number': '416-144-5291'},\n",
              " {'first_name': 'Joyce', 'last_name': 'Mayer', 'phone_number': '541-159-5153'},\n",
              " {'first_name': 'Sarah',\n",
              "  'last_name': 'Mitchell',\n",
              "  'phone_number': '299-956-9214'},\n",
              " {'first_name': 'Nicholas',\n",
              "  'last_name': 'Miller',\n",
              "  'phone_number': '545-867-8403'}]"
            ]
          },
          "metadata": {
            "tags": []
          },
          "execution_count": 10
        }
      ]
    },
    {
      "cell_type": "markdown",
      "metadata": {
        "id": "yqVc-9FlWVa4",
        "colab_type": "text"
      },
      "source": [
        "Alternatively, extract only the last names."
      ]
    },
    {
      "cell_type": "code",
      "metadata": {
        "id": "8x3iVhdkWoWx",
        "colab_type": "code",
        "outputId": "22d8e9ea-a88b-4efe-d8a8-fd6ba60f381f",
        "colab": {
          "base_uri": "https://localhost:8080/",
          "height": 34
        }
      },
      "source": [
        "[e['last_name'] for e in directory if e['last_name'].startswith('M')]"
      ],
      "execution_count": 0,
      "outputs": [
        {
          "output_type": "execute_result",
          "data": {
            "text/plain": [
              "['Miller', 'Mayer', 'Mitchell', 'Miller']"
            ]
          },
          "metadata": {
            "tags": []
          },
          "execution_count": 11
        }
      ]
    },
    {
      "cell_type": "markdown",
      "metadata": {
        "id": "ZXW0ScH8W7dC",
        "colab_type": "text"
      },
      "source": [
        "Use a `set` to extract distinct last names."
      ]
    },
    {
      "cell_type": "code",
      "metadata": {
        "id": "Kfhncw8YW_Nu",
        "colab_type": "code",
        "outputId": "9cc509d9-76ea-4f8d-fe60-222938347188",
        "colab": {
          "base_uri": "https://localhost:8080/",
          "height": 34
        }
      },
      "source": [
        "{e['last_name'] for e in directory if e['last_name'].startswith('M')}"
      ],
      "execution_count": 0,
      "outputs": [
        {
          "output_type": "execute_result",
          "data": {
            "text/plain": [
              "{'Mayer', 'Miller', 'Mitchell'}"
            ]
          },
          "metadata": {
            "tags": []
          },
          "execution_count": 12
        }
      ]
    },
    {
      "cell_type": "markdown",
      "metadata": {
        "id": "kgao-FiZzxJT",
        "colab_type": "text"
      },
      "source": [
        "#### Combinatorics\n",
        "\n",
        "We'll be using the set of 4 letters `'A'`, `'B'`, `'C'` and `'D'` as our data set for combinatorics."
      ]
    },
    {
      "cell_type": "code",
      "metadata": {
        "id": "tNPhNCmo0Tg3",
        "colab_type": "code",
        "colab": {}
      },
      "source": [
        "s = 'ABCD'"
      ],
      "execution_count": 0,
      "outputs": []
    },
    {
      "cell_type": "markdown",
      "metadata": {
        "id": "kj-Wt18jz2Wh",
        "colab_type": "text"
      },
      "source": [
        "##### Cartesian product\n",
        "\n",
        "Every ordered pair from a list."
      ]
    },
    {
      "cell_type": "code",
      "metadata": {
        "id": "psnLazWvz0JX",
        "colab_type": "code",
        "outputId": "f0e05f80-9b1e-46c2-9d3f-d5a8bce96b7d",
        "colab": {
          "base_uri": "https://localhost:8080/",
          "height": 289
        }
      },
      "source": [
        "[(x, y) for x in s for y in s]"
      ],
      "execution_count": 0,
      "outputs": [
        {
          "output_type": "execute_result",
          "data": {
            "text/plain": [
              "[('A', 'A'),\n",
              " ('A', 'B'),\n",
              " ('A', 'C'),\n",
              " ('A', 'D'),\n",
              " ('B', 'A'),\n",
              " ('B', 'B'),\n",
              " ('B', 'C'),\n",
              " ('B', 'D'),\n",
              " ('C', 'A'),\n",
              " ('C', 'B'),\n",
              " ('C', 'C'),\n",
              " ('C', 'D'),\n",
              " ('D', 'A'),\n",
              " ('D', 'B'),\n",
              " ('D', 'C'),\n",
              " ('D', 'D')]"
            ]
          },
          "metadata": {
            "tags": []
          },
          "execution_count": 11
        }
      ]
    },
    {
      "cell_type": "markdown",
      "metadata": {
        "id": "dKdSfkhn1P6t",
        "colab_type": "text"
      },
      "source": [
        "##### Permutations\n",
        "\n",
        "Every ordered pair of distinct items from a list"
      ]
    },
    {
      "cell_type": "code",
      "metadata": {
        "id": "czTOvfvF1VGA",
        "colab_type": "code",
        "outputId": "01d16a68-a4e6-464b-966d-de84b29b4da5",
        "colab": {
          "base_uri": "https://localhost:8080/",
          "height": 221
        }
      },
      "source": [
        "[(x, y) for x in s for y in s if x != y]"
      ],
      "execution_count": 0,
      "outputs": [
        {
          "output_type": "execute_result",
          "data": {
            "text/plain": [
              "[('A', 'B'),\n",
              " ('A', 'C'),\n",
              " ('A', 'D'),\n",
              " ('B', 'A'),\n",
              " ('B', 'C'),\n",
              " ('B', 'D'),\n",
              " ('C', 'A'),\n",
              " ('C', 'B'),\n",
              " ('C', 'D'),\n",
              " ('D', 'A'),\n",
              " ('D', 'B'),\n",
              " ('D', 'C')]"
            ]
          },
          "metadata": {
            "tags": []
          },
          "execution_count": 9
        }
      ]
    },
    {
      "cell_type": "markdown",
      "metadata": {
        "id": "gt_-b4XB0nsq",
        "colab_type": "text"
      },
      "source": [
        "##### Combinations\n",
        "\n",
        "Every unordered pair of distinct items from a list"
      ]
    },
    {
      "cell_type": "code",
      "metadata": {
        "id": "SP0G5S-905eq",
        "colab_type": "code",
        "outputId": "5ff6f41a-c633-4a72-d0ef-c554548dbab7",
        "colab": {
          "base_uri": "https://localhost:8080/",
          "height": 34
        }
      },
      "source": [
        "[(x, y) for i, x in enumerate(s) for y in s[i+1:]]"
      ],
      "execution_count": 0,
      "outputs": [
        {
          "output_type": "execute_result",
          "data": {
            "text/plain": [
              "[('A', 'B'), ('A', 'C'), ('A', 'D'), ('B', 'C'), ('B', 'D'), ('C', 'D')]"
            ]
          },
          "metadata": {
            "tags": []
          },
          "execution_count": 12
        }
      ]
    },
    {
      "cell_type": "markdown",
      "metadata": {
        "colab_type": "text",
        "id": "udjiTBUj3-Xf"
      },
      "source": [
        "##### Combinations with repetition\n",
        "\n",
        "Every unordered pair of items from a list"
      ]
    },
    {
      "cell_type": "code",
      "metadata": {
        "colab_type": "code",
        "outputId": "7adaf344-06ab-403f-aef6-fa49b7214e10",
        "id": "9bdgcxL93-Xh",
        "colab": {
          "base_uri": "https://localhost:8080/",
          "height": 187
        }
      },
      "source": [
        "[(x, y) for i, x in enumerate(s) for y in s[i:]]"
      ],
      "execution_count": 0,
      "outputs": [
        {
          "output_type": "execute_result",
          "data": {
            "text/plain": [
              "[('A', 'A'),\n",
              " ('A', 'B'),\n",
              " ('A', 'C'),\n",
              " ('A', 'D'),\n",
              " ('B', 'B'),\n",
              " ('B', 'C'),\n",
              " ('B', 'D'),\n",
              " ('C', 'C'),\n",
              " ('C', 'D'),\n",
              " ('D', 'D')]"
            ]
          },
          "metadata": {
            "tags": []
          },
          "execution_count": 13
        }
      ]
    },
    {
      "cell_type": "markdown",
      "metadata": {
        "id": "ZlMm9c_gYV2k",
        "colab_type": "text"
      },
      "source": [
        "#### Check if all numbers are even\n",
        "\n",
        "Return `True` if all numbers in a list are even."
      ]
    },
    {
      "cell_type": "code",
      "metadata": {
        "id": "OIEvivL0YdV_",
        "colab_type": "code",
        "outputId": "d0c7ee2e-e93e-407d-ce2e-9d7306ebef0c",
        "colab": {
          "base_uri": "https://localhost:8080/",
          "height": 34
        }
      },
      "source": [
        "l = [0, 1, 2, 3]\n",
        "all([(n%2) == 0 for n in l])"
      ],
      "execution_count": 0,
      "outputs": [
        {
          "output_type": "execute_result",
          "data": {
            "text/plain": [
              "False"
            ]
          },
          "metadata": {
            "tags": []
          },
          "execution_count": 13
        }
      ]
    },
    {
      "cell_type": "code",
      "metadata": {
        "id": "GdIl-7dgYnZt",
        "colab_type": "code",
        "outputId": "635ec37d-a64b-424a-b7f9-88bb5cd25699",
        "colab": {
          "base_uri": "https://localhost:8080/",
          "height": 34
        }
      },
      "source": [
        "l = [0, 2, 4, 6]\n",
        "all([(n%2) == 0 for n in l])"
      ],
      "execution_count": 0,
      "outputs": [
        {
          "output_type": "execute_result",
          "data": {
            "text/plain": [
              "True"
            ]
          },
          "metadata": {
            "tags": []
          },
          "execution_count": 14
        }
      ]
    },
    {
      "cell_type": "markdown",
      "metadata": {
        "id": "dxJrtb4PYuwb",
        "colab_type": "text"
      },
      "source": [
        "#### Check if string contains a digit\n",
        "\n",
        "Return `True` if at least one character in a string is a digit."
      ]
    },
    {
      "cell_type": "code",
      "metadata": {
        "id": "l3lUMrZpZMZK",
        "colab_type": "code",
        "outputId": "902eeb9d-0138-4a32-a05f-e99660ac2a4b",
        "colab": {
          "base_uri": "https://localhost:8080/",
          "height": 34
        }
      },
      "source": [
        "s = 'Ciq0D07HQWas1Saj7Mcv'\n",
        "any([c.isdigit() for c in s])"
      ],
      "execution_count": 0,
      "outputs": [
        {
          "output_type": "execute_result",
          "data": {
            "text/plain": [
              "True"
            ]
          },
          "metadata": {
            "tags": []
          },
          "execution_count": 15
        }
      ]
    },
    {
      "cell_type": "code",
      "metadata": {
        "id": "8z7VaYvYZtpR",
        "colab_type": "code",
        "outputId": "5094806b-759a-4844-a5a8-8e6fc580e461",
        "colab": {
          "base_uri": "https://localhost:8080/",
          "height": 34
        }
      },
      "source": [
        "s = 'tiSGYQCEKogiMTeNQuFL'\n",
        "any([c.isdigit() for c in s])"
      ],
      "execution_count": 0,
      "outputs": [
        {
          "output_type": "execute_result",
          "data": {
            "text/plain": [
              "False"
            ]
          },
          "metadata": {
            "tags": []
          },
          "execution_count": 16
        }
      ]
    },
    {
      "cell_type": "markdown",
      "metadata": {
        "id": "uRx5BWRUlmnT",
        "colab_type": "text"
      },
      "source": [
        "#### Average number of characters per word\n",
        "\n",
        "Get the average length of a word in a text."
      ]
    },
    {
      "cell_type": "code",
      "metadata": {
        "id": "xNSNbaS3ljtJ",
        "colab_type": "code",
        "outputId": "3e4f0e41-e6a7-453d-9a67-94f68c234018",
        "colab": {
          "base_uri": "https://localhost:8080/",
          "height": 71
        }
      },
      "source": [
        "from string import ascii_letters\n",
        "\n",
        "text = \"\"\"We were somewhere around Barstow on the edge of the desert when the drugs began to take hold. I remember saying something like \"I feel a bit lightheaded; maybe you should drive. . . .\" And suddenly there was a terrible roar all around us and the sky was full of what looked like huge bats, all swooping and screeching and diving around the car, which was going about a hundred miles an hour with the top down to Las Vegas.\"\"\"\n",
        "words = [''.join([c for c in w if c in ascii_letters]) for w in text.split()]   # Split words along whitespace, then filter non-letter characters from words\n",
        "print(words)\n",
        "avg_len = sum([len(w) for w in words]) / len(words)\n",
        "print(avg_len)"
      ],
      "execution_count": 0,
      "outputs": [
        {
          "output_type": "stream",
          "text": [
            "['We', 'were', 'somewhere', 'around', 'Barstow', 'on', 'the', 'edge', 'of', 'the', 'desert', 'when', 'the', 'drugs', 'began', 'to', 'take', 'hold', 'I', 'remember', 'saying', 'something', 'like', 'I', 'feel', 'a', 'bit', 'lightheaded', 'maybe', 'you', 'should', 'drive', '', '', '', 'And', 'suddenly', 'there', 'was', 'a', 'terrible', 'roar', 'all', 'around', 'us', 'and', 'the', 'sky', 'was', 'full', 'of', 'what', 'looked', 'like', 'huge', 'bats', 'all', 'swooping', 'and', 'screeching', 'and', 'diving', 'around', 'the', 'car', 'which', 'was', 'going', 'about', 'a', 'hundred', 'miles', 'an', 'hour', 'with', 'the', 'top', 'down', 'to', 'Las', 'Vegas']\n",
            "4.08641975308642\n"
          ],
          "name": "stdout"
        }
      ]
    },
    {
      "cell_type": "markdown",
      "metadata": {
        "id": "Uv-hkAiPK9Ls",
        "colab_type": "text"
      },
      "source": [
        "#### Cumulative sum\n",
        "\n",
        "For a list of numbers, create a list where each item with index $n$ is the sum of all numbers in the original list up to (and including) index $n$.\n",
        "\n",
        "```python\n",
        "cumsum[0] = data[0]\n",
        "cumsum[1] = data[0] + data[1]\n",
        "...\n",
        "cumsum[-1] = data[0] + data[1] + ... + data[-2] + data[-1]\n",
        "           = sum(data)\n",
        "```\n"
      ]
    },
    {
      "cell_type": "code",
      "metadata": {
        "id": "fE4i_pHYM8Av",
        "colab_type": "code",
        "outputId": "975c29e0-47c8-4b74-cfa9-bbe21c201183",
        "colab": {
          "base_uri": "https://localhost:8080/",
          "height": 34
        }
      },
      "source": [
        "data = [0, 1, 2, 5, 8, 12, 15, 18, 19, 20]\n",
        "[sum(data[:i]) for i in range(1, len(data) + 1)]"
      ],
      "execution_count": 0,
      "outputs": [
        {
          "output_type": "execute_result",
          "data": {
            "text/plain": [
              "[0, 1, 3, 8, 16, 28, 43, 61, 80, 100]"
            ]
          },
          "metadata": {
            "tags": []
          },
          "execution_count": 7
        }
      ]
    },
    {
      "cell_type": "markdown",
      "metadata": {
        "id": "QX9tHTrpGWRi",
        "colab_type": "text"
      },
      "source": [
        "#### Moving average\n",
        "\n",
        "From a list of $N$ numbers, create a list of $N-1$ numbers by averaging over each pair of numbers. I.e.\n",
        "\n",
        "```python\n",
        "avg[0] = (data[0] + data[1]) / 2\n",
        "avg[1] = (data[1] + data[2]) / 2\n",
        "...\n",
        "avg[-2] = (data[-2] + data[-1]) / 2\n",
        "```"
      ]
    },
    {
      "cell_type": "code",
      "metadata": {
        "id": "d5BHg_KrH3dh",
        "colab_type": "code",
        "outputId": "219a6bf5-0ba2-477d-e4c9-5e11d8409f3e",
        "colab": {
          "base_uri": "https://localhost:8080/",
          "height": 34
        }
      },
      "source": [
        "data = [5.6, 0.5, 3.9, 6.2, 6.5, 3.3, 0.7, 0.3, 9.2, 1.6]\n",
        "[(x0 + x1)/2 for x0, x1 in zip(data[:-1], data[1:])]"
      ],
      "execution_count": 0,
      "outputs": [
        {
          "output_type": "execute_result",
          "data": {
            "text/plain": [
              "[3.05, 2.2, 5.05, 6.35, 4.9, 2.0, 0.5, 4.75, 5.3999999999999995]"
            ]
          },
          "metadata": {
            "tags": []
          },
          "execution_count": 2
        }
      ]
    },
    {
      "cell_type": "markdown",
      "metadata": {
        "id": "5e2Fp7TYyPRH",
        "colab_type": "text"
      },
      "source": [
        "#### Count letter occurences\n",
        "\n",
        "Create a `dict` that maps every character in a string to its appearance count."
      ]
    },
    {
      "cell_type": "code",
      "metadata": {
        "id": "qDQXe_SYyvcj",
        "colab_type": "code",
        "colab": {}
      },
      "source": [
        "text = \"\"\"We were somewhere around Barstow on the edge of the desert when the drugs began to take hold. I remember saying something like \"I feel a bit lightheaded; maybe you should drive. . . .\" And suddenly there was a terrible roar all around us and the sky was full of what looked like huge bats, all swooping and screeching and diving around the car, which was going about a hundred miles an hour with the top down to Las Vegas.\"\"\"\n",
        "{char: text.count(char) for char in text}"
      ],
      "execution_count": 0,
      "outputs": []
    },
    {
      "cell_type": "markdown",
      "metadata": {
        "id": "77JNnYSrhqsl",
        "colab_type": "text"
      },
      "source": [
        "#### Map items by key\n",
        "\n",
        "Take a list of dictionaries and map them by (unique) key, for fast and easy lookup."
      ]
    },
    {
      "cell_type": "code",
      "metadata": {
        "id": "old5-Ocxhz3H",
        "colab_type": "code",
        "outputId": "38b39b87-1b57-4e7e-a6ce-0f43ce83af92",
        "colab": {
          "base_uri": "https://localhost:8080/",
          "height": 34
        }
      },
      "source": [
        "albums = [{'id': 'yckMJOZwArQ', 'title': 'For Those About To Rock We Salute You', 'artist': 'AC/DC'}, {'id': 'nr6AARds07U', 'title': 'Balls to the Wall', 'artist': 'Accept'}, {'id': 'xKrwMhRFR04', 'title': 'Restless and Wild', 'artist': 'Accept'}, {'id': 'm3P8ltkP88o', 'title': 'Let There Be Rock', 'artist': 'AC/DC'}, {'id': 'AWyCZKX5Hk0', 'title': 'Big Ones', 'artist': 'Aerosmith'}, {'id': '5igVPC6_Mjg', 'title': 'Jagged Little Pill', 'artist': 'Alanis Morissette'}, {'id': 'fONdsGu_VE8', 'title': 'Facelift', 'artist': 'Alice In Chains'}, {'id': 'JYwWkcUA7so', 'title': 'Warner 25 Anos', 'artist': 'Antônio Carlos Jobim'}, {'id': 'TvOtypkLPWE', 'title': 'Plays Metallica By Four Cellos', 'artist': 'Apocalyptica'}, {'id': 'PSXbaB1HHMo', 'title': 'Audioslave', 'artist': 'Audioslave'}, {'id': 'gnjfPndIpk4', 'title': 'Out Of Exile', 'artist': 'Audioslave'}, {'id': 'RogB5cekXEc', 'title': 'BackBeat Soundtrack', 'artist': 'BackBeat'}, {'id': 'dJQt0CIHZ_c', 'title': 'The Best Of Billy Cobham', 'artist': 'Billy Cobham'}, {'id': '1O2Xw9I-ULo', 'title': 'Alcohol Fueled Brewtality Live! [Disc 1]', 'artist': 'Black Label Society'}, {'id': 'Hyaoenfa90s', 'title': 'Alcohol Fueled Brewtality Live! [Disc 2]', 'artist': 'Black Label Society'}, {'id': '3beawiaz834', 'title': 'Black Sabbath', 'artist': 'Black Sabbath'}, {'id': 'wBzKWrUOYow', 'title': 'Black Sabbath Vol. 4 (Remaster)', 'artist': 'Black Sabbath'}, {'id': 'GG5qi_LQBf0', 'title': 'Body Count', 'artist': 'Body Count'}, {'id': '5lAH14uq-w8', 'title': 'Chemical Wedding', 'artist': 'Bruce Dickinson'}, {'id': 'Cyar6qvI-eQ', 'title': 'The Best Of Buddy Guy - The Millenium Collection', 'artist': 'Buddy Guy'}, {'id': 'PdIJ4hlZnrg', 'title': 'Prenda Minha', 'artist': 'Caetano Veloso'}, {'id': 'H1VtjfyzM70', 'title': 'Sozinho Remix Ao Vivo', 'artist': 'Caetano Veloso'}, {'id': 'ADzUkA4bNUw', 'title': 'Minha Historia', 'artist': 'Chico Buarque'}, {'id': 'HSU0EwgBlZ8', 'title': 'Afrociberdelia', 'artist': 'Chico Science & Nação Zumbi'}, {'id': 'AkP6ZnEk1g4', 'title': 'Da Lama Ao Caos', 'artist': 'Chico Science & Nação Zumbi'}, {'id': 'SLodV54YVcg', 'title': 'Acústico MTV [Live]', 'artist': 'Cidade Negra'}, {'id': 'ciTgs6mLP0s', 'title': 'Cidade Negra - Hits', 'artist': 'Cidade Negra'}, {'id': 'EdxHI7JE2-M', 'title': 'Na Pista', 'artist': 'Cláudio Zoli'}, {'id': 'R96xz4htYt8', 'title': 'Axé Bahia 2001', 'artist': 'Various Artists'}, {'id': '6DEhZNBSiPQ', 'title': 'BBC Sessions [Disc 1] [Live]', 'artist': 'Led Zeppelin'}, {'id': 'mPAfw_uKXpo', 'title': 'Bongo Fury', 'artist': 'Frank Zappa & Captain Beefheart'}, {'id': 'yuQrx6NzoLY', 'title': 'Carnaval 2001', 'artist': 'Various Artists'}, {'id': 'S2QJKDWFJwc', 'title': 'Chill: Brazil (Disc 1)', 'artist': 'Marcos Valle'}, {'id': 'JsJhD4WJgCA', 'title': 'Chill: Brazil (Disc 2)', 'artist': 'Antônio Carlos Jobim'}, {'id': '1-FG2pkcL20', 'title': 'Garage Inc. (Disc 1)', 'artist': 'Metallica'}, {'id': 'cRRMrliwI4g', 'title': 'Greatest Hits II', 'artist': 'Queen'}, {'id': 'nxQCcS0C9Vo', 'title': 'Greatest Kiss', 'artist': 'Kiss'}, {'id': '9NHM_ufNrTc', 'title': 'Heart of the Night', 'artist': 'Spyro Gyra'}, {'id': 'i7EXILndwFU', 'title': 'International Superhits', 'artist': 'Green Day'}, {'id': 'sNDGs8U5eCQ', 'title': 'Into The Light', 'artist': 'David Coverdale'}, {'id': 'ElnSYOQqzfo', 'title': 'Meus Momentos', 'artist': 'Gonzaguinha'}, {'id': 'wcNzb1rULzw', 'title': 'Minha História', 'artist': 'Os Mutantes'}, {'id': 'xHnMumSwspo', 'title': 'MK III The Final Concerts [Disc 1]', 'artist': 'Deep Purple'}, {'id': 'S26NFWw-HTU', 'title': 'Physical Graffiti [Disc 1]', 'artist': 'Led Zeppelin'}, {'id': 'ZjqYmK_buF0', 'title': 'Sambas De Enredo 2001', 'artist': 'Various Artists'}, {'id': 'zwnhFQsJeI0', 'title': 'Supernatural', 'artist': 'Santana'}, {'id': '92-lh_O7dYQ', 'title': 'The Best of Ed Motta', 'artist': 'Ed Motta'}, {'id': '0EUpyJc-9io', 'title': 'The Essential Miles Davis [Disc 1]', 'artist': 'Miles Davis'}, {'id': 'cIjHMXCPca8', 'title': 'The Essential Miles Davis [Disc 2]', 'artist': 'Miles Davis'}, {'id': 'BAB2FCrXKhA', 'title': 'The Final Concerts (Disc 2)', 'artist': 'Deep Purple'}, {'id': 'jRAVSKlfxUk', 'title': \"Up An' Atom\", 'artist': 'Gene Krupa'}, {'id': 'S360kUOVFtw', 'title': 'Vinícius De Moraes - Sem Limite', 'artist': 'Toquinho & Vinícius'}, {'id': 'AhQROz6IQQI', 'title': 'Vozes do MPB', 'artist': 'Various Artists'}, {'id': 'ijXTio-UnhA', 'title': 'Chronicle, Vol. 1', 'artist': 'Creedence Clearwater Revival'}, {'id': '6QQT5hOeFLw', 'title': 'Chronicle, Vol. 2', 'artist': 'Creedence Clearwater Revival'}, {'id': 'Kz-sFJwNR0s', 'title': 'Cássia Eller - Coleção Sem Limite [Disc 2]', 'artist': 'Cássia Eller'}, {'id': 'BCX5S-0K5Ps', 'title': 'Cássia Eller - Sem Limite [Disc 1]', 'artist': 'Cássia Eller'}, {'id': 'xF5Jgw32WkM', 'title': 'Come Taste The Band', 'artist': 'Deep Purple'}, {'id': '5I3iO8SibgI', 'title': 'Deep Purple In Rock', 'artist': 'Deep Purple'}, {'id': '4mqvuteuDfE', 'title': 'Fireball', 'artist': 'Deep Purple'}, {'id': 'daan_J2eJLs', 'title': \"Knocking at Your Back Door: The Best Of Deep Purple in the 80's\", 'artist': 'Deep Purple'}, {'id': 'pof2_9locs4', 'title': 'Machine Head', 'artist': 'Deep Purple'}, {'id': 'PRjacFjainw', 'title': 'Purpendicular', 'artist': 'Deep Purple'}, {'id': 'R9XyYTE5SU0', 'title': 'Slaves And Masters', 'artist': 'Deep Purple'}, {'id': 'CcJvtA3g-JE', 'title': 'Stormbringer', 'artist': 'Deep Purple'}, {'id': 'wDH76IDo1NQ', 'title': 'The Battle Rages On', 'artist': 'Deep Purple'}, {'id': '8pXl8GTBp9E', 'title': \"Vault: Def Leppard's Greatest Hits\", 'artist': 'Def Leppard'}, {'id': 'OJXb91Dphac', 'title': 'Outbreak', 'artist': 'Dennis Chambers'}, {'id': 'WIrVtwSUYR8', 'title': 'Djavan Ao Vivo - Vol. 02', 'artist': 'Djavan'}, {'id': 'sb9DDjsDJyY', 'title': 'Djavan Ao Vivo - Vol. 1', 'artist': 'Djavan'}, {'id': 'lZXMp8ue3aI', 'title': 'Elis Regina-Minha História', 'artist': 'Elis Regina'}, {'id': '-hjnzo3gS-Y', 'title': 'The Cream Of Clapton', 'artist': 'Eric Clapton'}, {'id': 'BNCG0ws2gnM', 'title': 'Unplugged', 'artist': 'Eric Clapton'}, {'id': 'IUMdTZR3ngI', 'title': 'Album Of The Year', 'artist': 'Faith No More'}, {'id': 'DUKPmS05VxA', 'title': 'Angel Dust', 'artist': 'Faith No More'}, {'id': 'gtYKUyhSwVU', 'title': 'King For A Day Fool For A Lifetime', 'artist': 'Faith No More'}, {'id': 'Bhaa1qewljI', 'title': 'The Real Thing', 'artist': 'Faith No More'}, {'id': 'jmDQbkwdJIE', 'title': 'Deixa Entrar', 'artist': 'Falamansa'}, {'id': '_vCAB3YCl1g', 'title': 'In Your Honor [Disc 1]', 'artist': 'Foo Fighters'}, {'id': 'SKKr2Oy4mJA', 'title': 'In Your Honor [Disc 2]', 'artist': 'Foo Fighters'}, {'id': 'eLToZv3tiVs', 'title': 'One By One', 'artist': 'Foo Fighters'}, {'id': 'BNXr5lIiLYM', 'title': 'The Colour And The Shape', 'artist': 'Foo Fighters'}, {'id': '7uHlOy7t3J8', 'title': 'My Way: The Best Of Frank Sinatra [Disc 1]', 'artist': 'Frank Sinatra'}, {'id': 'yIiPyItFawM', 'title': 'Roda De Funk', 'artist': 'Funk Como Le Gusta'}, {'id': 'FRfX9Rfwzos', 'title': 'As Canções de Eu Tu Eles', 'artist': 'Gilberto Gil'}, {'id': 'TNTw9ZUhnno', 'title': 'Quanta Gente Veio Ver (Live)', 'artist': 'Gilberto Gil'}, {'id': 'JurIUVPGxuk', 'title': 'Quanta Gente Veio ver--Bônus De Carnaval', 'artist': 'Gilberto Gil'}, {'id': 'TJE8iaJDnJI', 'title': 'Faceless', 'artist': 'Godsmack'}, {'id': 'esfcxI5t-mQ', 'title': 'American Idiot', 'artist': 'Green Day'}, {'id': '4QkkGnKWyq0', 'title': 'Appetite for Destruction', 'artist': \"Guns N' Roses\"}, {'id': 'timRJyGt73E', 'title': 'Use Your Illusion I', 'artist': \"Guns N' Roses\"}, {'id': 'BADQW6ybMHc', 'title': 'Use Your Illusion II', 'artist': \"Guns N' Roses\"}, {'id': 'X_v-_JyP8PQ', 'title': 'Blue Moods', 'artist': 'Incognito'}, {'id': '-6Dhrwi_WEI', 'title': 'A Matter of Life and Death', 'artist': 'Iron Maiden'}, {'id': 'OQ0GsGBmNx8', 'title': 'A Real Dead One', 'artist': 'Iron Maiden'}, {'id': 'cn2pJ-Q-i3A', 'title': 'A Real Live One', 'artist': 'Iron Maiden'}, {'id': '6DG_ZL2Vg2E', 'title': 'Brave New World', 'artist': 'Iron Maiden'}, {'id': 'ce-sXhgKCUs', 'title': 'Dance Of Death', 'artist': 'Iron Maiden'}, {'id': 'u4y0oiM8ESw', 'title': 'Fear Of The Dark', 'artist': 'Iron Maiden'}, {'id': '7yM8-3GwKEE', 'title': 'Iron Maiden', 'artist': 'Iron Maiden'}]\n",
        "albums_by_id = {a['id']: a for a in albums}\n",
        "print(albums_by_id['0EUpyJc-9io'])"
      ],
      "execution_count": 0,
      "outputs": [
        {
          "output_type": "stream",
          "text": [
            "{'id': '0EUpyJc-9io', 'title': 'The Essential Miles Davis [Disc 1]', 'artist': 'Miles Davis'}\n"
          ],
          "name": "stdout"
        }
      ]
    }
  ]
}