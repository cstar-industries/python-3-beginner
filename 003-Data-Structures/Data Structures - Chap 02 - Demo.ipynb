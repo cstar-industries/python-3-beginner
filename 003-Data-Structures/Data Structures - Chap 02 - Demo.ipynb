{
  "nbformat": 4,
  "nbformat_minor": 0,
  "metadata": {
    "colab": {
      "name": "Data Structures - Chap 02 - Demo",
      "provenance": [],
      "private_outputs": true,
      "collapsed_sections": [],
      "authorship_tag": "ABX9TyNENmfF339JpoQhZVTtdcdV",
      "include_colab_link": true
    },
    "kernelspec": {
      "name": "python3",
      "display_name": "Python 3"
    }
  },
  "cells": [
    {
      "cell_type": "markdown",
      "metadata": {
        "id": "view-in-github",
        "colab_type": "text"
      },
      "source": [
        "<a href=\"https://colab.research.google.com/github/cstar-industries/python-3-beginner/blob/master/003-Data-Structures/Data%20Structures%20-%20Chap%2002%20-%20Demo.ipynb\" target=\"_parent\"><img src=\"https://colab.research.google.com/assets/colab-badge.svg\" alt=\"Open In Colab\"/></a>"
      ]
    },
    {
      "cell_type": "markdown",
      "metadata": {
        "id": "h3m12N7yczwr",
        "colab_type": "text"
      },
      "source": [
        "## Meet the `tuple`s"
      ]
    },
    {
      "cell_type": "code",
      "metadata": {
        "id": "8BXg29YvcwV2",
        "colab_type": "code",
        "colab": {}
      },
      "source": [
        "t = (0, 1, 2)\n",
        "print(t)\n",
        "print(type(t))"
      ],
      "execution_count": 0,
      "outputs": []
    },
    {
      "cell_type": "code",
      "metadata": {
        "id": "zMBs9rCIc5tM",
        "colab_type": "code",
        "colab": {}
      },
      "source": [
        "type(t)"
      ],
      "execution_count": 0,
      "outputs": []
    },
    {
      "cell_type": "code",
      "metadata": {
        "id": "OdLq23VTdTKO",
        "colab_type": "code",
        "colab": {}
      },
      "source": [
        "t[0]"
      ],
      "execution_count": 0,
      "outputs": []
    },
    {
      "cell_type": "code",
      "metadata": {
        "id": "1eg-aZb_dUM3",
        "colab_type": "code",
        "colab": {}
      },
      "source": [
        "type(t[0])"
      ],
      "execution_count": 0,
      "outputs": []
    },
    {
      "cell_type": "code",
      "metadata": {
        "id": "wa4MkINic6kv",
        "colab_type": "code",
        "colab": {}
      },
      "source": [
        "len(t)"
      ],
      "execution_count": 0,
      "outputs": []
    },
    {
      "cell_type": "code",
      "metadata": {
        "id": "MgkXE8ZcdAyl",
        "colab_type": "code",
        "colab": {}
      },
      "source": [
        "for x in t:\n",
        "  print(x)"
      ],
      "execution_count": 0,
      "outputs": []
    },
    {
      "cell_type": "code",
      "metadata": {
        "id": "jyn3j0SQdEVW",
        "colab_type": "code",
        "colab": {}
      },
      "source": [
        "a, b, c = [0, 1, 2]\n",
        "print(a)\n",
        "print(b)\n",
        "print(c)"
      ],
      "execution_count": 0,
      "outputs": []
    },
    {
      "cell_type": "code",
      "metadata": {
        "id": "S1cvcoSHdJ8j",
        "colab_type": "code",
        "colab": {}
      },
      "source": [
        "for t in enumerate(range(3, 6)):\n",
        "  print(type(t), t[0], t[1])"
      ],
      "execution_count": 0,
      "outputs": []
    },
    {
      "cell_type": "code",
      "metadata": {
        "id": "0dFOVfjXddLS",
        "colab_type": "code",
        "colab": {}
      },
      "source": [
        "t = (0, 1, 'Hello')\n",
        "print(t)"
      ],
      "execution_count": 0,
      "outputs": []
    },
    {
      "cell_type": "code",
      "metadata": {
        "id": "gqqKZ7jkfOhf",
        "colab_type": "code",
        "colab": {}
      },
      "source": [
        "t[0] = 'toto'"
      ],
      "execution_count": 0,
      "outputs": []
    },
    {
      "cell_type": "code",
      "metadata": {
        "id": "D8vSEYqqfQKr",
        "colab_type": "code",
        "colab": {}
      },
      "source": [
        "t.pop()"
      ],
      "execution_count": 0,
      "outputs": []
    },
    {
      "cell_type": "markdown",
      "metadata": {
        "id": "o1f2D_Xm77rA",
        "colab_type": "text"
      },
      "source": [
        "## More about `str`"
      ]
    },
    {
      "cell_type": "code",
      "metadata": {
        "id": "1KkVedvs8EoZ",
        "colab_type": "code",
        "colab": {}
      },
      "source": [
        "filename = 'toto.txt'\n",
        "print(filename.startswith('hello'))\n",
        "print(filename.endswith('.txt'))"
      ],
      "execution_count": 0,
      "outputs": []
    },
    {
      "cell_type": "code",
      "metadata": {
        "id": "yiIIXzJY8ZOO",
        "colab_type": "code",
        "colab": {}
      },
      "source": [
        "'Hello'.isalpha()"
      ],
      "execution_count": 0,
      "outputs": []
    },
    {
      "cell_type": "code",
      "metadata": {
        "id": "VjJ1rL308kMz",
        "colab_type": "code",
        "colab": {}
      },
      "source": [
        "'Hello World'.isalpha()"
      ],
      "execution_count": 0,
      "outputs": []
    },
    {
      "cell_type": "code",
      "metadata": {
        "id": "r6L6Z4wf8mCr",
        "colab_type": "code",
        "colab": {}
      },
      "source": [
        "print('12345'.isnumeric())\n",
        "print('123.45'.isnumeric())"
      ],
      "execution_count": 0,
      "outputs": []
    },
    {
      "cell_type": "code",
      "metadata": {
        "id": "0rvVnD1c9nEL",
        "colab_type": "code",
        "colab": {}
      },
      "source": [
        "cmd_line = 'cat names.txt | grep Guido | uniq | sort'\n",
        "cmds = cmd_line.split(' | ')\n",
        "print(cmds)"
      ],
      "execution_count": 0,
      "outputs": []
    },
    {
      "cell_type": "code",
      "metadata": {
        "id": "e5FHJrg1_QWN",
        "colab_type": "code",
        "colab": {}
      },
      "source": [
        "opening_line = '''It was a bright day in April,\n",
        "                  and the clocks were striking thirteen.'''\n",
        "opening_line.split()"
      ],
      "execution_count": 0,
      "outputs": []
    },
    {
      "cell_type": "code",
      "metadata": {
        "id": "xNlhyYL2_8rR",
        "colab_type": "code",
        "colab": {}
      },
      "source": [
        "s = 'Hello World!'\n",
        "print(s.find('H'))\n",
        "print(s.find('W'))\n",
        "print(s.find('ld!'))\n",
        "print(s.find('hell'))"
      ],
      "execution_count": 0,
      "outputs": []
    },
    {
      "cell_type": "code",
      "metadata": {
        "id": "5Y3TEj8PAI1H",
        "colab_type": "code",
        "colab": {}
      },
      "source": [
        "print(s.replace('World', 'Python'))\n",
        "print(s)"
      ],
      "execution_count": 0,
      "outputs": []
    },
    {
      "cell_type": "markdown",
      "metadata": {
        "id": "4MLiJ5H879lJ",
        "colab_type": "text"
      },
      "source": [
        "## `set`"
      ]
    },
    {
      "cell_type": "code",
      "metadata": {
        "id": "irCpM7N5DBAG",
        "colab_type": "code",
        "colab": {}
      },
      "source": [
        "s = set([1, 2, 3])\n",
        "print(s)"
      ],
      "execution_count": 0,
      "outputs": []
    },
    {
      "cell_type": "code",
      "metadata": {
        "id": "IXvDELovFl26",
        "colab_type": "code",
        "colab": {}
      },
      "source": [
        "s = set(range(10))\n",
        "print(s)"
      ],
      "execution_count": 0,
      "outputs": []
    },
    {
      "cell_type": "code",
      "metadata": {
        "id": "NvOkFQZuIvNw",
        "colab_type": "code",
        "colab": {}
      },
      "source": [
        "s = set('Hello')\n",
        "print(s)"
      ],
      "execution_count": 0,
      "outputs": []
    },
    {
      "cell_type": "code",
      "metadata": {
        "id": "RaoWNaESFptc",
        "colab_type": "code",
        "colab": {}
      },
      "source": [
        "s = set(zip('Hello', 'World'))\n",
        "print(s)"
      ],
      "execution_count": 0,
      "outputs": []
    },
    {
      "cell_type": "code",
      "metadata": {
        "id": "kDdfdCmOF0H3",
        "colab_type": "code",
        "colab": {}
      },
      "source": [
        "s1 = {1, 2, 3}\n",
        "s2 = {3, 2, 1}\n",
        "print(s1)\n",
        "print(s2)\n",
        "print(s1 == s2)"
      ],
      "execution_count": 0,
      "outputs": []
    },
    {
      "cell_type": "code",
      "metadata": {
        "id": "oF6GogiZGDjb",
        "colab_type": "code",
        "colab": {}
      },
      "source": [
        "print(0 in s1)\n",
        "print(1 in s1)"
      ],
      "execution_count": 0,
      "outputs": []
    },
    {
      "cell_type": "code",
      "metadata": {
        "id": "sBinbP9PGI6C",
        "colab_type": "code",
        "colab": {}
      },
      "source": [
        "s1[0]"
      ],
      "execution_count": 0,
      "outputs": []
    },
    {
      "cell_type": "code",
      "metadata": {
        "id": "51ZEurvxGTNi",
        "colab_type": "code",
        "colab": {}
      },
      "source": [
        "for i in s1:\n",
        "  print(i)"
      ],
      "execution_count": 0,
      "outputs": []
    },
    {
      "cell_type": "code",
      "metadata": {
        "id": "YJD27GZcGVkV",
        "colab_type": "code",
        "colab": {}
      },
      "source": [
        "s1 = set()\n",
        "print(s1)"
      ],
      "execution_count": 0,
      "outputs": []
    },
    {
      "cell_type": "code",
      "metadata": {
        "id": "cKqsgEDRGaRQ",
        "colab_type": "code",
        "colab": {}
      },
      "source": [
        "sneks = {'Python', 'Cobra', 'Anaconda'}\n",
        "languages = {'Python', 'C', 'Go'}"
      ],
      "execution_count": 0,
      "outputs": []
    },
    {
      "cell_type": "code",
      "metadata": {
        "id": "xwrc3zgzLxxa",
        "colab_type": "code",
        "colab": {}
      },
      "source": [
        "print('Union:', sneks | languages)\n",
        "print('Intersection:', sneks & languages)\n",
        "print('Left difference:', sneks - languages)\n",
        "print('Right difference:', languages - sneks)\n",
        "print('Exclusion:', languages ^ sneks)\n",
        "print('Exclusion:', (languages | sneks) - (languages & sneks))"
      ],
      "execution_count": 0,
      "outputs": []
    },
    {
      "cell_type": "code",
      "metadata": {
        "id": "mTdamuaeSJ0i",
        "colab_type": "code",
        "colab": {}
      },
      "source": [
        "(languages ^ sneks) == ((languages | sneks) - (languages & sneks))"
      ],
      "execution_count": 0,
      "outputs": []
    },
    {
      "cell_type": "code",
      "metadata": {
        "id": "t9i0ZjOQVsQv",
        "colab_type": "code",
        "colab": {}
      },
      "source": [
        "languages |= {'C++', 'Java'}\n",
        "print(languages)"
      ],
      "execution_count": 0,
      "outputs": []
    },
    {
      "cell_type": "code",
      "metadata": {
        "id": "7-Dw6kWzWObo",
        "colab_type": "code",
        "colab": {}
      },
      "source": [
        "s = languages\n",
        "print(s is languages)\n",
        "s &= sneks\n",
        "print(s)\n",
        "print(languages)"
      ],
      "execution_count": 0,
      "outputs": []
    },
    {
      "cell_type": "markdown",
      "metadata": {
        "id": "D3SQNLAMXNj2",
        "colab_type": "text"
      },
      "source": [
        "## `dict`"
      ]
    }
  ]
}