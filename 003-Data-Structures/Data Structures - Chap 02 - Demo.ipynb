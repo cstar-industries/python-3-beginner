{
  "nbformat": 4,
  "nbformat_minor": 0,
  "metadata": {
    "colab": {
      "name": "Data Structures - Chap 02 - Demo",
      "provenance": [],
      "private_outputs": true,
      "authorship_tag": "ABX9TyNv1akeyTXKH7GrLn8U34QS",
      "include_colab_link": true
    },
    "kernelspec": {
      "name": "python3",
      "display_name": "Python 3"
    }
  },
  "cells": [
    {
      "cell_type": "markdown",
      "metadata": {
        "id": "view-in-github",
        "colab_type": "text"
      },
      "source": [
        "<a href=\"https://colab.research.google.com/github/cstar-industries/python-3-beginner/blob/master/003-Data-Structures/Data%20Structures%20-%20Chap%2002%20-%20Demo.ipynb\" target=\"_parent\"><img src=\"https://colab.research.google.com/assets/colab-badge.svg\" alt=\"Open In Colab\"/></a>"
      ]
    },
    {
      "cell_type": "markdown",
      "metadata": {
        "id": "h3m12N7yczwr",
        "colab_type": "text"
      },
      "source": [
        "## Meet the `tuple`s"
      ]
    },
    {
      "cell_type": "code",
      "metadata": {
        "id": "8BXg29YvcwV2",
        "colab_type": "code",
        "colab": {}
      },
      "source": [
        "t = (0, 1, 2)\n",
        "print(t)"
      ],
      "execution_count": 0,
      "outputs": []
    },
    {
      "cell_type": "code",
      "metadata": {
        "id": "zMBs9rCIc5tM",
        "colab_type": "code",
        "colab": {}
      },
      "source": [
        "type(t)"
      ],
      "execution_count": 0,
      "outputs": []
    },
    {
      "cell_type": "code",
      "metadata": {
        "id": "OdLq23VTdTKO",
        "colab_type": "code",
        "colab": {}
      },
      "source": [
        "t[0]"
      ],
      "execution_count": 0,
      "outputs": []
    },
    {
      "cell_type": "code",
      "metadata": {
        "id": "1eg-aZb_dUM3",
        "colab_type": "code",
        "colab": {}
      },
      "source": [
        "type(t[0])"
      ],
      "execution_count": 0,
      "outputs": []
    },
    {
      "cell_type": "code",
      "metadata": {
        "id": "wa4MkINic6kv",
        "colab_type": "code",
        "colab": {}
      },
      "source": [
        "len(t)"
      ],
      "execution_count": 0,
      "outputs": []
    },
    {
      "cell_type": "code",
      "metadata": {
        "id": "MgkXE8ZcdAyl",
        "colab_type": "code",
        "colab": {}
      },
      "source": [
        "for x in t:\n",
        "  print(x)"
      ],
      "execution_count": 0,
      "outputs": []
    },
    {
      "cell_type": "code",
      "metadata": {
        "id": "jyn3j0SQdEVW",
        "colab_type": "code",
        "colab": {}
      },
      "source": [
        "a, b, c = [0, 1, 2]\n",
        "print(a)\n",
        "print(b)\n",
        "print(c)"
      ],
      "execution_count": 0,
      "outputs": []
    },
    {
      "cell_type": "code",
      "metadata": {
        "id": "S1cvcoSHdJ8j",
        "colab_type": "code",
        "colab": {}
      },
      "source": [
        "for t in enumerate(range(3, 6)):\n",
        "  print(type(t), t[0], t[1])"
      ],
      "execution_count": 0,
      "outputs": []
    },
    {
      "cell_type": "code",
      "metadata": {
        "id": "0dFOVfjXddLS",
        "colab_type": "code",
        "colab": {}
      },
      "source": [
        "t = (0, 1, 'Hello')\n",
        "print(t)"
      ],
      "execution_count": 0,
      "outputs": []
    },
    {
      "cell_type": "code",
      "metadata": {
        "id": "gqqKZ7jkfOhf",
        "colab_type": "code",
        "colab": {}
      },
      "source": [
        "t[0] = 'toto'"
      ],
      "execution_count": 0,
      "outputs": []
    },
    {
      "cell_type": "code",
      "metadata": {
        "id": "D8vSEYqqfQKr",
        "colab_type": "code",
        "colab": {}
      },
      "source": [
        "t.pop()"
      ],
      "execution_count": 0,
      "outputs": []
    }
  ]
}