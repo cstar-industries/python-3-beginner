{
  "nbformat": 4,
  "nbformat_minor": 0,
  "metadata": {
    "colab": {
      "name": "Data Structures - Workshop",
      "provenance": [],
      "private_outputs": true,
      "authorship_tag": "ABX9TyMbeUzvB42qdxVmO7BMugjd",
      "include_colab_link": true
    },
    "kernelspec": {
      "name": "python3",
      "display_name": "Python 3"
    }
  },
  "cells": [
    {
      "cell_type": "markdown",
      "metadata": {
        "id": "view-in-github",
        "colab_type": "text"
      },
      "source": [
        "<a href=\"https://colab.research.google.com/github/cstar-industries/python-3-beginner/blob/master/003-Data-Structures/Data%20Structures%20-%20Workshop.ipynb\" target=\"_parent\"><img src=\"https://colab.research.google.com/assets/colab-badge.svg\" alt=\"Open In Colab\"/></a>"
      ]
    },
    {
      "cell_type": "markdown",
      "metadata": {
        "id": "Cc0rSxgKZQJE",
        "colab_type": "text"
      },
      "source": [
        "## 1. Data in the wild\n",
        "\n",
        "A list of contacts and addresses was exported from a database to a JSON file. The database was not well-maintained and some data was corrupted. We wish to clean this up to get a new, improved contact database.\n",
        "\n",
        "The first block uses [Requests](https://requests.readthedocs.io/en/master/)–a state-of-the-art library for handling HTTP in Python–to download the JSON file from the Internet. You don't need to understand what is happening, but if you are curious, feel free to dig into it.\n",
        "\n",
        "After running the first block, the `db` variable contains a dictionary with two keys: `contacts` and `addresses`.\n",
        "\n",
        "A contact consists of the following information:\n",
        "\n",
        "* ID\n",
        "* first name\n",
        "* last name\n",
        "* e-mail\n",
        "* address ID (to be found in the addresses table)\n",
        "\n",
        "An address consists of the following information:\n",
        "\n",
        "* ID\n",
        "* Street number\n",
        "* Street name\n",
        "* ZIP code\n",
        "* City\n",
        "\n",
        "Once your program is run, the following variables should contain this information:\n",
        "\n",
        "* `contacts`: a dictionary mapping contact IDs to each _valid_ contact. A valid contact is a contact with all their data filled, and a valid address (with all its data filled. Expected format:\n",
        "\n",
        "```python\n",
        "{\n",
        "  1: {\n",
        "    'first_name': 'Sean',\n",
        "    'last_name': 'Price',\n",
        "    'email': 'sean.price@duckdown.com',\n",
        "    'address': {\n",
        "      'street_number': '1303',\n",
        "      'street_name': 'Bergen Street',\n",
        "      'zip_code': '11216',\n",
        "      'city': 'Brooklyn, New York'\n",
        "    }\n",
        "  },\n",
        "  ...\n",
        "  ```\n",
        "* `incomplete_contacts`: a `list` of contact IDs that do not have complete data\n",
        "* `incomplete_addresses`: a `list` of address IDs that do not have complete data\n",
        "* `missing_addresses`: a `list` of address IDs that appear as the `address` field of a contact, but do not appear in the addresses list\n",
        "* `dangling_addresses`: a `list` of address IDs for all addresses with no corresponding contact\n",
        "\n",
        "  > This is your time to start digging in the [docs](https://docs.python.org/3/library/stdtypes.html). You can do many things with the Python built-in types. Hope you can find what you need!"
      ]
    },
    {
      "cell_type": "code",
      "metadata": {
        "id": "3irbUGAXerB8",
        "colab_type": "code",
        "colab": {}
      },
      "source": [
        "# Run this block to download the JSON file and parse it into the `db` variable.\n",
        "import requests\n",
        "\n",
        "res = requests.get('https://chrales.dev/python-3-beginner/contactdb.json')\n",
        "db = res.json()"
      ],
      "execution_count": 0,
      "outputs": []
    },
    {
      "cell_type": "code",
      "metadata": {
        "id": "9Lo8YcJNhKPM",
        "colab_type": "code",
        "colab": {}
      },
      "source": [
        "# Your code starts here..."
      ],
      "execution_count": 0,
      "outputs": []
    }
  ]
}