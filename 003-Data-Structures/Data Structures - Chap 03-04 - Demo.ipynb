{
  "nbformat": 4,
  "nbformat_minor": 0,
  "metadata": {
    "colab": {
      "name": "Data Structures - Chap 03-04 - Dictionaries and Python Superpowers",
      "provenance": [],
      "private_outputs": true,
      "collapsed_sections": [
        "5ozIIgGFe17V",
        "V9vOygPKFDWs",
        "Tf8V0Qd2JrqI",
        "KDWH3jNFYs5V"
      ],
      "authorship_tag": "ABX9TyMvrfjsOwnLL3wmL1pOwioe",
      "include_colab_link": true
    },
    "kernelspec": {
      "name": "python3",
      "display_name": "Python 3"
    }
  },
  "cells": [
    {
      "cell_type": "markdown",
      "metadata": {
        "id": "view-in-github",
        "colab_type": "text"
      },
      "source": [
        "<a href=\"https://colab.research.google.com/github/cstar-industries/python-3-beginner/blob/master/003-Data-Structures/Data%20Structures%20-%20Chap%2003-04%20-%20Demo.ipynb\" target=\"_parent\"><img src=\"https://colab.research.google.com/assets/colab-badge.svg\" alt=\"Open In Colab\"/></a>"
      ]
    },
    {
      "cell_type": "markdown",
      "metadata": {
        "id": "5ozIIgGFe17V",
        "colab_type": "text"
      },
      "source": [
        "## `dict`"
      ]
    },
    {
      "cell_type": "code",
      "metadata": {
        "id": "0hdlwaIdets-",
        "colab_type": "code",
        "colab": {}
      },
      "source": [
        "d = {0: 'zero', 2: 'two', 1: 'one'}\n",
        "type(d)"
      ],
      "execution_count": 0,
      "outputs": []
    },
    {
      "cell_type": "code",
      "metadata": {
        "id": "DU4uMmNxuDXy",
        "colab_type": "code",
        "colab": {}
      },
      "source": [
        "d[0]"
      ],
      "execution_count": 0,
      "outputs": []
    },
    {
      "cell_type": "code",
      "metadata": {
        "id": "XYogfOcsuIGb",
        "colab_type": "code",
        "colab": {}
      },
      "source": [
        "d[2]"
      ],
      "execution_count": 0,
      "outputs": []
    },
    {
      "cell_type": "code",
      "metadata": {
        "id": "iIP7qFyvuFCu",
        "colab_type": "code",
        "colab": {}
      },
      "source": [
        "d['two']"
      ],
      "execution_count": 0,
      "outputs": []
    },
    {
      "cell_type": "code",
      "metadata": {
        "id": "UQ5T0Cyf9lFa",
        "colab_type": "code",
        "colab": {}
      },
      "source": [
        "print(d.get('two'))"
      ],
      "execution_count": 0,
      "outputs": []
    },
    {
      "cell_type": "code",
      "metadata": {
        "id": "4i-uZBvW3yJ6",
        "colab_type": "code",
        "colab": {}
      },
      "source": [
        "d = {'one': 1, 'two': '2', 'three': 3.0, 'four': [4, 4, 4]}\n",
        "print(d)"
      ],
      "execution_count": 0,
      "outputs": []
    },
    {
      "cell_type": "code",
      "metadata": {
        "id": "aNgCWN6L4KOB",
        "colab_type": "code",
        "colab": {}
      },
      "source": [
        "d2 = dict(one=1, four=[4, 4, 4], two='2', three=3.0)\n",
        "print(d2)\n",
        "print(d == d2)"
      ],
      "execution_count": 0,
      "outputs": []
    },
    {
      "cell_type": "code",
      "metadata": {
        "id": "Nx9yzJ3p9V2k",
        "colab_type": "code",
        "colab": {}
      },
      "source": [
        "d[4] = 'four'\n",
        "print(d)"
      ],
      "execution_count": 0,
      "outputs": []
    },
    {
      "cell_type": "code",
      "metadata": {
        "id": "I6SQWA12_B_3",
        "colab_type": "code",
        "colab": {}
      },
      "source": [
        "del d[0]\n",
        "print(d)"
      ],
      "execution_count": 0,
      "outputs": []
    },
    {
      "cell_type": "code",
      "metadata": {
        "id": "Yd7ql4CkAXvS",
        "colab_type": "code",
        "colab": {}
      },
      "source": [
        "for k in d:\n",
        "    print(f'{k}=>{d[k]}')"
      ],
      "execution_count": 0,
      "outputs": []
    },
    {
      "cell_type": "code",
      "metadata": {
        "id": "B6sGTCRpA12T",
        "colab_type": "code",
        "colab": {}
      },
      "source": [
        "for v in d.values():\n",
        "    print(v)\n"
      ],
      "execution_count": 0,
      "outputs": []
    },
    {
      "cell_type": "code",
      "metadata": {
        "id": "wJsg5boRB9vn",
        "colab_type": "code",
        "colab": {}
      },
      "source": [
        "for k, v in d.items():\n",
        "    print(f'{k}=>{v}')"
      ],
      "execution_count": 0,
      "outputs": []
    },
    {
      "cell_type": "markdown",
      "metadata": {
        "id": "V9vOygPKFDWs",
        "colab_type": "text"
      },
      "source": [
        "## Converting sequence types\n",
        "\n"
      ]
    },
    {
      "cell_type": "code",
      "metadata": {
        "id": "YdqcADpFFxoJ",
        "colab_type": "code",
        "colab": {}
      },
      "source": [
        "list(('Hello', 'World'))"
      ],
      "execution_count": 0,
      "outputs": []
    },
    {
      "cell_type": "code",
      "metadata": {
        "id": "mD5LwPvRF1yl",
        "colab_type": "code",
        "colab": {}
      },
      "source": [
        "tuple([0, 10, 'toto'])"
      ],
      "execution_count": 0,
      "outputs": []
    },
    {
      "cell_type": "code",
      "metadata": {
        "id": "SNNWRDXVFanl",
        "colab_type": "code",
        "colab": {}
      },
      "source": [
        "list(range(10))"
      ],
      "execution_count": 0,
      "outputs": []
    },
    {
      "cell_type": "code",
      "metadata": {
        "id": "SqWIgHAcFcUe",
        "colab_type": "code",
        "colab": {}
      },
      "source": [
        "tuple(range(10))"
      ],
      "execution_count": 0,
      "outputs": []
    },
    {
      "cell_type": "code",
      "metadata": {
        "id": "cscGcUTUFiOu",
        "colab_type": "code",
        "colab": {}
      },
      "source": [
        "set([0, 1, 2])"
      ],
      "execution_count": 0,
      "outputs": []
    },
    {
      "cell_type": "code",
      "metadata": {
        "id": "I_6o599-GGKo",
        "colab_type": "code",
        "colab": {}
      },
      "source": [
        "list({0: 'zero', 1: 'one'})"
      ],
      "execution_count": 0,
      "outputs": []
    },
    {
      "cell_type": "markdown",
      "metadata": {
        "id": "Tf8V0Qd2JrqI",
        "colab_type": "text"
      },
      "source": [
        "## List comprehensions"
      ]
    },
    {
      "cell_type": "code",
      "metadata": {
        "id": "Hreu0Ql4J-bN",
        "colab_type": "code",
        "colab": {}
      },
      "source": [
        "l = []\n",
        "for x in range(10):\n",
        "  l.append(x*x)\n",
        "print(l)"
      ],
      "execution_count": 0,
      "outputs": []
    },
    {
      "cell_type": "code",
      "metadata": {
        "id": "72yQ0mYnJuWz",
        "colab_type": "code",
        "colab": {}
      },
      "source": [
        "l = [x*x for x in range(10)]\n",
        "print(l)"
      ],
      "execution_count": 0,
      "outputs": []
    },
    {
      "cell_type": "code",
      "metadata": {
        "id": "e6XJOVOFJ38s",
        "colab_type": "code",
        "colab": {}
      },
      "source": [
        "l2 = [x/2 for x in l]\n",
        "print(l2)"
      ],
      "execution_count": 0,
      "outputs": []
    },
    {
      "cell_type": "code",
      "metadata": {
        "id": "2v8QFb-MRWb7",
        "colab_type": "code",
        "colab": {}
      },
      "source": [
        "books = ['1984', 'The Stranger', 'The Pragmatic Programmer']\n",
        "prices = [8.99, 12.71, 22.1]\n",
        "[(b, f'{p:.2f}') for b, p in zip(books, prices)]"
      ],
      "execution_count": 0,
      "outputs": []
    },
    {
      "cell_type": "code",
      "metadata": {
        "id": "vAvy858bR3O4",
        "colab_type": "code",
        "colab": {}
      },
      "source": [
        "from random import randint\n",
        "\n",
        "l = [randint(0, 100) for _ in range(10)]\n",
        "print(l)"
      ],
      "execution_count": 0,
      "outputs": []
    },
    {
      "cell_type": "code",
      "metadata": {
        "id": "m-Re1VEGSA5u",
        "colab_type": "code",
        "colab": {}
      },
      "source": [
        "evens = [x for x in l if (x % 2) == 0]\n",
        "print(evens)"
      ],
      "execution_count": 0,
      "outputs": []
    },
    {
      "cell_type": "code",
      "metadata": {
        "id": "WLdRdIiMTIdq",
        "colab_type": "code",
        "colab": {}
      },
      "source": [
        "for x in (0, 1, 2):\n",
        "  for y in (1, 2, 3):\n",
        "    print((x, y))"
      ],
      "execution_count": 0,
      "outputs": []
    },
    {
      "cell_type": "code",
      "metadata": {
        "id": "0CnzPoQZTFKX",
        "colab_type": "code",
        "colab": {}
      },
      "source": [
        "[(x, y) for x in (0, 1, 2) for y in (1, 2, 3)]"
      ],
      "execution_count": 0,
      "outputs": []
    },
    {
      "cell_type": "code",
      "metadata": {
        "id": "GxvEP6YvUG3K",
        "colab_type": "code",
        "colab": {}
      },
      "source": [
        "[(x, y) for x in (0, 1, 2) for y in (1, 2, 3) if x != y]"
      ],
      "execution_count": 0,
      "outputs": []
    },
    {
      "cell_type": "code",
      "metadata": {
        "id": "gbxlo6a9UxKA",
        "colab_type": "code",
        "colab": {}
      },
      "source": [
        "{(-1) ** x for x in range(1000)}"
      ],
      "execution_count": 0,
      "outputs": []
    },
    {
      "cell_type": "code",
      "metadata": {
        "id": "W_DtGSveVkW-",
        "colab_type": "code",
        "colab": {}
      },
      "source": [
        "s = 'Hello World!'\n",
        "\n",
        "{c: s.count(c) for c in s}"
      ],
      "execution_count": 0,
      "outputs": []
    },
    {
      "cell_type": "markdown",
      "metadata": {
        "id": "KDWH3jNFYs5V",
        "colab_type": "text"
      },
      "source": [
        "## Starred expressions"
      ]
    },
    {
      "cell_type": "code",
      "metadata": {
        "id": "M2HdyEzvYvKd",
        "colab_type": "code",
        "colab": {}
      },
      "source": [
        "r = range(10)\n",
        "print(r)"
      ],
      "execution_count": 0,
      "outputs": []
    },
    {
      "cell_type": "code",
      "metadata": {
        "id": "H_npNqW5YyxZ",
        "colab_type": "code",
        "colab": {}
      },
      "source": [
        "r = []\n",
        "for i in range(10):\n",
        "  r.append(i)\n",
        "print(r)"
      ],
      "execution_count": 0,
      "outputs": []
    },
    {
      "cell_type": "code",
      "metadata": {
        "id": "LjNOqAuQY4I5",
        "colab_type": "code",
        "colab": {}
      },
      "source": [
        "r = [i for i in range(10)]\n",
        "print(r)"
      ],
      "execution_count": 0,
      "outputs": []
    },
    {
      "cell_type": "code",
      "metadata": {
        "id": "Z7wuglF4Y8Xo",
        "colab_type": "code",
        "colab": {}
      },
      "source": [
        "r = [*range(10)]\n",
        "print(r)"
      ],
      "execution_count": 0,
      "outputs": []
    },
    {
      "cell_type": "code",
      "metadata": {
        "id": "aKNZE-xNZIMf",
        "colab_type": "code",
        "colab": {}
      },
      "source": [
        "(*range(10),)"
      ],
      "execution_count": 0,
      "outputs": []
    },
    {
      "cell_type": "code",
      "metadata": {
        "id": "Q3LJfgCHZuca",
        "colab_type": "code",
        "colab": {}
      },
      "source": [
        "squares = [x*x for x in range(10)]\n",
        "enumerate(squares)"
      ],
      "execution_count": 0,
      "outputs": []
    },
    {
      "cell_type": "code",
      "metadata": {
        "id": "sEx36SIVaIoH",
        "colab_type": "code",
        "colab": {}
      },
      "source": [
        "[*enumerate(squares)]"
      ],
      "execution_count": 0,
      "outputs": []
    },
    {
      "cell_type": "code",
      "metadata": {
        "id": "Vp_2MiRVaVkz",
        "colab_type": "code",
        "colab": {}
      },
      "source": [
        "z = zip(range(10), range(0, 100, 10))\n",
        "print(z)\n",
        "print([*z])"
      ],
      "execution_count": 0,
      "outputs": []
    },
    {
      "cell_type": "markdown",
      "metadata": {
        "id": "Ak25XJsbamSp",
        "colab_type": "text"
      },
      "source": [
        "## `any` & `all`"
      ]
    },
    {
      "cell_type": "code",
      "metadata": {
        "id": "DoNW8q1Oalh9",
        "colab_type": "code",
        "colab": {}
      },
      "source": [
        "any([False, True])"
      ],
      "execution_count": 0,
      "outputs": []
    },
    {
      "cell_type": "code",
      "metadata": {
        "id": "gsRLDZtRawzn",
        "colab_type": "code",
        "colab": {}
      },
      "source": [
        "any([False, False])"
      ],
      "execution_count": 0,
      "outputs": []
    },
    {
      "cell_type": "code",
      "metadata": {
        "id": "UQhhdBFgay7C",
        "colab_type": "code",
        "colab": {}
      },
      "source": [
        "any([0, 1])"
      ],
      "execution_count": 0,
      "outputs": []
    },
    {
      "cell_type": "code",
      "metadata": {
        "id": "ie4xTdPpa09F",
        "colab_type": "code",
        "colab": {}
      },
      "source": [
        "all([True, False])"
      ],
      "execution_count": 0,
      "outputs": []
    },
    {
      "cell_type": "code",
      "metadata": {
        "id": "6mver8A0a3WQ",
        "colab_type": "code",
        "colab": {}
      },
      "source": [
        "all([True, True, True])"
      ],
      "execution_count": 0,
      "outputs": []
    },
    {
      "cell_type": "code",
      "metadata": {
        "id": "GSmiuXDWa54Y",
        "colab_type": "code",
        "colab": {}
      },
      "source": [
        "l = [2*x for x in range(20)]\n",
        "print([((x % 2) == 0) for x in l])"
      ],
      "execution_count": 0,
      "outputs": []
    },
    {
      "cell_type": "code",
      "metadata": {
        "id": "uP9q-r9-bLef",
        "colab_type": "code",
        "colab": {}
      },
      "source": [
        "if all([((x % 2) == 0) for x in l]):\n",
        "  print('All numbers are even')"
      ],
      "execution_count": 0,
      "outputs": []
    },
    {
      "cell_type": "code",
      "metadata": {
        "id": "4wK9-iCtbRn9",
        "colab_type": "code",
        "colab": {}
      },
      "source": [
        "l.append(3)\n",
        "if all([((x % 2) == 0) for x in l]):\n",
        "  print('All numbers are even')"
      ],
      "execution_count": 0,
      "outputs": []
    },
    {
      "cell_type": "code",
      "metadata": {
        "id": "1tqQUpsbdoRW",
        "colab_type": "code",
        "colab": {}
      },
      "source": [
        "from random import random\n",
        "\n",
        "l = [random() for _ in range(100)]\n",
        "print(l)"
      ],
      "execution_count": 0,
      "outputs": []
    },
    {
      "cell_type": "code",
      "metadata": {
        "id": "w3XCL7Y1d_OY",
        "colab_type": "code",
        "colab": {}
      },
      "source": [
        "[x < 0.001 for x in l]"
      ],
      "execution_count": 0,
      "outputs": []
    },
    {
      "cell_type": "code",
      "metadata": {
        "id": "ZDC0FcPpdxYE",
        "colab_type": "code",
        "colab": {}
      },
      "source": [
        "any([x < 0.001 for x in l])"
      ],
      "execution_count": 0,
      "outputs": []
    },
    {
      "cell_type": "code",
      "metadata": {
        "id": "xvANEnmAd7yy",
        "colab_type": "code",
        "colab": {}
      },
      "source": [
        "all([x > 0.001 for x in l])"
      ],
      "execution_count": 0,
      "outputs": []
    }
  ]
}