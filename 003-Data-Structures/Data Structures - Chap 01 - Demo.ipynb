{
  "nbformat": 4,
  "nbformat_minor": 0,
  "metadata": {
    "colab": {
      "name": "Data Structures - Chap 01 - Demo",
      "provenance": [],
      "private_outputs": true,
      "authorship_tag": "ABX9TyOZ1YRFYkRpo51JXbORZHzm",
      "include_colab_link": true
    },
    "kernelspec": {
      "name": "python3",
      "display_name": "Python 3"
    }
  },
  "cells": [
    {
      "cell_type": "markdown",
      "metadata": {
        "id": "view-in-github",
        "colab_type": "text"
      },
      "source": [
        "<a href=\"https://colab.research.google.com/github/cstar-industries/python-3-beginner/blob/master/003-Data-Structures/Data%20Structures%20-%20Chap%2001%20-%20Demo.ipynb\" target=\"_parent\"><img src=\"https://colab.research.google.com/assets/colab-badge.svg\" alt=\"Open In Colab\"/></a>"
      ]
    },
    {
      "cell_type": "markdown",
      "metadata": {
        "id": "2ZLIaAP6cXsp",
        "colab_type": "text"
      },
      "source": [
        "## List functions and methods"
      ]
    },
    {
      "cell_type": "code",
      "metadata": {
        "id": "sXoAgneMcR5_",
        "colab_type": "code",
        "colab": {}
      },
      "source": [
        "l = ['H', 'e', 'l', 'l', 'o']\n",
        "l.index('H')"
      ],
      "execution_count": 0,
      "outputs": []
    },
    {
      "cell_type": "code",
      "metadata": {
        "id": "sKSQ5wEmcXTb",
        "colab_type": "code",
        "colab": {}
      },
      "source": [
        "l.index('l')"
      ],
      "execution_count": 0,
      "outputs": []
    },
    {
      "cell_type": "code",
      "metadata": {
        "id": "Gg01YwPdj4A7",
        "colab_type": "code",
        "colab": {}
      },
      "source": [
        "l.index('g')"
      ],
      "execution_count": 0,
      "outputs": []
    },
    {
      "cell_type": "code",
      "metadata": {
        "id": "bNTEjMCdj7ja",
        "colab_type": "code",
        "colab": {}
      },
      "source": [
        "l.count('H')"
      ],
      "execution_count": 0,
      "outputs": []
    },
    {
      "cell_type": "code",
      "metadata": {
        "id": "CmlxXNXVj-R3",
        "colab_type": "code",
        "colab": {}
      },
      "source": [
        "l.count('l')"
      ],
      "execution_count": 0,
      "outputs": []
    },
    {
      "cell_type": "code",
      "metadata": {
        "id": "oKpHlEruj_ti",
        "colab_type": "code",
        "colab": {}
      },
      "source": [
        "l.count(1138)"
      ],
      "execution_count": 0,
      "outputs": []
    },
    {
      "cell_type": "code",
      "metadata": {
        "id": "J5byPSI5kDRJ",
        "colab_type": "code",
        "colab": {}
      },
      "source": [
        "from random import shuffle\n",
        "\n",
        "l = [0, 1, 2, 3, 4, 5, 6, 7, 8, 9]\n",
        "shuffle(l)\n",
        "\n",
        "print(l)\n",
        "print(f'max value: {max(l)}, min value: {min(l)}')"
      ],
      "execution_count": 0,
      "outputs": []
    },
    {
      "cell_type": "code",
      "metadata": {
        "id": "EK4gfCXQkjww",
        "colab_type": "code",
        "colab": {}
      },
      "source": [
        "sum(l)"
      ],
      "execution_count": 0,
      "outputs": []
    },
    {
      "cell_type": "code",
      "metadata": {
        "id": "J_pZNGNwklg7",
        "colab_type": "code",
        "colab": {}
      },
      "source": [
        "shuffle(l)\n",
        "sum(l)"
      ],
      "execution_count": 0,
      "outputs": []
    },
    {
      "cell_type": "markdown",
      "metadata": {
        "id": "OhwExxk2jeZl",
        "colab_type": "text"
      },
      "source": [
        "## Lists are _mutable_"
      ]
    },
    {
      "cell_type": "code",
      "metadata": {
        "id": "_vDJAiltjhDk",
        "colab_type": "code",
        "colab": {}
      },
      "source": [
        "l = [0, 1, 2, 3, 4]\n",
        "l[4] = 'toto'\n",
        "print(l)"
      ],
      "execution_count": 0,
      "outputs": []
    },
    {
      "cell_type": "code",
      "metadata": {
        "id": "8_Tnnxyzk5o8",
        "colab_type": "code",
        "colab": {}
      },
      "source": [
        "l[1:3] = [6, 6, 6]\n",
        "print(l)"
      ],
      "execution_count": 0,
      "outputs": []
    },
    {
      "cell_type": "code",
      "metadata": {
        "id": "M9Z4z2eglADb",
        "colab_type": "code",
        "colab": {}
      },
      "source": [
        "l[-3:] = [True]\n",
        "print(l)"
      ],
      "execution_count": 0,
      "outputs": []
    },
    {
      "cell_type": "code",
      "metadata": {
        "id": "sF_hpme1lJL5",
        "colab_type": "code",
        "colab": {}
      },
      "source": [
        "l[-1:] = []\n",
        "print(l)"
      ],
      "execution_count": 0,
      "outputs": []
    },
    {
      "cell_type": "code",
      "metadata": {
        "id": "lNu0EIcilOyO",
        "colab_type": "code",
        "colab": {}
      },
      "source": [
        "l = [0, 1, 2, 3, 4, 5, 6, 7, 8, 9]\n",
        "l[::2] = [0, 0, 0, 0, 0]\n",
        "print(l)"
      ],
      "execution_count": 0,
      "outputs": []
    },
    {
      "cell_type": "code",
      "metadata": {
        "id": "fLbiDoQLltHT",
        "colab_type": "code",
        "colab": {}
      },
      "source": [
        "l = [0, 1, 2, 3, 4]\n",
        "l.append(5)\n",
        "print(l)"
      ],
      "execution_count": 0,
      "outputs": []
    },
    {
      "cell_type": "code",
      "metadata": {
        "id": "qSqWIWEIoEPX",
        "colab_type": "code",
        "colab": {}
      },
      "source": [
        "a = l.pop()\n",
        "print(l)\n",
        "print(a)"
      ],
      "execution_count": 0,
      "outputs": []
    },
    {
      "cell_type": "code",
      "metadata": {
        "id": "JzwWqHhHlvZn",
        "colab_type": "code",
        "colab": {}
      },
      "source": [
        "l.append([6, 7, 8])\n",
        "print(l)"
      ],
      "execution_count": 0,
      "outputs": []
    },
    {
      "cell_type": "code",
      "metadata": {
        "id": "XJ-wTz9joIPk",
        "colab_type": "code",
        "colab": {}
      },
      "source": [
        "l.insert(1, 'toto')\n",
        "print(l)"
      ],
      "execution_count": 0,
      "outputs": []
    },
    {
      "cell_type": "code",
      "metadata": {
        "id": "HoKVuPK1pxXD",
        "colab_type": "code",
        "colab": {}
      },
      "source": [
        "a = l.pop(6)\n",
        "print(l)\n",
        "print(a)"
      ],
      "execution_count": 0,
      "outputs": []
    },
    {
      "cell_type": "code",
      "metadata": {
        "id": "mNYrInhRo4fX",
        "colab_type": "code",
        "colab": {}
      },
      "source": [
        "l[1:1] = ['toto2']\n",
        "print(l)"
      ],
      "execution_count": 0,
      "outputs": []
    },
    {
      "cell_type": "code",
      "metadata": {
        "id": "XK9Z_1okpEOo",
        "colab_type": "code",
        "colab": {}
      },
      "source": [
        "l[1:1] = 'toto3'\n",
        "print(l)"
      ],
      "execution_count": 0,
      "outputs": []
    },
    {
      "cell_type": "code",
      "metadata": {
        "id": "BviyZ57sqPMw",
        "colab_type": "code",
        "colab": {}
      },
      "source": [
        "l = ['H', 'e', 'l', 'l', 'o']\n",
        "l.remove('l')\n",
        "print(l)"
      ],
      "execution_count": 0,
      "outputs": []
    },
    {
      "cell_type": "code",
      "metadata": {
        "id": "MwpKfPESpInT",
        "colab_type": "code",
        "colab": {}
      },
      "source": [
        "l.clear()\n",
        "print(l)"
      ],
      "execution_count": 0,
      "outputs": []
    },
    {
      "cell_type": "code",
      "metadata": {
        "id": "ms2crx0_pN09",
        "colab_type": "code",
        "colab": {}
      },
      "source": [
        "a = [0, 1, 2, 3, 4, 5]\n",
        "b = a.copy()\n",
        "\n",
        "print(a)\n",
        "print(b)\n",
        "print(a == b)\n",
        "print(a is b)"
      ],
      "execution_count": 0,
      "outputs": []
    },
    {
      "cell_type": "markdown",
      "metadata": {
        "id": "4MLCVpYeEzeG",
        "colab_type": "text"
      },
      "source": [
        "## Watch out for mutability!"
      ]
    },
    {
      "cell_type": "code",
      "metadata": {
        "id": "JW9AAIV8E3zR",
        "colab_type": "code",
        "colab": {}
      },
      "source": [
        "a = [0, 1, 2, 3, 4, 5]\n",
        "b = a\n",
        "\n",
        "print(a == b)\n",
        "print(a is b)"
      ],
      "execution_count": 0,
      "outputs": []
    },
    {
      "cell_type": "code",
      "metadata": {
        "id": "oXKeeS9jG9Eo",
        "colab_type": "code",
        "colab": {}
      },
      "source": [
        "b.pop()\n",
        "\n",
        "print(b)\n",
        "print(a)"
      ],
      "execution_count": 0,
      "outputs": []
    },
    {
      "cell_type": "code",
      "metadata": {
        "id": "eF12BgTUHA5W",
        "colab_type": "code",
        "colab": {}
      },
      "source": [
        "a[3] = 'toto'\n",
        "\n",
        "print(b)"
      ],
      "execution_count": 0,
      "outputs": []
    },
    {
      "cell_type": "code",
      "metadata": {
        "id": "jIowpyCxHHNX",
        "colab_type": "code",
        "colab": {}
      },
      "source": [
        "a = [0, 1, 2]\n",
        "b = [a, [3, 4, 5], [6, 7, 8]]\n",
        "\n",
        "print(a)\n",
        "print(b)"
      ],
      "execution_count": 0,
      "outputs": []
    },
    {
      "cell_type": "code",
      "metadata": {
        "id": "UjdZQOOGHZ-n",
        "colab_type": "code",
        "colab": {}
      },
      "source": [
        "print(b[0] is a)"
      ],
      "execution_count": 0,
      "outputs": []
    },
    {
      "cell_type": "code",
      "metadata": {
        "id": "W-Bu08a0HRXP",
        "colab_type": "code",
        "colab": {}
      },
      "source": [
        "b[0].clear()\n",
        "\n",
        "print(b)\n",
        "print(a)"
      ],
      "execution_count": 0,
      "outputs": []
    },
    {
      "cell_type": "code",
      "metadata": {
        "id": "evpH1KjRrfmd",
        "colab_type": "code",
        "colab": {}
      },
      "source": [
        "a = [0, 1, 2, 3, 4, 5]\n",
        "for n in a:             # wrong\n",
        "# for n in a.copy():    # right\n",
        "  print(f'Looking at {n}')\n",
        "  if n < 3:\n",
        "    print(f'Removing {n}...')\n",
        "    a.remove(n)\n",
        "    print(f'a is now {a}')\n",
        "print(a)"
      ],
      "execution_count": 0,
      "outputs": []
    },
    {
      "cell_type": "code",
      "metadata": {
        "id": "1lOmCJeWHkzi",
        "colab_type": "code",
        "colab": {}
      },
      "source": [
        "a = [[0, 1, 2], [3, 4, 5], [6, 7, 8]]\n",
        "b = a.copy()\n",
        "\n",
        "b[0].clear()\n",
        "print(a)"
      ],
      "execution_count": 0,
      "outputs": []
    }
  ]
}