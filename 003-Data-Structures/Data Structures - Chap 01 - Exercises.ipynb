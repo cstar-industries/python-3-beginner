{
  "nbformat": 4,
  "nbformat_minor": 0,
  "metadata": {
    "colab": {
      "name": "Data Structures - Chap 01 - Exercises",
      "provenance": [],
      "private_outputs": true,
      "authorship_tag": "ABX9TyPVKtR8vZ62bxGoo2EG8NFg",
      "include_colab_link": true
    },
    "kernelspec": {
      "name": "python3",
      "display_name": "Python 3"
    }
  },
  "cells": [
    {
      "cell_type": "markdown",
      "metadata": {
        "id": "view-in-github",
        "colab_type": "text"
      },
      "source": [
        "<a href=\"https://colab.research.google.com/github/cstar-industries/python-3-beginner/blob/master/003-Data-Structures/Data%20Structures%20-%20Chap%2001%20-%20Exercises.ipynb\" target=\"_parent\"><img src=\"https://colab.research.google.com/assets/colab-badge.svg\" alt=\"Open In Colab\"/></a>"
      ]
    },
    {
      "cell_type": "markdown",
      "metadata": {
        "id": "9Jsxvju7qX2W",
        "colab_type": "text"
      },
      "source": [
        "## 1.\n",
        "\n",
        "Run the first block to create a long list of random numbers between 0 and 9.\n",
        "\n",
        "In the second block, find the first occurrence of the number `0` in the list.\n",
        "\n",
        "In the third block compute the sum of all the integers in the list."
      ]
    },
    {
      "cell_type": "code",
      "metadata": {
        "id": "-OFB3E8GqVdy",
        "colab_type": "code",
        "colab": {}
      },
      "source": [
        "from random import randint\n",
        "\n",
        "l = []\n",
        "for i in range(100000):\n",
        "  l.append(randint(0, 9))"
      ],
      "execution_count": 0,
      "outputs": []
    },
    {
      "cell_type": "code",
      "metadata": {
        "id": "jEzrBC5jwoLD",
        "colab_type": "code",
        "colab": {}
      },
      "source": [
        "# Find the fist occurence of 0"
      ],
      "execution_count": 0,
      "outputs": []
    },
    {
      "cell_type": "code",
      "metadata": {
        "id": "LhobNa7Ewojw",
        "colab_type": "code",
        "colab": {}
      },
      "source": [
        "# Compute the sum of the list"
      ],
      "execution_count": 0,
      "outputs": []
    },
    {
      "cell_type": "markdown",
      "metadata": {
        "id": "g3-b35bGxY4p",
        "colab_type": "text"
      },
      "source": [
        "## 2.\n",
        "\n",
        "Write a program that removes all items from the list `l` that aren't strings.\n",
        "\n",
        "Example:\n",
        "\n",
        "```python\n",
        "l = ['Hello', 1, 'World', '!']\n",
        "```\n",
        "\n",
        "Output:\n",
        "\n",
        "```\n",
        "['Hello', 'World', '!']\n",
        "```"
      ]
    },
    {
      "cell_type": "code",
      "metadata": {
        "id": "Bgo0tF61yIj_",
        "colab_type": "code",
        "colab": {}
      },
      "source": [
        "l = [0, 1, 'Python', True, 'is', 'awesome', None, None, '!']"
      ],
      "execution_count": 0,
      "outputs": []
    }
  ]
}