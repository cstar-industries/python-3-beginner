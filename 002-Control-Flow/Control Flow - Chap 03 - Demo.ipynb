{
  "nbformat": 4,
  "nbformat_minor": 0,
  "metadata": {
    "colab": {
      "name": "Control Flow - Chap 03 - Demo",
      "provenance": [],
      "private_outputs": true,
      "authorship_tag": "ABX9TyNGJRN5Yi6l9913JYbwZWz4",
      "include_colab_link": true
    },
    "kernelspec": {
      "name": "python3",
      "display_name": "Python 3"
    }
  },
  "cells": [
    {
      "cell_type": "markdown",
      "metadata": {
        "id": "view-in-github",
        "colab_type": "text"
      },
      "source": [
        "<a href=\"https://colab.research.google.com/github/cstar-industries/python-3-beginner/blob/master/002-Control-Flow/Control%20Flow%20-%20Chap%2003%20-%20Demo.ipynb\" target=\"_parent\"><img src=\"https://colab.research.google.com/assets/colab-badge.svg\" alt=\"Open In Colab\"/></a>"
      ]
    },
    {
      "cell_type": "markdown",
      "metadata": {
        "id": "FOcK5z15DWRp",
        "colab_type": "text"
      },
      "source": [
        "## Introduction to `list`"
      ]
    },
    {
      "cell_type": "code",
      "metadata": {
        "id": "iLt620oYDVY3",
        "colab_type": "code",
        "colab": {}
      },
      "source": [
        "l = [1, 2, 3]\n",
        "print(l)\n",
        "\n",
        "l = ['one', 'two', 'three']\n",
        "print(l)"
      ],
      "execution_count": 0,
      "outputs": []
    },
    {
      "cell_type": "code",
      "metadata": {
        "id": "TFNfjYuHFLNM",
        "colab_type": "code",
        "colab": {}
      },
      "source": [
        "l = [1, '2', int(6/2)]\n",
        "print(l)"
      ],
      "execution_count": 0,
      "outputs": []
    },
    {
      "cell_type": "code",
      "metadata": {
        "id": "mxVHGheVFRxO",
        "colab_type": "code",
        "colab": {}
      },
      "source": [
        "type(l)"
      ],
      "execution_count": 0,
      "outputs": []
    },
    {
      "cell_type": "code",
      "metadata": {
        "id": "uCZUvwtlIPS1",
        "colab_type": "code",
        "colab": {}
      },
      "source": [
        "one = 1\n",
        "two = 2\n",
        "three = 3\n",
        "\n",
        "[one, two, three]"
      ],
      "execution_count": 0,
      "outputs": []
    },
    {
      "cell_type": "code",
      "metadata": {
        "id": "wujiPPT_IkJK",
        "colab_type": "code",
        "colab": {}
      },
      "source": [
        "a = 'Hello World!'\n",
        "\n",
        "[2 ** 10, None, None, None, one == 1, a[:5]]"
      ],
      "execution_count": 0,
      "outputs": []
    },
    {
      "cell_type": "code",
      "metadata": {
        "id": "-LvxdEyXJZnI",
        "colab_type": "code",
        "colab": {}
      },
      "source": [
        "[[0, 1, 2], 3, [4, 5]]"
      ],
      "execution_count": 0,
      "outputs": []
    },
    {
      "cell_type": "code",
      "metadata": {
        "id": "ywK-AhXDJ6OH",
        "colab_type": "code",
        "colab": {}
      },
      "source": [
        "l = ['a', 'list', 'of', 5, 'objects']\n",
        "\n",
        "len(l)"
      ],
      "execution_count": 0,
      "outputs": []
    },
    {
      "cell_type": "code",
      "metadata": {
        "id": "F44YcERrL1CJ",
        "colab_type": "code",
        "colab": {}
      },
      "source": [
        "print(l[0])\n",
        "print(l[:3])\n",
        "print(l[-2:])"
      ],
      "execution_count": 0,
      "outputs": []
    },
    {
      "cell_type": "code",
      "metadata": {
        "id": "r-ZWBRHlMWgI",
        "colab_type": "code",
        "colab": {}
      },
      "source": [
        "type(l)"
      ],
      "execution_count": 0,
      "outputs": []
    },
    {
      "cell_type": "code",
      "metadata": {
        "id": "RfuYMrZfMfwD",
        "colab_type": "code",
        "colab": {}
      },
      "source": [
        "type(l[1])"
      ],
      "execution_count": 0,
      "outputs": []
    },
    {
      "cell_type": "code",
      "metadata": {
        "id": "DZFd8TjPMhWd",
        "colab_type": "code",
        "colab": {}
      },
      "source": [
        "type(l[1:])"
      ],
      "execution_count": 0,
      "outputs": []
    },
    {
      "cell_type": "code",
      "metadata": {
        "id": "C8q-5IF2Mk1h",
        "colab_type": "code",
        "colab": {}
      },
      "source": [
        "print(l[-1])\n",
        "print(l[-1][-1])"
      ],
      "execution_count": 0,
      "outputs": []
    },
    {
      "cell_type": "code",
      "metadata": {
        "id": "ihGPsvs9R4ls",
        "colab_type": "code",
        "colab": {}
      },
      "source": [
        "[1, 2] + [3, 4]"
      ],
      "execution_count": 0,
      "outputs": []
    },
    {
      "cell_type": "code",
      "metadata": {
        "id": "gIXSC70ghASK",
        "colab_type": "code",
        "colab": {}
      },
      "source": [
        "5 * ['spam']"
      ],
      "execution_count": 0,
      "outputs": []
    },
    {
      "cell_type": "code",
      "metadata": {
        "id": "qoxvJJ90nCHh",
        "colab_type": "code",
        "colab": {}
      },
      "source": [
        "l = [0, 1, 2]\n",
        "l[2] = 3\n",
        "print(l)"
      ],
      "execution_count": 0,
      "outputs": []
    },
    {
      "cell_type": "markdown",
      "metadata": {
        "id": "wnDtNUnl0aUe",
        "colab_type": "text"
      },
      "source": [
        "## Iterating with `for`"
      ]
    },
    {
      "cell_type": "code",
      "metadata": {
        "id": "E_sKk5K_0ePS",
        "colab_type": "code",
        "colab": {}
      },
      "source": [
        "s = \"Hello World!\"\n",
        "\n",
        "for c in s:\n",
        "    print(c)\n"
      ],
      "execution_count": 0,
      "outputs": []
    },
    {
      "cell_type": "code",
      "metadata": {
        "id": "5uv8YUs66TMM",
        "colab_type": "code",
        "colab": {}
      },
      "source": [
        "import math\n",
        "\n",
        "squares = [0, 1, 4, 9, 16, 25]\n",
        "\n",
        "for x in squares:\n",
        "    print(math.sqrt(x))\n"
      ],
      "execution_count": 0,
      "outputs": []
    },
    {
      "cell_type": "code",
      "metadata": {
        "id": "9vjIxT152gwV",
        "colab_type": "code",
        "colab": {}
      },
      "source": [
        "for n in [0, 1, 1, 2, 3, 5, 8, 13]:\n",
        "  print((n % 2) == 0)"
      ],
      "execution_count": 0,
      "outputs": []
    },
    {
      "cell_type": "code",
      "metadata": {
        "id": "OKrOKBew29G3",
        "colab_type": "code",
        "colab": {}
      },
      "source": [
        "for n in [0, 1, 1, 2, 3, 5, 8, 13]:\n",
        "  if (n % 2) == 0:\n",
        "    print(f'{n} is even')\n",
        "  else:\n",
        "    print(f'{n} is odd')"
      ],
      "execution_count": 0,
      "outputs": []
    },
    {
      "cell_type": "code",
      "metadata": {
        "id": "3GcFLwEN3KVE",
        "colab_type": "code",
        "colab": {}
      },
      "source": [
        "for i in range(10):\n",
        "  print(i, end=' ')"
      ],
      "execution_count": 0,
      "outputs": []
    },
    {
      "cell_type": "code",
      "metadata": {
        "id": "7BfkjnL-8tSe",
        "colab_type": "code",
        "colab": {}
      },
      "source": [
        "for i in range(4, 10):\n",
        "  print(i, end=' ')"
      ],
      "execution_count": 0,
      "outputs": []
    },
    {
      "cell_type": "code",
      "metadata": {
        "id": "glr9qsq880os",
        "colab_type": "code",
        "colab": {}
      },
      "source": [
        "for i in range(4, 13, 4):\n",
        "  print(i, end=' ')"
      ],
      "execution_count": 0,
      "outputs": []
    },
    {
      "cell_type": "code",
      "metadata": {
        "id": "Bu52Qbt5-2on",
        "colab_type": "code",
        "colab": {}
      },
      "source": [
        "for i in range(10, 0, -1):\n",
        "  print(i, end=' ')"
      ],
      "execution_count": 0,
      "outputs": []
    },
    {
      "cell_type": "code",
      "metadata": {
        "id": "d-FXZ5zwBp8s",
        "colab_type": "code",
        "colab": {}
      },
      "source": [
        "r = range(10)\n",
        "type(r)"
      ],
      "execution_count": 0,
      "outputs": []
    },
    {
      "cell_type": "code",
      "metadata": {
        "id": "DjgkxjWoBsI0",
        "colab_type": "code",
        "colab": {}
      },
      "source": [
        "for i in r:\n",
        "  print(i)"
      ],
      "execution_count": 0,
      "outputs": []
    }
  ]
}