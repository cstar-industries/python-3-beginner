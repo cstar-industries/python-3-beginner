{
  "nbformat": 4,
  "nbformat_minor": 0,
  "metadata": {
    "colab": {
      "name": "Control Flow - Chap 03 - Exercises",
      "provenance": [],
      "private_outputs": true,
      "authorship_tag": "ABX9TyPjgI7TPUsf2pLVxr7ZABaE",
      "include_colab_link": true
    },
    "kernelspec": {
      "name": "python3",
      "display_name": "Python 3"
    }
  },
  "cells": [
    {
      "cell_type": "markdown",
      "metadata": {
        "id": "view-in-github",
        "colab_type": "text"
      },
      "source": [
        "<a href=\"https://colab.research.google.com/github/cstar-industries/python-3-beginner/blob/master/002-Control-Flow/Control%20Flow%20-%20Chap%2003%20-%20Exercises.ipynb\" target=\"_parent\"><img src=\"https://colab.research.google.com/assets/colab-badge.svg\" alt=\"Open In Colab\"/></a>"
      ]
    },
    {
      "cell_type": "markdown",
      "metadata": {
        "id": "EBpp85ZTEFdr",
        "colab_type": "text"
      },
      "source": [
        "## 1. Count to ten\n",
        "\n",
        "Write a program that asks the user for an integer, then counts out loud from 1 to that number.\n",
        "\n",
        "Example:\n",
        "\n",
        "```\n",
        "How high should I count? 10\n",
        "1\n",
        "2\n",
        "3\n",
        "4\n",
        "5\n",
        "6\n",
        "7\n",
        "8\n",
        "9\n",
        "10\n",
        "```"
      ]
    },
    {
      "cell_type": "markdown",
      "metadata": {
        "id": "26HIsnmDBoCS",
        "colab_type": "text"
      },
      "source": [
        "## 2. Mathematical sequences\n",
        "\n",
        "Using `for` iterations, output the first 10 items of the following math sequences:\n",
        "\n",
        "* natural squares: 0, 1, 4, 9, 16...\n",
        "* powers of 2: 1, 2, 4, 8, 16...\n",
        "* $(-1)^{n}$: 1,-1, 1, -1, 1...\n",
        "* factorials: 1, 2, 6, 24, 120...\n",
        "\n",
        "> Reminder: Factorial(n) is the product of all numbers from 1 to n inclusive.\n",
        ">\n",
        "> $n! = 1 \\times 2 \\times 3 \\times \\ldots \\times n$"
      ]
    },
    {
      "cell_type": "code",
      "metadata": {
        "id": "hEIol3dwBlGI",
        "colab_type": "code",
        "colab": {}
      },
      "source": [
        ""
      ],
      "execution_count": 0,
      "outputs": []
    },
    {
      "cell_type": "markdown",
      "metadata": {
        "id": "nlFY19L_E0tf",
        "colab_type": "text"
      },
      "source": [
        "## 3. Mocking SpongeBob text generator\n",
        "\n",
        "Write a program that asks a user to say something then repeats it to them in a mocking fashion, by alternating uppercase and lowercase letters.\n",
        "\n",
        "Rules:\n",
        "\n",
        "* if the letter's position in the sentence is an even number, use a lowercase letter\n",
        "* otherwise, use an uppercase letter\n",
        "\n",
        "Example:\n",
        "\n",
        "```\n",
        "Say something: I can code in Python.\n",
        "i cAn cOdE In pYtHoN\n",
        "```\n",
        "\n",
        "![](https://i.imgflip.com/3we4li.jpg)\n",
        "\n",
        "> **HINT:** To build a new string, start with an empty string (`s = ''`) and extend it every loop by concatening and reassigning it to the same variable (`s += 'a'`).\n",
        ">\n",
        "> ```python\n",
        "s = ''\n",
        "for i in range(5):\n",
        "  s += 'a'\n",
        "print(s)\n",
        "```\n",
        ">\n",
        "> ```\n",
        "aaaaa\n",
        "```\n",
        ">\n",
        "> Also, remember `len(s)` to get the string length, and `s[i]` to get the `i`th character."
      ]
    },
    {
      "cell_type": "code",
      "metadata": {
        "id": "Hd7BhYf0HgNy",
        "colab_type": "code",
        "colab": {}
      },
      "source": [
        ""
      ],
      "execution_count": 0,
      "outputs": []
    }
  ]
}