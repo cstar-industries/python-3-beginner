{
  "nbformat": 4,
  "nbformat_minor": 0,
  "metadata": {
    "colab": {
      "name": "Control Flow - Chap 04-05 - Demo",
      "provenance": [],
      "private_outputs": true,
      "collapsed_sections": [],
      "include_colab_link": true
    },
    "kernelspec": {
      "name": "python3",
      "display_name": "Python 3"
    }
  },
  "cells": [
    {
      "cell_type": "markdown",
      "metadata": {
        "id": "view-in-github",
        "colab_type": "text"
      },
      "source": [
        "<a href=\"https://colab.research.google.com/github/cstar-industries/python-3-beginner/blob/master/002-Control-Flow/Control%20Flow%20-%20Chap%2004-05%20-%20Demo.ipynb\" target=\"_parent\"><img src=\"https://colab.research.google.com/assets/colab-badge.svg\" alt=\"Open In Colab\"/></a>"
      ]
    },
    {
      "cell_type": "markdown",
      "metadata": {
        "id": "4kzMuFeMGkXv",
        "colab_type": "text"
      },
      "source": [
        "## Looping with `while`"
      ]
    },
    {
      "cell_type": "code",
      "metadata": {
        "id": "05hVXxLLGjzI",
        "colab_type": "code",
        "colab": {}
      },
      "source": [
        "answer = None\n",
        "\n",
        "while answer != 'y' and answer != 'n':\n",
        "    answer = input('Are you sure? (y/n) ')\n",
        "\n",
        "print(answer)"
      ],
      "execution_count": 0,
      "outputs": []
    },
    {
      "cell_type": "code",
      "metadata": {
        "id": "WsrWCvlEGyHt",
        "colab_type": "code",
        "colab": {}
      },
      "source": [
        "l = [3, 2, 4, 5, 4, 1]\n",
        "i = 0\n",
        "\n",
        "while l[i] != i:\n",
        "  print(f'l[{i}] = {l[i]}')\n",
        "  i = l[i]\n",
        "\n",
        "print(f'l[{i}] is a dead end')"
      ],
      "execution_count": 0,
      "outputs": []
    },
    {
      "cell_type": "code",
      "metadata": {
        "id": "uKFPRJGOHj-o",
        "colab_type": "code",
        "colab": {}
      },
      "source": [
        "i = 0\n",
        "while i < 10:\n",
        "  print(i)\n",
        "  i += 1"
      ],
      "execution_count": 0,
      "outputs": []
    },
    {
      "cell_type": "code",
      "metadata": {
        "id": "SxYgqBUfIcHO",
        "colab_type": "code",
        "colab": {}
      },
      "source": [
        "while True:\n",
        "  print('Hello World!')"
      ],
      "execution_count": 0,
      "outputs": []
    },
    {
      "cell_type": "markdown",
      "metadata": {
        "id": "MEVIrG-qIF-6",
        "colab_type": "text"
      },
      "source": [
        "## `break`/`continue`"
      ]
    },
    {
      "cell_type": "code",
      "metadata": {
        "id": "meGS4Jo_II7W",
        "colab_type": "code",
        "colab": {}
      },
      "source": [
        "import math\n",
        "\n",
        "for n in [0, 1, 2, -1, 41]:\n",
        "    # if n < 0:\n",
        "    #     print(f'invalid value: {n}')\n",
        "    #     break\n",
        "    print(math.sqrt(n))\n"
      ],
      "execution_count": 0,
      "outputs": []
    },
    {
      "cell_type": "code",
      "metadata": {
        "id": "e0e4tDx0OB2J",
        "colab_type": "code",
        "colab": {}
      },
      "source": [
        "for n in [0, 1, 2, -1, 41]:\n",
        "    if n < 0:\n",
        "        print(f'invalid value: {n}')\n",
        "        continue\n",
        "    print(math.sqrt(n))"
      ],
      "execution_count": 0,
      "outputs": []
    },
    {
      "cell_type": "code",
      "metadata": {
        "id": "2vxA9F8vNdny",
        "colab_type": "code",
        "colab": {}
      },
      "source": [
        "# random() returns a random float between 0.0 and 1.0\n",
        "from random import random\n",
        "\n",
        "while True:\n",
        "  r = random()\n",
        "  if r < 0.25:\n",
        "    break\n",
        "  print(r)"
      ],
      "execution_count": 0,
      "outputs": []
    },
    {
      "cell_type": "markdown",
      "metadata": {
        "id": "gmEVB34ePRMW",
        "colab_type": "text"
      },
      "source": [
        "## Python power tools"
      ]
    },
    {
      "cell_type": "code",
      "metadata": {
        "id": "sSck21iQPQtY",
        "colab_type": "code",
        "colab": {}
      },
      "source": [
        "for n in range(10):\n",
        "  if (n % 2) != 0:\n",
        "    break\n",
        "else:\n",
        "  print('All numbers in range are even')"
      ],
      "execution_count": 0,
      "outputs": []
    },
    {
      "cell_type": "code",
      "metadata": {
        "id": "wif_BoGPUTb0",
        "colab_type": "code",
        "colab": {}
      },
      "source": [
        "all_even = True\n",
        "for n in range(10 ** 8):\n",
        "  if (n % 2) != 0:\n",
        "    all_even = False\n",
        "\n",
        "if all_even:\n",
        "  print('All numbers in range are even')"
      ],
      "execution_count": 0,
      "outputs": []
    },
    {
      "cell_type": "code",
      "metadata": {
        "id": "CKOExQl7Vsxp",
        "colab_type": "code",
        "colab": {}
      },
      "source": [
        "l = [3, 31, 4, 5, 4, 1]\n",
        "i = 0\n",
        "\n",
        "while l[i] != i:\n",
        "  if l[i] > len(l):\n",
        "    print('Out of bounds!')\n",
        "    break\n",
        "  print(f'l[{i}] = {l[i]}')\n",
        "  i = l[i]\n",
        "else:\n",
        "  print(f'l[{i}] is a dead end')"
      ],
      "execution_count": 0,
      "outputs": []
    },
    {
      "cell_type": "code",
      "metadata": {
        "id": "uYY3BkEKWWFJ",
        "colab_type": "code",
        "colab": {}
      },
      "source": [
        "for i, j in zip(range(10), range(10, 0, -1)):\n",
        "  print(i, j)"
      ],
      "execution_count": 0,
      "outputs": []
    },
    {
      "cell_type": "code",
      "metadata": {
        "id": "C7IeL_ZPWbfF",
        "colab_type": "code",
        "colab": {}
      },
      "source": [
        "s = 'abcdefghij'\n",
        "for i, j, k in zip(range(10), range(0, 20, 2), s):\n",
        "  print(i, j, k)"
      ],
      "execution_count": 0,
      "outputs": []
    },
    {
      "cell_type": "code",
      "metadata": {
        "id": "UXDNVmk8Wt0A",
        "colab_type": "code",
        "colab": {}
      },
      "source": [
        "for i, j in zip(range(10), range(20)):\n",
        "  print(i, j)"
      ],
      "execution_count": 0,
      "outputs": []
    },
    {
      "cell_type": "code",
      "metadata": {
        "id": "l6Y-rgKvW6KY",
        "colab_type": "code",
        "colab": {}
      },
      "source": [
        "vowels = 'aeiou'\n",
        "opening_line = \"It was a bright cold day in April, and the clocks were striking thirteen.\"\n",
        "for i, c in enumerate(opening_line):\n",
        "  if c in vowels:\n",
        "    print(f'Vowel {c} at index {i}')"
      ],
      "execution_count": 0,
      "outputs": []
    },
    {
      "cell_type": "code",
      "metadata": {
        "id": "Go7p4e5bXT93",
        "colab_type": "code",
        "colab": {}
      },
      "source": [
        "for i in range(10):\n",
        "  print((i//2) if ((i % 2) == 0) else 'odd')"
      ],
      "execution_count": 0,
      "outputs": []
    },
    {
      "cell_type": "code",
      "metadata": {
        "id": "Q-dLnPqbxKBj",
        "colab_type": "code",
        "colab": {}
      },
      "source": [
        "a = [0, 1, 2]\n",
        "b = [10, 11, 12]\n",
        "\n",
        "z = zip(a, b)\n",
        "type(z)"
      ],
      "execution_count": 0,
      "outputs": []
    }
  ]
}