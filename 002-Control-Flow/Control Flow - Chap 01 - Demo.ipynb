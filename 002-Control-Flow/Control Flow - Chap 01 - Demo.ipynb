{
  "nbformat": 4,
  "nbformat_minor": 0,
  "metadata": {
    "colab": {
      "name": "Untitled5.ipynb",
      "provenance": [],
      "private_outputs": true,
      "authorship_tag": "ABX9TyOP5uCJJU5yCjFjAWR4VUyG",
      "include_colab_link": true
    },
    "kernelspec": {
      "name": "python3",
      "display_name": "Python 3"
    }
  },
  "cells": [
    {
      "cell_type": "markdown",
      "metadata": {
        "id": "view-in-github",
        "colab_type": "text"
      },
      "source": [
        "<a href=\"https://colab.research.google.com/github/cstar-industries/python-3-beginner/blob/master/002-Control-Flow/Control%20Flow%20-%20Chap%2001%20-%20Demo.ipynb\" target=\"_parent\"><img src=\"https://colab.research.google.com/assets/colab-badge.svg\" alt=\"Open In Colab\"/></a>"
      ]
    },
    {
      "cell_type": "markdown",
      "metadata": {
        "id": "k5ZP7Z5dEVko",
        "colab_type": "text"
      },
      "source": [
        "## `None` and `NoneType`"
      ]
    },
    {
      "cell_type": "code",
      "metadata": {
        "id": "uczXZX6aEUnK",
        "colab_type": "code",
        "colab": {}
      },
      "source": [
        "print(a)"
      ],
      "execution_count": 0,
      "outputs": []
    },
    {
      "cell_type": "code",
      "metadata": {
        "id": "0ubIUXGFNm9Q",
        "colab_type": "code",
        "colab": {}
      },
      "source": [
        "a = 'toto'\n",
        "print(a)"
      ],
      "execution_count": 0,
      "outputs": []
    },
    {
      "cell_type": "code",
      "metadata": {
        "id": "NsZBA0t2Np1S",
        "colab_type": "code",
        "colab": {}
      },
      "source": [
        "a = None\n",
        "print(a)"
      ],
      "execution_count": 0,
      "outputs": []
    },
    {
      "cell_type": "code",
      "metadata": {
        "id": "DgxRRjnjNyLu",
        "colab_type": "code",
        "colab": {}
      },
      "source": [
        "a"
      ],
      "execution_count": 0,
      "outputs": []
    },
    {
      "cell_type": "code",
      "metadata": {
        "id": "GbmfrhnbNzCo",
        "colab_type": "code",
        "colab": {}
      },
      "source": [
        "type(a)"
      ],
      "execution_count": 0,
      "outputs": []
    },
    {
      "cell_type": "code",
      "metadata": {
        "id": "DS5Ki-igN1Oo",
        "colab_type": "code",
        "colab": {}
      },
      "source": [
        "b = print('Hello World!')\n",
        "print(b)"
      ],
      "execution_count": 0,
      "outputs": []
    },
    {
      "cell_type": "markdown",
      "metadata": {
        "id": "Kq-2F_kXUPyn",
        "colab_type": "text"
      },
      "source": [
        "## Booleans"
      ]
    },
    {
      "cell_type": "code",
      "metadata": {
        "id": "ZNgTDC13USHf",
        "colab_type": "code",
        "colab": {}
      },
      "source": [
        "True"
      ],
      "execution_count": 0,
      "outputs": []
    },
    {
      "cell_type": "code",
      "metadata": {
        "id": "qo50vQ5cjdyD",
        "colab_type": "code",
        "colab": {}
      },
      "source": [
        "b = False\n",
        "print(b)"
      ],
      "execution_count": 0,
      "outputs": []
    },
    {
      "cell_type": "code",
      "metadata": {
        "id": "0elLYP6dkBNc",
        "colab_type": "code",
        "colab": {}
      },
      "source": [
        "print(not True)"
      ],
      "execution_count": 0,
      "outputs": []
    },
    {
      "cell_type": "code",
      "metadata": {
        "id": "S33RoU5OkDuk",
        "colab_type": "code",
        "colab": {}
      },
      "source": [
        "print(not b)"
      ],
      "execution_count": 0,
      "outputs": []
    },
    {
      "cell_type": "code",
      "metadata": {
        "id": "QopgeMxVjgQ7",
        "colab_type": "code",
        "colab": {}
      },
      "source": [
        "print(False or False)\n",
        "print(False or True)\n",
        "print(True or False)\n",
        "print(True or True)"
      ],
      "execution_count": 0,
      "outputs": []
    },
    {
      "cell_type": "code",
      "metadata": {
        "id": "D7oS7cwqi22l",
        "colab_type": "code",
        "colab": {}
      },
      "source": [
        "True or True and False"
      ],
      "execution_count": 0,
      "outputs": []
    },
    {
      "cell_type": "code",
      "metadata": {
        "id": "rU_IB5CJjYjn",
        "colab_type": "code",
        "colab": {}
      },
      "source": [
        "True or (True and False)"
      ],
      "execution_count": 0,
      "outputs": []
    },
    {
      "cell_type": "markdown",
      "metadata": {
        "id": "tTZaLeHC2SUJ",
        "colab_type": "text"
      },
      "source": [
        "## Comparison operators"
      ]
    },
    {
      "cell_type": "code",
      "metadata": {
        "id": "idKAoSQT2Rf0",
        "colab_type": "code",
        "colab": {}
      },
      "source": [
        "a = 1\n",
        "b = 2"
      ],
      "execution_count": 0,
      "outputs": []
    },
    {
      "cell_type": "code",
      "metadata": {
        "id": "FrduStur71D_",
        "colab_type": "code",
        "colab": {}
      },
      "source": [
        "a == 1"
      ],
      "execution_count": 0,
      "outputs": []
    },
    {
      "cell_type": "code",
      "metadata": {
        "id": "GmiFghcO74Av",
        "colab_type": "code",
        "colab": {}
      },
      "source": [
        "b == 1"
      ],
      "execution_count": 0,
      "outputs": []
    },
    {
      "cell_type": "code",
      "metadata": {
        "id": "tc3HEsr476Cc",
        "colab_type": "code",
        "colab": {}
      },
      "source": [
        "print(a != 1)\n",
        "print(b != 1)"
      ],
      "execution_count": 0,
      "outputs": []
    },
    {
      "cell_type": "code",
      "metadata": {
        "id": "mXZX97xJ8HFJ",
        "colab_type": "code",
        "colab": {}
      },
      "source": [
        "a < b"
      ],
      "execution_count": 0,
      "outputs": []
    },
    {
      "cell_type": "code",
      "metadata": {
        "id": "NoSiRxE68Kxo",
        "colab_type": "code",
        "colab": {}
      },
      "source": [
        "b < 2"
      ],
      "execution_count": 0,
      "outputs": []
    },
    {
      "cell_type": "code",
      "metadata": {
        "id": "wjtOQtuX8OVB",
        "colab_type": "code",
        "colab": {}
      },
      "source": [
        "b <= 2"
      ],
      "execution_count": 0,
      "outputs": []
    },
    {
      "cell_type": "code",
      "metadata": {
        "id": "wGr2fwWB8cu7",
        "colab_type": "code",
        "colab": {}
      },
      "source": [
        "a = 'Hello World!'\n",
        "b = 'Hello World!'\n",
        "print(a == b)"
      ],
      "execution_count": 0,
      "outputs": []
    },
    {
      "cell_type": "code",
      "metadata": {
        "id": "hOD2ymIC8kQ0",
        "colab_type": "code",
        "colab": {}
      },
      "source": [
        "print(a is b)\n",
        "print(a is not b)"
      ],
      "execution_count": 0,
      "outputs": []
    },
    {
      "cell_type": "code",
      "metadata": {
        "id": "KqEz1UWI8qwi",
        "colab_type": "code",
        "colab": {}
      },
      "source": [
        "print('h' in a)\n",
        "print('H' in a)\n",
        "print('Hell' in a)"
      ],
      "execution_count": 0,
      "outputs": []
    },
    {
      "cell_type": "code",
      "metadata": {
        "id": "9DWOtcezAf-2",
        "colab_type": "code",
        "colab": {}
      },
      "source": [
        "a = 13\n",
        "(a > 0) and ((a % 2) == 0)"
      ],
      "execution_count": 0,
      "outputs": []
    },
    {
      "cell_type": "code",
      "metadata": {
        "id": "bwjNfoR5CdX8",
        "colab_type": "code",
        "colab": {}
      },
      "source": [
        "0 < a < 15"
      ],
      "execution_count": 0,
      "outputs": []
    },
    {
      "cell_type": "code",
      "metadata": {
        "id": "Y60uMdndCgtb",
        "colab_type": "code",
        "colab": {}
      },
      "source": [
        "0 < a  == -1"
      ],
      "execution_count": 0,
      "outputs": []
    }
  ]
}