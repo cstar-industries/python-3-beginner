{
  "nbformat": 4,
  "nbformat_minor": 0,
  "metadata": {
    "colab": {
      "name": "Control Flow - Workshop",
      "provenance": [],
      "private_outputs": true,
      "authorship_tag": "ABX9TyMLcH8dh3w379MiyBpLJJv7",
      "include_colab_link": true
    },
    "kernelspec": {
      "name": "python3",
      "display_name": "Python 3"
    }
  },
  "cells": [
    {
      "cell_type": "markdown",
      "metadata": {
        "id": "view-in-github",
        "colab_type": "text"
      },
      "source": [
        "<a href=\"https://colab.research.google.com/github/cstar-industries/python-3-beginner/blob/master/002-Control-Flow/Control%20Flow%20-%20Workshop.ipynb\" target=\"_parent\"><img src=\"https://colab.research.google.com/assets/colab-badge.svg\" alt=\"Open In Colab\"/></a>"
      ]
    },
    {
      "cell_type": "markdown",
      "metadata": {
        "id": "gSLJQBHULPUj",
        "colab_type": "text"
      },
      "source": [
        "## 1. Fibonacci II : The Iterating\n",
        "\n",
        "Let's revisit the Fibonacci numbers generator we did [last time](https://colab.research.google.com/github/cstar-industries/python-3-beginner/blob/master/001-First-Steps/First%20Steps%20-%20Workshop.ipynb), but let's make it much more interesting.\n",
        "\n",
        "Write a program that generates the `n` first Fibonacci numbers. E.g. for `n` = `10`, it should output:\n",
        "\n",
        "```\n",
        "0 1 1 2 3 5 8 13 21 34\n",
        "```\n",
        "\n",
        "Use iteration this time. Remember that the state of `a` and `b` needs to change during each loop."
      ]
    },
    {
      "cell_type": "code",
      "metadata": {
        "id": "RiQoZ9_vLOs4",
        "colab_type": "code",
        "colab": {}
      },
      "source": [
        "n = 10\n",
        "a = 0\n",
        "b = 1"
      ],
      "execution_count": 0,
      "outputs": []
    },
    {
      "cell_type": "markdown",
      "metadata": {
        "id": "nlFY19L_E0tf",
        "colab_type": "text"
      },
      "source": [
        "## 2. Mocking SpongeBob text generator\n",
        "\n",
        "Write a program that asks a user to say something then repeats it to them in a mocking fashion, by alternating uppercase and lowercase letters.\n",
        "\n",
        "Rules:\n",
        "\n",
        "* if the letter's position in the sentence is an even number, use a lowercase letter\n",
        "* otherwise, use an uppercase letter\n",
        "\n",
        "Example:\n",
        "\n",
        "```\n",
        "Say something: I can code in Python.\n",
        "i cAn cOdE In pYtHoN\n",
        "```\n",
        "\n",
        "![](https://i.imgflip.com/3we4li.jpg)\n",
        "\n",
        "> **HINT:** To build a new string, start with an empty string (`s = ''`) and extend it every loop by concatening and reassigning it to the same variable (`s += 'a'`).\n",
        ">\n",
        "> ```python\n",
        "s = ''\n",
        "for i in range(5):\n",
        "  s += 'a'\n",
        "print(s)\n",
        "```\n",
        ">\n",
        "> ```\n",
        "aaaaa\n",
        "```"
      ]
    }
  ]
}