{
  "nbformat": 4,
  "nbformat_minor": 0,
  "metadata": {
    "colab": {
      "name": "Control Flow - Workshop",
      "provenance": [],
      "private_outputs": true,
      "authorship_tag": "ABX9TyN4TEitMDriaB+lneQ4wi+o",
      "include_colab_link": true
    },
    "kernelspec": {
      "name": "python3",
      "display_name": "Python 3"
    }
  },
  "cells": [
    {
      "cell_type": "markdown",
      "metadata": {
        "id": "view-in-github",
        "colab_type": "text"
      },
      "source": [
        "<a href=\"https://colab.research.google.com/github/cstar-industries/python-3-beginner/blob/master/002-Control-Flow/Control%20Flow%20-%20Workshop.ipynb\" target=\"_parent\"><img src=\"https://colab.research.google.com/assets/colab-badge.svg\" alt=\"Open In Colab\"/></a>"
      ]
    },
    {
      "cell_type": "markdown",
      "metadata": {
        "id": "jPoCK1AfObtr",
        "colab_type": "text"
      },
      "source": [
        "## 1. Truth (or Consequences)\n",
        "\n",
        "Read all of the following Python expressions and decide if they evaluate to `True`, `False`, not a `bool` or if they trigger an error.\n",
        "\n",
        "> To check a checkbox, double-click on the text cell to edit it, and add an `x` inside the brackets, like `[x]`."
      ]
    },
    {
      "cell_type": "markdown",
      "metadata": {
        "id": "hKXNKXlUOzQ9",
        "colab_type": "text"
      },
      "source": [
        "`1 == 1`\n",
        "\n",
        "- [ ] `True`\n",
        "- [ ] `False`\n",
        "- [ ] not a `bool`\n",
        "- [ ] error"
      ]
    },
    {
      "cell_type": "markdown",
      "metadata": {
        "colab_type": "text",
        "id": "LrrQX5qzPF6r"
      },
      "source": [
        "`12 < (6 // 2)`\n",
        "\n",
        "- [ ] `True`\n",
        "- [ ] `False`\n",
        "- [ ] not a `bool`\n",
        "- [ ] error"
      ]
    },
    {
      "cell_type": "markdown",
      "metadata": {
        "colab_type": "text",
        "id": "fxo6cq4DPUVw"
      },
      "source": [
        "`12 <= (6 // 2)`\n",
        "\n",
        "- [ ] `True`\n",
        "- [ ] `False`\n",
        "- [ ] not a `bool`\n",
        "- [ ] error"
      ]
    },
    {
      "cell_type": "markdown",
      "metadata": {
        "colab_type": "text",
        "id": "b2G3FpXGPXfg"
      },
      "source": [
        "`'h' != 'H'`\n",
        "\n",
        "- [ ] `True`\n",
        "- [ ] `False`\n",
        "- [ ] not a `bool`\n",
        "- [ ] error"
      ]
    },
    {
      "cell_type": "markdown",
      "metadata": {
        "colab_type": "text",
        "id": "BWbd3ZB2PgC7"
      },
      "source": [
        "`'abc == 123'`\n",
        "\n",
        "- [ ] `True`\n",
        "- [ ] `False`\n",
        "- [ ] not a `bool`\n",
        "- [ ] error"
      ]
    },
    {
      "cell_type": "markdown",
      "metadata": {
        "colab_type": "text",
        "id": "sc42hKZUPowH"
      },
      "source": [
        "```python\n",
        "a = 'Hello World!'\n",
        "a is 'Hello World!`\n",
        "```\n",
        "\n",
        "- [ ] `True`\n",
        "- [ ] `False`\n",
        "- [ ] not a `bool`\n",
        "- [ ] error"
      ]
    },
    {
      "cell_type": "markdown",
      "metadata": {
        "colab_type": "text",
        "id": "1rxAF-8gP1yC"
      },
      "source": [
        "`'e' in 'Hello' and 'h' in 'Hello'`\n",
        "\n",
        "- [ ] `True`\n",
        "- [ ] `False`\n",
        "- [ ] not a `bool`\n",
        "- [ ] error"
      ]
    },
    {
      "cell_type": "markdown",
      "metadata": {
        "colab_type": "text",
        "id": "vlwHj3BaQL3z"
      },
      "source": [
        "`True or True or False or True and False or False`\n",
        "\n",
        "- [ ] `True`\n",
        "- [ ] `False`\n",
        "- [ ] not a `bool`\n",
        "- [ ] error"
      ]
    },
    {
      "cell_type": "markdown",
      "metadata": {
        "colab_type": "text",
        "id": "71B9pn44Qa6i"
      },
      "source": [
        "`a = 1`\n",
        "\n",
        "- [ ] `True`\n",
        "- [ ] `False`\n",
        "- [ ] not a `bool`\n",
        "- [ ] error"
      ]
    },
    {
      "cell_type": "markdown",
      "metadata": {
        "id": "gSLJQBHULPUj",
        "colab_type": "text"
      },
      "source": [
        "## 2. Fibonacci II : The Iterating\n",
        "\n",
        "Let's revisit the Fibonacci numbers generator we did [last time](https://colab.research.google.com/github/cstar-industries/python-3-beginner/blob/master/001-First-Steps/First%20Steps%20-%20Workshop.ipynb), but let's make it much more interesting.\n",
        "\n",
        "Write a program that generates the `n` first Fibonacci numbers. E.g. for `n` = `10`, it should output:\n",
        "\n",
        "```\n",
        "0 1 1 2 3 5 8 13 21 34\n",
        "```\n",
        "\n",
        "Use iteration this time. Remember that the state of `a` and `b` needs to change during each loop."
      ]
    },
    {
      "cell_type": "code",
      "metadata": {
        "id": "RiQoZ9_vLOs4",
        "colab_type": "code",
        "colab": {}
      },
      "source": [
        "n = 10\n",
        "a = 0\n",
        "b = 1"
      ],
      "execution_count": 0,
      "outputs": []
    },
    {
      "cell_type": "markdown",
      "metadata": {
        "id": "nlFY19L_E0tf",
        "colab_type": "text"
      },
      "source": [
        "## 3. Mocking SpongeBob text generator\n",
        "\n",
        "Write a program that asks a user to say something then repeats it to them in a mocking fashion, by alternating uppercase and lowercase letters.\n",
        "\n",
        "Rules:\n",
        "\n",
        "* if the letter's position in the sentence is an even number, use a lowercase letter\n",
        "* otherwise, use an uppercase letter\n",
        "\n",
        "Example:\n",
        "\n",
        "```\n",
        "Say something: I can code in Python.\n",
        "i cAn cOdE In pYtHoN\n",
        "```\n",
        "\n",
        "![](https://i.imgflip.com/3we4li.jpg)\n",
        "\n",
        "> **HINT:** To build a new string, start with an empty string (`s = ''`) and extend it every loop by concatening and reassigning it to the same variable (`s += 'a'`).\n",
        ">\n",
        "> ```python\n",
        "s = ''\n",
        "for i in range(5):\n",
        "  s += 'a'\n",
        "print(s)\n",
        "```\n",
        ">\n",
        "> ```\n",
        "aaaaa\n",
        "```"
      ]
    },
    {
      "cell_type": "code",
      "metadata": {
        "id": "nYlqSnJvSBe6",
        "colab_type": "code",
        "colab": {}
      },
      "source": [
        "s = ''\n",
        "\n",
        "# Your code goes here...\n",
        "\n",
        "print(s)"
      ],
      "execution_count": 0,
      "outputs": []
    },
    {
      "cell_type": "markdown",
      "metadata": {
        "id": "80PifHl8R0s1",
        "colab_type": "text"
      },
      "source": [
        "## 4. Zip and zlide\n",
        "\n",
        "We received, from a weather station, a list of temperatures and a list of times at which they were taken. Unfortunately, we received this in 2 separate lists, and we need to process a list of (time, temperature) pairs.\n",
        "\n",
        "Write a program that takes both lists `timestamp` and `temp`, and stores them as a list of pairs `data`. A \"pair\" is just a 2-item list with the timestamp in the first position and the temperature in the second.\n",
        "\n",
        "The format of the result should be like this:\n",
        "\n",
        "```\n",
        "[['2020-04-12T23:34:18.657', 16.0],\n",
        " ['2020-04-12T23:35:18.564', 16.06],\n",
        "...\n",
        "```\n",
        "\n",
        "> **NOTE:** Use the same technique as above to create a new list.\n",
        "> ```python\n",
        "data = []\n",
        "data += [...\n",
        "```\n"
      ]
    },
    {
      "cell_type": "code",
      "metadata": {
        "id": "W5447pxcRz9k",
        "colab_type": "code",
        "colab": {}
      },
      "source": [
        "timestamp = ['2020-04-12T23:34:18.657',\n",
        " '2020-04-12T23:35:18.564',\n",
        " '2020-04-12T23:36:18.993',\n",
        " '2020-04-12T23:37:18.196',\n",
        " '2020-04-12T23:38:18.818',\n",
        " '2020-04-12T23:39:18.888',\n",
        " '2020-04-12T23:40:18.713',\n",
        " '2020-04-12T23:41:18.905',\n",
        " '2020-04-12T23:42:19.035',\n",
        " '2020-04-12T23:43:18.504']\n",
        "temperature = [16.0, 16.06, 16.3, 16.51, 16.39, 16.12, 16.76, 16.41, 16.3, 17.19]\n",
        "\n",
        "# Your code goes here..."
      ],
      "execution_count": 0,
      "outputs": []
    },
    {
      "cell_type": "markdown",
      "metadata": {
        "id": "axxAIFYKMnI0",
        "colab_type": "text"
      },
      "source": [
        "## 5. FizzBuzz\n",
        "\n",
        "FizzBuzz is a classroom game to help children learn about numbers and multiplication. The rules are as follows:\n",
        "\n",
        "* Count number up starting from 1\n",
        "* If the number is a multiple of 3, say \"Fizz\"\n",
        "* If the number ends with a 3, say \"Buzz\"\n",
        "* If the number is a multiple of 3 and ends with 3, say \"FizzBuzz\"\n",
        "* Otherwise, just say the number\n",
        "\n",
        "This should be the output of FizzBuzz up to 15:\n",
        "\n",
        "```\n",
        "1\n",
        "2\n",
        "FizzBuzz\n",
        "4\n",
        "5\n",
        "Fizz\n",
        "7\n",
        "8\n",
        "Fizz\n",
        "10\n",
        "11\n",
        "Fizz\n",
        "Buzz\n",
        "14\n",
        "Fizz\n",
        "```\n",
        "\n",
        "> **NOTE:** This is actually a very common coding exercise, often used as a preliminary test when hiring candidates. If you can master FizzBuzz, congratulations: you could apply for a developer position and wouldn't get rejected on the spot!"
      ]
    },
    {
      "cell_type": "markdown",
      "metadata": {
        "id": "5ZbUDz4m5sKP",
        "colab_type": "text"
      },
      "source": [
        "## 6. ROT13 Encryption\n",
        "\n",
        "In this exercise, you will implement an encryption algorithm, and its decryption counterpart.\n",
        "\n",
        "The algorithm encrypts a string by replacing each character with the character 13 places further in the alphabet, looping back to the start if necessary.\n",
        "\n",
        "Here is the encryption table for each character:\n",
        "\n",
        "| plaintext character | encrypted character |\n",
        "|-|-|\n",
        "|a|n|\n",
        "|b|o|\n",
        "|c|p|\n",
        "|d|q|\n",
        "|e|r|\n",
        "|f|s|\n",
        "|g|t|\n",
        "|h|u|\n",
        "|i|v|\n",
        "|j|w|\n",
        "|k|x|\n",
        "|l|y|\n",
        "|m|z|\n",
        "|n|a|\n",
        "|o|b|\n",
        "|p|c|\n",
        "|q|d|\n",
        "|r|e|\n",
        "|s|f|\n",
        "|t|g|\n",
        "|u|h|\n",
        "|v|i|\n",
        "|w|j|\n",
        "|x|k|\n",
        "|y|l|\n",
        "|z|m|\n",
        "\n",
        "If the character in not a lowercase letter, do not encrypt it. Example: `!` encrypts to `!`.\n",
        "\n",
        "The first code block should read from a `plaintext` string and output the corresponding ciphertext.\n",
        "\n",
        "The second code block should read from a `ciphertext` string and output the corresponding deciphered plaintext.\n",
        "\n"
      ]
    },
    {
      "cell_type": "code",
      "metadata": {
        "id": "TNhgj2yd5r10",
        "colab_type": "code",
        "colab": {}
      },
      "source": [
        "plaintext = 'the sky above the port was the color of television, tuned to a dead channel.'\n",
        "\n",
        "# Your code goes here..."
      ],
      "execution_count": 0,
      "outputs": []
    },
    {
      "cell_type": "code",
      "metadata": {
        "id": "CMCK-5_257FO",
        "colab_type": "code",
        "colab": {}
      },
      "source": [
        "ciphertext = 'vg jnf n qnex naq fgbezl avtug.'\n",
        "\n",
        "# Your code goes here..."
      ],
      "execution_count": 0,
      "outputs": []
    }
  ]
}