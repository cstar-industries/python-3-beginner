{
  "nbformat": 4,
  "nbformat_minor": 0,
  "metadata": {
    "colab": {
      "name": "Control Flow - Workshop",
      "provenance": [],
      "private_outputs": true,
      "authorship_tag": "ABX9TyMBxSa1SMCaM9JZMFft0Dhw",
      "include_colab_link": true
    },
    "kernelspec": {
      "name": "python3",
      "display_name": "Python 3"
    }
  },
  "cells": [
    {
      "cell_type": "markdown",
      "metadata": {
        "id": "view-in-github",
        "colab_type": "text"
      },
      "source": [
        "<a href=\"https://colab.research.google.com/github/cstar-industries/python-3-beginner/blob/master/002-Control-Flow/Control%20Flow%20-%20Workshop.ipynb\" target=\"_parent\"><img src=\"https://colab.research.google.com/assets/colab-badge.svg\" alt=\"Open In Colab\"/></a>"
      ]
    },
    {
      "cell_type": "markdown",
      "metadata": {
        "id": "nlFY19L_E0tf",
        "colab_type": "text"
      },
      "source": [
        "## 3. Mocking SpongeBob text generator\n",
        "\n",
        "Write a program that asks a user to say something then repeats it to them in a mocking fashion, by alternating uppercase and lowercase letters.\n",
        "\n",
        "Rules:\n",
        "\n",
        "* if the letter's position in the sentence is an even number, use a lowercase letter\n",
        "* otherwise, use an uppercase letter\n",
        "\n",
        "Example:\n",
        "\n",
        "```\n",
        "Say something: I can code in Python.\n",
        "i cAn cOdE In pYtHoN\n",
        "```\n",
        "\n",
        "![](https://i.imgflip.com/3we4li.jpg)\n",
        "\n",
        "> **HINT:** To build a new string, start with an empty string (`s = ''`) and extend it every loop by concatening and reassigning it to the same variable (`s += 'a'`).\n",
        ">\n",
        "> ```python\n",
        "s = ''\n",
        "for i in range(5):\n",
        "  s += 'a'\n",
        "print(s)\n",
        "```\n",
        ">\n",
        "> ```\n",
        "aaaaa\n",
        "```"
      ]
    }
  ]
}