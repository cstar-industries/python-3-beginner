{
  "nbformat": 4,
  "nbformat_minor": 0,
  "metadata": {
    "colab": {
      "name": "Control Flow - Chap 02 - Exercises",
      "provenance": [],
      "private_outputs": true,
      "authorship_tag": "ABX9TyM3jRafKXRVkWGNq+jwC/sI",
      "include_colab_link": true
    },
    "kernelspec": {
      "name": "python3",
      "display_name": "Python 3"
    }
  },
  "cells": [
    {
      "cell_type": "markdown",
      "metadata": {
        "id": "view-in-github",
        "colab_type": "text"
      },
      "source": [
        "<a href=\"https://colab.research.google.com/github/cstar-industries/python-3-beginner/blob/master/002-Control-Flow/Control%20Flow%20-%20Chap%2002%20-%20Exercises.ipynb\" target=\"_parent\"><img src=\"https://colab.research.google.com/assets/colab-badge.svg\" alt=\"Open In Colab\"/></a>"
      ]
    },
    {
      "cell_type": "markdown",
      "metadata": {
        "id": "Gb-3h2Pg3eLv",
        "colab_type": "text"
      },
      "source": [
        "## 1. `if` – `elif` – `else`\n",
        "\n",
        "Write a program that asks the user for an integer between 0 and 9 inclusive, then writes out the name of the digit in letters. If the number is not in the specified range, output an error message.\n",
        "\n",
        "Example:\n",
        "\n",
        "```\n",
        "Enter an integer between 0 and 9: 4\n",
        "four\n",
        "```\n",
        "\n",
        "```\n",
        "Enter an integer between 0 and 9: 24\n",
        "Sorry, number too large.\n",
        "```"
      ]
    },
    {
      "cell_type": "code",
      "metadata": {
        "id": "PQo9nfe6uEFE",
        "colab_type": "code",
        "colab": {}
      },
      "source": [
        ""
      ],
      "execution_count": 0,
      "outputs": []
    },
    {
      "cell_type": "markdown",
      "metadata": {
        "id": "h-qVgAtl5iXT",
        "colab_type": "text"
      },
      "source": [
        "## 2. Password check\n",
        "\n",
        "Write a program that asks a user for their password and checks if it matches a value stored in a `password` variable. It should then output if authentication was successful or if it failed.\n",
        "\n",
        "Example:\n",
        "\n",
        "```\n",
        "Enter your password: password\n",
        "Authentication failed.\n",
        "```\n",
        "\n",
        "Of course, we have to pretend the user cannot see your program while it is being executed.\n",
        "\n",
        "> **NOTE:** passwords should _never_ be stored like this. If any service provider is in a position to give you your password, you shouldn't trust them!"
      ]
    },
    {
      "cell_type": "code",
      "metadata": {
        "id": "1uydSVrQ60oN",
        "colab_type": "code",
        "colab": {}
      },
      "source": [
        "password = 'trustno1'\n",
        "\n",
        "# Your code starts here..."
      ],
      "execution_count": 0,
      "outputs": []
    },
    {
      "cell_type": "markdown",
      "metadata": {
        "id": "akE2aqSZ7sYJ",
        "colab_type": "text"
      },
      "source": [
        "## 3. Letter statistics\n",
        "\n",
        "Write a program that asks the user for a single character. The program then outputs one of the following sentences:\n",
        "\n",
        "* The character is neither a capital letter nor a vowel.\n",
        "* The character is a capital letter but not a vowel.\n",
        "* The character is a vowel but not a capital letter\n",
        "* The character is both a capital letter and a vowel\n",
        "\n",
        "Try to write a single `print` statement for each case.\n",
        "\n",
        "> **HINT:** The standard Python library has a module for helping with common string operations, aptly named `string`. The first block of this exercise imports the `ascii_uppercase` symbol which might come in handy during this exercise. Check out [the docs](https://docs.python.org/3.4/library/string.html) to find out more about this module."
      ]
    },
    {
      "cell_type": "code",
      "metadata": {
        "id": "gc7USwGF7sDb",
        "colab_type": "code",
        "colab": {}
      },
      "source": [
        "from string import ascii_uppercase\n",
        "print(ascii_uppercase)"
      ],
      "execution_count": 0,
      "outputs": []
    }
  ]
}