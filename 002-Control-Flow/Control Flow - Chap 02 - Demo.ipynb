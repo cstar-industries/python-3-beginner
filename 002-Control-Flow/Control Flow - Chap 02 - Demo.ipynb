{
  "nbformat": 4,
  "nbformat_minor": 0,
  "metadata": {
    "colab": {
      "name": "Control Flow - Chap 02 - Demo",
      "provenance": [],
      "private_outputs": true,
      "authorship_tag": "ABX9TyN/kASrlPhiU3oHHoC3BiIS",
      "include_colab_link": true
    },
    "kernelspec": {
      "name": "python3",
      "display_name": "Python 3"
    }
  },
  "cells": [
    {
      "cell_type": "markdown",
      "metadata": {
        "id": "view-in-github",
        "colab_type": "text"
      },
      "source": [
        "<a href=\"https://colab.research.google.com/github/cstar-industries/python-3-beginner/blob/master/002-Control-Flow/Control%20Flow%20-%20Chap%2002%20-%20Demo.ipynb\" target=\"_parent\"><img src=\"https://colab.research.google.com/assets/colab-badge.svg\" alt=\"Open In Colab\"/></a>"
      ]
    },
    {
      "cell_type": "code",
      "metadata": {
        "id": "lsSA2NnKX9uX",
        "colab_type": "code",
        "colab": {}
      },
      "source": [
        "x = -1\n",
        "\n",
        "if x < 0:\n",
        "    x = -x\n",
        "\n",
        "print(x)"
      ],
      "execution_count": 0,
      "outputs": []
    },
    {
      "cell_type": "code",
      "metadata": {
        "id": "Qt4ippSUhPhR",
        "colab_type": "code",
        "colab": {}
      },
      "source": [
        "if True:\n",
        "  print(\"True is true\")\n",
        "\n",
        "if False:\n",
        "  print(\"False is true\")"
      ],
      "execution_count": 0,
      "outputs": []
    },
    {
      "cell_type": "code",
      "metadata": {
        "id": "9rPWtjichX1l",
        "colab_type": "code",
        "colab": {}
      },
      "source": [
        "x = 12\n",
        "\n",
        "if (x % 2) == 0:\n",
        "    print(f\"{x} is even\")\n",
        "    print(f\"{x}/2 = {x//2}\")\n",
        "else:\n",
        "    print(f\"{x} is odd\")\n",
        "    print(f\"{x}/2 = {x/2}\")"
      ],
      "execution_count": 0,
      "outputs": []
    },
    {
      "cell_type": "code",
      "metadata": {
        "id": "k06dxITlh8js",
        "colab_type": "code",
        "colab": {}
      },
      "source": [
        "x = 12\n",
        "\n",
        "if (x % 2) == 0:\n",
        "    print(f\"{x} is even\")\n",
        "    print(f\"{x}/2 = {x//2}\")\n",
        "else:\n",
        "    print(f\"{x} is odd\")\n",
        "print(f\"{x}/2 = {x/2}\")"
      ],
      "execution_count": 0,
      "outputs": []
    },
    {
      "cell_type": "code",
      "metadata": {
        "id": "llW-z5SUh-G2",
        "colab_type": "code",
        "colab": {}
      },
      "source": [
        "bank_account_alice = 3000.0\n",
        "bank_account_bob = 200.0\n",
        "\n",
        "# transfer 600 from Bob to Alice's account\n",
        "if bank_account_bob >= 600.0:\n",
        "  bank_account_bob -= 600.0\n",
        "  bank_account_alice += 600.0\n",
        "\n",
        "print(f\"Alice's bank account: {bank_account_alice:.2f}\")\n",
        "print(f\"Bob's bank account: {bank_account_bob:.2f}\")"
      ],
      "execution_count": 0,
      "outputs": []
    },
    {
      "cell_type": "code",
      "metadata": {
        "id": "yKliP0k_jrsL",
        "colab_type": "code",
        "colab": {}
      },
      "source": [
        "a = 12\n",
        "b = 12\n",
        "\n",
        "if not (a - b):\n",
        "  print(\"a - b = 0\")\n"
      ],
      "execution_count": 0,
      "outputs": []
    },
    {
      "cell_type": "code",
      "metadata": {
        "id": "lZMkj_-QkHok",
        "colab_type": "code",
        "colab": {}
      },
      "source": [
        "greeting = \"Hello World!\"\n",
        "\n",
        "if greeting.startswith(\"Hello\"):\n",
        "  print(\"Hi\")\n",
        "elif greeting.endswith(\"!\"):\n",
        "  print(\"No need to shout!\")\n",
        "else:\n",
        "  print(\"What?\")"
      ],
      "execution_count": 0,
      "outputs": []
    },
    {
      "cell_type": "code",
      "metadata": {
        "id": "ByfnNoTVkulS",
        "colab_type": "code",
        "colab": {}
      },
      "source": [
        "greeting = 3\n",
        "\n",
        "if type(greeting) == str:\n",
        "  if greeting.startswith(\"Hello\"):\n",
        "    print(\"Hi\")\n",
        "  elif greeting.endswith(\"!\"):\n",
        "    print(\"No need to shout!\")\n",
        "  else:\n",
        "    print(\"What?\")"
      ],
      "execution_count": 0,
      "outputs": []
    }
  ]
}